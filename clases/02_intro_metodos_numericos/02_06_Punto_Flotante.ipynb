{
 "cells": [
  {
   "cell_type": "markdown",
   "metadata": {
    "id": "ke5NASqVYbJZ"
   },
   "source": [
    "# Representación de Números en Punto Flotante\n",
    "\n",
    "La representación de números en punto flotante es un método crucial en computación para aproximar números reales y realizar operaciones aritméticas. Es una adaptación de la notación científica para uso eficiente en computadoras, generalmente siguiendo el estándar IEEE 754.\n",
    "\n",
    "## Componentes de un Número en Punto Flotante\n",
    "\n",
    "Un número en punto flotante consta de tres partes:\n",
    "\n",
    "1. **Signo (s)**: 1 bit\n",
    "   - 0 para positivo\n",
    "   - 1 para negativo\n",
    "\n",
    "2. **Exponente (e)**: 8 bits (simple precisión) o 11 bits (doble precisión)\n",
    "   - Representa el exponente en base 2\n",
    "\n",
    "3. **Mantisa (m)**: 23 bits (simple precisión) o 52 bits (doble precisión)\n",
    "   - Representa la parte fraccionaria\n",
    "\n",
    "### Fórmula General\n",
    "\n",
    "$$(-1)^s \\times 1.m \\times 2^{(e - \\text{Bias})}$$\n",
    "\n",
    "Donde:\n",
    "- $(-1)^s$ es el signo\n",
    "- $1.m$ es la mantisa normalizada\n",
    "- $2^{(e - \\text{Bias})}$ es el factor de escala\n",
    "\n",
    "## Estándar IEEE 754\n",
    "\n",
    "| Formato | Tamaño Total | Signo | Exponente | Mantisa |\n",
    "|---------|--------------|-------|-----------|---------|\n",
    "| Simple  | 32 bits      | 1 bit | 8 bits    | 23 bits |\n",
    "| Doble   | 64 bits      | 1 bit | 11 bits   | 52 bits |\n",
    "\n",
    "## Ejemplos Prácticos\n",
    "\n",
    "### 1. Representación de 0.1 en Binario\n",
    "\n",
    "0.1 en binario es una fracción periódica:\n",
    "\n",
    "```\n",
    "0.0001100110011001100110011001100110011001100110011...\n",
    "```\n",
    "\n",
    "En punto flotante de precisión simple, se aproxima a:\n",
    "\n",
    "```\n",
    "s = 0\n",
    "e = 01111011 (123 en decimal, que corresponde a -4 después de restar el bias)\n",
    "m = 10011001100110011001101\n",
    "```\n",
    "\n",
    "### 2. Demostración en Python\n"
   ]
  },
  {
   "cell_type": "code",
   "execution_count": 1,
   "metadata": {},
   "outputs": [
    {
     "name": "stdout",
     "output_type": "stream",
     "text": [
      "Signo: 0, Exponente: 01111011, Mantisa: 10011001100110011001101\n",
      "0.1 + 0.2 = 0.30000000000000004\n",
      "¿Es 0.1 + 0.2 exactamente igual a 0.3? False\n"
     ]
    }
   ],
   "source": [
    "import struct\n",
    "\n",
    "def float_to_binary(num):\n",
    "    # Convierte un float a su representación binaria IEEE 754\n",
    "    binary = bin(struct.unpack('!I', struct.pack('!f', num))[0])[2:].zfill(32)\n",
    "    return f\"Signo: {binary[0]}, Exponente: {binary[1:9]}, Mantisa: {binary[9:]}\"\n",
    "\n",
    "print(float_to_binary(0.1))\n",
    "print(f\"0.1 + 0.2 = {0.1 + 0.2}\")\n",
    "print(f\"¿Es 0.1 + 0.2 exactamente igual a 0.3? {0.1 + 0.2 == 0.3}\")"
   ]
  },
  {
   "cell_type": "markdown",
   "metadata": {},
   "source": [
    "\n",
    "## Consideraciones Importantes\n",
    "\n",
    "1. **Rango y Precisión**: \n",
    "   - Limitados por el número de bits disponibles\n",
    "   - Pueden ocurrir errores de redondeo\n",
    "\n",
    "2. **Valores Especiales**:\n",
    "   - Cero: Exponente todo ceros, mantisa todo ceros\n",
    "   - Infinito (∞): Exponente todo unos, mantisa todo ceros\n",
    "   - NaN (Not a Number): Exponente todo unos, mantisa no todo ceros\n",
    "\n",
    "3. **Errores de Redondeo**:\n",
    "   - Las operaciones aritméticas pueden acumular errores\n",
    "   - Ejemplo: 0.1 + 0.2 ≠ 0.3 exactamente en la mayoría de los sistemas\n",
    "\n",
    "## Conclusión\n",
    "\n",
    "La representación en punto flotante es fundamental en computación, pero es importante entender sus limitaciones para evitar errores sutiles en cálculos numéricos."
   ]
  },
  {
   "cell_type": "code",
   "execution_count": 2,
   "metadata": {},
   "outputs": [
    {
     "data": {
      "image/png": "[encoded data removed]",
      "text/plain": [
       "<Figure size 1200x200 with 1 Axes>"
      ]
     },
     "metadata": {},
     "output_type": "display_data"
    }
   ],
   "source": [
    "import matplotlib.pyplot as plt\n",
    "import numpy as np\n",
    "\n",
    "def float_to_binary(num):\n",
    "    return ''.join(bin(c).replace('0b', '').rjust(8, '0') for c in struct.pack('!f', num))\n",
    "\n",
    "def plot_float_representation(num):\n",
    "    binary = float_to_binary(num)\n",
    "    \n",
    "    fig, ax = plt.subplots(figsize=(12, 2))\n",
    "    \n",
    "    # Colores para cada sección\n",
    "    colors = ['#FF9999', '#99CCFF', '#99FF99']\n",
    "    labels = ['Signo', 'Exponente', 'Mantisa']\n",
    "    sizes = [1, 8, 23]\n",
    "    \n",
    "    start = 0\n",
    "    for size, color, label in zip(sizes, colors, labels):\n",
    "        for i in range(size):\n",
    "            ax.add_patch(plt.Rectangle((start + i, 0), 1, 1, fill=True, color=color))\n",
    "            ax.text(start + i + 0.5, 0.5, binary[start + i], ha='center', va='center')\n",
    "        \n",
    "        ax.text(start + size/2, 1.1, label, ha='center', va='bottom')\n",
    "        start += size\n",
    "    \n",
    "    ax.set_xlim(0, 32)\n",
    "    ax.set_ylim(0, 1)\n",
    "    ax.axis('off')\n",
    "    \n",
    "    plt.title(f\"Representación de punto flotante IEEE 754 de {num}\")\n",
    "    plt.tight_layout()\n",
    "    plt.show()\n",
    "\n",
    "# Ejemplo con el número 0.1\n",
    "plot_float_representation(0.1)"
   ]
  },
  {
   "cell_type": "code",
   "execution_count": 3,
   "metadata": {
    "colab": {
     "base_uri": "https://localhost:8080/"
    },
    "executionInfo": {
     "elapsed": 5,
     "status": "ok",
     "timestamp": 1722751163811,
     "user": {
      "displayName": "Luis Gomez",
      "userId": "00656069038044722993"
     },
     "user_tz": 240
    },
    "id": "EOzcxzOyY8EF",
    "outputId": "22458caf-234a-451c-b4dc-619841e9dd90"
   },
   "outputs": [
    {
     "name": "stdout",
     "output_type": "stream",
     "text": [
      "Number: -15.25\n",
      "Binary64: 1100000000101110100000000000000000000000000000000000000000000000\n",
      "Sign bit: 1\n",
      "Exponent: 10000000010\n",
      "Mantissa: 1110100000000000000000000000000000000000000000000000\n"
     ]
    }
   ],
   "source": [
    "import struct  # Importa el módulo para trabajar con bytes\n",
    "\n",
    "def float_to_binary64(number):\n",
    "    \"\"\"Convierte un número flotante a su representación binaria según IEEE 754.\"\"\"\n",
    "    # Empaqueta el número flotante en un objeto de bytes\n",
    "    packed = struct.pack('!d', number)\n",
    "\n",
    "    # Convierte cada byte a su representación entera\n",
    "    integers = [c for c in packed]\n",
    "\n",
    "    # Convierte cada entero a su representación binaria, rellenando con ceros a la izquierda\n",
    "    binaries = [bin(i).replace('0b', '').rjust(8, '0') for i in integers]\n",
    "\n",
    "    # Une todas las representaciones binarias en una cadena\n",
    "    return ''.join(binaries)\n",
    "\n",
    "def split_ieee_754(binary64):\n",
    "    \"\"\"Divide la representación binaria IEEE 754 en sus componentes.\"\"\"\n",
    "    # Extrae el bit de signo (el primer bit)\n",
    "    sign = binary64[0]\n",
    "\n",
    "    # Extrae los bits del exponente (bits del 1 al 11)\n",
    "    exponent = binary64[1:12]\n",
    "\n",
    "    # Extrae los bits de la mantisa (bits del 12 en adelante)\n",
    "    mantissa = binary64[12:]\n",
    "\n",
    "    return sign, exponent, mantissa\n",
    "\n",
    "# Convierte un número flotante a su representación binaria\n",
    "number = -15.25\n",
    "binary64 = float_to_binary64(number)\n",
    "\n",
    "# Divide la representación en sus componentes IEEE 754\n",
    "sign, exponent, mantissa = split_ieee_754(binary64)\n",
    "\n",
    "# Imprime los resultados\n",
    "print(f\"Number: {number}\")\n",
    "print(f\"Binary64: {binary64}\")\n",
    "print(f\"Sign bit: {sign}\")\n",
    "print(f\"Exponent: {exponent}\")\n",
    "print(f\"Mantissa: {mantissa}\")\n",
    "\n"
   ]
  },
  {
   "cell_type": "code",
   "execution_count": null,
   "metadata": {},
   "outputs": [],
   "source": []
  }
 ],
 "metadata": {
  "colab": {
   "authorship_tag": "ABX9TyNX1y27H+kKciFLCBD0zNJU",
   "provenance": []
  },
  "kernelspec": {
   "display_name": "Python 3 (ipykernel)",
   "language": "python",
   "name": "python3"
  },
  "language_info": {
   "codemirror_mode": {
    "name": "ipython",
    "version": 3
   },
   "file_extension": ".py",
   "mimetype": "text/x-python",
   "name": "python",
   "nbconvert_exporter": "python",
   "pygments_lexer": "ipython3",
   "version": "3.8.10"
  }
 },
 "nbformat": 4,
 "nbformat_minor": 1
}
