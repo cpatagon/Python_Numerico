{
 "cells": [
  {
   "cell_type": "markdown",
   "metadata": {
    "id": "03sC1XDITjso"
   },
   "source": [
    "# **Práctica con Python**\n",
    "\n",
    "Resuelva los ejercicios y discuta  los resultados obtenidos. Esto ayudará a comprender la naturaleza y las fuentes de los errores numéricos en los cálculos.\n",
    "\n",
    "## **1.Serie de Ejercicios sobre Errores**\n",
    "\n",
    "a. **Error Absoluto y Relativo**\n",
    "\n",
    "   Ocupando Python calcule el error absoluto y relativo para los siguientes conjuntos de valores reales y aproximados:\n",
    "   \n",
    "   a. Valor real: `3.14159`, Valor aproximado: `3.14`\n",
    "   \n",
    "   b. Valor real: `23.456`, Valor aproximado: `23.5`\n",
    "\n",
    "   ```python\n",
    "   # Tu código aquí\n",
    "\n"
   ]
  },
  {
   "cell_type": "markdown",
   "metadata": {
    "id": "defKNyJqT1bG"
   },
   "source": [
    "## Error de Redondeo\n",
    "\n",
    "En el siguiente código, se realiza una serie de operaciones que involucran grandes y pequeños números. Ejecute el código y explique por qué el resultado no es cero."
   ]
  },
  {
   "cell_type": "code",
   "execution_count": 2,
   "metadata": {
    "colab": {
     "base_uri": "https://localhost:8080/"
    },
    "executionInfo": {
     "elapsed": 14199,
     "status": "ok",
     "timestamp": 1693238888201,
     "user": {
      "displayName": "Luis Gomez",
      "userId": "00656069038044722993"
     },
     "user_tz": 240
    },
    "id": "dJFGXHNnT_kW",
    "outputId": "f15709e9-c959-4966-aad7-6c8eabc59976"
   },
   "outputs": [
    {
     "name": "stdout",
     "output_type": "stream",
     "text": [
      "0.0\n"
     ]
    }
   ],
   "source": [
    "grande = 1e9\n",
    "pequeno = 1e-9\n",
    "for _ in range(100000000):\n",
    "    grande += pequeno\n",
    "grande -= 1e9\n",
    "print(grande)  # ¿Por qué es 0?\n"
   ]
  },
  {
   "cell_type": "markdown",
   "metadata": {
    "id": "my-T84G9WJdu"
   },
   "source": [
    "## Error de Truncamiento\n",
    "\n",
    "El siguiente código calcula el valor de e usando la serie de Taylor. Sin embargo, al usar una cantidad finita de términos, introduce un error de truncamiento. Ejecute el código y compare el resultado con el valor real de e usando la función exp de la librería math."
   ]
  },
  {
   "cell_type": "code",
   "execution_count": 3,
   "metadata": {
    "colab": {
     "base_uri": "https://localhost:8080/"
    },
    "executionInfo": {
     "elapsed": 366,
     "status": "ok",
     "timestamp": 1691434459138,
     "user": {
      "displayName": "Luis Gomez",
      "userId": "00656069038044722993"
     },
     "user_tz": 240
    },
    "id": "2y3IGtuNWH1w",
    "outputId": "d65361c4-aab4-4180-c1b9-67bb8d8ee73a"
   },
   "outputs": [
    {
     "name": "stdout",
     "output_type": "stream",
     "text": [
      "Aproximado: 2.7182815255731922\n",
      "Real: 2.718281828459045\n"
     ]
    }
   ],
   "source": [
    "import math\n",
    "\n",
    "def calcular_e(n_terminos):\n",
    "    suma = 1.0\n",
    "    factorial = 1.0\n",
    "    for i in range(1, n_terminos):\n",
    "        factorial *= i\n",
    "        suma += 1 / factorial\n",
    "    return suma\n",
    "\n",
    "e_aproximado = calcular_e(10)\n",
    "e_real = math.exp(1)\n",
    "print(\"Aproximado:\", e_aproximado)\n",
    "print(\"Real:\", e_real)\n"
   ]
  },
  {
   "cell_type": "markdown",
   "metadata": {
    "id": "TVFii7BsWuQ_"
   },
   "source": [
    "## Errores de Entrada de Datos\n",
    "\n",
    "Suponga que se ingresaron incorrectamente los valores de una lista. El valor correcto debería haber sido 5 en lugar de 50. Calcule el error absoluto y relativo para este caso."
   ]
  },
  {
   "cell_type": "code",
   "execution_count": 4,
   "metadata": {
    "id": "mi6bxiEpWza2"
   },
   "outputs": [],
   "source": [
    "lista_incorrecta = [10, 20, 50, 40]\n",
    "indice_incorrecto = lista_incorrecta.index(50)\n",
    "valor_real = 5\n",
    "\n",
    "# Tu código aquí\n"
   ]
  }
 ],
 "metadata": {
  "colab": {
   "authorship_tag": "ABX9TyMah1zmoV5FJ4/HTiQa43hp",
   "provenance": []
  },
  "kernelspec": {
   "display_name": "Python 3 (ipykernel)",
   "language": "python",
   "name": "python3"
  },
  "language_info": {
   "codemirror_mode": {
    "name": "ipython",
    "version": 3
   },
   "file_extension": ".py",
   "mimetype": "text/x-python",
   "name": "python",
   "nbconvert_exporter": "python",
   "pygments_lexer": "ipython3",
   "version": "3.8.10"
  }
 },
 "nbformat": 4,
 "nbformat_minor": 1
}
