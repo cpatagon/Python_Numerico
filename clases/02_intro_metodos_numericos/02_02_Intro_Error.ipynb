{
 "cells": [
  {
   "cell_type": "markdown",
   "metadata": {
    "id": "eJDnNCNSof-t"
   },
   "source": [
    "# Error en el Cálculo Numérico con Python\n",
    "\n",
    "## Índice\n",
    "1. [Introducción](#introducción)\n",
    "2. [Introducción al Error Numérico](#introducción-al-error-numérico)\n",
    "3. [Tipos de Errores](#tipos-de-errores)\n",
    "4. [Fuentes de Error](#fuentes-de-error)\n",
    "5. [Estimación de Errores en Python](#estimación-de-errores-en-python)\n",
    "6. [Práctica con Python](#práctica-con-python)\n",
    "7. [Recursos Adicionales](#recursos-adicionales)\n",
    "8. [Conclusiones](#conclusiones)\n",
    "\n",
    "## 1. Introducción\n",
    "\n",
    "Los métodos numéricos son una **colección de técnicas y herramientas utilizadas para encontrar soluciones aproximadas a problemas matemáticos complejos** que no pueden ser resueltos de manera exacta o analítica.\n",
    "\n",
    "Estos métodos son cruciales en diversos campos:\n",
    "- Física\n",
    "- Ingeniería\n",
    "- Economía\n",
    "- Ciencias de la computación\n",
    "- Biología computacional\n",
    "\n",
    "En muchos casos, una **solución exacta es inalcanzable** o demasiado costosa en términos de tiempo y recursos computacionales, lo que hace que la aproximación numérica sea invaluable.\n",
    "\n",
    "### Importancia del Cálculo Numérico\n",
    "\n",
    "1. **Resolución de problemas complejos**: Permite abordar ecuaciones diferenciales, integrales y sistemas no lineales.\n",
    "2. **Optimización**: Fundamental en problemas de optimización en ingeniería y ciencias.\n",
    "3. **Simulación**: Esencial en simulaciones científicas y de ingeniería.\n",
    "4. **Análisis de datos**: Crucial en el procesamiento y análisis de grandes conjuntos de datos.\n",
    "\n",
    "Al aprender métodos numéricos, no solo adquirimos habilidades para enfrentar problemas matemáticos, sino que también desarrollamos una **comprensión más profunda de los fundamentos matemáticos** y de cómo las computadoras manipulan y representan datos.\n",
    "\n",
    "## 2. Introducción al Error Numérico\n",
    "\n",
    "Los errores numéricos son las **diferencias inevitables entre el valor real (o exacto) de una cantidad y su valor aproximado**, que surgen al utilizar métodos numéricos para resolver problemas matemáticos.\n",
    "\n",
    "### 2.1 Naturaleza de los Errores Numéricos\n",
    "\n",
    "La naturaleza de estos errores es inherente a:\n",
    "- Aplicación de aproximaciones matemáticas\n",
    "- Representaciones digitales de números\n",
    "- Limitaciones intrínsecas del hardware y software de las computadoras\n",
    "\n",
    "### 2.2 Origen de los Errores Numéricos\n",
    "\n",
    "1. **Errores de modelado**: Ocurren cuando se formula un modelo matemático que no refleja con precisión la realidad del fenómeno que se quiere representar.\n",
    "\n",
    "2. **Errores de datos**: Surgen debido a imprecisiones en la recopilación o entrada de datos al sistema.\n",
    "\n",
    "3. **Errores inherentes**: Son las imprecisiones que existen en los datos originales y no pueden eliminarse.\n",
    "\n",
    "### 2.3 Representación de Números en Computadoras\n",
    "\n",
    "Las computadoras usan una representación de punto flotante finita, lo que lleva a errores de redondeo. Por ejemplo:\n"
   ]
  },
  {
   "cell_type": "code",
   "execution_count": 2,
   "metadata": {},
   "outputs": [
    {
     "name": "stdout",
     "output_type": "stream",
     "text": [
      "0.1 + 0.2 = 0.30000000000000004\n",
      "¿Es 0.1 + 0.2 exactamente igual a 0.3? False\n",
      "¿Son casi iguales? True\n"
     ]
    }
   ],
   "source": [
    "import numpy as np\n",
    "\n",
    "# Ejemplo de error de redondeo\n",
    "x = 0.1 + 0.2\n",
    "print(f\"0.1 + 0.2 = {x}\")\n",
    "print(f\"¿Es 0.1 + 0.2 exactamente igual a 0.3? {x == 0.3}\")\n",
    "\n",
    "# Usando numpy para una comparación más precisa\n",
    "print(f\"¿Son casi iguales? {np.isclose(x, 0.3)}\")"
   ]
  },
  {
   "cell_type": "markdown",
   "metadata": {},
   "source": [
    "### 2.4 Limitaciones de los Algoritmos\n",
    "\n",
    "Muchos algoritmos requieren iteraciones y solo se detienen cuando se cumple un criterio de convergencia. La solución obtenida es una aproximación.\n",
    "\n",
    "### 2.5 Acumulación de Errores\n",
    "\n",
    "En operaciones sucesivas o algoritmos iterativos, los errores pueden acumularse. Ejemplo:"
   ]
  },
  {
   "cell_type": "code",
   "execution_count": 1,
   "metadata": {},
   "outputs": [
    {
     "name": "stdout",
     "output_type": "stream",
     "text": [
      "Suma de 0.1 un millón de veces: 100000.00000133288\n",
      "Valor esperado: 100000.0\n",
      "Error acumulado: 1.3328826753422618e-06\n"
     ]
    }
   ],
   "source": [
    "\n",
    "# Ejemplo de acumulación de errores\n",
    "sum = 0\n",
    "for _ in range(1000000):\n",
    "    sum += 0.1\n",
    "print(f\"Suma de 0.1 un millón de veces: {sum}\")\n",
    "print(f\"Valor esperado: 100000.0\")\n",
    "print(f\"Error acumulado: {abs(sum - 100000.0)}\")\n"
   ]
  },
  {
   "cell_type": "markdown",
   "metadata": {},
   "source": [
    "\n",
    "## 3. Tipos de Errores\n",
    "\n",
    "### 3.1. Errores de Redondeo\n",
    "- Causados por la representación finita de números en computadoras\n",
    "- Ejemplos:\n",
    "  * Truncamiento de decimales\n",
    "  * Aproximación en operaciones aritméticas\n",
    "\n",
    "### 3.2. Errores de Truncamiento\n",
    "- Surgen al usar aproximaciones en lugar de procedimientos infinitos\n",
    "- Ocurren en:\n",
    "  * Series infinitas truncadas\n",
    "  * Aproximaciones de derivadas o integrales\n",
    "\n",
    "### 3.3. Errores de Método\n",
    "- Resultan de las limitaciones inherentes al método numérico utilizado\n",
    "- Incluyen:\n",
    "  * Errores en métodos iterativos\n",
    "  * Aproximaciones en discretizaciones\n",
    "\n",
    "### 3.4. Errores de Propagación\n",
    "- Acumulación de errores a través de cálculos sucesivos\n",
    "- Más pronunciados en:\n",
    "  * Operaciones repetitivas\n",
    "  * Cálculos de larga duración\n",
    "\n",
    "### 3.5. Errores de Datos Iniciales\n",
    "- Causados por imprecisiones en los datos de entrada\n",
    "- Afectan:\n",
    "  * Precisión final del resultado\n",
    "  * Confiabilidad de las soluciones\n",
    "\n",
    "### 3.6. Errores de Modelado\n",
    "- Surgen de simplificaciones o suposiciones en el modelo matemático\n",
    "- Impactan:\n",
    "  * Relevancia del modelo para el problema real\n",
    "  * Interpretación de resultados\n",
    "\n",
    "\n",
    "## 4. Conclusiones\n",
    "\n",
    "Comprender la naturaleza y origen de los errores numéricos es fundamental para cualquier científico, ingeniero o matemático que trabaje con métodos computacionales. Esto permite:\n",
    "- Elegir y diseñar algoritmos adecuados\n",
    "- Interpretar resultados correctamente\n",
    "- Garantizar la confiabilidad y precisión de las soluciones obtenidas\n",
    "\n",
    "El cálculo numérico con Python ofrece una poderosa combinación de eficiencia computacional y facilidad de uso, haciendo que sea una herramienta invaluable en el análisis y resolución de problemas complejos en diversos campos científicos y de ingeniería."
   ]
  },
  {
   "cell_type": "code",
   "execution_count": null,
   "metadata": {},
   "outputs": [],
   "source": []
  }
 ],
 "metadata": {
  "colab": {
   "authorship_tag": "ABX9TyOD6SOjY98JfSYdjSXd4pS9",
   "provenance": []
  },
  "kernelspec": {
   "display_name": "Python 3 (ipykernel)",
   "language": "python",
   "name": "python3"
  },
  "language_info": {
   "codemirror_mode": {
    "name": "ipython",
    "version": 3
   },
   "file_extension": ".py",
   "mimetype": "text/x-python",
   "name": "python",
   "nbconvert_exporter": "python",
   "pygments_lexer": "ipython3",
   "version": "3.8.10"
  }
 },
 "nbformat": 4,
 "nbformat_minor": 1
}
