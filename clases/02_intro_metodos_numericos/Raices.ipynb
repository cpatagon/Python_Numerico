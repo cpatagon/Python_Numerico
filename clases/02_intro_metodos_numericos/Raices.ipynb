{
 "cells": [
  {
   "cell_type": "markdown",
   "id": "649a7e48",
   "metadata": {},
   "source": [
    "# Raíces Matemáticas\n",
    "\n",
    "## Definición\n",
    "Una raíz de una función es un valor de la variable independiente ($x$) que hace que la función ($f(x)$) sea igual a cero. En otras palabras, es una solución de la ecuación:\n",
    "\n",
    "$$ f(x) = 0 $$\n",
    "\n",
    "## Tipos Comunes\n",
    "1. **Raíces Reales**: Soluciones que existen en el conjunto de los números reales.\n",
    "2. **Raíces Complejas**: Soluciones que incluyen números imaginarios.\n",
    "3. **Raíces Múltiples**: Raíces que aparecen más de una vez en la solución.\n",
    "\n",
    "## Métodos de Cálculo\n",
    "- **Factorización**: Para ecuaciones polinómicas simples.\n",
    "- **Fórmula Cuadrática**: Para ecuaciones de segundo grado.\n",
    "- **Métodos Numéricos**: Como el método de Newton-Raphson o el método de la bisección para ecuaciones más complejas.\n",
    "\n",
    "## Aplicaciones\n",
    "- Resolución de ecuaciones en física y ingeniería.\n",
    "- Optimización en economía y finanzas.\n",
    "- Análisis de estabilidad en sistemas dinámicos.\n",
    "- Diseño de controles en ingeniería de sistemas.\n",
    "\n",
    "## Importancia\n",
    "Las raíces son fundamentales en matemáticas y ciencias aplicadas, permitiendo encontrar soluciones a problemas complejos y modelar fenómenos del mundo real.\n",
    "\n",
    "\n",
    "\n",
    "# Método de la bisección\n",
    "\n",
    "\n",
    "## Implementación del método de la bisección\n",
    "\n",
    "El método de la bisección es un algoritmo de búsqueda de raíces. Para ello divide el intervalo en dos subintervalos y luego selecciona el subintervalo que tiene una raíz. Es un método numérico que se aplica a funciones continuas y busca una raíz (un valor $x$donde la función $f(x)=0$ en un intervalo dado $[a,b]$ en el que $f(a)$ y $f(b)$ tienen signos opuestos. Esto último asegura, según el teorema del valor intermedio, que existe al menos una raíz en el intervalo.\n",
    "\n",
    "**Paso 1:** Elija valores iniciales inferior, $x_l$ , y superior, $x_u$ , que encierren la raíz, de forma tal\n",
    "que la función cambie de signo en el intervalo. Esto se verifica comprobando\n",
    "que\n",
    "\n",
    "  $$f(x_l ) f(x_u ) < 0$$ .\n",
    "\n",
    "**Paso 2:** Una aproximación de la raíz $x_r$ se determina mediante:\n",
    "\t   \n",
    "  $$x_r =\\frac{x_l + x_u}{2}$$\n",
    "\n",
    "**Paso 3:** Realice las siguientes evaluaciones para determinar en qué subintervalo está\n",
    "la raíz:\n",
    "\n",
    "\n",
    " * a) Si $f(x_l)f(x_r) < 0$, entonces la raíz se encuentra dentro del subintervalo inferior o izquierdo. Por lo tanto, haga $x_u = x_r$ y vuelva al paso 2.\n",
    "\n",
    " * b) Si $f(x_l )f(x_r ) > 0$, entonces la raíz se encuentra dentro del subintervalo superior o derecho. Por lo tanto, haga $x_l = x_r$ y vuelva al paso 2.\n",
    "\n",
    " * c) Si $f(x_l )f(x_r ) = 0$, la raíz es igual a $x_r$ ; termina el cálculo."
   ]
  },
  {
   "cell_type": "markdown",
   "id": "501a6810",
   "metadata": {},
   "source": [
    "# Ejercicio\n",
    "\n",
    "definimos un funcion cualquiera. Para en este caso:\n",
    "\n",
    "$$ f(x) = x^{3}-2$$"
   ]
  },
  {
   "cell_type": "code",
   "execution_count": 9,
   "id": "12072c74",
   "metadata": {},
   "outputs": [
    {
     "name": "stdout",
     "output_type": "stream",
     "text": [
      "[-10.     -7.832  -6.096  -4.744  -3.728  -3.     -2.512  -2.216  -2.064\n",
      "  -2.008  -2.     -1.992  -1.936  -1.784  -1.488  -1.     -0.272   0.744\n",
      "   2.096   3.832   6.      8.648  11.824  15.576  19.952  25.     30.768\n",
      "  37.304  44.656  52.872]\n"
     ]
    },
    {
     "data": {
      "image/png": "[encoded data removed]",
      "text/plain": [
       "<Figure size 640x480 with 1 Axes>"
      ]
     },
     "metadata": {},
     "output_type": "display_data"
    }
   ],
   "source": [
    "# librerias que ocuparemos\n",
    "import numpy as np\n",
    "import matplotlib.pyplot as plt\n",
    "\n",
    "'''\n",
    "Función 𝑓(𝑥)=𝑥³−2 \n",
    "'''\n",
    "\n",
    "f = lambda x1: x1**3-2 # la definimos como una función lambda\n",
    "\n",
    "# definimos nuestro rango de análsis\n",
    "x=np.arange(-2.0,4.0,0.2) \n",
    "\n",
    "'''\n",
    " Graficamos para ver la función\n",
    "-------------------------------------\n",
    "'''\n",
    "# Crear la figura y los ejes\n",
    "fig, ax = plt.subplots()\n",
    "\n",
    "# Dibujar los ejes\n",
    "ax.axhline(y=0, color='black', linestyle='-')  # Eje y = 0 (eje x)\n",
    "ax.axvline(x=0, color='black', linestyle='-')  # Eje x = 0 (eje y)\n",
    "\n",
    "# Añadir etiquetas a los ejes\n",
    "ax.set_xlabel('Eje X')\n",
    "ax.set_ylabel('Eje Y')\n",
    "\n",
    "# Mostrar la gráfica\n",
    "plt.grid(True)\n",
    "\n",
    "plt.plot(x,f(x), 'y*-')\n",
    "print(f(x))\n"
   ]
  },
  {
   "cell_type": "code",
   "execution_count": null,
   "id": "431eb148",
   "metadata": {},
   "outputs": [],
   "source": []
  }
 ],
 "metadata": {
  "kernelspec": {
   "display_name": "Python 3 (ipykernel)",
   "language": "python",
   "name": "python3"
  },
  "language_info": {
   "codemirror_mode": {
    "name": "ipython",
    "version": 3
   },
   "file_extension": ".py",
   "mimetype": "text/x-python",
   "name": "python",
   "nbconvert_exporter": "python",
   "pygments_lexer": "ipython3",
   "version": "3.8.10"
  }
 },
 "nbformat": 4,
 "nbformat_minor": 5
}
