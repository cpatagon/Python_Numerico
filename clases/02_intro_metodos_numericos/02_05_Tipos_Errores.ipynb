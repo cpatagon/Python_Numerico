{
 "cells": [
  {
   "cell_type": "markdown",
   "metadata": {
    "id": "ag-GgX-q58qt"
   },
   "source": [
    "# Tipos de Errores\n",
    "\n",
    "## Error Absoluto\n",
    "El error absoluto nos da una medida directa de la ***desviación entre el valor real y el valor aproximado***. Es la diferencia en términos absolutos entre estos dos valores, sin tener en cuenta su escala.\n",
    "\n",
    "**Fórmula:**\n",
    "\n",
    "$$ \\lvert a_{\\text{real}} - a_{\\text{aprox}} \\rvert $$"
   ]
  },
  {
   "cell_type": "code",
   "execution_count": 1,
   "metadata": {
    "colab": {
     "base_uri": "https://localhost:8080/"
    },
    "executionInfo": {
     "elapsed": 14,
     "status": "ok",
     "timestamp": 1691598991226,
     "user": {
      "displayName": "Luis Gomez",
      "userId": "00656069038044722993"
     },
     "user_tz": 240
    },
    "id": "X5c_R1iy5yS9",
    "outputId": "22a3b939-60da-40aa-be1a-ae72e8a5b9a2"
   },
   "outputs": [
    {
     "name": "stdout",
     "output_type": "stream",
     "text": [
      "0.30000000000000004\n",
      "False\n"
     ]
    }
   ],
   "source": [
    "resultado = 0.1 + 0.2\n",
    "print(resultado)\n",
    "\n",
    "# Para ver si el resultado es exactamente igual a 0.3\n",
    "print(resultado == 0.3)"
   ]
  },
  {
   "cell_type": "markdown",
   "metadata": {
    "id": "CsyUkArq6eYH"
   },
   "source": [
    "## **Error Relativo**\n",
    "El error relativo proporciona una medida de la ***desviación entre el valor real y el valor aproximado, pero normalizado con respecto al valor real***. Esto permite una interpretación del error en términos de proporción o porcentaje.\n",
    "\n",
    "**Fórmula:**\n",
    "\n",
    "$$ \\frac{\\lvert a_{\\text{real}} - a_{\\text{aprox}} \\rvert}{\\lvert a_{\\text{real}} \\rvert}$$\n",
    "\n",
    "\n",
    "**Ejemplo:**\n",
    "\n",
    "Supongamos que estamos realizando un experimento químico para determinar la concentración de una solución. El valor teórico (o real) de la concentración, basado en cálculos previos, es de 5.00 g/L. Sin embargo, al medir la concentración experimentalmente, obtenemos un valor de 5.10 g/L.\n",
    "\n",
    "Calculemos el error porcentual:"
   ]
  },
  {
   "cell_type": "code",
   "execution_count": 1,
   "metadata": {
    "colab": {
     "base_uri": "https://localhost:8080/"
    },
    "executionInfo": {
     "elapsed": 380,
     "status": "ok",
     "timestamp": 1691599290914,
     "user": {
      "displayName": "Luis Gomez",
      "userId": "00656069038044722993"
     },
     "user_tz": 240
    },
    "id": "87B0w4o76gnH",
    "outputId": "64fdef8a-d9ed-4559-ba3c-0c1cc4c5e99d"
   },
   "outputs": [
    {
     "name": "stdout",
     "output_type": "stream",
     "text": [
      "El error porcentual es: 2.00%\n"
     ]
    }
   ],
   "source": [
    "valor_real = 5.00  # g/L\n",
    "valor_experimental = 5.10  # g/L\n",
    "\n",
    "error_porcentual = (abs(valor_real - valor_experimental) / abs(valor_real)) * 100\n",
    "\n",
    "print(f\"El error porcentual es: {error_porcentual:.2f}%\")\n"
   ]
  },
  {
   "cell_type": "markdown",
   "metadata": {
    "id": "s8V5upDt7uZn"
   },
   "source": [
    "## **Error de Redondeo**\n",
    "\n",
    "Las ***computadoras tienen una representación finita para los números***, en particular para los números en coma flotante. Esto significa que, después de cierto punto, los números se redondean. El error de redondeo se refiere a la diferencia entre el valor redondeado y el valor real.\n",
    "\n",
    "En una computadora, no todos los números pueden representarse con precisión debido a las ***limitaciones en la cantidad de bits disponibles***. Especialmente los números irracionales o aquellos con muchos decimales pueden sufrir de redondeo. Esta discrepancia, por pequeña que sea, puede acumularse en cálculos sucesivos y afectar la precisión del resultado final.\n",
    "\n",
    "\n",
    "**Ejercicio**\n",
    "\n",
    "En matemáticas, 0.1 es exactamente eso, 0.1 Sin embargo, en la mayoría de las representaciones binarias de coma flotante, 0.1 no tiene una representación exacta, lo que lleva a pequeños errores de redondeo."
   ]
  },
  {
   "cell_type": "code",
   "execution_count": null,
   "metadata": {
    "colab": {
     "base_uri": "https://localhost:8080/"
    },
    "executionInfo": {
     "elapsed": 540,
     "status": "ok",
     "timestamp": 1691427600127,
     "user": {
      "displayName": "Luis Gomez",
      "userId": "00656069038044722993"
     },
     "user_tz": 240
    },
    "id": "1iHa2n7u8Mcz",
    "outputId": "2da68e58-2cbc-4b0d-c39e-f864e589f888"
   },
   "outputs": [
    {
     "name": "stdout",
     "output_type": "stream",
     "text": [
      "0.30000000000000004\n",
      "False\n"
     ]
    }
   ],
   "source": [
    "suma = 0.1 + 0.1 + 0.1\n",
    "print(suma)\n",
    "# Comprobamos si la suma es igual a 0.3\n",
    "print(suma == 0.3)\n"
   ]
  },
  {
   "cell_type": "markdown",
   "metadata": {
    "id": "O5ZQKD9R8jmb"
   },
   "source": [
    "Aunque esperaríamos que la suma sea exactamente 0.3, el resultado no lo será debido al error de redondeo en la representación binaria de 0.1. Por lo tanto, la comparación suma == 0.3 resultará en False.\n",
    "\n",
    "Este tipo de error puede ser sorprendente y, en ciertas circunstancias, problemático, especialmente en situaciones donde se requiere una alta precisión numérica. Es fundamental ser consciente de estos errores y ***manejarlos adecuadamente, por ejemplo, utilizando tolerancias*** en las comparaciones en lugar de buscar igualdades exactas."
   ]
  },
  {
   "cell_type": "markdown",
   "metadata": {
    "id": "OautrT2ZBNJu"
   },
   "source": [
    "## **Error de Truncamiento**\n",
    "El error de truncamiento ***se origina cuando se utiliza una aproximación*** en lugar de un proceso exacto. Estos errores ***ocurren cuando se cortan, o se truncan, ciertos términos*** en una representación matemática.\n",
    "\n",
    "###**Introducción:**\n",
    "\n",
    "En muchos procedimientos numéricos, especialmente en series infinitas o soluciones diferenciales, es práctico ***truncar o ignorar términos más allá de un cierto punto*** para hacer el cálculo factible. Sin embargo, esta ***aproximación introduce un error***: el error de truncamiento. Es vital entender y estimar este error para garantizar la validez y precisión de las soluciones numéricas.\n",
    "\n",
    "**Ejemplo en Python sobre el error de truncamiento:**\n",
    "\n",
    "Una serie infinita común es la expansión de Taylor para la función exponencial $e^x$:\n",
    "\n",
    "$e^x = 1 + x + \\frac{x^2}{2} + \\frac{x^3}{6} + \\frac{x^4}{24} + \\frac{x^5}{120} + \\dots$\n",
    "\n",
    "\n",
    "Si truncamos esta serie después de unos pocos términos, podemos aproximar $e^x$ pero con cierto error.\n",
    "\n",
    "Veamos esto en acción con Python:\n"
   ]
  },
  {
   "cell_type": "code",
   "execution_count": 2,
   "metadata": {
    "colab": {
     "base_uri": "https://localhost:8080/"
    },
    "executionInfo": {
     "elapsed": 338,
     "status": "ok",
     "timestamp": 1691599723677,
     "user": {
      "displayName": "Luis Gomez",
      "userId": "00656069038044722993"
     },
     "user_tz": 240
    },
    "id": "4-9eC5pRBqYN",
    "outputId": "8b75fc36-653d-46b4-f5de-9173ebdcfb15"
   },
   "outputs": [
    {
     "name": "stdout",
     "output_type": "stream",
     "text": [
      "Valor real: 2.718281828459045\n",
      "Aproximación con 4 términos: 2.6666666666666665\n",
      "Error de truncamiento: 0.05161516179237857\n",
      "Valor real: 2.718281828459045\n",
      "Aproximación con 8 términos: 2.7182539682539684\n",
      "Error de truncamiento: 2.7860205076724043e-05\n"
     ]
    }
   ],
   "source": [
    "import math\n",
    "\n",
    "def aprox_exp(x, n_terms):\n",
    "    \"\"\"Aproxima e^x usando n_terms términos de su serie de Taylor.\"\"\"\n",
    "    suma = 0\n",
    "    for n in range(n_terms):\n",
    "        suma += x**n / math.factorial(n)\n",
    "    return suma\n",
    "\n",
    "x = 1  # Elegimos e^1 = e para este ejemplo\n",
    "n_terms = 4  # Usamos solo 4 términos\n",
    "\n",
    "aproximacion = aprox_exp(x, n_terms)\n",
    "real = math.exp(x)\n",
    "\n",
    "error_truncamiento = real - aproximacion\n",
    "\n",
    "print(f\"Valor real: {real}\")\n",
    "print(f\"Aproximación con {n_terms} términos: {aproximacion}\")\n",
    "print(f\"Error de truncamiento: {error_truncamiento}\")\n",
    "\n",
    "n_terms = 8  # Usamos solo 8 términos\n",
    "\n",
    "aproximacion = aprox_exp(x, n_terms)\n",
    "real = math.exp(x)\n",
    "\n",
    "error_truncamiento = real - aproximacion\n",
    "\n",
    "print(f\"Valor real: {real}\")\n",
    "print(f\"Aproximación con {n_terms} términos: {aproximacion}\")\n",
    "print(f\"Error de truncamiento: {error_truncamiento}\")\n"
   ]
  },
  {
   "cell_type": "markdown",
   "metadata": {
    "id": "SgDmi4DwN4f7"
   },
   "source": [
    "## **Ejercicio**\n",
    "\n",
    "Grafique la variación de error de truncamiento de la función $e^x$ a medida que incrementamos el polinomio Taylor"
   ]
  },
  {
   "cell_type": "markdown",
   "metadata": {
    "id": "TU2HZDNnC16Z"
   },
   "source": [
    "---\n",
    "\n",
    "## **Fuentes de Error**\n",
    "\n",
    "A medida que trabajamos con cálculos numéricos en computadoras, es inevitable encontrarnos con errores. Estos errores provienen de diversas fuentes, algunas ***inherentes a la máquina*** y otras derivadas de ***nuestras decisiones de modelado*** y aproximación. A continuación, se describen algunas de las fuentes más comunes de error en el cálculo numérico.\n",
    "\n",
    "### **Representación finita de números**\n",
    "\n",
    "Las computadoras tienen una capacidad limitada para representar números debido a la memoria finita. Esto se evidencia especialmente con los números en punto flotante.\n",
    "\n",
    "**Ejemplo:** En Python, el número `0.1` no se representa exactamente debido a su representación binaria en punto flotante. Esto puede llevar a errores acumulativos en cálculos sucesivos.\n",
    "\n",
    "```python\n",
    "numero = 0.1 + 0.1 + 0.1\n",
    "print(numero == 0.3)  \n",
    "# Esto imprime False debido a errores de redondeo.\n"
   ]
  },
  {
   "cell_type": "markdown",
   "metadata": {
    "id": "z4zdQPqvDj9I"
   },
   "source": [
    "## **Operaciones aritméticas**\n",
    "\n",
    "Las operaciones básicas como suma, resta, multiplicación y división pueden introducir errores, especialmente cuando se involucran números con magnitudes muy diferentes.\n",
    "\n",
    "**Ejemplo:** Sumar un número muy pequeño a uno muy grande puede llevar a la pérdida del número más pequeño debido al redondeo.\n",
    "\n",
    "```python\n",
    "# Ejemplo en Python\n",
    "grande = 1e9\n",
    "pequeno = 1e-9\n",
    "resultado = grande + pequeno\n",
    "diferencia = resultado - grande\n",
    "print(diferencia)  # Puede que no imprima exactamente 1e-9 debido a errores de redondeo.\n"
   ]
  },
  {
   "cell_type": "code",
   "execution_count": 4,
   "metadata": {
    "colab": {
     "base_uri": "https://localhost:8080/"
    },
    "executionInfo": {
     "elapsed": 256,
     "status": "ok",
     "timestamp": 1691600186227,
     "user": {
      "displayName": "Luis Gomez",
      "userId": "00656069038044722993"
     },
     "user_tz": 240
    },
    "id": "9URHMMEGOlpy",
    "outputId": "731ff6f7-d904-4be9-8e3d-5befd92c1390"
   },
   "outputs": [
    {
     "name": "stdout",
     "output_type": "stream",
     "text": [
      "0.0\n"
     ]
    }
   ],
   "source": [
    "# Ejemplo en Python\n",
    "grande = 1e9\n",
    "pequeno = 1e-9\n",
    "resultado = grande + pequeno\n",
    "diferencia = resultado - grande\n",
    "print(diferencia)  # Puede que no imprima exactamente 1e-9 debido a errores de redondeo."
   ]
  },
  {
   "cell_type": "markdown",
   "metadata": {
    "id": "Xi9dsLW6D5OU"
   },
   "source": [
    "## **Aproximaciones en métodos numéricos**\n",
    "\n",
    "Al usar métodos numéricos para resolver problemas que ***no tienen una solución analítica exacta***, introducimos errores. Estos errores dependen del método utilizado y de cómo se aproxima el problema.\n",
    "\n",
    "**Ejemplo:** Al utilizar el método de Euler para resolver ecuaciones diferenciales, se introduce un error basado en el tamaño del paso elegido.\n",
    "\n"
   ]
  },
  {
   "cell_type": "code",
   "execution_count": 5,
   "metadata": {
    "executionInfo": {
     "elapsed": 256,
     "status": "ok",
     "timestamp": 1691600376670,
     "user": {
      "displayName": "Luis Gomez",
      "userId": "00656069038044722993"
     },
     "user_tz": 240
    },
    "id": "BGLRxuzPEA61"
   },
   "outputs": [],
   "source": [
    "# Ejemplo simplificado del método de Euler\n",
    "def metodo_euler(dydx, y0, x0, h, n):\n",
    "    y = y0\n",
    "    x = x0\n",
    "    for i in range(n):\n",
    "        y += h * dydx(x, y)\n",
    "        x += h\n",
    "    return y"
   ]
  },
  {
   "cell_type": "markdown",
   "metadata": {
    "id": "ganvEs4GEJyZ"
   },
   "source": [
    "##  **Errores de entrada de datos**\n",
    "\n",
    "Introducir datos incorrectos o imprecisos puede llevar a resultados incorrectos. Es esencial garantizar la precisión y corrección de los datos de entrada.\n",
    "\n",
    "**Ejemplo:** Medir un valor con un instrumento no calibrado y luego usar ese valor en cálculos posteriores puede propagar y amplificar el error.\n",
    "\n",
    "**Ejemplo hipotético:**\n",
    "\n",
    "```python\n",
    "medida_incorrecta = 10.5  # Supongamos que el valor real es 10.0\n",
    "resultado = medida_incorrecta * 2  # Esto nos da 21.0 en lugar del valor real de 20.0\n"
   ]
  },
  {
   "cell_type": "markdown",
   "metadata": {
    "id": "W2GPIRWF5y6s"
   },
   "source": [
    "\n",
    "\n"
   ]
  },
  {
   "cell_type": "markdown",
   "metadata": {
    "id": "ivXE5WjV6cVP"
   },
   "source": []
  }
 ],
 "metadata": {
  "colab": {
   "authorship_tag": "ABX9TyP5YxTiLHuWfcyMTkLBZToO",
   "provenance": []
  },
  "kernelspec": {
   "display_name": "Python 3 (ipykernel)",
   "language": "python",
   "name": "python3"
  },
  "language_info": {
   "codemirror_mode": {
    "name": "ipython",
    "version": 3
   },
   "file_extension": ".py",
   "mimetype": "text/x-python",
   "name": "python",
   "nbconvert_exporter": "python",
   "pygments_lexer": "ipython3",
   "version": "3.8.10"
  }
 },
 "nbformat": 4,
 "nbformat_minor": 1
}
