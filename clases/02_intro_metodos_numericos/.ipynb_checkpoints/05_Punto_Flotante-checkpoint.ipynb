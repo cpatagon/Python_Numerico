{
 "cells": [
  {
   "cell_type": "markdown",
   "metadata": {
    "id": "ke5NASqVYbJZ"
   },
   "source": [
    "# Representación de Números en Punto Flotante\n",
    "\n",
    "La representación de números en punto flotante es un método utilizado en computadoras para aproximar números reales y realizar operaciones aritméticas con ellos. Esta representación es una forma de notación científica adaptada para su almacenamiento y operación eficiente en computadoras. Los números en punto flotante en una computadora suelen seguir el estándar IEEE 754.\n",
    "\n",
    "## Componentes de un Número en Punto Flotante\n",
    "\n",
    "Un número en punto flotante se representa mediante tres componentes:\n",
    "\n",
    "1. **Signo \\( s \\)**: Un bit que indica si el número es positivo o negativo.\n",
    "2. **Exponente \\( e \\)**: Un conjunto de bits que representa el exponente del número en base 2.\n",
    "3. **Mantisa \\( m \\)**: Un conjunto de bits que representa la \"precisión\" o \"fracción\" del número.\n",
    "\n",
    "La representación general de un número en punto flotante es:\n",
    "\n",
    "$$\n",
    "(-1)^s \\times 1.m \\times 2^{(e - \\text{Bias})}\n",
    "$$\n",
    "\n",
    "Donde:\n",
    "- $ (-1)^s $ representa el signo del número. $ s = 0 $ para un número positivo y $ s = 1 $ para un número negativo.\n",
    "- $ 1.m $ es la mantisa, \"normalizada\" para que siempre tenga un dígito '1' antes del punto decimal (en base 2).\n",
    "- $ 2^{(e - \\text{Bias})} $ es la potencia de 2 que escala el número.\n",
    "\n",
    "## IEEE 754\n",
    "\n",
    "Este estándar define varios formatos, siendo los más comunes:\n",
    "\n",
    "- Precisión simple (32 bits): 1 bit para el signo, 8 bits para el exponente, y 23 bits para la mantisa.\n",
    "- Precisión doble (64 bits): 1 bit para el signo, 11 bits para el exponente, y 52 bits para la mantisa.\n",
    "\n",
    "## Detalles a Considerar\n",
    "\n",
    "1. **Rango y Precisión**: La representación en punto flotante es una aproximación, lo que lleva a errores de redondeo.\n",
    "2. **Valores Especiales**: Representaciones para cero, infinito (\\( \\infty \\)), y \"Not a Number\" (NaN).\n",
    "3. **Operaciones Aritméticas**: Las operaciones son aproximadas, lo que puede acumular errores.\n",
    "\n"
   ]
  },
  {
   "cell_type": "code",
   "execution_count": 1,
   "metadata": {
    "colab": {
     "base_uri": "https://localhost:8080/"
    },
    "executionInfo": {
     "elapsed": 5,
     "status": "ok",
     "timestamp": 1722751163811,
     "user": {
      "displayName": "Luis Gomez",
      "userId": "00656069038044722993"
     },
     "user_tz": 240
    },
    "id": "EOzcxzOyY8EF",
    "outputId": "22458caf-234a-451c-b4dc-619841e9dd90"
   },
   "outputs": [
    {
     "name": "stdout",
     "output_type": "stream",
     "text": [
      "Number: -15.25\n",
      "Binary64: 1100000000101110100000000000000000000000000000000000000000000000\n",
      "Sign bit: 1\n",
      "Exponent: 10000000010\n",
      "Mantissa: 1110100000000000000000000000000000000000000000000000\n"
     ]
    }
   ],
   "source": [
    "import struct  # Importa el módulo para trabajar con bytes\n",
    "\n",
    "def float_to_binary64(number):\n",
    "    \"\"\"Convierte un número flotante a su representación binaria según IEEE 754.\"\"\"\n",
    "    # Empaqueta el número flotante en un objeto de bytes\n",
    "    packed = struct.pack('!d', number)\n",
    "\n",
    "    # Convierte cada byte a su representación entera\n",
    "    integers = [c for c in packed]\n",
    "\n",
    "    # Convierte cada entero a su representación binaria, rellenando con ceros a la izquierda\n",
    "    binaries = [bin(i).replace('0b', '').rjust(8, '0') for i in integers]\n",
    "\n",
    "    # Une todas las representaciones binarias en una cadena\n",
    "    return ''.join(binaries)\n",
    "\n",
    "def split_ieee_754(binary64):\n",
    "    \"\"\"Divide la representación binaria IEEE 754 en sus componentes.\"\"\"\n",
    "    # Extrae el bit de signo (el primer bit)\n",
    "    sign = binary64[0]\n",
    "\n",
    "    # Extrae los bits del exponente (bits del 1 al 11)\n",
    "    exponent = binary64[1:12]\n",
    "\n",
    "    # Extrae los bits de la mantisa (bits del 12 en adelante)\n",
    "    mantissa = binary64[12:]\n",
    "\n",
    "    return sign, exponent, mantissa\n",
    "\n",
    "# Convierte un número flotante a su representación binaria\n",
    "number = -15.25\n",
    "binary64 = float_to_binary64(number)\n",
    "\n",
    "# Divide la representación en sus componentes IEEE 754\n",
    "sign, exponent, mantissa = split_ieee_754(binary64)\n",
    "\n",
    "# Imprime los resultados\n",
    "print(f\"Number: {number}\")\n",
    "print(f\"Binary64: {binary64}\")\n",
    "print(f\"Sign bit: {sign}\")\n",
    "print(f\"Exponent: {exponent}\")\n",
    "print(f\"Mantissa: {mantissa}\")\n",
    "\n"
   ]
  }
 ],
 "metadata": {
  "colab": {
   "authorship_tag": "ABX9TyNX1y27H+kKciFLCBD0zNJU",
   "provenance": []
  },
  "kernelspec": {
   "display_name": "Python 3 (ipykernel)",
   "language": "python",
   "name": "python3"
  },
  "language_info": {
   "codemirror_mode": {
    "name": "ipython",
    "version": 3
   },
   "file_extension": ".py",
   "mimetype": "text/x-python",
   "name": "python",
   "nbconvert_exporter": "python",
   "pygments_lexer": "ipython3",
   "version": "3.8.10"
  }
 },
 "nbformat": 4,
 "nbformat_minor": 1
}
