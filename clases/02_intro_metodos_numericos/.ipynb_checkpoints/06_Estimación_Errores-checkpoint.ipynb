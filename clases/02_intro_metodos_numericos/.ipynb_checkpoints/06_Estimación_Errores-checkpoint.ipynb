{
 "cells": [
  {
   "cell_type": "markdown",
   "metadata": {
    "id": "5CCGPezqP6qa"
   },
   "source": [
    "# **6 Estimación de Errores en Python**\n",
    "\n",
    "## **Uso de las bibliotecas `math` y `numpy` para ejemplificar**\n",
    "\n",
    "Python ofrece bibliotecas, como `math` y `numpy`, que proporcionan herramientas para realizar operaciones matemáticas.\n",
    "\n",
    "Ejemplo: Calculemos la raíz cuadrada de 2 utilizando ambas bibliotecas:"
   ]
  },
  {
   "cell_type": "code",
   "execution_count": 1,
   "metadata": {
    "colab": {
     "base_uri": "https://localhost:8080/"
    },
    "executionInfo": {
     "elapsed": 13,
     "status": "ok",
     "timestamp": 1691459643988,
     "user": {
      "displayName": "Luis Gomez",
      "userId": "00656069038044722993"
     },
     "user_tz": 240
    },
    "id": "EpStCEY92a1V",
    "outputId": "2d0ff99b-2fef-410f-c78b-d45019be0576"
   },
   "outputs": [
    {
     "name": "stdout",
     "output_type": "stream",
     "text": [
      "Raíz usando math: 1.4142135623730951\n",
      "Raíz usando numpy: 1.4142135623730951\n"
     ]
    }
   ],
   "source": [
    "import math\n",
    "import numpy as np\n",
    "\n",
    "raiz_math  = math.sqrt(2)\n",
    "raiz_numpy = np.sqrt(2)\n",
    "\n",
    "print(f\"Raíz usando math: {raiz_math}\")\n",
    "print(f\"Raíz usando numpy: {raiz_numpy}\")"
   ]
  },
  {
   "cell_type": "markdown",
   "metadata": {
    "id": "1uNoZy5D2m4k"
   },
   "source": [
    "## Errores de redondeo en operaciones aritméticas**.\n",
    "\n",
    "Estos errores ocurren cuando la representación exacta de un número no es posible debido a la precisión limitada de las máquinas.\n",
    "\n",
    "Ejemplo: Veamos cómo la suma repetida puede llevar a errores:"
   ]
  },
  {
   "cell_type": "code",
   "execution_count": 2,
   "metadata": {
    "colab": {
     "base_uri": "https://localhost:8080/"
    },
    "executionInfo": {
     "elapsed": 6,
     "status": "ok",
     "timestamp": 1691434777547,
     "user": {
      "displayName": "Luis Gomez",
      "userId": "00656069038044722993"
     },
     "user_tz": 240
    },
    "id": "JPml9aL_XiwK",
    "outputId": "177f4ee5-2f87-4e14-e92e-3dcf29b2fa99"
   },
   "outputs": [
    {
     "name": "stdout",
     "output_type": "stream",
     "text": [
      "Resultado de sumar 0.1 diez veces: 0.9999999999999999\n"
     ]
    }
   ],
   "source": [
    "suma = 0.1 + 0.1 + 0.1 + 0.1 + 0.1 + 0.1 + 0.1 + 0.1 + 0.1 + 0.1\n",
    "print(f\"Resultado de sumar 0.1 diez veces: {suma}\")  # ¿Es realmente 1.0?\n"
   ]
  },
  {
   "cell_type": "markdown",
   "metadata": {
    "id": "zMR8Qc6wX3Mw"
   },
   "source": [
    "## **Cómo Python representa números**\n",
    "\n",
    "Python, al igual que otras lenguas, utiliza el sistema de punto flotante para representar números reales, lo que puede llevar a inexactitudes.\n",
    "\n",
    "Ejemplo: Observemos cómo Python representa un número con muchos decimales:"
   ]
  },
  {
   "cell_type": "code",
   "execution_count": 3,
   "metadata": {
    "colab": {
     "base_uri": "https://localhost:8080/"
    },
    "executionInfo": {
     "elapsed": 309,
     "status": "ok",
     "timestamp": 1691459722642,
     "user": {
      "displayName": "Luis Gomez",
      "userId": "00656069038044722993"
     },
     "user_tz": 240
    },
    "id": "NOyWiwrvP5-9",
    "outputId": "00b2897a-82dd-4f94-a332-49ae42081646"
   },
   "outputs": [
    {
     "name": "stdout",
     "output_type": "stream",
     "text": [
      "0.12345678912345678\n"
     ]
    }
   ],
   "source": [
    "numero = 0.123456789123456789\n",
    "print(numero)  # Note cómo se redondea el número"
   ]
  },
  {
   "cell_type": "markdown",
   "metadata": {
    "id": "2P1hG9sjYF-3"
   },
   "source": [
    "## Ejemplos de cálculos simples: Cómo calcular y visualizar su error\n",
    "\n",
    "Es vital calcular el error para comprender cuánto nos estamos desviando del valor real.\n",
    "\n",
    "Ejemplo: Calculemos el error relativo entre el valor real de π y una aproximación:\n",
    "\n"
   ]
  },
  {
   "cell_type": "code",
   "execution_count": 4,
   "metadata": {
    "colab": {
     "base_uri": "https://localhost:8080/"
    },
    "executionInfo": {
     "elapsed": 315,
     "status": "ok",
     "timestamp": 1691459740158,
     "user": {
      "displayName": "Luis Gomez",
      "userId": "00656069038044722993"
     },
     "user_tz": 240
    },
    "id": "rO6y3U4BYIzV",
    "outputId": "db4fa87e-6d79-4546-ed42-e51c0c95a735"
   },
   "outputs": [
    {
     "name": "stdout",
     "output_type": "stream",
     "text": [
      "Error absoluto: 0.0012644892673496777\n",
      "Error relativo: 0.0004024994347707008\n"
     ]
    }
   ],
   "source": [
    "valor_real = np.pi\n",
    "aproximacion = 22/7\n",
    "\n",
    "error_absoluto = abs(valor_real - aproximacion)\n",
    "error_relativo = error_absoluto / abs(valor_real)\n",
    "\n",
    "print(f\"Error absoluto: {error_absoluto}\")\n",
    "print(f\"Error relativo: {error_relativo}\")\n"
   ]
  },
  {
   "cell_type": "markdown",
   "metadata": {
    "id": "Nna-m8SwYMfP"
   },
   "source": [
    "Analice los resultados obtenidos en los ejemplos anteriores y reflexione sobre la importancia de considerar y gestionar los errores en los cálculos numéricos."
   ]
  },
  {
   "cell_type": "code",
   "execution_count": null,
   "metadata": {},
   "outputs": [],
   "source": []
  }
 ],
 "metadata": {
  "colab": {
   "authorship_tag": "ABX9TyMjqUYUrD6dxyryjfb8PGNO",
   "provenance": []
  },
  "kernelspec": {
   "display_name": "Python 3 (ipykernel)",
   "language": "python",
   "name": "python3"
  },
  "language_info": {
   "codemirror_mode": {
    "name": "ipython",
    "version": 3
   },
   "file_extension": ".py",
   "mimetype": "text/x-python",
   "name": "python",
   "nbconvert_exporter": "python",
   "pygments_lexer": "ipython3",
   "version": "3.8.10"
  }
 },
 "nbformat": 4,
 "nbformat_minor": 1
}
