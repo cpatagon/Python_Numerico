{
 "cells": [
  {
   "cell_type": "markdown",
   "metadata": {
    "id": "SLOO6oADmMvl"
   },
   "source": [
    "# **2.  Diferencia entre errores reales y errores percibidos**\n",
    "\n",
    "Al abordar problemas numéricos y analizar resultados, es ***crucial distinguir entre errores que realmente existen y aquellos que simplemente percibimos*** debido a diversas circunstancias, ya sea por nuestra interpretación o por la forma en que se presentan los datos.\n",
    "\n",
    "## **2.1. Errores reales:**\n",
    "\n",
    "  **Definición:** Son las ***diferencias objetivas*** entre un valor conocido (o teóricamente exacto) y un valor calculado o medido.\n",
    "\n",
    "  **Origen:** Pueden ***surgir de múltiples fuentes***, incluyendo imprecisiones en la recopilación de datos, limitaciones en las técnicas de medición, errores en la representación numérica en las computadoras, entre otros.\n",
    "\n",
    "  **Impacto:** Los errores reales pueden ***afectar la validez y precisión de un resultado*** o solución. Es vital identificar y, si es posible, cuantificar estos errores para garantizar la confiabilidad de los cálculos.\n",
    "\n",
    "## 2.2. Errores percibidos:\n",
    "\n",
    "  **Definición:** Son discrepancias que los observadores creen que existen, pero que en realidad no representan una diferencia objetiva en los valores. Estos errores son subjetivos y a menudo resultan de malentendidos o interpretaciones erróneas.\n",
    "\n",
    "  **Origen:** Representación visual inapropiada de datos, donde las escalas o la falta de contexto pueden hacer que los errores parezcan más grandes o más pequeños de lo que realmente son. Ambigüedades o falta de claridad en la presentación o comunicación de resultados. Expectativas previas o sesgos cognitivos que influencian la interpretación.\n",
    "\n",
    " - **Impacto:** Aunque los errores percibidos no son \"reales\" en el sentido tradicional, pueden tener ***consecuencias significativas, especialmente en la toma de decisiones*** basadas en la interpretación de datos o resultados. Un error percibido puede llevar a decisiones incorrectas, a pesar de que los datos originales o los cálculos sean correctos.\n",
    "\n",
    "## Conclusión:\n",
    "\n",
    "Entender la diferencia entre errores reales y percibidos es esencial para una interpretación correcta y efectiva de los resultados numéricos. Mientras que ***los errores reales requieren corrección*** o al menos consideración en el análisis, ***los errores percibidos requieren una clara comunicación***, educación y, a veces, un ajuste en la presentación de datos para garantizar una comprensión adecuada-"
   ]
  },
  {
   "cell_type": "code",
   "execution_count": null,
   "metadata": {
    "id": "i_KH5vermLiX"
   },
   "outputs": [],
   "source": []
  }
 ],
 "metadata": {
  "colab": {
   "authorship_tag": "ABX9TyP1Ojv6EFt0baHNmQ7ET0G4",
   "provenance": []
  },
  "kernelspec": {
   "display_name": "Python 3 (ipykernel)",
   "language": "python",
   "name": "python3"
  },
  "language_info": {
   "codemirror_mode": {
    "name": "ipython",
    "version": 3
   },
   "file_extension": ".py",
   "mimetype": "text/x-python",
   "name": "python",
   "nbconvert_exporter": "python",
   "pygments_lexer": "ipython3",
   "version": "3.8.10"
  }
 },
 "nbformat": 4,
 "nbformat_minor": 1
}
