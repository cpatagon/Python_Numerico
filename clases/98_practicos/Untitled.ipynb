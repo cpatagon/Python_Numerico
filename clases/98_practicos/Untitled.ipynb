{
 "cells": [
  {
   "cell_type": "code",
   "execution_count": 1,
   "id": "a57b9b6c",
   "metadata": {},
   "outputs": [
    {
     "name": "stdout",
     "output_type": "stream",
     "text": [
      "Ingresa un radio: 3\n",
      "28.274333882308138\n",
      "1\n",
      "2\n",
      "3\n",
      "4\n",
      "5\n",
      "15\n",
      "55\n",
      "1\n",
      "2\n",
      "3\n",
      "4\n",
      "5\n",
      "120\n",
      "True\n",
      "[[1 2 3]\n",
      " [4 5 6]\n",
      " [7 8 9]]\n"
     ]
    }
   ],
   "source": [
    "#### Ejercicio 1 ####\n",
    "import numpy as np\n",
    "def area_circulo(a):\n",
    "    area = np.pi * (a)**2\n",
    "    return area\n",
    "\n",
    "radio = int(input(\"Ingresa un radio: \"))\n",
    "area = area_circulo(radio)\n",
    "print(area)\n",
    "\n",
    "#### Ejercicio 2, a) ####\n",
    "lista = [1,2,3,4,5]\n",
    "def suma_elementos(l):\n",
    "    total = 0\n",
    "    for i in lista:\n",
    "        print(i)\n",
    "    for i in lista:\n",
    "        total += i\n",
    "    return total \n",
    "\n",
    "res = suma_elementos(lista)\n",
    "print(res)\n",
    "\n",
    "\n",
    "#### Ejercicio 2, b) Implementa una función que calcule la suma de la lista empleando un bucle for o while. Utiliza la notación matemática: ####\n",
    "#### Ejercicio 2, c) Desarrolla una función f(n) que calcule la suma de los primeros n valores enteros positivos. Compara el resultado con la fórmula analítica:\n",
    "\n",
    "def f(n):\n",
    "    suma = 0\n",
    "    for i in range(0, n+1):\n",
    "        suma += i\n",
    "    return suma\n",
    "\n",
    "print(f(10))\n",
    "\n",
    "#### Ejercicio 3 #### \n",
    "# a) Crea una función que calcule el producto de todos los elementos en la lista\n",
    "numeros = [1, 2, 3, 4, 5]\n",
    "def producto_lista(a):\n",
    "    producto = 1\n",
    "    for i in numeros:\n",
    "        print(i)\n",
    "        producto *= i\n",
    "    return producto\n",
    "print(producto_lista(numeros))\n",
    "\n",
    "# b) Desarrolla una función que calcule el producto de los primeros n enteros positivos (factorial de n). Compara el resultado con la función math.factorial().\n",
    "from math import factorial\n",
    "import math as mt\n",
    "def funcfactorial(a):\n",
    "    factorial = 1\n",
    "    for i in range(1, a+1):\n",
    "        factorial *= i\n",
    "    return factorial\n",
    "\n",
    "if funcfactorial(10) == mt.factorial(10):\n",
    "    print(True)\n",
    "else:\n",
    "    print(False)\n",
    "\n",
    "\n",
    "#### Ejercicio 3 ####\n",
    "#Utilizando NumPy, realiza las siguientes operaciones:\n",
    "#a) Crea una matriz 3x3 y escribe una función que imprima todos sus elementos.\n",
    "#matriz = np.array([[1, 2, 3], [4, 5, 6], [7, 8, 9]])\n",
    "#b) Imprime los elementos de la matriz en orden inverso (de abajo hacia arriba y de derecha a izquierda).\n",
    "#c) Extrae la segunda columna de la matriz y conviértela en un vector. Imprime este vector.\n",
    "matriz = np.array([[1, 2, 3],[4, 5, 6], [7, 8, 9]])\n",
    "def imprime_elementos(a):\n",
    "    print(a)\n",
    "imprime_elementos(matriz)"
   ]
  },
  {
   "cell_type": "code",
   "execution_count": 3,
   "id": "e7a33ff5",
   "metadata": {},
   "outputs": [
    {
     "name": "stdout",
     "output_type": "stream",
     "text": [
      "True\n"
     ]
    }
   ],
   "source": [
    "from math import factorial\n",
    "import math as mt\n",
    "def funcfactorial(a):\n",
    "    factorial = 1\n",
    "    for i in range(1, a+1):\n",
    "        factorial *= i\n",
    "    return factorial\n",
    "\n",
    "if funcfactorial(10) == mt.factorial(10):\n",
    "    print(True)\n",
    "else:\n",
    "    print(False)\n"
   ]
  },
  {
   "cell_type": "code",
   "execution_count": 4,
   "id": "f7528860",
   "metadata": {},
   "outputs": [
    {
     "name": "stdout",
     "output_type": "stream",
     "text": [
      "1\n",
      "2\n",
      "3\n",
      "4\n",
      "5\n",
      "120\n"
     ]
    }
   ],
   "source": [
    "numeros = [1, 2, 3, 4, 5]\n",
    "def producto_lista(a):\n",
    "    producto = 1\n",
    "    for i in numeros:\n",
    "        print(i)\n",
    "        producto *= i\n",
    "    return producto\n",
    "print(producto_lista(numeros))"
   ]
  },
  {
   "cell_type": "code",
   "execution_count": 5,
   "id": "2d3dfc3c",
   "metadata": {},
   "outputs": [
    {
     "name": "stdout",
     "output_type": "stream",
     "text": [
      "True\n"
     ]
    }
   ],
   "source": [
    "# b) Desarrolla una función que calcule el producto de los primeros n enteros positivos (factorial de n). Compara el resultado con la función math.factorial().\n",
    "from math import factorial\n",
    "import math as mt\n",
    "def funcfactorial(a):\n",
    "    factorial = 1\n",
    "    for i in range(1, a+1):\n",
    "        factorial *= i\n",
    "    return factorial\n",
    "\n",
    "if funcfactorial(10) == mt.factorial(10):\n",
    "    print(True)\n",
    "else:\n",
    "    print(False)\n"
   ]
  },
  {
   "cell_type": "code",
   "execution_count": 6,
   "id": "4dc72ae6",
   "metadata": {},
   "outputs": [
    {
     "name": "stdout",
     "output_type": "stream",
     "text": [
      "[[1 2 3]\n",
      " [4 5 6]\n",
      " [7 8 9]]\n"
     ]
    }
   ],
   "source": [
    "#### Ejercicio 3 ####\n",
    "#Utilizando NumPy, realiza las siguientes operaciones:\n",
    "#a) Crea una matriz 3x3 y escribe una función que imprima todos sus elementos.\n",
    "#matriz = np.array([[1, 2, 3], [4, 5, 6], [7, 8, 9]])\n",
    "#b) Imprime los elementos de la matriz en orden inverso (de abajo hacia arriba y de derecha a izquierda).\n",
    "#c) Extrae la segunda columna de la matriz y conviértela en un vector. Imprime este vector.\n",
    "matriz = np.array([[1, 2, 3],[4, 5, 6], [7, 8, 9]])\n",
    "def imprime_elementos(a):\n",
    "    print(a)\n",
    "imprime_elementos(matriz)"
   ]
  }
 ],
 "metadata": {
  "kernelspec": {
   "display_name": "Python 3 (ipykernel)",
   "language": "python",
   "name": "python3"
  },
  "language_info": {
   "codemirror_mode": {
    "name": "ipython",
    "version": 3
   },
   "file_extension": ".py",
   "mimetype": "text/x-python",
   "name": "python",
   "nbconvert_exporter": "python",
   "pygments_lexer": "ipython3",
   "version": "3.8.10"
  }
 },
 "nbformat": 4,
 "nbformat_minor": 5
}
