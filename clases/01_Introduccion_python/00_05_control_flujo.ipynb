{
 "cells": [
  {
   "cell_type": "markdown",
   "metadata": {
    "id": "CvI1CZIbMk0M"
   },
   "source": [
    "# Herramientas de Control de Flujo en Python\n",
    "\n",
    "Python proporciona varias estructuras de control de flujo que permiten a los programadores dirigir la ejecución de sus programas.\n",
    "\n",
    "## Bucle While\n",
    "\n",
    "El bucle while ejecuta un bloque de código mientras una condición sea verdadera.\n",
    "\n",
    "### Ejemplo: Serie de Fibonacci"
   ]
  },
  {
   "cell_type": "code",
   "execution_count": 13,
   "metadata": {
    "colab": {
     "base_uri": "https://localhost:8080/"
    },
    "executionInfo": {
     "elapsed": 270,
     "status": "ok",
     "timestamp": 1692668744757,
     "user": {
      "displayName": "Luis Gomez",
      "userId": "00656069038044722993"
     },
     "user_tz": 240
    },
    "id": "7FoCc0hkNId3",
    "outputId": "58bcab96-1767-4577-e560-154c7aeb361e"
   },
   "outputs": [
    {
     "name": "stdout",
     "output_type": "stream",
     "text": [
      "Serie de Fibonacci hasta 400\n",
      "1 1 2 3 5 8 13 21 34 55 89 144 233 377 \n"
     ]
    }
   ],
   "source": [
    "# Serie de Fibonacci:\n",
    "# la suma de los dos anteriores define el siguiente valor\n",
    "def fibonacci_while(limit):\n",
    "    a, b = 0, 1\n",
    "    print(\"Serie de Fibonacci hasta\", limit)\n",
    "    while b < limit:\n",
    "        print(b, end=' ')\n",
    "        a, b = b, a + b\n",
    "    print()  # Salto de línea al final\n",
    "\n",
    "fibonacci_while(400)"
   ]
  },
  {
   "cell_type": "markdown",
   "metadata": {},
   "source": [
    "Este ejemplo genera la serie de Fibonacci hasta un límite dado. Observa cómo usamos `a, b = b, a + b` para actualizar los valores de manera concisa.\n",
    "\n",
    "## 2. Bucle For\n",
    "\n",
    "El bucle `for` en Python se utiliza para iterar sobre una secuencia (como una lista, tupla, diccionario, conjunto o cadena).\n",
    "\n",
    "### Ejemplo: Uso de range()"
   ]
  },
  {
   "cell_type": "code",
   "execution_count": 23,
   "metadata": {
    "colab": {
     "base_uri": "https://localhost:8080/"
    },
    "executionInfo": {
     "elapsed": 312,
     "status": "ok",
     "timestamp": 1692668766814,
     "user": {
      "displayName": "Luis Gomez",
      "userId": "00656069038044722993"
     },
     "user_tz": 240
    },
    "id": "yV5bpiFg_Q5X",
    "outputId": "27c50ed3-9635-445e-a27d-ce7f49a7e802"
   },
   "outputs": [
    {
     "name": "stdout",
     "output_type": "stream",
     "text": [
      "10\n",
      "14\n",
      "18\n",
      "22\n"
     ]
    }
   ],
   "source": [
    "for a in range(10,25,4):\n",
    "  print(a)"
   ]
  },
  {
   "cell_type": "code",
   "execution_count": 3,
   "metadata": {},
   "outputs": [
    {
     "name": "stdout",
     "output_type": "stream",
     "text": [
      "Números desde 10 hasta 20 (exclusive) con paso 2:\n",
      "10 12 14 16 18 \n"
     ]
    }
   ],
   "source": [
    "def print_range(start, stop, step):\n",
    "    print(f\"Números desde {start} hasta {stop} (exclusive) con paso {step}:\")\n",
    "    for num in range(start, stop, step):\n",
    "        print(num, end=' ')\n",
    "    print()  # Salto de línea al final\n",
    "\n",
    "print_range(10, 20, 2)"
   ]
  },
  {
   "cell_type": "markdown",
   "metadata": {
    "id": "6YuSyU9_As9N"
   },
   "source": [
    "## if else"
   ]
  },
  {
   "cell_type": "markdown",
   "metadata": {
    "id": "nxNkgEHsB93B"
   },
   "source": [
    "Este ejemplo muestra cómo usar `range()` para generar una secuencia de números con un inicio, fin y paso específicos.\n",
    "\n",
    "## 3. Condicional If-Else\n",
    "\n",
    "Las declaraciones `if-else` permiten ejecutar diferentes bloques de código basados en condiciones.\n",
    "\n",
    "### Ejemplo: Comparación de números"
   ]
  },
  {
   "cell_type": "code",
   "execution_count": 25,
   "metadata": {
    "colab": {
     "base_uri": "https://localhost:8080/"
    },
    "executionInfo": {
     "elapsed": 307,
     "status": "ok",
     "timestamp": 1692668860096,
     "user": {
      "displayName": "Luis Gomez",
      "userId": "00656069038044722993"
     },
     "user_tz": 240
    },
    "id": "OzM1eilYAhPD",
    "outputId": "a070eaa7-ea00-41de-e589-d7f64de6664f"
   },
   "outputs": [
    {
     "name": "stdout",
     "output_type": "stream",
     "text": [
      "5 es mayor que 3\n",
      "2 es menor que 7\n",
      "4 es igual a 4\n",
      "-4 es menor que 4\n"
     ]
    }
   ],
   "source": [
    "def compare_numbers(x, y):\n",
    "    if x > y:\n",
    "        print(f\"{x} es mayor que {y}\")\n",
    "    elif x < y:\n",
    "        print(f\"{x} es menor que {y}\")\n",
    "    else:\n",
    "        print(f\"{x} es igual a {y}\")\n",
    "\n",
    "compare_numbers(5, 3)\n",
    "compare_numbers(2, 7)\n",
    "compare_numbers(4, 4)\n",
    "compare_numbers(-4, 4)"
   ]
  },
  {
   "cell_type": "markdown",
   "metadata": {},
   "source": [
    "Este ejemplo demuestra cómo usar `if`, `elif`, y `else` para manejar diferentes casos en la comparación de números.\n",
    "\n",
    "## 4. Bucles anidados y control de flujo avanzado\n",
    "\n",
    "Podemos combinar diferentes estructuras de control de flujo para crear lógicas más complejas.\n",
    "\n",
    "### Ejemplo: Tabla de multiplicar"
   ]
  },
  {
   "cell_type": "code",
   "execution_count": 27,
   "metadata": {
    "colab": {
     "base_uri": "https://localhost:8080/"
    },
    "executionInfo": {
     "elapsed": 310,
     "status": "ok",
     "timestamp": 1692668970386,
     "user": {
      "displayName": "Luis Gomez",
      "userId": "00656069038044722993"
     },
     "user_tz": 240
    },
    "id": "sNvSvTB17TeF",
    "outputId": "ccb42360-6791-455c-d60e-06777af85428"
   },
   "outputs": [
    {
     "name": "stdout",
     "output_type": "stream",
     "text": [
      "   1   2   3   4   5   6   7   8   9  10  11  12  13  14  15\n",
      "   2   4   6   8  10  12  14  16  18  20  22  24  26  28  30\n",
      "   3   6   9  12  15  18  21  24  27  30  33  36  39  42  45\n",
      "   4   8  12  16  20  24  28  32  36  40  44  48  52  56  60\n",
      "   5  10  15  20  25  30  35  40  45  50  55  60  65  70  75\n",
      "   6  12  18  24  30  36  42  48  54  60  66  72  78  84  90\n",
      "   7  14  21  28  35  42  49  56  63  70  77  84  91  98 105\n",
      "   8  16  24  32  40  48  56  64  72  80  88  96 104 112 120\n",
      "   9  18  27  36  45  54  63  72  81  90  99 108 117 126 135\n",
      "  10  20  30  40  50  60  70  80  90 100 110 120 130 140 150\n",
      "  11  22  33  44  55  66  77  88  99 110 121 132 143 154 165\n",
      "  12  24  36  48  60  72  84  96 108 120 132 144 156 168 180\n",
      "  13  26  39  52  65  78  91 104 117 130 143 156 169 182 195\n",
      "  14  28  42  56  70  84  98 112 126 140 154 168 182 196 210\n",
      "  15  30  45  60  75  90 105 120 135 150 165 180 195 210 225\n"
     ]
    }
   ],
   "source": [
    "def multiplication_table(n):\n",
    "    for i in range(1, n + 1):\n",
    "        for j in range(1, n + 1):\n",
    "            print(f\"{i * j:4}\", end='')\n",
    "        print()  # Nueva línea después de cada fila\n",
    "\n",
    "multiplication_table(15)\n"
   ]
  },
  {
   "cell_type": "markdown",
   "metadata": {},
   "source": [
    "Este ejemplo utiliza bucles `for` anidados para crear una tabla de multiplicar.\n",
    "\n",
    "## 5. Break, Continue y Pass\n",
    "\n",
    "Python proporciona palabras clave adicionales para un control de flujo más fino dentro de los bucles.\n",
    "\n",
    "- `break`: Sale del bucle más interno.\n",
    "- `continue`: Salta a la siguiente iteración del bucle.\n",
    "- `pass`: No hace nada, se usa como marcador de posición.\n",
    "\n",
    "### Ejemplo: Uso de break y continue"
   ]
  },
  {
   "cell_type": "code",
   "execution_count": 28,
   "metadata": {
    "colab": {
     "base_uri": "https://localhost:8080/",
     "height": 52
    },
    "executionInfo": {
     "elapsed": 1055,
     "status": "ok",
     "timestamp": 1600345908245,
     "user": {
      "displayName": "Luis Gomez",
      "photoUrl": "https://lh3.googleusercontent.com/a-/AOh14GhgMxcxoQRX6YmkMDaHTW4-qZ0OpyN3QQ75T4i4=s64",
      "userId": "00656069038044722993"
     },
     "user_tz": 180
    },
    "id": "84vCN5xjCNBo",
    "outputId": "f081ef36-73ff-4dc6-918c-805b39923c2b"
   },
   "outputs": [
    {
     "name": "stdout",
     "output_type": "stream",
     "text": [
      "2 3 5 7 11 13 17 19 23 29 31 37 41 43 47 \n"
     ]
    }
   ],
   "source": [
    "# Imprime todos los números primos encontrados en el rango especificado, separados por espacios.\n",
    "# Utiliza un método de fuerza bruta, comprobando la divisibilidad de cada número hasta su raíz cuadrada.\n",
    "\n",
    "def find_prime(start, end):\n",
    "    # Itera sobre todos los números en el rango [start, end]\n",
    "    for n in range(start, end + 1):\n",
    "        # Si n es menor que 2, no es primo, así que pasamos al siguiente número\n",
    "        if n < 2:\n",
    "            continue\n",
    "        \n",
    "        # Comprobamos divisibilidad desde 2 hasta la raíz cuadrada de n\n",
    "        # No es necesario comprobar más allá de la raíz cuadrada\n",
    "        for i in range(2, int(n ** 0.5) + 1):\n",
    "            # Si n es divisible por i, no es primo\n",
    "            if n % i == 0:\n",
    "                # Salimos del bucle interno, n no es primo\n",
    "                break\n",
    "        else:\n",
    "            # Este bloque se ejecuta si el bucle for interno completó todas sus iteraciones\n",
    "            # sin encontrar un divisor, lo que significa que n es primo\n",
    "            print(n, end=' ')\n",
    "    \n",
    "    # Imprime una nueva línea después de todos los números primos\n",
    "    print()  # Salto de línea al final\n",
    "\n",
    "# Llamada a la función para encontrar primos entre 10 y 50\n",
    "find_prime(1, 50)"
   ]
  },
  {
   "cell_type": "markdown",
   "metadata": {
    "colab": {
     "base_uri": "https://localhost:8080/",
     "height": 35
    },
    "executionInfo": {
     "elapsed": 1064,
     "status": "ok",
     "timestamp": 1600347112277,
     "user": {
      "displayName": "Luis Gomez",
      "photoUrl": "https://lh3.googleusercontent.com/a-/AOh14GhgMxcxoQRX6YmkMDaHTW4-qZ0OpyN3QQ75T4i4=s64",
      "userId": "00656069038044722993"
     },
     "user_tz": 180
    },
    "id": "XaDZbbanHSVm",
    "outputId": "7cdf2215-1117-4746-9657-4ee35f75466f"
   },
   "source": [
    "Este ejemplo busca números primos en un rango dado, demostrando el uso de `continue` para saltar números menores que 2 y `break` para salir del bucle interno cuando se encuentra un divisor.\n",
    "\n",
    "## Conclusión\n",
    "\n",
    "Las herramientas de control de flujo en Python son poderosas y flexibles. Dominarlas es esencial para escribir programas eficientes y legibles. Practica combinando estas estructuras de diferentes maneras para resolver problemas más complejos.\n"
   ]
  },
  {
   "cell_type": "code",
   "execution_count": null,
   "metadata": {},
   "outputs": [],
   "source": []
  }
 ],
 "metadata": {
  "colab": {
   "provenance": [],
   "toc_visible": true
  },
  "kernelspec": {
   "display_name": "Python 3 (ipykernel)",
   "language": "python",
   "name": "python3"
  },
  "language_info": {
   "codemirror_mode": {
    "name": "ipython",
    "version": 3
   },
   "file_extension": ".py",
   "mimetype": "text/x-python",
   "name": "python",
   "nbconvert_exporter": "python",
   "pygments_lexer": "ipython3",
   "version": "3.8.10"
  }
 },
 "nbformat": 4,
 "nbformat_minor": 1
}
