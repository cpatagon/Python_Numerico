{
 "cells": [
  {
   "cell_type": "markdown",
   "metadata": {
    "id": "CvI1CZIbMk0M"
   },
   "source": [
    "# Herramientas para control de flujo\n",
    "\n",
    "Python soporta las sentencias de control de flujo que podemos encontrar en otros lenguajes, con algunos cambios."
   ]
  },
  {
   "cell_type": "markdown",
   "metadata": {
    "id": "NPTa9OoXNFUH"
   },
   "source": [
    "## While"
   ]
  },
  {
   "cell_type": "code",
   "execution_count": 3,
   "metadata": {
    "colab": {
     "base_uri": "https://localhost:8080/"
    },
    "executionInfo": {
     "elapsed": 270,
     "status": "ok",
     "timestamp": 1692668744757,
     "user": {
      "displayName": "Luis Gomez",
      "userId": "00656069038044722993"
     },
     "user_tz": 240
    },
    "id": "7FoCc0hkNId3",
    "outputId": "58bcab96-1767-4577-e560-154c7aeb361e"
   },
   "outputs": [
    {
     "name": "stdout",
     "output_type": "stream",
     "text": [
      "1\n",
      "1\n",
      "2\n",
      "3\n",
      "5\n",
      "8\n",
      "13\n",
      "21\n",
      "34\n",
      "55\n",
      "89\n",
      "89\n"
     ]
    }
   ],
   "source": [
    "# Serie de Fibonacci:\n",
    "# la suma de los dos anteriores define el siguiente valor\n",
    "a, b = 0, 1\n",
    "while b < 90:\n",
    "  print(b)\n",
    "  a, b = b, a+b\n",
    "print(a)"
   ]
  },
  {
   "cell_type": "markdown",
   "metadata": {
    "id": "cbAR_h9nNrfI"
   },
   "source": []
  },
  {
   "cell_type": "code",
   "execution_count": 4,
   "metadata": {
    "colab": {
     "base_uri": "https://localhost:8080/"
    },
    "executionInfo": {
     "elapsed": 312,
     "status": "ok",
     "timestamp": 1692668766814,
     "user": {
      "displayName": "Luis Gomez",
      "userId": "00656069038044722993"
     },
     "user_tz": 240
    },
    "id": "yV5bpiFg_Q5X",
    "outputId": "27c50ed3-9635-445e-a27d-ce7f49a7e802"
   },
   "outputs": [
    {
     "name": "stdout",
     "output_type": "stream",
     "text": [
      "10\n",
      "13\n",
      "16\n",
      "19\n"
     ]
    }
   ],
   "source": [
    "for a in range(10,20,3):\n",
    "  print(a)"
   ]
  },
  {
   "cell_type": "markdown",
   "metadata": {
    "id": "6YuSyU9_As9N"
   },
   "source": [
    "## if else"
   ]
  },
  {
   "cell_type": "code",
   "execution_count": 5,
   "metadata": {
    "colab": {
     "base_uri": "https://localhost:8080/"
    },
    "executionInfo": {
     "elapsed": 307,
     "status": "ok",
     "timestamp": 1692668860096,
     "user": {
      "displayName": "Luis Gomez",
      "userId": "00656069038044722993"
     },
     "user_tz": 240
    },
    "id": "OzM1eilYAhPD",
    "outputId": "a070eaa7-ea00-41de-e589-d7f64de6664f"
   },
   "outputs": [
    {
     "name": "stdout",
     "output_type": "stream",
     "text": [
      "no es mayor que 2. su valor es 1\n"
     ]
    }
   ],
   "source": [
    "x = 1\n",
    "m = 2\n",
    "if x>m:\n",
    "  print('x es: {}'.format(x))\n",
    "else:\n",
    "  print('no es mayor que {0}. su valor es {1}'.format(m,x))"
   ]
  },
  {
   "cell_type": "code",
   "execution_count": 8,
   "metadata": {
    "colab": {
     "base_uri": "https://localhost:8080/"
    },
    "executionInfo": {
     "elapsed": 310,
     "status": "ok",
     "timestamp": 1692668970386,
     "user": {
      "displayName": "Luis Gomez",
      "userId": "00656069038044722993"
     },
     "user_tz": 240
    },
    "id": "sNvSvTB17TeF",
    "outputId": "ccb42360-6791-455c-d60e-06777af85428"
   },
   "outputs": [
    {
     "name": "stdout",
     "output_type": "stream",
     "text": [
      "x es: 1 y m es 2 por lo tanto x es menor que m\n"
     ]
    }
   ],
   "source": [
    "x = 1\n",
    "m = 2\n",
    "if x<m:\n",
    "  print('x es: {0} y m es {1} por lo tanto x es menor que m'.format(x,m))\n",
    "else:\n",
    "  print('no es mayor que {0}. su valor es {1}'.format(m,x))"
   ]
  },
  {
   "cell_type": "markdown",
   "metadata": {
    "id": "nxNkgEHsB93B"
   },
   "source": [
    "## if, elif, else"
   ]
  },
  {
   "cell_type": "code",
   "execution_count": null,
   "metadata": {
    "colab": {
     "base_uri": "https://localhost:8080/",
     "height": 52
    },
    "executionInfo": {
     "elapsed": 1055,
     "status": "ok",
     "timestamp": 1600345908245,
     "user": {
      "displayName": "Luis Gomez",
      "photoUrl": "https://lh3.googleusercontent.com/a-/AOh14GhgMxcxoQRX6YmkMDaHTW4-qZ0OpyN3QQ75T4i4=s64",
      "userId": "00656069038044722993"
     },
     "user_tz": 180
    },
    "id": "84vCN5xjCNBo",
    "outputId": "f081ef36-73ff-4dc6-918c-805b39923c2b"
   },
   "outputs": [
    {
     "name": "stdout",
     "output_type": "stream",
     "text": [
      "$\\pi$ x es igual a m.\n",
      "ambos valores son igual a  2\n"
     ]
    }
   ],
   "source": [
    "x = 2\n",
    "m = 2\n",
    "if x>m:\n",
    "  print('x es: {}'.format(x))\n",
    "elif x == m :\n",
    "  print('$\\pi$ x es igual a m.\\nambos valores son igual a  {}'.format(m))\n",
    "else:\n",
    "  print('no es mayor que {0}. su valor es {1}'.format(m,x))"
   ]
  },
  {
   "cell_type": "code",
   "execution_count": null,
   "metadata": {
    "colab": {
     "base_uri": "https://localhost:8080/",
     "height": 35
    },
    "executionInfo": {
     "elapsed": 1064,
     "status": "ok",
     "timestamp": 1600347112277,
     "user": {
      "displayName": "Luis Gomez",
      "photoUrl": "https://lh3.googleusercontent.com/a-/AOh14GhgMxcxoQRX6YmkMDaHTW4-qZ0OpyN3QQ75T4i4=s64",
      "userId": "00656069038044722993"
     },
     "user_tz": 180
    },
    "id": "XaDZbbanHSVm",
    "outputId": "7cdf2215-1117-4746-9657-4ee35f75466f"
   },
   "outputs": [
    {
     "data": {
      "text/plain": [
       "4.0"
      ]
     },
     "execution_count": 51,
     "metadata": {
      "tags": []
     },
     "output_type": "execute_result"
    }
   ],
   "source": [
    "np.trunc(4.689)\n"
   ]
  }
 ],
 "metadata": {
  "colab": {
   "provenance": [],
   "toc_visible": true
  },
  "kernelspec": {
   "display_name": "Python 3 (ipykernel)",
   "language": "python",
   "name": "python3"
  },
  "language_info": {
   "codemirror_mode": {
    "name": "ipython",
    "version": 3
   },
   "file_extension": ".py",
   "mimetype": "text/x-python",
   "name": "python",
   "nbconvert_exporter": "python",
   "pygments_lexer": "ipython3",
   "version": "3.8.10"
  }
 },
 "nbformat": 4,
 "nbformat_minor": 1
}
