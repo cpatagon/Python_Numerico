{
 "cells": [
  {
   "cell_type": "markdown",
   "metadata": {},
   "source": [
    "# Aspectos Básicos de Pandas\n",
    "\n",
    "Pandas es una biblioteca de Python esencial para el análisis y manipulación de datos. Ofrece estructuras de datos potentes y flexibles, junto con herramientas para trabajar con datos estructurados de manera eficiente.\n",
    "\n",
    "## 1. Estructuras de Datos Fundamentales\n",
    "\n",
    "### 1.1 Series\n",
    "\n",
    "Una Serie es un array unidimensional etiquetado capaz de contener cualquier tipo de datos.\n"
   ]
  },
  {
   "cell_type": "code",
   "execution_count": 29,
   "metadata": {},
   "outputs": [
    {
     "name": "stdout",
     "output_type": "stream",
     "text": [
      "a    1\n",
      "b    3\n",
      "c    5\n",
      "d    7\n",
      "dtype: int64\n"
     ]
    }
   ],
   "source": [
    "import pandas as pd\n",
    "import numpy as np\n",
    "\n",
    "# Crear una Serie\n",
    "s = pd.Series([1, 3, 5, np.nan, 6, 8])\n",
    "\n",
    "# Serie con índice personalizado\n",
    "s = pd.Series([1, 3, 5, 7], index=['a', 'b', 'c', 'd'])\n",
    "print(s)"
   ]
  },
  {
   "cell_type": "markdown",
   "metadata": {},
   "source": [
    "### 1.2 DataFrame\n",
    "\n",
    "Un DataFrame es una estructura de datos bidimensional etiquetada con columnas de tipos potencialmente diferentes."
   ]
  },
  {
   "cell_type": "code",
   "execution_count": 30,
   "metadata": {},
   "outputs": [
    {
     "data": {
      "text/html": [
       "<div>\n",
       "<style scoped>\n",
       "    .dataframe tbody tr th:only-of-type {\n",
       "        vertical-align: middle;\n",
       "    }\n",
       "\n",
       "    .dataframe tbody tr th {\n",
       "        vertical-align: top;\n",
       "    }\n",
       "\n",
       "    .dataframe thead th {\n",
       "        text-align: right;\n",
       "    }\n",
       "</style>\n",
       "<table border=\"1\" class=\"dataframe\">\n",
       "  <thead>\n",
       "    <tr style=\"text-align: right;\">\n",
       "      <th></th>\n",
       "      <th>A</th>\n",
       "      <th>B</th>\n",
       "      <th>C</th>\n",
       "      <th>D</th>\n",
       "    </tr>\n",
       "  </thead>\n",
       "  <tbody>\n",
       "    <tr>\n",
       "      <th>2023-01-01</th>\n",
       "      <td>-0.389441</td>\n",
       "      <td>0.524935</td>\n",
       "      <td>0.421924</td>\n",
       "      <td>0.811149</td>\n",
       "    </tr>\n",
       "    <tr>\n",
       "      <th>2023-01-02</th>\n",
       "      <td>1.880853</td>\n",
       "      <td>1.408596</td>\n",
       "      <td>0.547191</td>\n",
       "      <td>-1.112297</td>\n",
       "    </tr>\n",
       "    <tr>\n",
       "      <th>2023-01-03</th>\n",
       "      <td>-0.473416</td>\n",
       "      <td>0.361690</td>\n",
       "      <td>1.077494</td>\n",
       "      <td>0.221181</td>\n",
       "    </tr>\n",
       "    <tr>\n",
       "      <th>2023-01-04</th>\n",
       "      <td>-0.114631</td>\n",
       "      <td>1.099284</td>\n",
       "      <td>0.961032</td>\n",
       "      <td>-0.830506</td>\n",
       "    </tr>\n",
       "    <tr>\n",
       "      <th>2023-01-05</th>\n",
       "      <td>0.495238</td>\n",
       "      <td>0.354371</td>\n",
       "      <td>0.746490</td>\n",
       "      <td>0.252899</td>\n",
       "    </tr>\n",
       "    <tr>\n",
       "      <th>2023-01-06</th>\n",
       "      <td>-0.679139</td>\n",
       "      <td>0.214930</td>\n",
       "      <td>-1.250033</td>\n",
       "      <td>0.956695</td>\n",
       "    </tr>\n",
       "  </tbody>\n",
       "</table>\n",
       "</div>"
      ],
      "text/plain": [
       "                   A         B         C         D\n",
       "2023-01-01 -0.389441  0.524935  0.421924  0.811149\n",
       "2023-01-02  1.880853  1.408596  0.547191 -1.112297\n",
       "2023-01-03 -0.473416  0.361690  1.077494  0.221181\n",
       "2023-01-04 -0.114631  1.099284  0.961032 -0.830506\n",
       "2023-01-05  0.495238  0.354371  0.746490  0.252899\n",
       "2023-01-06 -0.679139  0.214930 -1.250033  0.956695"
      ]
     },
     "execution_count": 30,
     "metadata": {},
     "output_type": "execute_result"
    }
   ],
   "source": [
    "# Crear un DataFrame\n",
    "df = pd.DataFrame({\n",
    "    'A': [1, 2, 3],\n",
    "    'B': ['a', 'b', 'c'],\n",
    "    'C': [4.0, 5.0, 6.0]\n",
    "})\n",
    "\n",
    "# DataFrame con índice de tiempo\n",
    "dates = pd.date_range('20230101', periods=6)\n",
    "df = pd.DataFrame(np.random.randn(6,4), index=dates, columns=list('ABCD'))\n",
    "df"
   ]
  },
  {
   "cell_type": "markdown",
   "metadata": {},
   "source": [
    "## 2. Importación y Exportación de Datos\n",
    "\n",
    "Pandas puede leer y escribir datos en varios formatos:\n",
    "```python\n",
    "# Leer CSV\n",
    "df = pd.read_csv('file.csv')\n",
    "\n",
    "# Leer Excel\n",
    "df = pd.read_excel('file.xlsx')\n",
    "\n",
    "# Escribir a CSV\n",
    "df.to_csv('output.csv')\n",
    "\n",
    "# Escribir a Excel\n",
    "df.to_excel('output.xlsx')\n",
    "```"
   ]
  },
  {
   "cell_type": "markdown",
   "metadata": {},
   "source": [
    "## 3. Selección y Filtrado de Datos\n",
    "\n",
    "### 3.1 Selección de Columnas\n"
   ]
  },
  {
   "cell_type": "code",
   "execution_count": 31,
   "metadata": {},
   "outputs": [
    {
     "data": {
      "text/html": [
       "<div>\n",
       "<style scoped>\n",
       "    .dataframe tbody tr th:only-of-type {\n",
       "        vertical-align: middle;\n",
       "    }\n",
       "\n",
       "    .dataframe tbody tr th {\n",
       "        vertical-align: top;\n",
       "    }\n",
       "\n",
       "    .dataframe thead th {\n",
       "        text-align: right;\n",
       "    }\n",
       "</style>\n",
       "<table border=\"1\" class=\"dataframe\">\n",
       "  <thead>\n",
       "    <tr style=\"text-align: right;\">\n",
       "      <th></th>\n",
       "      <th>A</th>\n",
       "      <th>B</th>\n",
       "    </tr>\n",
       "  </thead>\n",
       "  <tbody>\n",
       "    <tr>\n",
       "      <th>2023-01-01</th>\n",
       "      <td>-0.389441</td>\n",
       "      <td>0.524935</td>\n",
       "    </tr>\n",
       "    <tr>\n",
       "      <th>2023-01-02</th>\n",
       "      <td>1.880853</td>\n",
       "      <td>1.408596</td>\n",
       "    </tr>\n",
       "    <tr>\n",
       "      <th>2023-01-03</th>\n",
       "      <td>-0.473416</td>\n",
       "      <td>0.361690</td>\n",
       "    </tr>\n",
       "    <tr>\n",
       "      <th>2023-01-04</th>\n",
       "      <td>-0.114631</td>\n",
       "      <td>1.099284</td>\n",
       "    </tr>\n",
       "    <tr>\n",
       "      <th>2023-01-05</th>\n",
       "      <td>0.495238</td>\n",
       "      <td>0.354371</td>\n",
       "    </tr>\n",
       "    <tr>\n",
       "      <th>2023-01-06</th>\n",
       "      <td>-0.679139</td>\n",
       "      <td>0.214930</td>\n",
       "    </tr>\n",
       "  </tbody>\n",
       "</table>\n",
       "</div>"
      ],
      "text/plain": [
       "                   A         B\n",
       "2023-01-01 -0.389441  0.524935\n",
       "2023-01-02  1.880853  1.408596\n",
       "2023-01-03 -0.473416  0.361690\n",
       "2023-01-04 -0.114631  1.099284\n",
       "2023-01-05  0.495238  0.354371\n",
       "2023-01-06 -0.679139  0.214930"
      ]
     },
     "execution_count": 31,
     "metadata": {},
     "output_type": "execute_result"
    }
   ],
   "source": [
    "# Seleccionar una columna\n",
    "df['A']\n",
    "\n",
    "# Seleccionar múltiples columnas\n",
    "df[['A', 'B']]"
   ]
  },
  {
   "cell_type": "markdown",
   "metadata": {},
   "source": [
    "### 3.2 Selección por Etiqueta"
   ]
  },
  {
   "cell_type": "code",
   "execution_count": 32,
   "metadata": {},
   "outputs": [
    {
     "data": {
      "text/html": [
       "<div>\n",
       "<style scoped>\n",
       "    .dataframe tbody tr th:only-of-type {\n",
       "        vertical-align: middle;\n",
       "    }\n",
       "\n",
       "    .dataframe tbody tr th {\n",
       "        vertical-align: top;\n",
       "    }\n",
       "\n",
       "    .dataframe thead th {\n",
       "        text-align: right;\n",
       "    }\n",
       "</style>\n",
       "<table border=\"1\" class=\"dataframe\">\n",
       "  <thead>\n",
       "    <tr style=\"text-align: right;\">\n",
       "      <th></th>\n",
       "      <th>A</th>\n",
       "      <th>B</th>\n",
       "    </tr>\n",
       "  </thead>\n",
       "  <tbody>\n",
       "    <tr>\n",
       "      <th>2023-01-02</th>\n",
       "      <td>1.880853</td>\n",
       "      <td>1.408596</td>\n",
       "    </tr>\n",
       "    <tr>\n",
       "      <th>2023-01-03</th>\n",
       "      <td>-0.473416</td>\n",
       "      <td>0.361690</td>\n",
       "    </tr>\n",
       "    <tr>\n",
       "      <th>2023-01-04</th>\n",
       "      <td>-0.114631</td>\n",
       "      <td>1.099284</td>\n",
       "    </tr>\n",
       "  </tbody>\n",
       "</table>\n",
       "</div>"
      ],
      "text/plain": [
       "                   A         B\n",
       "2023-01-02  1.880853  1.408596\n",
       "2023-01-03 -0.473416  0.361690\n",
       "2023-01-04 -0.114631  1.099284"
      ]
     },
     "execution_count": 32,
     "metadata": {},
     "output_type": "execute_result"
    }
   ],
   "source": [
    "# Seleccionar por etiqueta\n",
    "df.loc[dates[0]]\n",
    "\n",
    "# Seleccionar por etiqueta para filas y columnas\n",
    "df.loc['20230102':'20230104', ['A', 'B']]"
   ]
  },
  {
   "cell_type": "markdown",
   "metadata": {},
   "source": [
    "### 3.3 Selección por Posición"
   ]
  },
  {
   "cell_type": "code",
   "execution_count": 33,
   "metadata": {},
   "outputs": [
    {
     "data": {
      "text/html": [
       "<div>\n",
       "<style scoped>\n",
       "    .dataframe tbody tr th:only-of-type {\n",
       "        vertical-align: middle;\n",
       "    }\n",
       "\n",
       "    .dataframe tbody tr th {\n",
       "        vertical-align: top;\n",
       "    }\n",
       "\n",
       "    .dataframe thead th {\n",
       "        text-align: right;\n",
       "    }\n",
       "</style>\n",
       "<table border=\"1\" class=\"dataframe\">\n",
       "  <thead>\n",
       "    <tr style=\"text-align: right;\">\n",
       "      <th></th>\n",
       "      <th>A</th>\n",
       "      <th>B</th>\n",
       "    </tr>\n",
       "  </thead>\n",
       "  <tbody>\n",
       "    <tr>\n",
       "      <th>2023-01-04</th>\n",
       "      <td>-0.114631</td>\n",
       "      <td>1.099284</td>\n",
       "    </tr>\n",
       "    <tr>\n",
       "      <th>2023-01-05</th>\n",
       "      <td>0.495238</td>\n",
       "      <td>0.354371</td>\n",
       "    </tr>\n",
       "  </tbody>\n",
       "</table>\n",
       "</div>"
      ],
      "text/plain": [
       "                   A         B\n",
       "2023-01-04 -0.114631  1.099284\n",
       "2023-01-05  0.495238  0.354371"
      ]
     },
     "execution_count": 33,
     "metadata": {},
     "output_type": "execute_result"
    }
   ],
   "source": [
    "# Seleccionar por posición\n",
    "df.iloc[3]\n",
    "\n",
    "# Seleccionar por posición para filas y columnas\n",
    "df.iloc[3:5, 0:2]"
   ]
  },
  {
   "cell_type": "markdown",
   "metadata": {},
   "source": [
    "### 3.4 Filtrado Booleano"
   ]
  },
  {
   "cell_type": "code",
   "execution_count": 34,
   "metadata": {},
   "outputs": [
    {
     "data": {
      "text/html": [
       "<div>\n",
       "<style scoped>\n",
       "    .dataframe tbody tr th:only-of-type {\n",
       "        vertical-align: middle;\n",
       "    }\n",
       "\n",
       "    .dataframe tbody tr th {\n",
       "        vertical-align: top;\n",
       "    }\n",
       "\n",
       "    .dataframe thead th {\n",
       "        text-align: right;\n",
       "    }\n",
       "</style>\n",
       "<table border=\"1\" class=\"dataframe\">\n",
       "  <thead>\n",
       "    <tr style=\"text-align: right;\">\n",
       "      <th></th>\n",
       "      <th>A</th>\n",
       "      <th>B</th>\n",
       "      <th>C</th>\n",
       "      <th>D</th>\n",
       "    </tr>\n",
       "  </thead>\n",
       "  <tbody>\n",
       "    <tr>\n",
       "      <th>2023-01-02</th>\n",
       "      <td>1.880853</td>\n",
       "      <td>1.408596</td>\n",
       "      <td>0.547191</td>\n",
       "      <td>-1.112297</td>\n",
       "    </tr>\n",
       "    <tr>\n",
       "      <th>2023-01-05</th>\n",
       "      <td>0.495238</td>\n",
       "      <td>0.354371</td>\n",
       "      <td>0.746490</td>\n",
       "      <td>0.252899</td>\n",
       "    </tr>\n",
       "  </tbody>\n",
       "</table>\n",
       "</div>"
      ],
      "text/plain": [
       "                   A         B         C         D\n",
       "2023-01-02  1.880853  1.408596  0.547191 -1.112297\n",
       "2023-01-05  0.495238  0.354371  0.746490  0.252899"
      ]
     },
     "execution_count": 34,
     "metadata": {},
     "output_type": "execute_result"
    }
   ],
   "source": [
    "# Filtrar datos\n",
    "df[df['A'] > 0]"
   ]
  },
  {
   "cell_type": "markdown",
   "metadata": {},
   "source": [
    "## 4. Operaciones Básicas\n",
    "\n",
    "### 4.1 Estadísticas Descriptivas"
   ]
  },
  {
   "cell_type": "code",
   "execution_count": 35,
   "metadata": {},
   "outputs": [
    {
     "data": {
      "text/plain": [
       "A    0.119911\n",
       "B    0.660634\n",
       "C    0.417350\n",
       "D    0.049853\n",
       "dtype: float64"
      ]
     },
     "execution_count": 35,
     "metadata": {},
     "output_type": "execute_result"
    }
   ],
   "source": [
    "# Resumen estadístico\n",
    "df.describe()\n",
    "\n",
    "# Media de columnas\n",
    "df.mean()"
   ]
  },
  {
   "cell_type": "markdown",
   "metadata": {},
   "source": [
    "### 4.2 Aplicar Funciones"
   ]
  },
  {
   "cell_type": "code",
   "execution_count": 36,
   "metadata": {},
   "outputs": [
    {
     "data": {
      "text/plain": [
       "2023-01-01   -0.778882\n",
       "2023-01-02    3.761706\n",
       "2023-01-03   -0.946832\n",
       "2023-01-04   -0.229262\n",
       "2023-01-05    0.990476\n",
       "2023-01-06   -1.358279\n",
       "Freq: D, Name: A, dtype: float64"
      ]
     },
     "execution_count": 36,
     "metadata": {},
     "output_type": "execute_result"
    }
   ],
   "source": [
    "# Aplicar una función a una columna\n",
    "df['A'].apply(lambda x: x*2)"
   ]
  },
  {
   "cell_type": "markdown",
   "metadata": {},
   "source": [
    "### 4.3 Agrupación"
   ]
  },
  {
   "cell_type": "code",
   "execution_count": 37,
   "metadata": {},
   "outputs": [
    {
     "data": {
      "text/html": [
       "<div>\n",
       "<style scoped>\n",
       "    .dataframe tbody tr th:only-of-type {\n",
       "        vertical-align: middle;\n",
       "    }\n",
       "\n",
       "    .dataframe tbody tr th {\n",
       "        vertical-align: top;\n",
       "    }\n",
       "\n",
       "    .dataframe thead th {\n",
       "        text-align: right;\n",
       "    }\n",
       "</style>\n",
       "<table border=\"1\" class=\"dataframe\">\n",
       "  <thead>\n",
       "    <tr style=\"text-align: right;\">\n",
       "      <th></th>\n",
       "      <th>B</th>\n",
       "      <th>C</th>\n",
       "      <th>D</th>\n",
       "    </tr>\n",
       "    <tr>\n",
       "      <th>A</th>\n",
       "      <th></th>\n",
       "      <th></th>\n",
       "      <th></th>\n",
       "    </tr>\n",
       "  </thead>\n",
       "  <tbody>\n",
       "    <tr>\n",
       "      <th>-0.679139</th>\n",
       "      <td>0.214930</td>\n",
       "      <td>-1.250033</td>\n",
       "      <td>0.956695</td>\n",
       "    </tr>\n",
       "    <tr>\n",
       "      <th>-0.473416</th>\n",
       "      <td>0.361690</td>\n",
       "      <td>1.077494</td>\n",
       "      <td>0.221181</td>\n",
       "    </tr>\n",
       "    <tr>\n",
       "      <th>-0.389441</th>\n",
       "      <td>0.524935</td>\n",
       "      <td>0.421924</td>\n",
       "      <td>0.811149</td>\n",
       "    </tr>\n",
       "    <tr>\n",
       "      <th>-0.114631</th>\n",
       "      <td>1.099284</td>\n",
       "      <td>0.961032</td>\n",
       "      <td>-0.830506</td>\n",
       "    </tr>\n",
       "    <tr>\n",
       "      <th>0.495238</th>\n",
       "      <td>0.354371</td>\n",
       "      <td>0.746490</td>\n",
       "      <td>0.252899</td>\n",
       "    </tr>\n",
       "    <tr>\n",
       "      <th>1.880853</th>\n",
       "      <td>1.408596</td>\n",
       "      <td>0.547191</td>\n",
       "      <td>-1.112297</td>\n",
       "    </tr>\n",
       "  </tbody>\n",
       "</table>\n",
       "</div>"
      ],
      "text/plain": [
       "                  B         C         D\n",
       "A                                      \n",
       "-0.679139  0.214930 -1.250033  0.956695\n",
       "-0.473416  0.361690  1.077494  0.221181\n",
       "-0.389441  0.524935  0.421924  0.811149\n",
       "-0.114631  1.099284  0.961032 -0.830506\n",
       " 0.495238  0.354371  0.746490  0.252899\n",
       " 1.880853  1.408596  0.547191 -1.112297"
      ]
     },
     "execution_count": 37,
     "metadata": {},
     "output_type": "execute_result"
    }
   ],
   "source": [
    "# Agrupar y calcular la media\n",
    "df.groupby('A').mean()"
   ]
  },
  {
   "cell_type": "markdown",
   "metadata": {},
   "source": [
    "## 5. Manejo de Datos Faltantes"
   ]
  },
  {
   "cell_type": "code",
   "execution_count": 38,
   "metadata": {},
   "outputs": [
    {
     "data": {
      "text/html": [
       "<div>\n",
       "<style scoped>\n",
       "    .dataframe tbody tr th:only-of-type {\n",
       "        vertical-align: middle;\n",
       "    }\n",
       "\n",
       "    .dataframe tbody tr th {\n",
       "        vertical-align: top;\n",
       "    }\n",
       "\n",
       "    .dataframe thead th {\n",
       "        text-align: right;\n",
       "    }\n",
       "</style>\n",
       "<table border=\"1\" class=\"dataframe\">\n",
       "  <thead>\n",
       "    <tr style=\"text-align: right;\">\n",
       "      <th></th>\n",
       "      <th>A</th>\n",
       "      <th>B</th>\n",
       "      <th>C</th>\n",
       "      <th>D</th>\n",
       "    </tr>\n",
       "  </thead>\n",
       "  <tbody>\n",
       "    <tr>\n",
       "      <th>2023-01-01</th>\n",
       "      <td>-0.389441</td>\n",
       "      <td>0.524935</td>\n",
       "      <td>0.421924</td>\n",
       "      <td>0.811149</td>\n",
       "    </tr>\n",
       "    <tr>\n",
       "      <th>2023-01-02</th>\n",
       "      <td>1.880853</td>\n",
       "      <td>1.408596</td>\n",
       "      <td>0.547191</td>\n",
       "      <td>-1.112297</td>\n",
       "    </tr>\n",
       "    <tr>\n",
       "      <th>2023-01-03</th>\n",
       "      <td>-0.473416</td>\n",
       "      <td>0.361690</td>\n",
       "      <td>1.077494</td>\n",
       "      <td>0.221181</td>\n",
       "    </tr>\n",
       "    <tr>\n",
       "      <th>2023-01-04</th>\n",
       "      <td>-0.114631</td>\n",
       "      <td>1.099284</td>\n",
       "      <td>0.961032</td>\n",
       "      <td>-0.830506</td>\n",
       "    </tr>\n",
       "    <tr>\n",
       "      <th>2023-01-05</th>\n",
       "      <td>0.495238</td>\n",
       "      <td>0.354371</td>\n",
       "      <td>0.746490</td>\n",
       "      <td>0.252899</td>\n",
       "    </tr>\n",
       "    <tr>\n",
       "      <th>2023-01-06</th>\n",
       "      <td>-0.679139</td>\n",
       "      <td>0.214930</td>\n",
       "      <td>-1.250033</td>\n",
       "      <td>0.956695</td>\n",
       "    </tr>\n",
       "  </tbody>\n",
       "</table>\n",
       "</div>"
      ],
      "text/plain": [
       "                   A         B         C         D\n",
       "2023-01-01 -0.389441  0.524935  0.421924  0.811149\n",
       "2023-01-02  1.880853  1.408596  0.547191 -1.112297\n",
       "2023-01-03 -0.473416  0.361690  1.077494  0.221181\n",
       "2023-01-04 -0.114631  1.099284  0.961032 -0.830506\n",
       "2023-01-05  0.495238  0.354371  0.746490  0.252899\n",
       "2023-01-06 -0.679139  0.214930 -1.250033  0.956695"
      ]
     },
     "execution_count": 38,
     "metadata": {},
     "output_type": "execute_result"
    }
   ],
   "source": [
    "# Eliminar filas con valores faltantes\n",
    "df.dropna()\n",
    "\n",
    "# Llenar valores faltantes\n",
    "df.fillna(value=5)"
   ]
  },
  {
   "cell_type": "markdown",
   "metadata": {},
   "source": [
    "## 6. Fusión y Concatenación"
   ]
  },
  {
   "cell_type": "code",
   "execution_count": 44,
   "metadata": {},
   "outputs": [
    {
     "data": {
      "text/html": [
       "<div>\n",
       "<style scoped>\n",
       "    .dataframe tbody tr th:only-of-type {\n",
       "        vertical-align: middle;\n",
       "    }\n",
       "\n",
       "    .dataframe tbody tr th {\n",
       "        vertical-align: top;\n",
       "    }\n",
       "\n",
       "    .dataframe thead th {\n",
       "        text-align: right;\n",
       "    }\n",
       "</style>\n",
       "<table border=\"1\" class=\"dataframe\">\n",
       "  <thead>\n",
       "    <tr style=\"text-align: right;\">\n",
       "      <th></th>\n",
       "      <th>A</th>\n",
       "      <th>B</th>\n",
       "      <th>C</th>\n",
       "      <th>D</th>\n",
       "    </tr>\n",
       "  </thead>\n",
       "  <tbody>\n",
       "    <tr>\n",
       "      <th>2023-01-01</th>\n",
       "      <td>-0.389441</td>\n",
       "      <td>0.524935</td>\n",
       "      <td>0.421924</td>\n",
       "      <td>0.811149</td>\n",
       "    </tr>\n",
       "    <tr>\n",
       "      <th>2023-01-02</th>\n",
       "      <td>1.880853</td>\n",
       "      <td>1.408596</td>\n",
       "      <td>0.547191</td>\n",
       "      <td>-1.112297</td>\n",
       "    </tr>\n",
       "    <tr>\n",
       "      <th>2023-01-03</th>\n",
       "      <td>-0.473416</td>\n",
       "      <td>0.361690</td>\n",
       "      <td>1.077494</td>\n",
       "      <td>0.221181</td>\n",
       "    </tr>\n",
       "    <tr>\n",
       "      <th>2023-01-04</th>\n",
       "      <td>-0.114631</td>\n",
       "      <td>1.099284</td>\n",
       "      <td>0.961032</td>\n",
       "      <td>-0.830506</td>\n",
       "    </tr>\n",
       "    <tr>\n",
       "      <th>2023-01-05</th>\n",
       "      <td>0.495238</td>\n",
       "      <td>0.354371</td>\n",
       "      <td>0.746490</td>\n",
       "      <td>0.252899</td>\n",
       "    </tr>\n",
       "    <tr>\n",
       "      <th>2023-01-06</th>\n",
       "      <td>-0.679139</td>\n",
       "      <td>0.214930</td>\n",
       "      <td>-1.250033</td>\n",
       "      <td>0.956695</td>\n",
       "    </tr>\n",
       "  </tbody>\n",
       "</table>\n",
       "</div>"
      ],
      "text/plain": [
       "                   A         B         C         D\n",
       "2023-01-01 -0.389441  0.524935  0.421924  0.811149\n",
       "2023-01-02  1.880853  1.408596  0.547191 -1.112297\n",
       "2023-01-03 -0.473416  0.361690  1.077494  0.221181\n",
       "2023-01-04 -0.114631  1.099284  0.961032 -0.830506\n",
       "2023-01-05  0.495238  0.354371  0.746490  0.252899\n",
       "2023-01-06 -0.679139  0.214930 -1.250033  0.956695"
      ]
     },
     "execution_count": 44,
     "metadata": {},
     "output_type": "execute_result"
    }
   ],
   "source": [
    "df1= df\n",
    "df2= df[['A','B']]\n",
    "df1"
   ]
  },
  {
   "cell_type": "code",
   "execution_count": 45,
   "metadata": {},
   "outputs": [
    {
     "data": {
      "text/html": [
       "<div>\n",
       "<style scoped>\n",
       "    .dataframe tbody tr th:only-of-type {\n",
       "        vertical-align: middle;\n",
       "    }\n",
       "\n",
       "    .dataframe tbody tr th {\n",
       "        vertical-align: top;\n",
       "    }\n",
       "\n",
       "    .dataframe thead th {\n",
       "        text-align: right;\n",
       "    }\n",
       "</style>\n",
       "<table border=\"1\" class=\"dataframe\">\n",
       "  <thead>\n",
       "    <tr style=\"text-align: right;\">\n",
       "      <th></th>\n",
       "      <th>A</th>\n",
       "      <th>B</th>\n",
       "    </tr>\n",
       "  </thead>\n",
       "  <tbody>\n",
       "    <tr>\n",
       "      <th>2023-01-01</th>\n",
       "      <td>-0.389441</td>\n",
       "      <td>0.524935</td>\n",
       "    </tr>\n",
       "    <tr>\n",
       "      <th>2023-01-02</th>\n",
       "      <td>1.880853</td>\n",
       "      <td>1.408596</td>\n",
       "    </tr>\n",
       "    <tr>\n",
       "      <th>2023-01-03</th>\n",
       "      <td>-0.473416</td>\n",
       "      <td>0.361690</td>\n",
       "    </tr>\n",
       "    <tr>\n",
       "      <th>2023-01-04</th>\n",
       "      <td>-0.114631</td>\n",
       "      <td>1.099284</td>\n",
       "    </tr>\n",
       "    <tr>\n",
       "      <th>2023-01-05</th>\n",
       "      <td>0.495238</td>\n",
       "      <td>0.354371</td>\n",
       "    </tr>\n",
       "    <tr>\n",
       "      <th>2023-01-06</th>\n",
       "      <td>-0.679139</td>\n",
       "      <td>0.214930</td>\n",
       "    </tr>\n",
       "  </tbody>\n",
       "</table>\n",
       "</div>"
      ],
      "text/plain": [
       "                   A         B\n",
       "2023-01-01 -0.389441  0.524935\n",
       "2023-01-02  1.880853  1.408596\n",
       "2023-01-03 -0.473416  0.361690\n",
       "2023-01-04 -0.114631  1.099284\n",
       "2023-01-05  0.495238  0.354371\n",
       "2023-01-06 -0.679139  0.214930"
      ]
     },
     "execution_count": 45,
     "metadata": {},
     "output_type": "execute_result"
    }
   ],
   "source": [
    "df2"
   ]
  },
  {
   "cell_type": "code",
   "execution_count": 46,
   "metadata": {},
   "outputs": [
    {
     "data": {
      "text/html": [
       "<div>\n",
       "<style scoped>\n",
       "    .dataframe tbody tr th:only-of-type {\n",
       "        vertical-align: middle;\n",
       "    }\n",
       "\n",
       "    .dataframe tbody tr th {\n",
       "        vertical-align: top;\n",
       "    }\n",
       "\n",
       "    .dataframe thead th {\n",
       "        text-align: right;\n",
       "    }\n",
       "</style>\n",
       "<table border=\"1\" class=\"dataframe\">\n",
       "  <thead>\n",
       "    <tr style=\"text-align: right;\">\n",
       "      <th></th>\n",
       "      <th>A</th>\n",
       "      <th>B</th>\n",
       "      <th>C</th>\n",
       "      <th>D</th>\n",
       "    </tr>\n",
       "  </thead>\n",
       "  <tbody>\n",
       "    <tr>\n",
       "      <th>2023-01-01</th>\n",
       "      <td>-0.389441</td>\n",
       "      <td>0.524935</td>\n",
       "      <td>0.421924</td>\n",
       "      <td>0.811149</td>\n",
       "    </tr>\n",
       "    <tr>\n",
       "      <th>2023-01-02</th>\n",
       "      <td>1.880853</td>\n",
       "      <td>1.408596</td>\n",
       "      <td>0.547191</td>\n",
       "      <td>-1.112297</td>\n",
       "    </tr>\n",
       "    <tr>\n",
       "      <th>2023-01-03</th>\n",
       "      <td>-0.473416</td>\n",
       "      <td>0.361690</td>\n",
       "      <td>1.077494</td>\n",
       "      <td>0.221181</td>\n",
       "    </tr>\n",
       "    <tr>\n",
       "      <th>2023-01-04</th>\n",
       "      <td>-0.114631</td>\n",
       "      <td>1.099284</td>\n",
       "      <td>0.961032</td>\n",
       "      <td>-0.830506</td>\n",
       "    </tr>\n",
       "    <tr>\n",
       "      <th>2023-01-05</th>\n",
       "      <td>0.495238</td>\n",
       "      <td>0.354371</td>\n",
       "      <td>0.746490</td>\n",
       "      <td>0.252899</td>\n",
       "    </tr>\n",
       "    <tr>\n",
       "      <th>2023-01-06</th>\n",
       "      <td>-0.679139</td>\n",
       "      <td>0.214930</td>\n",
       "      <td>-1.250033</td>\n",
       "      <td>0.956695</td>\n",
       "    </tr>\n",
       "    <tr>\n",
       "      <th>2023-01-01</th>\n",
       "      <td>-0.389441</td>\n",
       "      <td>0.524935</td>\n",
       "      <td>NaN</td>\n",
       "      <td>NaN</td>\n",
       "    </tr>\n",
       "    <tr>\n",
       "      <th>2023-01-02</th>\n",
       "      <td>1.880853</td>\n",
       "      <td>1.408596</td>\n",
       "      <td>NaN</td>\n",
       "      <td>NaN</td>\n",
       "    </tr>\n",
       "    <tr>\n",
       "      <th>2023-01-03</th>\n",
       "      <td>-0.473416</td>\n",
       "      <td>0.361690</td>\n",
       "      <td>NaN</td>\n",
       "      <td>NaN</td>\n",
       "    </tr>\n",
       "    <tr>\n",
       "      <th>2023-01-04</th>\n",
       "      <td>-0.114631</td>\n",
       "      <td>1.099284</td>\n",
       "      <td>NaN</td>\n",
       "      <td>NaN</td>\n",
       "    </tr>\n",
       "    <tr>\n",
       "      <th>2023-01-05</th>\n",
       "      <td>0.495238</td>\n",
       "      <td>0.354371</td>\n",
       "      <td>NaN</td>\n",
       "      <td>NaN</td>\n",
       "    </tr>\n",
       "    <tr>\n",
       "      <th>2023-01-06</th>\n",
       "      <td>-0.679139</td>\n",
       "      <td>0.214930</td>\n",
       "      <td>NaN</td>\n",
       "      <td>NaN</td>\n",
       "    </tr>\n",
       "  </tbody>\n",
       "</table>\n",
       "</div>"
      ],
      "text/plain": [
       "                   A         B         C         D\n",
       "2023-01-01 -0.389441  0.524935  0.421924  0.811149\n",
       "2023-01-02  1.880853  1.408596  0.547191 -1.112297\n",
       "2023-01-03 -0.473416  0.361690  1.077494  0.221181\n",
       "2023-01-04 -0.114631  1.099284  0.961032 -0.830506\n",
       "2023-01-05  0.495238  0.354371  0.746490  0.252899\n",
       "2023-01-06 -0.679139  0.214930 -1.250033  0.956695\n",
       "2023-01-01 -0.389441  0.524935       NaN       NaN\n",
       "2023-01-02  1.880853  1.408596       NaN       NaN\n",
       "2023-01-03 -0.473416  0.361690       NaN       NaN\n",
       "2023-01-04 -0.114631  1.099284       NaN       NaN\n",
       "2023-01-05  0.495238  0.354371       NaN       NaN\n",
       "2023-01-06 -0.679139  0.214930       NaN       NaN"
      ]
     },
     "execution_count": 46,
     "metadata": {},
     "output_type": "execute_result"
    }
   ],
   "source": [
    "# Concatenar DataFrames de manera vertical\n",
    "pd.concat([df1, df2])"
   ]
  },
  {
   "cell_type": "code",
   "execution_count": 48,
   "metadata": {},
   "outputs": [
    {
     "data": {
      "text/html": [
       "<div>\n",
       "<style scoped>\n",
       "    .dataframe tbody tr th:only-of-type {\n",
       "        vertical-align: middle;\n",
       "    }\n",
       "\n",
       "    .dataframe tbody tr th {\n",
       "        vertical-align: top;\n",
       "    }\n",
       "\n",
       "    .dataframe thead th {\n",
       "        text-align: right;\n",
       "    }\n",
       "</style>\n",
       "<table border=\"1\" class=\"dataframe\">\n",
       "  <thead>\n",
       "    <tr style=\"text-align: right;\">\n",
       "      <th></th>\n",
       "      <th>A</th>\n",
       "      <th>B</th>\n",
       "      <th>C</th>\n",
       "      <th>D</th>\n",
       "      <th>A</th>\n",
       "      <th>B</th>\n",
       "    </tr>\n",
       "  </thead>\n",
       "  <tbody>\n",
       "    <tr>\n",
       "      <th>2023-01-01</th>\n",
       "      <td>-0.389441</td>\n",
       "      <td>0.524935</td>\n",
       "      <td>0.421924</td>\n",
       "      <td>0.811149</td>\n",
       "      <td>-0.389441</td>\n",
       "      <td>0.524935</td>\n",
       "    </tr>\n",
       "    <tr>\n",
       "      <th>2023-01-02</th>\n",
       "      <td>1.880853</td>\n",
       "      <td>1.408596</td>\n",
       "      <td>0.547191</td>\n",
       "      <td>-1.112297</td>\n",
       "      <td>1.880853</td>\n",
       "      <td>1.408596</td>\n",
       "    </tr>\n",
       "    <tr>\n",
       "      <th>2023-01-03</th>\n",
       "      <td>-0.473416</td>\n",
       "      <td>0.361690</td>\n",
       "      <td>1.077494</td>\n",
       "      <td>0.221181</td>\n",
       "      <td>-0.473416</td>\n",
       "      <td>0.361690</td>\n",
       "    </tr>\n",
       "    <tr>\n",
       "      <th>2023-01-04</th>\n",
       "      <td>-0.114631</td>\n",
       "      <td>1.099284</td>\n",
       "      <td>0.961032</td>\n",
       "      <td>-0.830506</td>\n",
       "      <td>-0.114631</td>\n",
       "      <td>1.099284</td>\n",
       "    </tr>\n",
       "    <tr>\n",
       "      <th>2023-01-05</th>\n",
       "      <td>0.495238</td>\n",
       "      <td>0.354371</td>\n",
       "      <td>0.746490</td>\n",
       "      <td>0.252899</td>\n",
       "      <td>0.495238</td>\n",
       "      <td>0.354371</td>\n",
       "    </tr>\n",
       "    <tr>\n",
       "      <th>2023-01-06</th>\n",
       "      <td>-0.679139</td>\n",
       "      <td>0.214930</td>\n",
       "      <td>-1.250033</td>\n",
       "      <td>0.956695</td>\n",
       "      <td>-0.679139</td>\n",
       "      <td>0.214930</td>\n",
       "    </tr>\n",
       "  </tbody>\n",
       "</table>\n",
       "</div>"
      ],
      "text/plain": [
       "                   A         B         C         D         A         B\n",
       "2023-01-01 -0.389441  0.524935  0.421924  0.811149 -0.389441  0.524935\n",
       "2023-01-02  1.880853  1.408596  0.547191 -1.112297  1.880853  1.408596\n",
       "2023-01-03 -0.473416  0.361690  1.077494  0.221181 -0.473416  0.361690\n",
       "2023-01-04 -0.114631  1.099284  0.961032 -0.830506 -0.114631  1.099284\n",
       "2023-01-05  0.495238  0.354371  0.746490  0.252899  0.495238  0.354371\n",
       "2023-01-06 -0.679139  0.214930 -1.250033  0.956695 -0.679139  0.214930"
      ]
     },
     "execution_count": 48,
     "metadata": {},
     "output_type": "execute_result"
    }
   ],
   "source": [
    "# Concatenar DataFrames de manera horizontal\n",
    "pd.concat([df1, df2], axis = 1)"
   ]
  },
  {
   "cell_type": "code",
   "execution_count": 47,
   "metadata": {
    "scrolled": true
   },
   "outputs": [
    {
     "data": {
      "text/html": [
       "<div>\n",
       "<style scoped>\n",
       "    .dataframe tbody tr th:only-of-type {\n",
       "        vertical-align: middle;\n",
       "    }\n",
       "\n",
       "    .dataframe tbody tr th {\n",
       "        vertical-align: top;\n",
       "    }\n",
       "\n",
       "    .dataframe thead th {\n",
       "        text-align: right;\n",
       "    }\n",
       "</style>\n",
       "<table border=\"1\" class=\"dataframe\">\n",
       "  <thead>\n",
       "    <tr style=\"text-align: right;\">\n",
       "      <th></th>\n",
       "      <th>A</th>\n",
       "      <th>B</th>\n",
       "      <th>C</th>\n",
       "      <th>D</th>\n",
       "    </tr>\n",
       "  </thead>\n",
       "  <tbody>\n",
       "    <tr>\n",
       "      <th>0</th>\n",
       "      <td>-0.389441</td>\n",
       "      <td>0.524935</td>\n",
       "      <td>0.421924</td>\n",
       "      <td>0.811149</td>\n",
       "    </tr>\n",
       "    <tr>\n",
       "      <th>1</th>\n",
       "      <td>1.880853</td>\n",
       "      <td>1.408596</td>\n",
       "      <td>0.547191</td>\n",
       "      <td>-1.112297</td>\n",
       "    </tr>\n",
       "    <tr>\n",
       "      <th>2</th>\n",
       "      <td>-0.473416</td>\n",
       "      <td>0.361690</td>\n",
       "      <td>1.077494</td>\n",
       "      <td>0.221181</td>\n",
       "    </tr>\n",
       "    <tr>\n",
       "      <th>3</th>\n",
       "      <td>-0.114631</td>\n",
       "      <td>1.099284</td>\n",
       "      <td>0.961032</td>\n",
       "      <td>-0.830506</td>\n",
       "    </tr>\n",
       "    <tr>\n",
       "      <th>4</th>\n",
       "      <td>0.495238</td>\n",
       "      <td>0.354371</td>\n",
       "      <td>0.746490</td>\n",
       "      <td>0.252899</td>\n",
       "    </tr>\n",
       "    <tr>\n",
       "      <th>5</th>\n",
       "      <td>-0.679139</td>\n",
       "      <td>0.214930</td>\n",
       "      <td>-1.250033</td>\n",
       "      <td>0.956695</td>\n",
       "    </tr>\n",
       "  </tbody>\n",
       "</table>\n",
       "</div>"
      ],
      "text/plain": [
       "          A         B         C         D\n",
       "0 -0.389441  0.524935  0.421924  0.811149\n",
       "1  1.880853  1.408596  0.547191 -1.112297\n",
       "2 -0.473416  0.361690  1.077494  0.221181\n",
       "3 -0.114631  1.099284  0.961032 -0.830506\n",
       "4  0.495238  0.354371  0.746490  0.252899\n",
       "5 -0.679139  0.214930 -1.250033  0.956695"
      ]
     },
     "execution_count": 47,
     "metadata": {},
     "output_type": "execute_result"
    }
   ],
   "source": [
    "# Fusionar DataFrames\n",
    "pd.merge(df1, df2)"
   ]
  },
  {
   "cell_type": "markdown",
   "metadata": {},
   "source": [
    "## 7. Operaciones de Series Temporales"
   ]
  },
  {
   "cell_type": "code",
   "execution_count": 53,
   "metadata": {},
   "outputs": [
    {
     "data": {
      "text/html": [
       "<div>\n",
       "<style scoped>\n",
       "    .dataframe tbody tr th:only-of-type {\n",
       "        vertical-align: middle;\n",
       "    }\n",
       "\n",
       "    .dataframe tbody tr th {\n",
       "        vertical-align: top;\n",
       "    }\n",
       "\n",
       "    .dataframe thead th {\n",
       "        text-align: right;\n",
       "    }\n",
       "</style>\n",
       "<table border=\"1\" class=\"dataframe\">\n",
       "  <thead>\n",
       "    <tr style=\"text-align: right;\">\n",
       "      <th></th>\n",
       "      <th>A</th>\n",
       "      <th>B</th>\n",
       "      <th>C</th>\n",
       "      <th>D</th>\n",
       "    </tr>\n",
       "  </thead>\n",
       "  <tbody>\n",
       "    <tr>\n",
       "      <th>2023-01-01</th>\n",
       "      <td>0.745706</td>\n",
       "      <td>0.966766</td>\n",
       "      <td>0.484557</td>\n",
       "      <td>-0.150574</td>\n",
       "    </tr>\n",
       "    <tr>\n",
       "      <th>2023-01-03</th>\n",
       "      <td>-0.294023</td>\n",
       "      <td>0.730487</td>\n",
       "      <td>1.019263</td>\n",
       "      <td>-0.304663</td>\n",
       "    </tr>\n",
       "    <tr>\n",
       "      <th>2023-01-05</th>\n",
       "      <td>-0.091951</td>\n",
       "      <td>0.284650</td>\n",
       "      <td>-0.251771</td>\n",
       "      <td>0.604797</td>\n",
       "    </tr>\n",
       "  </tbody>\n",
       "</table>\n",
       "</div>"
      ],
      "text/plain": [
       "                   A         B         C         D\n",
       "2023-01-01  0.745706  0.966766  0.484557 -0.150574\n",
       "2023-01-03 -0.294023  0.730487  1.019263 -0.304663\n",
       "2023-01-05 -0.091951  0.284650 -0.251771  0.604797"
      ]
     },
     "execution_count": 53,
     "metadata": {},
     "output_type": "execute_result"
    }
   ],
   "source": [
    "# Remuestreo de datos temporales\n",
    "df.resample('2D').mean()"
   ]
  },
  {
   "cell_type": "code",
   "execution_count": 51,
   "metadata": {
    "scrolled": true
   },
   "outputs": [
    {
     "data": {
      "text/html": [
       "<div>\n",
       "<style scoped>\n",
       "    .dataframe tbody tr th:only-of-type {\n",
       "        vertical-align: middle;\n",
       "    }\n",
       "\n",
       "    .dataframe tbody tr th {\n",
       "        vertical-align: top;\n",
       "    }\n",
       "\n",
       "    .dataframe thead th {\n",
       "        text-align: right;\n",
       "    }\n",
       "</style>\n",
       "<table border=\"1\" class=\"dataframe\">\n",
       "  <thead>\n",
       "    <tr style=\"text-align: right;\">\n",
       "      <th></th>\n",
       "      <th>A</th>\n",
       "      <th>B</th>\n",
       "      <th>C</th>\n",
       "      <th>D</th>\n",
       "    </tr>\n",
       "  </thead>\n",
       "  <tbody>\n",
       "    <tr>\n",
       "      <th>2023-01-01</th>\n",
       "      <td>NaN</td>\n",
       "      <td>NaN</td>\n",
       "      <td>NaN</td>\n",
       "      <td>NaN</td>\n",
       "    </tr>\n",
       "    <tr>\n",
       "      <th>2023-01-02</th>\n",
       "      <td>-5.829623</td>\n",
       "      <td>1.683372</td>\n",
       "      <td>0.296895</td>\n",
       "      <td>-2.371261</td>\n",
       "    </tr>\n",
       "    <tr>\n",
       "      <th>2023-01-03</th>\n",
       "      <td>-1.251703</td>\n",
       "      <td>-0.743227</td>\n",
       "      <td>0.969138</td>\n",
       "      <td>-1.198850</td>\n",
       "    </tr>\n",
       "    <tr>\n",
       "      <th>2023-01-04</th>\n",
       "      <td>-0.757864</td>\n",
       "      <td>2.039301</td>\n",
       "      <td>-0.108086</td>\n",
       "      <td>-4.754877</td>\n",
       "    </tr>\n",
       "    <tr>\n",
       "      <th>2023-01-05</th>\n",
       "      <td>-5.320279</td>\n",
       "      <td>-0.677635</td>\n",
       "      <td>-0.223241</td>\n",
       "      <td>-1.304512</td>\n",
       "    </tr>\n",
       "    <tr>\n",
       "      <th>2023-01-06</th>\n",
       "      <td>-2.371339</td>\n",
       "      <td>-0.393487</td>\n",
       "      <td>-2.674547</td>\n",
       "      <td>2.782914</td>\n",
       "    </tr>\n",
       "  </tbody>\n",
       "</table>\n",
       "</div>"
      ],
      "text/plain": [
       "                   A         B         C         D\n",
       "2023-01-01       NaN       NaN       NaN       NaN\n",
       "2023-01-02 -5.829623  1.683372  0.296895 -2.371261\n",
       "2023-01-03 -1.251703 -0.743227  0.969138 -1.198850\n",
       "2023-01-04 -0.757864  2.039301 -0.108086 -4.754877\n",
       "2023-01-05 -5.320279 -0.677635 -0.223241 -1.304512\n",
       "2023-01-06 -2.371339 -0.393487 -2.674547  2.782914"
      ]
     },
     "execution_count": 51,
     "metadata": {},
     "output_type": "execute_result"
    }
   ],
   "source": [
    "# Cambio porcentual\n",
    "df.pct_change()"
   ]
  },
  {
   "cell_type": "markdown",
   "metadata": {},
   "source": [
    "## 8. Visualización\n",
    "Pandas se integra bien con Matplotlib para visualización de datos:"
   ]
  },
  {
   "cell_type": "code",
   "execution_count": null,
   "metadata": {},
   "outputs": [],
   "source": [
    "import matplotlib.pyplot as plt\n",
    "\n",
    "# Gráfico de líneas\n",
    "df.plot(kind='line')\n",
    "\n",
    "# Gráfico de barras\n",
    "df.plot(kind='bar')\n",
    "\n",
    "plt.show()"
   ]
  },
  {
   "cell_type": "markdown",
   "metadata": {},
   "source": [
    "## Conclusión\n",
    "\n",
    "Pandas es una herramienta poderosa para el análisis de datos en Python. Este resumen cubre los aspectos básicos, pero Pandas ofrece muchas más funcionalidades para el manejo y análisis de datos estructurados. Para un uso más avanzado, se recomienda consultar la [documentación oficial de Pandas](https://pandas.pydata.org/docs/).\n"
   ]
  },
  {
   "cell_type": "code",
   "execution_count": 54,
   "metadata": {},
   "outputs": [
    {
     "name": "stdout",
     "output_type": "stream",
     "text": [
      "DataFrame 1:\n",
      "   id  nombre  edad\n",
      "0   1     Ana    25\n",
      "1   2     Bob    30\n",
      "2   3  Carlos    35\n",
      "3   4   Diana    28\n",
      "\n",
      "DataFrame 2:\n",
      "   id     ciudad  salario\n",
      "0   2     Madrid    50000\n",
      "1   3  Barcelona    60000\n",
      "2   4   Valencia    55000\n",
      "3   5    Sevilla    52000\n",
      "\n",
      "1. Inner join:\n",
      "   id  nombre  edad     ciudad  salario\n",
      "0   2     Bob    30     Madrid    50000\n",
      "1   3  Carlos    35  Barcelona    60000\n",
      "2   4   Diana    28   Valencia    55000\n",
      "\n",
      "2. Left join:\n",
      "   id  nombre  edad     ciudad  salario\n",
      "0   1     Ana    25        NaN      NaN\n",
      "1   2     Bob    30     Madrid  50000.0\n",
      "2   3  Carlos    35  Barcelona  60000.0\n",
      "3   4   Diana    28   Valencia  55000.0\n",
      "\n",
      "3. Right join:\n",
      "   id  nombre  edad     ciudad  salario\n",
      "0   2     Bob  30.0     Madrid    50000\n",
      "1   3  Carlos  35.0  Barcelona    60000\n",
      "2   4   Diana  28.0   Valencia    55000\n",
      "3   5     NaN   NaN    Sevilla    52000\n",
      "\n",
      "4. Outer join:\n",
      "   id  nombre  edad     ciudad  salario\n",
      "0   1     Ana  25.0        NaN      NaN\n",
      "1   2     Bob  30.0     Madrid  50000.0\n",
      "2   3  Carlos  35.0  Barcelona  60000.0\n",
      "3   4   Diana  28.0   Valencia  55000.0\n",
      "4   5     NaN   NaN    Sevilla  52000.0\n",
      "\n",
      "5. Merge con columnas de diferentes nombres:\n",
      "   id  nombre  edad  empleado_id departamento\n",
      "0   1     Ana    25            1       Ventas\n",
      "1   2     Bob    30            2           IT\n",
      "2   3  Carlos    35            3    Marketing\n",
      "3   4   Diana    28            4           RH\n",
      "\n",
      "6. Merge con múltiples columnas:\n",
      "   id  nombre  edad proyecto\n",
      "0   1     Ana    25        A\n",
      "1   2     Bob    30        B\n",
      "2   3  Carlos    35        C\n",
      "3   4   Diana    28        D\n",
      "\n",
      "7. Merge con sufijos personalizados:\n",
      "   id nombre_izq  edad nombre_der proyecto\n",
      "0   1        Ana    25        Ana        A\n",
      "1   2        Bob    30        Bob        B\n",
      "2   3     Carlos    35     Carlos        C\n",
      "3   4      Diana    28      Diana        D\n"
     ]
    }
   ],
   "source": [
    "# Crear dos DataFrames de ejemplo\n",
    "df1 = pd.DataFrame({\n",
    "    'id': [1, 2, 3, 4],\n",
    "    'nombre': ['Ana', 'Bob', 'Carlos', 'Diana'],\n",
    "    'edad': [25, 30, 35, 28]\n",
    "})\n",
    "\n",
    "df2 = pd.DataFrame({\n",
    "    'id': [2, 3, 4, 5],\n",
    "    'ciudad': ['Madrid', 'Barcelona', 'Valencia', 'Sevilla'],\n",
    "    'salario': [50000, 60000, 55000, 52000]\n",
    "})\n",
    "\n",
    "print(\"DataFrame 1:\")\n",
    "print(df1)\n",
    "print(\"\\nDataFrame 2:\")\n",
    "print(df2)\n",
    "\n",
    "# Ejemplo 1: Inner join (por defecto)\n",
    "result_inner = pd.merge(df1, df2, on='id')\n",
    "print(\"\\n1. Inner join:\")\n",
    "print(result_inner)\n",
    "\n",
    "# Ejemplo 2: Left join\n",
    "result_left = pd.merge(df1, df2, on='id', how='left')\n",
    "print(\"\\n2. Left join:\")\n",
    "print(result_left)\n",
    "\n",
    "# Ejemplo 3: Right join\n",
    "result_right = pd.merge(df1, df2, on='id', how='right')\n",
    "print(\"\\n3. Right join:\")\n",
    "print(result_right)\n",
    "\n",
    "# Ejemplo 4: Outer join\n",
    "result_outer = pd.merge(df1, df2, on='id', how='outer')\n",
    "print(\"\\n4. Outer join:\")\n",
    "print(result_outer)\n",
    "\n",
    "# Ejemplo 5: Merge con columnas de diferentes nombres\n",
    "df3 = pd.DataFrame({\n",
    "    'empleado_id': [1, 2, 3, 4],\n",
    "    'departamento': ['Ventas', 'IT', 'Marketing', 'RH']\n",
    "})\n",
    "\n",
    "result_diff_columns = pd.merge(df1, df3, left_on='id', right_on='empleado_id')\n",
    "print(\"\\n5. Merge con columnas de diferentes nombres:\")\n",
    "print(result_diff_columns)\n",
    "\n",
    "# Ejemplo 6: Merge con múltiples columnas\n",
    "df4 = pd.DataFrame({\n",
    "    'id': [1, 2, 3, 4],\n",
    "    'nombre': ['Ana', 'Bob', 'Carlos', 'Diana'],\n",
    "    'proyecto': ['A', 'B', 'C', 'D']\n",
    "})\n",
    "\n",
    "result_multiple_columns = pd.merge(df1, df4, on=['id', 'nombre'])\n",
    "print(\"\\n6. Merge con múltiples columnas:\")\n",
    "print(result_multiple_columns)\n",
    "\n",
    "# Ejemplo 7: Merge con sufijos personalizados\n",
    "result_suffixes = pd.merge(df1, df4, on='id', suffixes=('_izq', '_der'))\n",
    "print(\"\\n7. Merge con sufijos personalizados:\")\n",
    "print(result_suffixes)"
   ]
  },
  {
   "cell_type": "markdown",
   "metadata": {
    "id": "Yg7ANnrm1Jq0"
   },
   "source": [
    "## Pandas"
   ]
  },
  {
   "cell_type": "code",
   "execution_count": null,
   "metadata": {
    "id": "i4eHE35i1Jq4"
   },
   "outputs": [],
   "source": [
    "import pandas as pd\n",
    "import numpy as np\n",
    "import matplotlib.pyplot as plt"
   ]
  },
  {
   "cell_type": "markdown",
   "metadata": {
    "id": "rwnaCYci1Jq9"
   },
   "source": [
    "### 1. Series"
   ]
  },
  {
   "cell_type": "markdown",
   "metadata": {
    "collapsed": true,
    "id": "GV0CKsmK1Jq-"
   },
   "source": [
    "Las series corresponden a arreglos del tipo:\n",
    "\n",
    "|Índice|Valor\n",
    "|---|---\n",
    "|0|y(0)\n",
    "|1|y(1)\n",
    "|...|...\n",
    "|n|y(n)"
   ]
  },
  {
   "cell_type": "code",
   "execution_count": null,
   "metadata": {
    "id": "wvlCdp_p1Jq-"
   },
   "outputs": [],
   "source": [
    "# crea una serie\n",
    "sr = pd.Series(np.arange(2.0, 3.0, 0.2))"
   ]
  },
  {
   "cell_type": "code",
   "execution_count": null,
   "metadata": {
    "id": "Y8daqf2Z1Jq_"
   },
   "outputs": [],
   "source": [
    "sr"
   ]
  },
  {
   "cell_type": "code",
   "execution_count": null,
   "metadata": {
    "id": "Uk9-8ckP1Jq_"
   },
   "outputs": [],
   "source": [
    "# accede por fila\n",
    "sr[2]"
   ]
  },
  {
   "cell_type": "code",
   "execution_count": null,
   "metadata": {
    "id": "DkNNuLF81JrA"
   },
   "outputs": [],
   "source": [
    "# accede por indice de localizador\n",
    "sr.iloc[2]"
   ]
  },
  {
   "cell_type": "code",
   "execution_count": null,
   "metadata": {
    "id": "8i-IZFMN1JrA"
   },
   "outputs": [],
   "source": [
    "# acceded por localizador\n",
    "sr.loc[2]"
   ]
  },
  {
   "cell_type": "markdown",
   "metadata": {
    "id": "ctCMAmkA1JrB"
   },
   "source": [
    "Método **`date_range`** genera rango de fechas\n",
    "(más detalles en https://pandas.pydata.org/pandas-docs/stable/generated/pandas.date_range.html)"
   ]
  },
  {
   "cell_type": "code",
   "execution_count": null,
   "metadata": {
    "id": "NBmC76bv1JrC",
    "scrolled": true
   },
   "outputs": [],
   "source": [
    "pd.date_range('2017-08-01 00:00',periods=5, freq='1d')"
   ]
  },
  {
   "cell_type": "code",
   "execution_count": null,
   "metadata": {
    "id": "0Skx8jc81JrD"
   },
   "outputs": [],
   "source": [
    "index = pd.date_range('2017-08-01 00:00',periods=5, freq='1d')"
   ]
  },
  {
   "cell_type": "code",
   "execution_count": null,
   "metadata": {
    "id": "aZ1S8uJ61JrD"
   },
   "outputs": [],
   "source": [
    "sr2 = pd.Series(index=index, data=np.arange(2.0,3.0,0.2))"
   ]
  },
  {
   "cell_type": "code",
   "execution_count": null,
   "metadata": {
    "id": "PErZrQNU1JrE"
   },
   "outputs": [],
   "source": [
    "sr2"
   ]
  },
  {
   "cell_type": "code",
   "execution_count": null,
   "metadata": {
    "id": "EmXN0mCo1JrE"
   },
   "outputs": [],
   "source": [
    "# si la frequencia es cada 5 segundos\n",
    "index = pd.date_range('2017-08-01 00:00',periods=5, freq='5s')\n",
    "sr2 = pd.Series(index=index, data=np.arange(2.0,3.0,0.2))\n",
    "sr2"
   ]
  },
  {
   "cell_type": "code",
   "execution_count": null,
   "metadata": {
    "id": "IwDnVa_O1JrF"
   },
   "outputs": [],
   "source": [
    "# accede por fila\n",
    "sr2[2]"
   ]
  },
  {
   "cell_type": "code",
   "execution_count": null,
   "metadata": {
    "id": "JKgpTThv1JrF"
   },
   "outputs": [],
   "source": [
    "# accede por indice de localizador\n",
    "sr2.iloc[2]"
   ]
  },
  {
   "cell_type": "code",
   "execution_count": null,
   "metadata": {
    "id": "JzpTcjWE1JrF"
   },
   "outputs": [],
   "source": [
    "# accede por localizador\n",
    "sr2.loc[2]"
   ]
  },
  {
   "cell_type": "code",
   "execution_count": null,
   "metadata": {
    "id": "XgaWljBP1JrG"
   },
   "outputs": [],
   "source": [
    "sr"
   ]
  },
  {
   "cell_type": "code",
   "execution_count": null,
   "metadata": {
    "id": "cHiexoWB1JrG"
   },
   "outputs": [],
   "source": [
    "sr2"
   ]
  },
  {
   "cell_type": "code",
   "execution_count": null,
   "metadata": {
    "id": "OtO6uQAT1JrG"
   },
   "outputs": [],
   "source": [
    "# accede por localizador\n",
    "sr2.loc['2017-08-01 00:00:10']"
   ]
  },
  {
   "cell_type": "markdown",
   "metadata": {
    "id": "-ly1drR81JrG"
   },
   "source": [
    "### 2. Dataframes"
   ]
  },
  {
   "cell_type": "markdown",
   "metadata": {
    "id": "xnYlviMy1JrG"
   },
   "source": [
    "Los Dataframes corresponden a arreglos del tipo:\n",
    "\n",
    "|Índice|Valor_0|Valor_1|...|Valor_m\n",
    "|---|---|---|---|---\n",
    "|0|y(0,0)|y(0,1)|...|y(0,m)\n",
    "|1|y(1,0)|y(1,1)|...|y(1,m)\n",
    "|...|...|...|...|...\n",
    "|n|y(n,0)|y(0,1)|...|y(n,m)"
   ]
  },
  {
   "cell_type": "code",
   "execution_count": null,
   "metadata": {
    "id": "qWQqUuzH1JrH"
   },
   "outputs": [],
   "source": [
    "# es conveniente crear un diccionario para crear el dataframe\n",
    "\n",
    "n = 10\n",
    "t = np.arange(10)\n",
    "\n",
    "temp = 14.5 - np.sin(2*np.pi*t/n)\n",
    "pres = 1008.3 - 0.3*np.sin(np.pi*t/n + 0.9)\n",
    "\n",
    "precip = np.zeros(n)\n",
    "precip[2:4] = 2\n",
    "\n",
    "data = {'temp':temp,\n",
    "        'pres':pres,\n",
    "        'precip':precip}\n",
    "\n",
    "index = pd.date_range('2017-08-01 00:00',periods=10, freq='30min')"
   ]
  },
  {
   "cell_type": "code",
   "execution_count": null,
   "metadata": {
    "id": "PZyeECWd1JrH"
   },
   "outputs": [],
   "source": [
    "df = pd.DataFrame(index=index, data=data)"
   ]
  },
  {
   "cell_type": "code",
   "execution_count": null,
   "metadata": {
    "id": "prP7HsTs1JrI"
   },
   "outputs": [],
   "source": [
    "print df"
   ]
  },
  {
   "cell_type": "markdown",
   "metadata": {
    "id": "68Gw3FJd1JrI"
   },
   "source": [
    "### 3. Explorando Dataframes"
   ]
  },
  {
   "cell_type": "code",
   "execution_count": null,
   "metadata": {
    "colab": {
     "base_uri": "https://localhost:8080/",
     "height": 184
    },
    "executionInfo": {
     "elapsed": 330,
     "status": "error",
     "timestamp": 1630792936976,
     "user": {
      "displayName": "Luis Gomez",
      "photoUrl": "https://lh3.googleusercontent.com/a-/AOh14GjzVIbqHyWHGIQwg4unyTzJRW-jQYwwjIegbPWsi3I=s64",
      "userId": "00656069038044722993"
     },
     "user_tz": 240
    },
    "id": "Qp3Bp5Mm1JrI",
    "outputId": "207e9079-da4f-46d8-d6b2-f6a22173846d"
   },
   "outputs": [],
   "source": [
    "df.plot(kind='bar',y='precip')\n",
    "plt.show()"
   ]
  },
  {
   "cell_type": "code",
   "execution_count": null,
   "metadata": {
    "id": "1vYLv8qO1JrJ"
   },
   "outputs": [],
   "source": [
    "df.plot(kind='line',y='temp')\n",
    "plt.show()"
   ]
  },
  {
   "cell_type": "code",
   "execution_count": null,
   "metadata": {
    "id": "nAjFl-3o1JrJ"
   },
   "outputs": [],
   "source": [
    "df.plot(kind='line',y='pres')\n",
    "plt.show()"
   ]
  },
  {
   "cell_type": "code",
   "execution_count": null,
   "metadata": {
    "id": "m2HUcdid1JrJ"
   },
   "outputs": [],
   "source": [
    "\"\"\"\n",
    "    integrando visualizacion 1\n",
    "\"\"\" \n",
    "\n",
    "# crea figura\n",
    "fig, ax = plt.subplots()\n",
    "\n",
    "# utiliza metodo de pandas\n",
    "lns1 = df.plot(kind='line',\n",
    "               y='temp', \n",
    "               legend=False, \n",
    "               ax=ax)\n",
    "\n",
    "# crea eje secundario X\n",
    "ax2 = ax.twinx()\n",
    "\n",
    "# utiliza metodo de pandas\n",
    "lns2 = df.plot(kind='line',\n",
    "               y='pres', \n",
    "               legend=False, \n",
    "               color='orange',\n",
    "               ax=ax2)\n",
    "\n",
    "# crea eje secundario Y\n",
    "ax3 = ax.twiny()\n",
    "\n",
    "# utiliza metodo de pandas\n",
    "lns3 = df.plot(kind='bar',\n",
    "               y='precip', \n",
    "               legend=False, \n",
    "               ax=ax3)\n",
    "\n",
    "# etiquetas\n",
    "ax.set_ylabel('temp')\n",
    "ax2.set_ylabel('pres')\n",
    "ax3.set_xticklabels('')\n",
    "\n",
    "# agrega legenda\n",
    "lns = lns1.lines + lns2.lines + lns3.patches\n",
    "labs = ['temp','pres','precip']\n",
    "ax2.legend(lns, labs, loc=4)\n",
    "\n",
    "plt.show()\n"
   ]
  },
  {
   "cell_type": "markdown",
   "metadata": {
    "id": "FMXfIoFe1JrJ"
   },
   "source": [
    "### 4. Slicing"
   ]
  },
  {
   "cell_type": "code",
   "execution_count": null,
   "metadata": {
    "id": "cXJZfDgu1JrK"
   },
   "outputs": [],
   "source": [
    "# recordando la estructura\n",
    "print df"
   ]
  },
  {
   "cell_type": "code",
   "execution_count": null,
   "metadata": {
    "id": "N-mBhdSi1JrK"
   },
   "outputs": [],
   "source": [
    "# accede por fila (error)\n",
    "df[4]"
   ]
  },
  {
   "cell_type": "code",
   "execution_count": null,
   "metadata": {
    "id": "GFKEVUku1JrL"
   },
   "outputs": [],
   "source": [
    "# accede por indice de localizador\n",
    "df.iloc[4]"
   ]
  },
  {
   "cell_type": "code",
   "execution_count": null,
   "metadata": {
    "id": "fTPn54j21JrL"
   },
   "outputs": [],
   "source": [
    "# accede por localizador\n",
    "df.loc['2017-08-01 02:00']"
   ]
  },
  {
   "cell_type": "code",
   "execution_count": null,
   "metadata": {
    "id": "iwxb6WFl1JrL"
   },
   "outputs": [],
   "source": [
    "df.index"
   ]
  },
  {
   "cell_type": "code",
   "execution_count": null,
   "metadata": {
    "id": "Ys6ethmc1JrL"
   },
   "outputs": [],
   "source": [
    "# devuelve posicion del índice\n",
    "df.index.get_loc('2017-08-01 02:00:00')"
   ]
  },
  {
   "cell_type": "code",
   "execution_count": null,
   "metadata": {
    "id": "MnGS16mg1JrM"
   },
   "outputs": [],
   "source": [
    "# devuelve columna como serie\n",
    "df['pres']"
   ]
  },
  {
   "cell_type": "code",
   "execution_count": null,
   "metadata": {
    "id": "_S91CXFz1JrM"
   },
   "outputs": [],
   "source": [
    "type(df['pres'])"
   ]
  },
  {
   "cell_type": "code",
   "execution_count": null,
   "metadata": {
    "id": "dDELTS7W1JrM"
   },
   "outputs": [],
   "source": [
    "print df[['pres','precip']]"
   ]
  },
  {
   "cell_type": "code",
   "execution_count": null,
   "metadata": {
    "id": "Bcc7owXb1JrM"
   },
   "outputs": [],
   "source": [
    "# iloc es el método que normalmente usamos con arrgelos n-dimensionales\n",
    "print df.iloc[:,:2]"
   ]
  },
  {
   "cell_type": "code",
   "execution_count": null,
   "metadata": {
    "id": "VLQ4K2Bb1JrN"
   },
   "outputs": [],
   "source": [
    "df.iloc[4,:2]"
   ]
  },
  {
   "cell_type": "code",
   "execution_count": null,
   "metadata": {
    "id": "62dAi3nt1JrN"
   },
   "outputs": [],
   "source": [
    "df.loc['2017-08-01 01:00:00'][['precip','pres']]"
   ]
  },
  {
   "cell_type": "code",
   "execution_count": null,
   "metadata": {
    "id": "3C6yoOkZ1JrN"
   },
   "outputs": [],
   "source": [
    "beg = '2017-08-01 03:30:00'\n",
    "end = '2017-08-01 04:30:00'\n",
    "print df.loc[beg:end]"
   ]
  },
  {
   "cell_type": "code",
   "execution_count": null,
   "metadata": {
    "id": "39cYZidJ1JrN"
   },
   "outputs": [],
   "source": [
    "print df.loc[end:beg]"
   ]
  },
  {
   "cell_type": "code",
   "execution_count": null,
   "metadata": {
    "id": "8-P1lhUt1JrN"
   },
   "outputs": [],
   "source": []
  }
 ],
 "metadata": {
  "anaconda-cloud": {},
  "colab": {
   "name": "04_01_pandas.ipynb",
   "provenance": []
  },
  "kernelspec": {
   "display_name": "Python 3 (ipykernel)",
   "language": "python",
   "name": "python3"
  },
  "language_info": {
   "codemirror_mode": {
    "name": "ipython",
    "version": 3
   },
   "file_extension": ".py",
   "mimetype": "text/x-python",
   "name": "python",
   "nbconvert_exporter": "python",
   "pygments_lexer": "ipython3",
   "version": "3.8.10"
  }
 },
 "nbformat": 4,
 "nbformat_minor": 1
}
