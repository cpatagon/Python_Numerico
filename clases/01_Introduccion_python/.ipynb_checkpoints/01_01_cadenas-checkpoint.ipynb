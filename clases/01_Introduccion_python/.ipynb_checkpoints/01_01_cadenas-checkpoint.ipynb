{
 "cells": [
  {
   "cell_type": "markdown",
   "metadata": {
    "id": "aEralxVvg-VE"
   },
   "source": [
    "# 1 Cadenas de caracteres en Python\n",
    "\n",
    "Python puede trabajar cadenas de texto, las que deben estar encerradas en comillas simples ('...') o dobles (\"...\"):\n",
    "\n"
   ]
  },
  {
   "cell_type": "code",
   "execution_count": 2,
   "metadata": {
    "colab": {
     "base_uri": "https://localhost:8080/"
    },
    "executionInfo": {
     "elapsed": 536,
     "status": "ok",
     "timestamp": 1692669125651,
     "user": {
      "displayName": "Luis Gomez",
      "userId": "00656069038044722993"
     },
     "user_tz": 240
    },
    "id": "4u1SlspqDVsU",
    "outputId": "a03976b6-161c-4bf2-a3de-53bac0dd13b6"
   },
   "outputs": [
    {
     "name": "stdout",
     "output_type": "stream",
     "text": [
      "cadena\n",
      "<class 'str'>\n"
     ]
    }
   ],
   "source": [
    "cad = 'cadena'\n",
    "print(cad)\n",
    "print(type(cad))"
   ]
  },
  {
   "cell_type": "markdown",
   "metadata": {
    "id": "P5_zd4HQj17Q"
   },
   "source": [
    "se puede ubicar"
   ]
  },
  {
   "cell_type": "code",
   "execution_count": 4,
   "metadata": {
    "colab": {
     "base_uri": "https://localhost:8080/"
    },
    "executionInfo": {
     "elapsed": 409,
     "status": "ok",
     "timestamp": 1692669147331,
     "user": {
      "displayName": "Luis Gomez",
      "userId": "00656069038044722993"
     },
     "user_tz": 240
    },
    "id": "n2cE1MHOg-VH",
    "outputId": "793fc10d-4bf2-4308-aee9-ff5af1ecf912"
   },
   "outputs": [
    {
     "name": "stdout",
     "output_type": "stream",
     "text": [
      "'e' pertenece a la variable cadena y es del tipo: <class 'str'>\n"
     ]
    }
   ],
   "source": [
    "print('\\'{1}\\' pertenece a la variable cadena y es del tipo: {0}'.format(type(cad),cad[3]))\n"
   ]
  },
  {
   "cell_type": "code",
   "execution_count": 8,
   "metadata": {
    "colab": {
     "base_uri": "https://localhost:8080/"
    },
    "executionInfo": {
     "elapsed": 567,
     "status": "ok",
     "timestamp": 1692669392365,
     "user": {
      "displayName": "Luis Gomez",
      "userId": "00656069038044722993"
     },
     "user_tz": 240
    },
    "id": "Uv_g1yaC8jSA",
    "outputId": "83231f2b-06f4-4f91-fd09-57d984974783"
   },
   "outputs": [
    {
     "name": "stdout",
     "output_type": "stream",
     "text": [
      "0:c\n",
      "1:a\n",
      "2:d\n",
      "3:e\n",
      "4:n\n",
      "5:a\n"
     ]
    }
   ],
   "source": [
    "oracion= cad\n",
    "n =  0\n",
    "for letra in oracion:\n",
    "  print('{0}:{1}'.format(n,letra))\n",
    "  n=n+1\n"
   ]
  },
  {
   "cell_type": "markdown",
   "metadata": {
    "id": "pEkExSw9oiYG"
   },
   "source": [
    "Imprimiendo el valor existente en la cadena ocupando la sentencia **for**"
   ]
  },
  {
   "cell_type": "code",
   "execution_count": null,
   "metadata": {
    "colab": {
     "base_uri": "https://localhost:8080/",
     "height": 318
    },
    "executionInfo": {
     "elapsed": 686,
     "status": "ok",
     "timestamp": 1601554181572,
     "user": {
      "displayName": "Luis Gomez",
      "photoUrl": "https://lh3.googleusercontent.com/a-/AOh14GhgMxcxoQRX6YmkMDaHTW4-qZ0OpyN3QQ75T4i4=s64",
      "userId": "00656069038044722993"
     },
     "user_tz": 180
    },
    "id": "AX6W_UZOEPIn",
    "outputId": "a3924db6-de47-44bf-9999-2aed94284c09"
   },
   "outputs": [
    {
     "name": "stdout",
     "output_type": "stream",
     "text": [
      "c\n",
      "e\n",
      "d\n",
      "e\n",
      "n\n",
      "e\n",
      " \n",
      "m\n",
      "e\n",
      "s\n",
      " \n",
      "c\n",
      "e\n",
      "d\n",
      "e\n",
      "n\n",
      "e\n"
     ]
    }
   ],
   "source": [
    "oracion= cad+ ' mas '+ cad\n",
    "for letra in oracion:\n",
    "  if letra == 'a':\n",
    "    letra = 'e'\n",
    "  print(letra)\n"
   ]
  },
  {
   "cell_type": "markdown",
   "metadata": {
    "id": "HtfZiiy01H-L"
   },
   "source": [
    "## Ejercicio\n",
    "\n",
    "Realice la misma experiencia pero reemplace el for por el while:"
   ]
  },
  {
   "cell_type": "code",
   "execution_count": null,
   "metadata": {
    "id": "G0PODXG71UpC"
   },
   "outputs": [],
   "source": []
  },
  {
   "cell_type": "markdown",
   "metadata": {
    "id": "DS61MUUbEU14"
   },
   "source": [
    "Tamaño de la cadena"
   ]
  },
  {
   "cell_type": "code",
   "execution_count": null,
   "metadata": {
    "colab": {
     "base_uri": "https://localhost:8080/",
     "height": 35
    },
    "executionInfo": {
     "elapsed": 805,
     "status": "ok",
     "timestamp": 1601554367524,
     "user": {
      "displayName": "Luis Gomez",
      "photoUrl": "https://lh3.googleusercontent.com/a-/AOh14GhgMxcxoQRX6YmkMDaHTW4-qZ0OpyN3QQ75T4i4=s64",
      "userId": "00656069038044722993"
     },
     "user_tz": 180
    },
    "id": "JJEO6vB2g-VZ",
    "outputId": "18447bb1-215f-40e9-f437-949e5e6fb3fa"
   },
   "outputs": [
    {
     "data": {
      "text/plain": [
       "17"
      ]
     },
     "execution_count": 10,
     "metadata": {
      "tags": []
     },
     "output_type": "execute_result"
    }
   ],
   "source": [
    "len(oracion)"
   ]
  },
  {
   "cell_type": "code",
   "execution_count": null,
   "metadata": {
    "colab": {
     "base_uri": "https://localhost:8080/",
     "height": 35
    },
    "executionInfo": {
     "elapsed": 1038,
     "status": "ok",
     "timestamp": 1601554391180,
     "user": {
      "displayName": "Luis Gomez",
      "photoUrl": "https://lh3.googleusercontent.com/a-/AOh14GhgMxcxoQRX6YmkMDaHTW4-qZ0OpyN3QQ75T4i4=s64",
      "userId": "00656069038044722993"
     },
     "user_tz": 180
    },
    "id": "cKR7lqI2uE4j",
    "outputId": "5ba48d3a-4524-4935-e763-95a8286a2143"
   },
   "outputs": [
    {
     "data": {
      "application/vnd.google.colaboratory.intrinsic+json": {
       "type": "string"
      },
      "text/plain": [
       "'dena mas cadena'"
      ]
     },
     "execution_count": 12,
     "metadata": {
      "tags": []
     },
     "output_type": "execute_result"
    }
   ],
   "source": [
    "oracion[2:]dena mas caden\n"
   ]
  },
  {
   "cell_type": "markdown",
   "metadata": {
    "id": "IQko3xl1HLqn"
   },
   "source": [
    "Si yo quiero unir dos string"
   ]
  },
  {
   "cell_type": "code",
   "execution_count": null,
   "metadata": {
    "colab": {
     "base_uri": "https://localhost:8080/",
     "height": 35
    },
    "executionInfo": {
     "elapsed": 713,
     "status": "ok",
     "timestamp": 1601554969166,
     "user": {
      "displayName": "Luis Gomez",
      "photoUrl": "https://lh3.googleusercontent.com/a-/AOh14GhgMxcxoQRX6YmkMDaHTW4-qZ0OpyN3QQ75T4i4=s64",
      "userId": "00656069038044722993"
     },
     "user_tz": 180
    },
    "id": "j4_d9VtQuLry",
    "outputId": "cfa3deca-f574-4e17-d34a-e5f5d5043f93"
   },
   "outputs": [
    {
     "data": {
      "application/vnd.google.colaboratory.intrinsic+json": {
       "type": "string"
      },
      "text/plain": [
       "'cadena mas cadena cadena mas cadena'"
      ]
     },
     "execution_count": 13,
     "metadata": {
      "tags": []
     },
     "output_type": "execute_result"
    }
   ],
   "source": [
    "oracion+' '+oracion"
   ]
  },
  {
   "cell_type": "markdown",
   "metadata": {
    "id": "0z5nwhvxot3d"
   },
   "source": [
    "Encontrar un determinado caracter ocupando **find()**\n",
    "\n"
   ]
  },
  {
   "cell_type": "code",
   "execution_count": null,
   "metadata": {
    "colab": {
     "base_uri": "https://localhost:8080/",
     "height": 35
    },
    "executionInfo": {
     "elapsed": 735,
     "status": "ok",
     "timestamp": 1601555176557,
     "user": {
      "displayName": "Luis Gomez",
      "photoUrl": "https://lh3.googleusercontent.com/a-/AOh14GhgMxcxoQRX6YmkMDaHTW4-qZ0OpyN3QQ75T4i4=s64",
      "userId": "00656069038044722993"
     },
     "user_tz": 180
    },
    "id": "Xqf9jFHKg-Vl",
    "outputId": "b7cdf457-75f3-4ffa-824c-9c0823e2bed2"
   },
   "outputs": [
    {
     "data": {
      "text/plain": [
       "5"
      ]
     },
     "execution_count": 22,
     "metadata": {
      "tags": []
     },
     "output_type": "execute_result"
    }
   ],
   "source": [
    "oracion.find('a', 5)\n"
   ]
  },
  {
   "cell_type": "code",
   "execution_count": null,
   "metadata": {
    "colab": {
     "base_uri": "https://localhost:8080/",
     "height": 35
    },
    "executionInfo": {
     "elapsed": 720,
     "status": "ok",
     "timestamp": 1601555209592,
     "user": {
      "displayName": "Luis Gomez",
      "photoUrl": "https://lh3.googleusercontent.com/a-/AOh14GhgMxcxoQRX6YmkMDaHTW4-qZ0OpyN3QQ75T4i4=s64",
      "userId": "00656069038044722993"
     },
     "user_tz": 180
    },
    "id": "dU-pa1AKosDU",
    "outputId": "0480143f-8376-4cf4-e680-cb5ae5e57d8b"
   },
   "outputs": [
    {
     "name": "stdout",
     "output_type": "stream",
     "text": [
      "codeno mos codeno\n"
     ]
    }
   ],
   "source": [
    " salida=oracion.replace('a', 'o')\n",
    " print(salida)"
   ]
  },
  {
   "cell_type": "code",
   "execution_count": null,
   "metadata": {
    "colab": {
     "base_uri": "https://localhost:8080/",
     "height": 35
    },
    "executionInfo": {
     "elapsed": 740,
     "status": "ok",
     "timestamp": 1601555269035,
     "user": {
      "displayName": "Luis Gomez",
      "photoUrl": "https://lh3.googleusercontent.com/a-/AOh14GhgMxcxoQRX6YmkMDaHTW4-qZ0OpyN3QQ75T4i4=s64",
      "userId": "00656069038044722993"
     },
     "user_tz": 180
    },
    "id": "mOVx4CFho5Em",
    "outputId": "9984fd7c-5393-4e9f-bd8a-ead94c7c16ea"
   },
   "outputs": [
    {
     "name": "stdout",
     "output_type": "stream",
     "text": [
      "['c', 'den', ' m', 's c', 'den', '']\n"
     ]
    }
   ],
   "source": [
    "print(oracion.split('a'))"
   ]
  },
  {
   "cell_type": "code",
   "execution_count": null,
   "metadata": {
    "colab": {
     "base_uri": "https://localhost:8080/",
     "height": 35
    },
    "executionInfo": {
     "elapsed": 763,
     "status": "ok",
     "timestamp": 1601555352415,
     "user": {
      "displayName": "Luis Gomez",
      "photoUrl": "https://lh3.googleusercontent.com/a-/AOh14GhgMxcxoQRX6YmkMDaHTW4-qZ0OpyN3QQ75T4i4=s64",
      "userId": "00656069038044722993"
     },
     "user_tz": 180
    },
    "id": "s1IC2aRwpf_X",
    "outputId": "d412985a-3347-4b14-aee1-6f80525bff36"
   },
   "outputs": [
    {
     "data": {
      "text/plain": [
       "('c', 'o', 'deno mos codeno')"
      ]
     },
     "execution_count": 26,
     "metadata": {
      "tags": []
     },
     "output_type": "execute_result"
    }
   ],
   "source": [
    "salida.partition('o')"
   ]
  },
  {
   "cell_type": "code",
   "execution_count": null,
   "metadata": {
    "colab": {
     "base_uri": "https://localhost:8080/",
     "height": 35
    },
    "executionInfo": {
     "elapsed": 687,
     "status": "ok",
     "timestamp": 1601555384698,
     "user": {
      "displayName": "Luis Gomez",
      "photoUrl": "https://lh3.googleusercontent.com/a-/AOh14GhgMxcxoQRX6YmkMDaHTW4-qZ0OpyN3QQ75T4i4=s64",
      "userId": "00656069038044722993"
     },
     "user_tz": 180
    },
    "id": "n-tHQ35PqgM1",
    "outputId": "a032085e-0158-4960-ed8f-70cda5ecb581"
   },
   "outputs": [
    {
     "data": {
      "application/vnd.google.colaboratory.intrinsic+json": {
       "type": "string"
      },
      "text/plain": [
       "'CODENO MOS CODENO'"
      ]
     },
     "execution_count": 27,
     "metadata": {
      "tags": []
     },
     "output_type": "execute_result"
    }
   ],
   "source": [
    "salida.upper()\n"
   ]
  },
  {
   "cell_type": "code",
   "execution_count": null,
   "metadata": {
    "colab": {
     "base_uri": "https://localhost:8080/",
     "height": 52
    },
    "executionInfo": {
     "elapsed": 717,
     "status": "ok",
     "timestamp": 1601555426551,
     "user": {
      "displayName": "Luis Gomez",
      "photoUrl": "https://lh3.googleusercontent.com/a-/AOh14GhgMxcxoQRX6YmkMDaHTW4-qZ0OpyN3QQ75T4i4=s64",
      "userId": "00656069038044722993"
     },
     "user_tz": 180
    },
    "id": "eticsvC7rU-_",
    "outputId": "fce0ca4d-f6ae-4bb7-927f-e06e9eeba9cb"
   },
   "outputs": [
    {
     "name": "stdout",
     "output_type": "stream",
     "text": [
      "c,o,d,e,n,o, ,m,o,s, ,c,o,d,e,n,o\n",
      "['c', 'o', 'd', 'e', 'n', 'o', ' ', 'm', 'o', 's', ' ', 'c', 'o', 'd', 'e', 'n', 'o']\n"
     ]
    }
   ],
   "source": [
    "salida2=','.join(salida)\n",
    "print(salida2)\n",
    "lista=salida2.split(',')\n",
    "print(lista)"
   ]
  },
  {
   "cell_type": "code",
   "execution_count": null,
   "metadata": {
    "colab": {
     "base_uri": "https://localhost:8080/",
     "height": 52
    },
    "executionInfo": {
     "elapsed": 832,
     "status": "ok",
     "timestamp": 1601555553865,
     "user": {
      "displayName": "Luis Gomez",
      "photoUrl": "https://lh3.googleusercontent.com/a-/AOh14GhgMxcxoQRX6YmkMDaHTW4-qZ0OpyN3QQ75T4i4=s64",
      "userId": "00656069038044722993"
     },
     "user_tz": 180
    },
    "id": "D06z-mVGtefF",
    "outputId": "86fa2a2a-b2f8-4a44-a8c9-d46ffaea3a36"
   },
   "outputs": [
    {
     "name": "stdout",
     "output_type": "stream",
     "text": [
      "codeno mos codeno\n",
      "CODENO MOS CODENO\n"
     ]
    }
   ],
   "source": [
    "print(salida)\n",
    "print(salida.swapcase())\n",
    "\n"
   ]
  },
  {
   "cell_type": "code",
   "execution_count": null,
   "metadata": {
    "colab": {
     "base_uri": "https://localhost:8080/",
     "height": 70
    },
    "executionInfo": {
     "elapsed": 750,
     "status": "ok",
     "timestamp": 1601555622707,
     "user": {
      "displayName": "Luis Gomez",
      "photoUrl": "https://lh3.googleusercontent.com/a-/AOh14GhgMxcxoQRX6YmkMDaHTW4-qZ0OpyN3QQ75T4i4=s64",
      "userId": "00656069038044722993"
     },
     "user_tz": 180
    },
    "id": "7sMgaIPt37jm",
    "outputId": "105dd80d-0256-4dfb-e4e2-94e2cde49043"
   },
   "outputs": [
    {
     "name": "stdout",
     "output_type": "stream",
     "text": [
      "[' ', ' ', 'c', 'c', 'd', 'd', 'e', 'e', 'm', 'n', 'n', 'o', 'o', 'o', 'o', 'o', 's']\n",
      "None\n",
      "[' ', ' ', 'c', 'c', 'd', 'd', 'e', 'e', 'm', 'n', 'n', 'o', 'o', 'o', 'o', 'o', 's']\n"
     ]
    }
   ],
   "source": [
    "print(lista)\n",
    "print(lista.sort())\n",
    "print(lista)"
   ]
  }
 ],
 "metadata": {
  "colab": {
   "provenance": [
    {
     "file_id": "1Bj98ThAf-tMXRrJWAgE-Wst1PEq3G8WQ",
     "timestamp": 1600572263638
    }
   ],
   "toc_visible": true
  },
  "kernelspec": {
   "display_name": "Python 3 (ipykernel)",
   "language": "python",
   "name": "python3"
  },
  "language_info": {
   "codemirror_mode": {
    "name": "ipython",
    "version": 3
   },
   "file_extension": ".py",
   "mimetype": "text/x-python",
   "name": "python",
   "nbconvert_exporter": "python",
   "pygments_lexer": "ipython3",
   "version": "3.8.10"
  }
 },
 "nbformat": 4,
 "nbformat_minor": 1
}
