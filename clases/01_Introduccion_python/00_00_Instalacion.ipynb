{
 "cells": [
  {
   "cell_type": "markdown",
   "metadata": {
    "id": "Hdf_hYAGcCLy"
   },
   "source": [
    "# 1.0 Instalación de Python en la computadora\n",
    "\n",
    "---"
   ]
  },
  {
   "cell_type": "markdown",
   "metadata": {
    "id": "HoYhfIYAZzKh"
   },
   "source": [
    "## 1.0.1  En Linux\n",
    "\n",
    "### Decarga de miniconda\n",
    "\n",
    " Descarge el archivo desde la siguente dirección\n",
    "\n",
    "    https://docs.conda.io/en/latest/miniconda.html\n",
    "\n",
    "Y descarge la versión correspondiente a su archivo opertivo. En nuestro caso para un linux de 64 bits será:\n",
    "\n",
    "    Miniconda3-latest-Linux-x86_64.sh\n",
    "\n",
    "Lo mas probable que el archivo .sh se descarge en la carpeta Descarga de nuestro directorio personal (ejem /home/uasuario/Descarga)\n",
    "\n",
    "### Instalación\n",
    "\n",
    "Esta estapa corresponde a la instalación de miniconda en nuestro ordenador. Lo primero que debemos hacer, una vez descarga el archivo, es movernos al directorio Descarga. para ello ejecutar debemos ejecutar el comando **cd**:\n",
    "    \n",
    "    cd Descarga/  \n",
    "\n",
    "con el comando **ls** se puede ver  lo que hay dentro de la carpeta.\n",
    "Ahora creamos una carpeta con el comando **mkdir** y con el nombre minicoda en donde moveremos el archivo resientemente descargado.  \n",
    "\n",
    "    mkdir ../miniconda\n",
    "\n",
    "\n",
    "Notar que el **../** corresponde a que el directorio lo crearemos una en carpeta de nivel superior al que nos encontramos.\n",
    "Luego moveremos el archivo descargado (Miniconda3-latest-Linux-x86_64.sh) hacia la carpeta recien creada denominada miniconda con el comenado **mv**:\n",
    "\n",
    "    mv Miniconda3-latest-Linux-x86_64.sh ../miniconda\n",
    "\n",
    "Por último nosotros nos moveremos a la carpeta con el comdado cd y ocupando el doble punto:\n",
    "\n",
    "    cd ../miniconda\n",
    "\n",
    "Verificar que el archivo esta dentro de la carpeta con el comdando **ls**. Ahora vamos a cambiar los permisos del archivo para que sea ejecutable con **chmod**:\n",
    "\n",
    "    chmod 777 Miniconda3-latest-Linux-x86_64.sh\n",
    "\n",
    "Notar que 777 corresponde a una codificación en donde el primer digito es para los permisos personales, el segundo para los de grupo y el tercero para todos, de acuerdo a la siguiente tabla de permisos:\n",
    "\n",
    "    0: Sin permisos\n",
    "\n",
    "    1: Ejecución\n",
    "\n",
    "    2: Escritura\n",
    "\n",
    "    3: Lectura y escritura\n",
    "\n",
    "    4: Lectura\n",
    "\n",
    "    5: Lectura y ejecución\n",
    "\n",
    "    6: Lectura y escritura\n",
    "\n",
    "    7: Lectura, escritura y ejecución\n",
    "\n",
    "\n",
    "Ahora podemos ejecutar la instalación de conda\n",
    "\n",
    "    ./Miniconda3-latest-Linux-x86_64.sh\n",
    "\n",
    "Reinicie el basch con el siguiente comando para asegurarno que tome la nueva configuración\n",
    "\n",
    "    source ~/.bashrc"
   ]
  },
  {
   "cell_type": "markdown",
   "metadata": {
    "id": "4S86Sp-PimGJ"
   },
   "source": [
    "---\n",
    "## 1.0.2 En Windows\n",
    "  Decarga de miniconda\n",
    "\n",
    "  Descarge el archivo desde la siguente dirección\n",
    "\n",
    "        https://docs.conda.io/en/latest/miniconda.html\n",
    "\n",
    "\n",
    "\n",
    "\n",
    "\n"
   ]
  },
  {
   "cell_type": "markdown",
   "metadata": {
    "id": "-Tl5mjzcdw3R"
   },
   "source": [
    "## 1.0.3 Crear y entrar a un ambiente de trabajo  \n",
    "\n",
    "*   **-n:**  es el nombre del ambiente\n",
    "*   **python:** la version de Python\n",
    "*   **activate** activar el ambiente de trabajo\n",
    "\n",
    "\n",
    "      ...\n",
    "      $ conda create -n numerico anaconda python=3.7\n",
    "      ...\n",
    "      $ conda activate numerico"
   ]
  },
  {
   "cell_type": "markdown",
   "metadata": {
    "id": "6MMh53NMfdIS"
   },
   "source": [
    "## 1.0.4 Installar modulos y paquetes\n",
    "\n",
    "Instalación de distintas librerias de python\n",
    "\n",
    "    $ conda install numpy\n",
    "    $ conda install jupyter\n",
    "    $ conda install pandas\n",
    "    $ conda install scipy\n",
    "    $ conda install matplotlib\n",
    "    $ conda install ipython\n",
    "    $ conda install spyder\n",
    "\n",
    "\n"
   ]
  },
  {
   "cell_type": "markdown",
   "metadata": {
    "id": "DKnILxJ5jtia"
   },
   "source": []
  }
 ],
 "metadata": {
  "colab": {
   "provenance": [],
   "toc_visible": true
  },
  "kernelspec": {
   "display_name": "Python 3 (ipykernel)",
   "language": "python",
   "name": "python3"
  },
  "language_info": {
   "codemirror_mode": {
    "name": "ipython",
    "version": 3
   },
   "file_extension": ".py",
   "mimetype": "text/x-python",
   "name": "python",
   "nbconvert_exporter": "python",
   "pygments_lexer": "ipython3",
   "version": "3.8.10"
  }
 },
 "nbformat": 4,
 "nbformat_minor": 1
}
