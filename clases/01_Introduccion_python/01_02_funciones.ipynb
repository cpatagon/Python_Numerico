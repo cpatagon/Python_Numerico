{
 "cells": [
  {
   "cell_type": "markdown",
   "metadata": {
    "id": "aEralxVvg-VE"
   },
   "source": [
    "# Funciones en Python\n",
    "\n",
    "## Introducción\n",
    "Las funciones son bloques de código reutilizables que realizan una tarea específica. Son fundamentales en la programación porque permiten:\n",
    "- Modularizar el código\n",
    "- Mejorar la legibilidad\n",
    "- Facilitar el mantenimiento\n",
    "- Evitar la repetición de código\n",
    "\n",
    "## Definición de funciones\n",
    "\n",
    "La sintaxis básica para definir una función en Python es:\n",
    "\n",
    "```python\n",
    "def nombre_funcion(parametro1, parametro2, ...):\n",
    "    # Cuerpo de la función\n",
    "    return resultado\n",
    "```\n",
    "\n",
    "### Ejemplo básico\n",
    "\n",
    "```python\n",
    "def saludar(nombre):\n",
    "    return f\"Hola, {nombre}!\"\n",
    "\n",
    "# Uso de la función\n",
    "print(saludar(\"Ana\"))  # Output: Hola, Ana!\n",
    "```\n",
    "\n",
    "## Tipos de funciones\n",
    "\n",
    "### 1. Funciones sin parámetros\n",
    "\n",
    "```python\n",
    "def saludo_generico():\n",
    "    return \"Hola, mundo!\"\n",
    "\n",
    "print(saludo_generico())  # Output: Hola, mundo!\n",
    "```\n",
    "\n",
    "### 2. Funciones con parámetros\n",
    "\n",
    "```python\n",
    "def suma(a, b):\n",
    "    return a + b\n",
    "\n",
    "print(suma(3, 5))  # Output: 8\n",
    "```\n",
    "\n",
    "### 3. Funciones con parámetros por defecto\n",
    "\n",
    "```python\n",
    "def potencia(base, exponente=2):\n",
    "    return base ** exponente\n",
    "\n",
    "print(potencia(3))     # Output: 9\n",
    "print(potencia(3, 3))  # Output: 27\n",
    "```\n",
    "\n",
    "### 4. Funciones con número variable de argumentos\n",
    "\n",
    "Esto se logra principalmente mediante dos métodos: \\*args (para argumentos posicionales) y \\**kwargs (para argumentos de palabra clave).\n",
    "\n",
    "```python\n",
    "def suma_todo(*args):\n",
    "    return sum(args)\n",
    "\n",
    "print(suma_todo(1, 2, 3, 4))  # Output: 10\n",
    "\n",
    "\n",
    "\n",
    "def info_persona(**kwargs):\n",
    "    for clave, valor in kwargs.items():\n",
    "        print(f\"{clave}: {valor}\")\n",
    "\n",
    "info_persona(nombre=\"Ana\", edad=30, ciudad=\"Madrid\")\n",
    "info_persona(nombre=\"Luis\", profesion=\"Ingeniero\")\n",
    "```\n",
    "\n",
    "### 5. Funciones lambda (funciones anónimas)\n",
    "\n",
    "La función lambda en Python es una forma concisa de crear pequeñas funciones anónimas de una sola expresión.\n",
    "\n",
    "```python\n",
    "lambda argumentos: expresión\n",
    "\n",
    "cuadrado = lambda x: x**2\n",
    "print(cuadrado(4))  # Output: 16\n",
    "```\n",
    "\n",
    "## Alcance de variables\n",
    "\n",
    "- Variables locales: Definidas dentro de una función\n",
    "- Variables globales: Definidas fuera de las funciones\n",
    "\n",
    "```python\n",
    "x = 10  # Variable global\n",
    "\n",
    "def funcion():\n",
    "    y = 5  # Variable local\n",
    "    print(x)  # Puede acceder a la variable global\n",
    "    print(y)\n",
    "\n",
    "funcion()\n",
    "print(x)  # Funciona\n",
    "print(y)  # Error: y no está definida fuera de la función\n",
    "```\n",
    "\n",
    "## Documentación de funciones\n",
    "\n",
    "Es una buena práctica documentar las funciones usando docstrings:\n",
    "\n",
    "```python\n",
    "def area_rectangulo(largo, ancho):\n",
    "    \"\"\"\n",
    "    Calcula el área de un rectángulo.\n",
    "    \n",
    "    Args:\n",
    "    largo (float): Largo del rectángulo\n",
    "    ancho (float): Ancho del rectángulo\n",
    "    \n",
    "    Returns:\n",
    "    float: Área del rectángulo\n",
    "    \"\"\"\n",
    "    return largo * ancho\n",
    "```\n",
    "\n",
    "## Funciones recursivas\n",
    "\n",
    "Las funciones pueden llamarse a sí mismas:\n",
    "\n",
    "```python\n",
    "def factorial(n):\n",
    "    if n == 0 or n == 1:\n",
    "        return 1\n",
    "    else:\n",
    "        return n * factorial(n-1)\n",
    "\n",
    "print(factorial(5))  # Output: 120\n",
    "```\n",
    "\n",
    "## Mejores prácticas\n",
    "\n",
    "1. Nombres descriptivos: Use nombres que describan lo que hace la función.\n",
    "2. Una tarea por función: Cada función debe realizar una sola tarea bien definida.\n",
    "3. Evite efectos secundarios: Las funciones no deben modificar variables globales o estado externo.\n",
    "4. Mantenga las funciones cortas: Generalmente, una función no debe tener más de 20-30 líneas.\n",
    "5. Use type hints: Ayudan a entender qué tipos de datos espera y retorna la función.\n",
    "\n",
    "```python\n",
    "def dividir(a: float, b: float) -> float:\n",
    "    return a / b\n",
    "```\n",
    "\n",
    "## Ejercicio práctico\n",
    "\n",
    "Cree una función llamada `estadisticas` que tome una lista de números como argumento y retorne un diccionario con la media, mediana y moda de esos números. Use funciones auxiliares para cada cálculo.\n",
    "\n",
    "Este ejercicio permitirá a los estudiantes practicar la creación de funciones, el uso de parámetros, el retorno de valores complejos (diccionarios), y la modularización del código.\n",
    "\n"
   ]
  },
  {
   "cell_type": "markdown",
   "metadata": {
    "id": "ZjSweqf7DcUb"
   },
   "source": [
    "### Ejemplo funcion de fibonacci\n"
   ]
  },
  {
   "cell_type": "code",
   "execution_count": null,
   "metadata": {
    "colab": {
     "base_uri": "https://localhost:8080/"
    },
    "executionInfo": {
     "elapsed": 11,
     "status": "ok",
     "timestamp": 1692808244813,
     "user": {
      "displayName": "Luis Gomez",
      "userId": "00656069038044722993"
     },
     "user_tz": 240
    },
    "id": "GCnVrZteB5Zm",
    "outputId": "c1786d4a-0b61-4d88-ee80-5fae66f199af"
   },
   "outputs": [
    {
     "name": "stdout",
     "output_type": "stream",
     "text": [
      "1\n",
      "2\n",
      "3\n",
      "5\n",
      "8\n",
      "13\n",
      "21\n",
      "34\n",
      "la solucion: 34\n"
     ]
    }
   ],
   "source": [
    "def fibonacci(valor_max):\n",
    "  # Serie de Fibonacci:\n",
    "  # la suma de los dos abteriores define el siguiente valo\n",
    "  a, b = 0, 1\n",
    "  while b < valor_max:\n",
    "    a, b = b, a+b\n",
    "    print(b)\n",
    "  return b\n",
    "\n",
    "x= fibonacci(30)\n",
    "print('la solucion: {}'.format(x))"
   ]
  },
  {
   "cell_type": "markdown",
   "metadata": {
    "id": "MoSWlDBG714S"
   },
   "source": [
    "## Sentencia return\n",
    "\n",
    "Las funciones pueden comunicarse con el exterior de las mismas, al proceso principal del programa usando la sentencia return. El proceso de comunicación con el exterior se hace devolviendo valores. A continuación, un ejemplo de función usando return:"
   ]
  },
  {
   "cell_type": "code",
   "execution_count": null,
   "metadata": {
    "colab": {
     "base_uri": "https://localhost:8080/"
    },
    "executionInfo": {
     "elapsed": 259,
     "status": "ok",
     "timestamp": 1692808465937,
     "user": {
      "displayName": "Luis Gomez",
      "userId": "00656069038044722993"
     },
     "user_tz": 240
    },
    "id": "yRNCB4np7_F1",
    "outputId": "ca69de2a-dae5-43fd-9d0f-335a975a1eff"
   },
   "outputs": [
    {
     "name": "stdout",
     "output_type": "stream",
     "text": [
      "[1, 1, 2, 3, 5, 8, 13, 21]\n",
      "<class 'list'>\n"
     ]
    }
   ],
   "source": [
    "def fibonacci(valor_max):\n",
    "  # Serie de Fibonacci:xi−1\n",
    "  # la suma de los dos abteriores define el siguiente valo\n",
    "  a, b = 0, 1\n",
    "  c = list()\n",
    "  while b < valor_max:\n",
    "    c.append(b)\n",
    "    a, b = b, a+b\n",
    "  return c\n",
    "\n",
    "x=fibonacci(28)\n",
    "\n",
    "print(x)\n",
    "print(type(fibonacci(30)))"
   ]
  },
  {
   "cell_type": "markdown",
   "metadata": {
    "id": "3EH9WwyPH75b"
   },
   "source": [
    "## Argumentos y parámetros\n",
    "\n",
    "Al definir una función los valores los cuales se reciben se denominan parámetros, pero durante la llamada los valores que se envían se denominan argumentos."
   ]
  },
  {
   "cell_type": "markdown",
   "metadata": {
    "id": "u6x6RwMMIE5D"
   },
   "source": [
    "### Por posición\n",
    "\n",
    "Cuando enviá argumentos a una función, estos se reciben por orden en los parámetros definidos. Se dice por tanto que son argumentos por posición:"
   ]
  },
  {
   "cell_type": "code",
   "execution_count": 1,
   "metadata": {
    "colab": {
     "base_uri": "https://localhost:8080/"
    },
    "executionInfo": {
     "elapsed": 420,
     "status": "ok",
     "timestamp": 1692796600945,
     "user": {
      "displayName": "Luis Gomez",
      "userId": "00656069038044722993"
     },
     "user_tz": 240
    },
    "id": "Cd51uNHyhwdH",
    "outputId": "cdc4b505-56e0-4d5e-9bb0-cb1dfc262c8e",
    "scrolled": true
   },
   "outputs": [
    {
     "name": "stdout",
     "output_type": "stream",
     "text": [
      "20\n",
      "-20\n"
     ]
    }
   ],
   "source": [
    "def resta(a, b):\n",
    "  return a - b\n",
    "print(resta(30, 10))\n",
    "print(resta(10, 30))"
   ]
  },
  {
   "cell_type": "markdown",
   "metadata": {
    "id": "l1q_D4Oxh89G"
   },
   "source": [
    "### Por nombre\n",
    "\n",
    "Sin embargo es posible evadir el orden de los parámetros si indica durante la llamada que valor tiene cada parámetro a partir de su nombre:\n",
    "\n"
   ]
  },
  {
   "cell_type": "code",
   "execution_count": null,
   "metadata": {
    "colab": {
     "base_uri": "https://localhost:8080/"
    },
    "executionInfo": {
     "elapsed": 227,
     "status": "ok",
     "timestamp": 1692808556599,
     "user": {
      "displayName": "Luis Gomez",
      "userId": "00656069038044722993"
     },
     "user_tz": 240
    },
    "id": "kwgpJyrVIHqM",
    "outputId": "720af812-c62f-4281-ae4f-a8e5d9dc09f8"
   },
   "outputs": [
    {
     "name": "stdout",
     "output_type": "stream",
     "text": [
      "-20\n"
     ]
    }
   ],
   "source": [
    "def resta(a, b):\n",
    "  return a - b\n",
    "print(resta(b=30, a=10))\n"
   ]
  },
  {
   "cell_type": "markdown",
   "metadata": {
    "id": "UJLWJvW3iVWv"
   },
   "source": [
    "### Llamada sin argumentos\n",
    "\n",
    "Al momento de llamar una función la cual tiene definidos unos parámetros, si no pasa los argumentos correctamente provocará una excepción TypeError:\n"
   ]
  },
  {
   "cell_type": "code",
   "execution_count": 2,
   "metadata": {
    "colab": {
     "base_uri": "https://localhost:8080/",
     "height": 175
    },
    "executionInfo": {
     "elapsed": 258,
     "status": "error",
     "timestamp": 1692808572382,
     "user": {
      "displayName": "Luis Gomez",
      "userId": "00656069038044722993"
     },
     "user_tz": 240
    },
    "id": "PPaPC3d3ibKD",
    "outputId": "2dd788c9-1fdd-4e59-b9fd-7fd84d926de8"
   },
   "outputs": [
    {
     "ename": "TypeError",
     "evalue": "resta() missing 2 required positional arguments: 'a' and 'b'",
     "output_type": "error",
     "traceback": [
      "\u001b[0;31m---------------------------------------------------------------------------\u001b[0m",
      "\u001b[0;31mTypeError\u001b[0m                                 Traceback (most recent call last)",
      "\u001b[0;32m/tmp/ipykernel_57783/1436795143.py\u001b[0m in \u001b[0;36m<module>\u001b[0;34m\u001b[0m\n\u001b[0;32m----> 1\u001b[0;31m \u001b[0mresta\u001b[0m\u001b[0;34m(\u001b[0m\u001b[0;34m)\u001b[0m\u001b[0;34m\u001b[0m\u001b[0;34m\u001b[0m\u001b[0m\n\u001b[0m",
      "\u001b[0;31mTypeError\u001b[0m: resta() missing 2 required positional arguments: 'a' and 'b'"
     ]
    }
   ],
   "source": [
    "resta()"
   ]
  },
  {
   "cell_type": "markdown",
   "metadata": {
    "id": "YcaIf9iTihqu"
   },
   "source": [
    "### Parámetros por defecto\n",
    "\n",
    "Para solucionar la excepción TypeError ejecutada al momento de la llamada a una función sin argumentos, se puede asignar valores por defecto nulos a los parámetros, de esa forma puede hacer una comprobación antes de ejecutar el código de la función:"
   ]
  },
  {
   "cell_type": "code",
   "execution_count": null,
   "metadata": {
    "colab": {
     "base_uri": "https://localhost:8080/"
    },
    "executionInfo": {
     "elapsed": 239,
     "status": "ok",
     "timestamp": 1692808646494,
     "user": {
      "displayName": "Luis Gomez",
      "userId": "00656069038044722993"
     },
     "user_tz": 240
    },
    "id": "PQWOpZieida6",
    "outputId": "6ffbed7b-59e0-44db-99e9-0af5da3da9eb"
   },
   "outputs": [
    {
     "name": "stdout",
     "output_type": "stream",
     "text": [
      "primera resta de 30 -10 = 20\n",
      "¡¡¡ Error, debes enviar dos números a la función !!!\n",
      "resta sin valores produce: None\n"
     ]
    }
   ],
   "source": [
    "def resta(a=None, b=None):\n",
    "  if a == None or b == None:\n",
    "    print(\"¡¡¡ Error, debes enviar dos números a la función !!!\")\n",
    "    return\n",
    "  return a - b\n",
    "#yf = [f(cx) for cx in x]\n",
    "#fig, ax = plt.subplots()\n",
    "#sns.scatterplot(x, y, ax = ax);\n",
    "#ax.plot(x, yf, linestyle = \"-\");\n",
    "print('primera resta de 30 -10 = {}'.format(resta(30, 10)))\n",
    "print('resta sin valores produce: {}'.format(resta()))"
   ]
  },
  {
   "cell_type": "code",
   "execution_count": null,
   "metadata": {
    "id": "mMWjyP30n0a0"
   },
   "outputs": [],
   "source": [
    "def multexpo(a, b, expo=None):\n",
    "    if expo is None:yf = [f(cx) for cx in x]\n",
    "fig, ax = plt.subplots()\n",
    "sns.scatterplot(x, y, ax = ax);\n",
    "ax.plot(x, yf, linestyle = \"-\");\n",
    "        return a*b\n",
    "    else:\n",
    "        return a*b**expo"
   ]
  },
  {
   "cell_type": "code",
   "execution_count": null,
   "metadata": {
    "colab": {
     "base_uri": "https://localhost:8080/",
     "height": 35
    },
    "executionInfo": {
     "elapsed": 708,
     "status": "ok",
     "timestamp": 1602161551769,
     "user": {
      "displayName": "Luis Gomez",
      "photoUrl": "https://lh3.googleusercontent.com/a-/AOh14GhgMxcxoQRX6YmkMDaHTW4-qZ0OpyN3QQ75T4i4=s64",
      "userId": "00656069038044722993"
     },
     "user_tz": 180
    },
    "id": "se_Ac8Jrn0bB",
    "outputId": "d7c77b4f-f2aa-45ee-d126-adf80b807878"
   },
   "outputs": [
    {
     "data": {
      "text/plain": [
       "54"
      ]
     },
     "execution_count": 13,
     "metadata": {
      "tags": []
     },
     "output_type": "execute_result"
    }
   ],
   "source": [
    "multexpo(2,3)"
   ]
  },
  {
   "cell_type": "code",
   "execution_count": null,
   "metadata": {
    "colab": {
     "base_uri": "https://localhost:8080/",
     "height": 35
    },
    "executionInfo": {
     "elapsed": 1065,
     "status": "ok",
     "timestamp": 1600627367164,
     "user": {
      "displayName": "Luis Gomez",
      "photoUrl": "https://lh3.googleusercontent.com/a-/AOh14GhgMxcxoQRX6YmkMDaHTW4-qZ0OpyN3QQ75T4i4=s64",
      "userId": "00656069038044722993"
     },
     "user_tz": 180
    },
    "id": "jQH23rRan0bL",
    "outputId": "483ed640-57ee-4e54-daa8-bcd39add665e"
   },
   "outputs": [
    {
     "data": {
      "text/plain": [
       "18"
      ]
     },
     "execution_count": 23,
     "metadata": {
      "tags": []
     },
     "output_type": "execute_result"
    }
   ],
   "source": [
    "multexpo(2,3,2)"
   ]
  },
  {
   "cell_type": "code",
   "execution_count": null,
   "metadata": {
    "colab": {
     "base_uri": "https://localhost:8080/",
     "height": 35
    },
    "executionInfo": {
     "elapsed": 1022,
     "status": "ok",
     "timestamp": 1600627369731,
     "user": {
      "displayName": "Luis Gomez",
      "photoUrl": "https://lh3.googleusercontent.com/a-/AOh14GhgMxcxoQRX6YmkMDaHTW4-qZ0OpyN3QQ75T4i4=s64",
      "userId": "00656069038044722993"
     },
     "user_tz": 180
    },
    "id": "EfnX7tihn0bU",
    "outputId": "bb5bedde-b093-4694-dd36-f097cc6726fc"
   },
   "outputs": [
    {
     "data": {
      "text/plain": [
       "18"
      ]
     },
     "execution_count": 24,
     "metadata": {
      "tags": []
     },
     "output_type": "execute_result"
    }
   ],
   "source": [
    "multexpo(2, 3, expo=2)"
   ]
  },
  {
   "cell_type": "markdown",
   "metadata": {
    "id": "R9XbW6W43BM9"
   },
   "source": [
    "## Argumentos indeterminados\n",
    "\n",
    "En alguna ocasión usted no sabe previamente cuantos elementos necesita enviar a una función. En estos casos puede utilizar los parámetros indeterminados por posición y por nombre."
   ]
  },
  {
   "cell_type": "markdown",
   "metadata": {
    "id": "TWJMWLa23UWO"
   },
   "source": [
    "### Por posición\n",
    "\n",
    "Usted debe crear una lista dinámica de argumentos, es decir, un tipo tupla, definiendo el parámetro con un asterisco, para recibir los parámetros indeterminados por posición:"
   ]
  },
  {
   "cell_type": "code",
   "execution_count": null,
   "metadata": {
    "colab": {
     "base_uri": "https://localhost:8080/",
     "height": 86
    },
    "executionInfo": {
     "elapsed": 990,
     "status": "ok",
     "timestamp": 1603368654720,
     "user": {
      "displayName": "Luis Gomez",
      "photoUrl": "https://lh3.googleusercontent.com/a-/AOh14GhgMxcxoQRX6YmkMDaHTW4-qZ0OpyN3QQ75T4i4=s64",
      "userId": "00656069038044722993"
     },
     "user_tz": 180
    },
    "id": "-NIyRWJon0bc",
    "outputId": "47b86fd0-99e1-4cb4-e503-0368bbf909b9"
   },
   "outputs": [
    {
     "name": "stdout",
     "output_type": "stream",
     "text": [
      "a\n",
      "b\n",
      "c\n",
      "c\n"
     ]
    }
   ],
   "source": [
    "# valores por defecto\n",
    "def pocision(*arg):\n",
    "  for a in arg:\n",
    "    print(a)\n",
    "\n",
    "pocision('a','b','c', 'c')\n"
   ]
  },
  {
   "cell_type": "markdown",
   "metadata": {
    "id": "8miey9Bc4m6_"
   },
   "source": [
    "### Por nombre\n",
    "\n",
    "Para recibir un número indeterminado de parámetros por nombre (clave-valor o en inglés keyword args), usted debe crear un diccionario dinámico de argumentos definiendo el parámetro con dos asteriscos:"
   ]
  },
  {
   "cell_type": "code",
   "execution_count": null,
   "metadata": {
    "id": "-WWqrINQn0br"
   },
   "outputs": [],
   "source": [
    "def indeterminados_nombre(**kwargs):\n",
    "  for kwarg in kwargs:\n",
    "    print (kwarg, \"=>\", kwargs[kwarg])"
   ]
  },
  {
   "cell_type": "code",
   "execution_count": null,
   "metadata": {
    "colab": {
     "base_uri": "https://localhost:8080/",
     "height": 69
    },
    "executionInfo": {
     "elapsed": 964,
     "status": "ok",
     "timestamp": 1603368737039,
     "user": {
      "displayName": "Luis Gomez",
      "photoUrl": "https://lh3.googleusercontent.com/a-/AOh14GhgMxcxoQRX6YmkMDaHTW4-qZ0OpyN3QQ75T4i4=s64",
      "userId": "00656069038044722993"
     },
     "user_tz": 180
    },
    "id": "gl9VC9v2n0bx",
    "outputId": "b63d512a-4825-4a27-ea62-545332f7702d"
   },
   "outputs": [
    {
     "name": "stdout",
     "output_type": "stream",
     "text": [
      "a => 2\n",
      "b => 3\n",
      "expo => 2\n"
     ]
    }
   ],
   "source": [
    "args = dict(a=2, b=3, expo=2)\n",
    "indeterminados_nombre(**args)"
   ]
  },
  {
   "cell_type": "markdown",
   "metadata": {
    "id": "kiu5bf8D2c5L"
   },
   "source": [
    "## Funciones anónimas\n",
    "\n",
    "Una función anónima, como su nombre indica es una función sin nombre. Es decir, es posible ejecutar una función sin referenciar un nombre y sin definirla con def. La función anónima debe ser una única expresión en lugar de un bloque de acciones como ocurre con def. Las funciones anónimas se implementan con la expresión lambda. Esta es unas de las funcionalidades más potentes de Python. En resumen, las funciones anónimas lambda sirven para realizar funciones simples, las funciones definidas con def sirven para manejar tareas más extensas.\n"
   ]
  },
  {
   "cell_type": "markdown",
   "metadata": {
    "id": "v8ehwJudhUNT"
   },
   "source": [
    "### Función Lambda\n",
    "\n",
    "En Python, una función lambda es una forma de crear funciones anónimas en una sola línea de código. A diferencia de una función definida con def, una función lambda se utiliza para operaciones más sencillas y se limita a una sola expresión.\n",
    "\n",
    "La sintaxis de una función lambda es:\n",
    "\n",
    "\n",
    "```[C]\n",
    "lambda argumentos: expresion\n",
    "```\n"
   ]
  },
  {
   "cell_type": "markdown",
   "metadata": {
    "id": "P0nbQhFXepPe"
   },
   "source": [
    "####  Ejemplo de función Lambda\n",
    "\n",
    "Si deconstruye una función sencilla, puede llegar a una función lambda. Por ejemplo la siguiente función es para doblar un valor de un número:"
   ]
  },
  {
   "cell_type": "code",
   "execution_count": null,
   "metadata": {
    "colab": {
     "base_uri": "https://localhost:8080/"
    },
    "executionInfo": {
     "elapsed": 228,
     "status": "ok",
     "timestamp": 1692808957686,
     "user": {
      "displayName": "Luis Gomez",
      "userId": "00656069038044722993"
     },
     "user_tz": 240
    },
    "id": "l9dVDXP22Fsw",
    "outputId": "e41e75d0-4427-46d8-dad4-cb650f0656b3"
   },
   "outputs": [
    {
     "name": "stdout",
     "output_type": "stream",
     "text": [
      "[-2 -1  0  1  2  3]\n",
      "[-10  -3  -2  -1   6  25]\n"
     ]
    }
   ],
   "source": [
    "# llamamos a la libreríía de Numpy para la función arange()\n",
    "import numpy as np\n",
    "\n",
    "f = lambda x1: x1**3-2\n",
    "x=np.arange(-2,4, 1)\n",
    "print(x)\n",
    "print(f(x))"
   ]
  },
  {
   "cell_type": "code",
   "execution_count": 4,
   "metadata": {
    "colab": {
     "base_uri": "https://localhost:8080/",
     "height": 447
    },
    "executionInfo": {
     "elapsed": 288,
     "status": "ok",
     "timestamp": 1692809122358,
     "user": {
      "displayName": "Luis Gomez",
      "userId": "00656069038044722993"
     },
     "user_tz": 240
    },
    "id": "EHVAkXhChUNU",
    "outputId": "26ad6db6-d843-4ee5-dd93-04c3982fc6d4"
   },
   "outputs": [
    {
     "data": {
      "text/plain": [
       "[<matplotlib.lines.Line2D at 0x7f293b9ca220>]"
      ]
     },
     "execution_count": 4,
     "metadata": {},
     "output_type": "execute_result"
    },
    {
     "data": {
      "image/png": "[encoded data removed]",
      "text/plain": [
       "<Figure size 640x480 with 1 Axes>"
      ]
     },
     "metadata": {},
     "output_type": "display_data"
    }
   ],
   "source": [
    "import numpy as np\n",
    "import matplotlib.pyplot as plt\n",
    "\n",
    "f = lambda x1: x1**3-2\n",
    "\n",
    "x=np.arange(-2.0,4.0,0.8)\n",
    "\n",
    "plt.plot(x,f(x), 'y*-')\n",
    "#print(f(x))\n"
   ]
  },
  {
   "cell_type": "code",
   "execution_count": null,
   "metadata": {
    "colab": {
     "base_uri": "https://localhost:8080/"
    },
    "executionInfo": {
     "elapsed": 2,
     "status": "ok",
     "timestamp": 1692809158672,
     "user": {
      "displayName": "Luis Gomez",
      "userId": "00656069038044722993"
     },
     "user_tz": 240
    },
    "id": "JnYjYGe0hUNV",
    "outputId": "4ea29c92-e0c9-401b-e20a-85274dda82ed"
   },
   "outputs": [
    {
     "data": {
      "text/plain": [
       "25"
      ]
     },
     "execution_count": 14,
     "metadata": {},
     "output_type": "execute_result"
    }
   ],
   "source": [
    "f(3)"
   ]
  },
  {
   "cell_type": "markdown",
   "metadata": {
    "id": "wkD4mYWffEwZ"
   },
   "source": [
    "## Funciones recursivas\n",
    "\n",
    "Las funciones recursivas son funciones que se llaman a sí mismas durante su propia ejecución. Son similares a las iteraciones, pero se debe prestar atencióón al momento en que dejan de iterar, de los contrario la solución podría ser infinita colgando el sistema."
   ]
  },
  {
   "cell_type": "code",
   "execution_count": null,
   "metadata": {
    "colab": {
     "base_uri": "https://localhost:8080/"
    },
    "executionInfo": {
     "elapsed": 314,
     "status": "ok",
     "timestamp": 1692809246121,
     "user": {
      "displayName": "Luis Gomez",
      "userId": "00656069038044722993"
     },
     "user_tz": 240
    },
    "id": "8t18iD5Ze_xC",
    "outputId": "08cbdb48-c74f-418e-b03c-633d2c166b8f"
   },
   "outputs": [
    {
     "name": "stdout",
     "output_type": "stream",
     "text": [
      "7\n",
      "6\n",
      "5\n",
      "4\n",
      "3\n",
      "2\n",
      "1\n",
      "despegue!\n"
     ]
    }
   ],
   "source": [
    "def cuenta_regresiva(numero):\n",
    "  numero -= 1\n",
    "  if numero > 0:\n",
    "    print (numero)\n",
    "    cuenta_regresiva(numero)\n",
    "  else:\n",
    "    print(\"despegue!\")\n",
    "\n",
    "cuenta_regresiva(8)"
   ]
  },
  {
   "cell_type": "markdown",
   "metadata": {
    "id": "Exu6Mbxtt6RY"
   },
   "source": []
  },
  {
   "cell_type": "code",
   "execution_count": 5,
   "metadata": {
    "colab": {
     "base_uri": "https://localhost:8080/",
     "height": 399
    },
    "executionInfo": {
     "elapsed": 1146,
     "status": "ok",
     "timestamp": 1603369513024,
     "user": {
      "displayName": "Luis Gomez",
      "photoUrl": "https://lh3.googleusercontent.com/a-/AOh14GhgMxcxoQRX6YmkMDaHTW4-qZ0OpyN3QQ75T4i4=s64",
      "userId": "00656069038044722993"
     },
     "user_tz": 180
    },
    "id": "gsFk6rPUiEfZ",
    "outputId": "b7d2f7fa-64c4-4eda-b891-5f955c989b18",
    "scrolled": true
   },
   "outputs": [
    {
     "name": "stdout",
     "output_type": "stream",
     "text": [
      "|f(x)| = 3.0000, a= 3.000, b = -5.000\n",
      "|f(x)| = 1.0000, a= 3.000, b = -1.000\n",
      "|f(x)| = 6.0000, a= 3.000, b = 1.000\n",
      "|f(x)| = 1.3750, a= 2.000, b = 1.000\n",
      "|f(x)| = 0.0469, a= 1.500, b = 1.000\n",
      "|f(x)| = 0.5996, a= 1.500, b = 1.250\n",
      "|f(x)| = 0.2610, a= 1.375, b = 1.250\n",
      "|f(x)| = 0.1033, a= 1.312, b = 1.250\n",
      "|f(x)| = 0.0273, a= 1.281, b = 1.250\n",
      "|f(x)| = 0.0100, a= 1.266, b = 1.250\n",
      "|f(x)| = 0.0086, a= 1.266, b = 1.258\n",
      "|f(x)| = 0.0007, a= 1.262, b = 1.258\n",
      "|f(x)| = 0.0039, a= 1.262, b = 1.260\n",
      "|f(x)| = 0.0016, a= 1.261, b = 1.260\n",
      "|f(x)| = 0.0004, a= 1.260, b = 1.260\n",
      "|f(x)| = 0.0002, a= 1.260, b = 1.260\n",
      "|f(x)| = 0.0001, a= 1.260, b = 1.260\n",
      "|f(x)| = 0.0000, a= 1.260, b = 1.260\n",
      "|f(x)| = 0.0001, a= 1.260, b = 1.260\n",
      "|f(x)| = 0.0000, a= 1.260, b = 1.260\n",
      "|f(x)| = 0.0000, a= 1.260, b = 1.260\n",
      "biseccion: 1.2599220275878906\n"
     ]
    }
   ],
   "source": [
    "def biseccion(f,a,b,err,graf):\n",
    "  c=(a+b)/2\n",
    "  if graf=='graf': # esto esentencia returns solo para imprimir los valores\n",
    "    print(\"|f(x)| = {:.4f}, a= {:.3f}, b = {:.3f}\".format(abs(f(c)), a,b))\n",
    "  if abs(f(c)) < err:\n",
    "    print('biseccion:', c)\n",
    "  elif  f(c)*f(b) < 0:\n",
    "    biseccion(f,c,b,err,graf)\n",
    "  else:\n",
    "    biseccion(f,a,c,err,graf)\n",
    "\n",
    "biseccion(f,3,-5,1e-5,'graf')"
   ]
  },
  {
   "cell_type": "markdown",
   "metadata": {
    "id": "ybViG3Zd93hV"
   },
   "source": [
    "# Gráficos con Pyplot de Matplotlib\n",
    "\n",
    "Matplotlib es una biblioteca de Python utilizada para la visualización de datos en 2D y 3D. Permite generar una amplia variedad de gráficos y figuras, incluidos gráficos de líneas, barras, dispersión, histogramas, gráficos de contorno, gráficos en 3D y muchos más. Matplotlib es ampliamente utilizado en la ciencia de datos, investigación científica, ingeniería y aplicaciones de análisis de datos.\n",
    "Características principales de Matplotlib:\n",
    "\n",
    "* **Versatilidad:** Ofrece una gran variedad de gráficos, desde simples gráficos de líneas hasta complejas visualizaciones en 3D.\n",
    "\n",
    "* **Personalización:** Proporciona una amplia gama de opciones para personalizar colores, estilos, ejes, leyendas, etiquetas y otros elementos de la figura.\n",
    "\n",
    "* **Interactividad:** Soporta gráficos interactivos que pueden integrarse en aplicaciones utilizando widgets y otros métodos.\n",
    "\n",
    "* **Integración:** Se integra bien con otras bibliotecas de Python como NumPy, pandas y SciPy, lo que facilita el análisis y la visualización de datos complejos.\n",
    "\n",
    "* **Soporte de Salida:** Puede generar gráficos en una variedad de formatos de salida, como PNG, PDF, SVG y otros.\n",
    "\n",
    "- **Compatibilidad:** Funciona en todas las plataformas que soportan Python, incluidos Windows, macOS y Linux.\n",
    "\n"
   ]
  },
  {
   "cell_type": "markdown",
   "metadata": {
    "id": "O31Pcs_eAyYF"
   },
   "source": [
    "#### Ejemplo\n",
    "\n",
    "Primero graficamos para ver si la ecuación tienen solución y en torno a que valores tendría"
   ]
  },
  {
   "cell_type": "code",
   "execution_count": null,
   "metadata": {
    "colab": {
     "base_uri": "https://localhost:8080/",
     "height": 476
    },
    "executionInfo": {
     "elapsed": 1218,
     "status": "ok",
     "timestamp": 1692809727004,
     "user": {
      "displayName": "Luis Gomez",
      "userId": "00656069038044722993"
     },
     "user_tz": 240
    },
    "id": "AFB8PAOo2Fc5",
    "outputId": "861e59e8-57de-4fc6-c09c-3c2c406431c2"
   },
   "outputs": [
    {
     "data": {
      "image/png": "[encoded data removed]",
      "text/plain": [
       "<Figure size 640x480 with 1 Axes>"
      ]
     },
     "metadata": {},
     "output_type": "display_data"
    }
   ],
   "source": [
    "import matplotlib.pyplot as plt # esta libreria nos ayuda a graficar\n",
    "# esto es parte de la gráfica\n",
    "plt.plot(x,f(x),'--') # grafica una línea\n",
    "plt.plot(x,f(x),'ro') # #grafica un punto\n",
    "plt.title('aqui se representa la función  $f(x)=x^3-2 $') # coloca un título\n",
    "plt.xlabel('x') # coloca un título el eje x\n",
    "plt.ylabel('$f(x)$') # coloca un título el eje y\n",
    "plt.show()"
   ]
  },
  {
   "cell_type": "markdown",
   "metadata": {
    "id": "6oTCDDUt2-Xr"
   },
   "source": [
    "# SciPy\n",
    "\n",
    "SciPy es una biblioteca de Python utilizada para tareas de cómputo científico y técnico. Se construye sobre NumPy, una biblioteca que proporciona estructuras de datos para matrices eficientes, y extiende su potencia para tareas más especializadas. SciPy es parte de un ecosistema más amplio de bibliotecas científicas, que incluye también herramientas como Matplotlib para la visualización de datos, y pandas para la manipulación de datos.\n",
    "Características principales de SciPy\n",
    "\n",
    "- **Optimización:** Proporciona algoritmos para encontrar mínimos y máximos en funciones, resolver problemas de programación lineal, etc.\n",
    "\n",
    "- **Integración:** Incluye métodos para realizar integraciones numéricas de funciones y solucionar ecuaciones diferenciales ordinarias.\n",
    "\n",
    "- **Interpolación:** Permite realizar interpolaciones con diferentes métodos y ajustar curvas a conjuntos de datos.\n",
    "\n",
    "- **Álgebra Lineal:** Contiene funciones para resolver sistemas de ecuaciones lineales, encontrar autovalores y autovectores, y mucho más.\n",
    "\n",
    "- **Estadísticas y Funciones de Probabilidad:** Ofrece una amplia gama de distribuciones de probabilidad y diversas funciones estadísticas.\n",
    "\n",
    "- **Transformadas de Fourier:** Utilizadas en la descomposición de señales en sus componentes de frecuencia.\n",
    "\n",
    "- **Procesamiento de Señales:** Incluye funciones para el filtrado de señales, transformaciones de onda y otros.\n",
    "\n",
    "- **Manejo de Imágenes:** Proporciona herramientas para el análisis y manipulación básicos de imágenes.\n",
    "\n",
    "## Funciones implementadas en Scipy  \n",
    "\n"
   ]
  },
  {
   "cell_type": "code",
   "execution_count": null,
   "metadata": {
    "colab": {
     "base_uri": "https://localhost:8080/",
     "height": 104
    },
    "executionInfo": {
     "elapsed": 991,
     "status": "ok",
     "timestamp": 1603369523016,
     "user": {
      "displayName": "Luis Gomez",
      "photoUrl": "https://lh3.googleusercontent.com/a-/AOh14GhgMxcxoQRX6YmkMDaHTW4-qZ0OpyN3QQ75T4i4=s64",
      "userId": "00656069038044722993"
     },
     "user_tz": 180
    },
    "id": "NHj1A7b-x-mr",
    "outputId": "60cec83b-d11e-4f24-8396-7077498bc67f"
   },
   "outputs": [
    {
     "name": "stdout",
     "output_type": "stream",
     "text": [
      "biseccion: 1.2599210498956381\n",
      "fsovel   : 1.2599210498948732\n",
      "root     : 1.2599210498948732\n",
      "newton   : 1.259921049894873\n",
      "bisect   : 1.2599210498951834\n"
     ]
    }
   ],
   "source": [
    "from scipy.optimize import fsolve\n",
    "from scipy.optimize import root\n",
    "from scipy.optimize import newton\n",
    "from scipy.optimize import root_scalar\n",
    "\n",
    "biseccion(f,-3,5,1e-11,'nograf')\n",
    "print('fsovel   : {}'.format(fsolve(f,-3)[0]))\n",
    "print('root     : {}'.format(root(f,-3)['x'][0]))\n",
    "print('newton   : {}'.format(newton(f,-3)))\n",
    "print('bisect   : {}'.format(root_scalar(f, method='bisect', bracket=[-3,3]).root))"
   ]
  },
  {
   "cell_type": "code",
   "execution_count": null,
   "metadata": {
    "colab": {
     "base_uri": "https://localhost:8080/",
     "height": 34
    },
    "executionInfo": {
     "elapsed": 5530,
     "status": "ok",
     "timestamp": 1603369919389,
     "user": {
      "displayName": "Luis Gomez",
      "photoUrl": "https://lh3.googleusercontent.com/a-/AOh14GhgMxcxoQRX6YmkMDaHTW4-qZ0OpyN3QQ75T4i4=s64",
      "userId": "00656069038044722993"
     },
     "user_tz": 180
    },
    "id": "L_4OjTmSSbFE",
    "outputId": "893e02a4-e8a7-4851-c30a-cc422efca5be"
   },
   "outputs": [
    {
     "data": {
      "text/plain": [
       "1.2599210498948732"
      ]
     },
     "execution_count": 20,
     "metadata": {
      "tags": []
     },
     "output_type": "execute_result"
    }
   ],
   "source": [
    "root(f,-3)['x'][0]\n"
   ]
  },
  {
   "cell_type": "code",
   "execution_count": null,
   "metadata": {
    "colab": {
     "base_uri": "https://localhost:8080/",
     "height": 449
    },
    "executionInfo": {
     "elapsed": 882,
     "status": "ok",
     "timestamp": 1692797948023,
     "user": {
      "displayName": "Luis Gomez",
      "userId": "00656069038044722993"
     },
     "user_tz": 240
    },
    "id": "nAaeNGzPnp7z",
    "outputId": "ba49b2a0-233b-4c36-fa27-084170a52f2a"
   },
   "outputs": [
    {
     "data": {
      "image/png": "[encoded data removed]",
      "text/plain": [
       "<Figure size 640x480 with 1 Axes>"
      ]
     },
     "metadata": {},
     "output_type": "display_data"
    }
   ],
   "source": [
    "from scipy.integrate import odeint\n",
    "import numpy as np\n",
    "import matplotlib.pyplot as plt\n",
    "\n",
    "# Definir la función que representa la ecuación diferencial dy/dx = -2y\n",
    "def model(y, t):\n",
    "    return -2 * y\n",
    "\n",
    "# Condiciones iniciales y puntos en el tiempo donde evaluar\n",
    "y0 = 1\n",
    "time = np.linspace(0, 5, 100)\n",
    "\n",
    "# Resolver la ecuación diferencial\n",
    "solution = odeint(model, y0, time)\n",
    "\n",
    "# Graficar la solución\n",
    "plt.plot(time, solution)\n",
    "plt.xlabel('Tiempo')\n",
    "plt.ylabel('y(t)')\n",
    "plt.show()"
   ]
  },
  {
   "cell_type": "markdown",
   "metadata": {
    "id": "x3fXYp_30LEh"
   },
   "source": [
    "## Funciones Simbólicas con SymPy\n",
    "\n",
    "SymPy es una biblioteca de Python para matemáticas simbólicas. A diferencia del cálculo numérico, donde se obtienen resultados aproximados, el cálculo simbólico se refiere a la manipulación de expresiones matemáticas en forma simbólica. Esto significa que SymPy puede manipular ecuaciones y fórmulas para proporcionar respuestas exactas en términos de símbolos en lugar de números aproximados.\n",
    "Características Principales de SymPy\n",
    "\n",
    "- **Álgebra Simbólica:** Puedes realizar operaciones de álgebra básica como expansión, factorización, simplificación, etc.\n",
    "\n",
    "- **Cálculo:** SymPy es capaz de realizar derivadas, integrales, límites y más.\n",
    "\n",
    "- **Ecuaciones Diferenciales:** Puedes resolver ecuaciones diferenciales simbólicamente.\n",
    "\n",
    "- **Álgebra Lineal:** Proporciona herramientas para trabajar con matrices, vectores, autovalores, autovectores, etc.\n",
    "\n",
    "- **Geometría Simbólica:** Puedes definir y manipular formas geométricas en términos simbólicos.\n",
    "\n",
    "- **Teoría de Números:** Incluye capacidades para manipular números primos, fracciones y otros aspectos de la teoría de números.\n",
    "\n",
    "- **Impresión Bonita:** Tiene capacidades para mostrar ecuaciones y fórmulas de una forma legible, similar a cómo se escriben en la notación matemática estándar. Esto es especialmente útil en cuadernos Jupyter y Google Colab.\n",
    "\n",
    "Ventajas de SymPy\n",
    "\n",
    "- **Exactitud:** Al trabajar simbólicamente, los resultados son exactos, no aproximados.\n",
    "\n",
    "- **Independiente:** SymPy es completamente escrito en Python y no requiere bibliotecas externas, lo que lo hace fácil de instalar y usar.\n",
    "\n",
    "- **Integración con otras bibliotecas:** SymPy se integra bien con bibliotecas de cálculo numérico como NumPy y SciPy, lo que permite cambiar fácilmente entre cálculo simbólico y numérico cuando sea necesario.\n",
    "\n"
   ]
  },
  {
   "cell_type": "code",
   "execution_count": null,
   "metadata": {
    "colab": {
     "base_uri": "https://localhost:8080/",
     "height": 55
    },
    "executionInfo": {
     "elapsed": 327,
     "status": "ok",
     "timestamp": 1692810287345,
     "user": {
      "displayName": "Luis Gomez",
      "userId": "00656069038044722993"
     },
     "user_tz": 240
    },
    "id": "AeulhMAs8r5E",
    "outputId": "b2448991-82cf-4a78-fb98-1ea8ab44e657"
   },
   "outputs": [
    {
     "data": {
      "text/latex": [
       "$\\displaystyle \\int x^{2} \\sin{\\left(x \\right)}\\, dx = - x^{2} \\cos{\\left(x \\right)} + 2 x \\sin{\\left(x \\right)} + 2 \\cos{\\left(x \\right)}$"
      ],
      "text/plain": [
       "⌠                                                   \n",
       "⎮  2                2                               \n",
       "⎮ x ⋅sin(x) dx = - x ⋅cos(x) + 2⋅x⋅sin(x) + 2⋅cos(x)\n",
       "⌡                                                   "
      ]
     },
     "execution_count": 23,
     "metadata": {},
     "output_type": "execute_result"
    }
   ],
   "source": [
    "# Importa la biblioteca SymPy y le da el alias sym\n",
    "import sympy as sym\n",
    "\n",
    "# Inicializa la función de impresión de SymPy\n",
    "sym.init_printing()\n",
    "\n",
    "# Define los símbolos x, y, z\n",
    "x, y, z = sym.symbols('x y z')\n",
    "\n",
    "# Define una integral indefinida y la asigna a la variable 'a'\n",
    "a = sym.Integral(x**2 * sym.sin(x), x)\n",
    "\n",
    "# Calcula y muestra la integral\n",
    "sym.Eq(a, a.doit())\n"
   ]
  },
  {
   "cell_type": "code",
   "execution_count": null,
   "metadata": {
    "colab": {
     "base_uri": "https://localhost:8080/",
     "height": 55
    },
    "executionInfo": {
     "elapsed": 408,
     "status": "ok",
     "timestamp": 1692810293780,
     "user": {
      "displayName": "Luis Gomez",
      "userId": "00656069038044722993"
     },
     "user_tz": 240
    },
    "id": "5YZksTSH1RP2",
    "outputId": "b96ffd9c-0739-4814-f6b1-39fdc480f5af"
   },
   "outputs": [
    {
     "data": {
      "text/latex": [
       "$\\displaystyle \\frac{d}{d y} \\sin{\\left(y \\right)} = \\cos{\\left(y \\right)}$"
      ],
      "text/plain": [
       "d                  \n",
       "──(sin(y)) = cos(y)\n",
       "dy                 "
      ]
     },
     "execution_count": 24,
     "metadata": {},
     "output_type": "execute_result"
    }
   ],
   "source": [
    "b=sym.Derivative(sym.sin(y),y)\n",
    "sym.Eq(b,b.doit())"
   ]
  },
  {
   "cell_type": "code",
   "execution_count": null,
   "metadata": {
    "colab": {
     "base_uri": "https://localhost:8080/",
     "height": 56
    },
    "executionInfo": {
     "elapsed": 316,
     "status": "ok",
     "timestamp": 1692810324722,
     "user": {
      "displayName": "Luis Gomez",
      "userId": "00656069038044722993"
     },
     "user_tz": 240
    },
    "id": "nAs0ZyvRk0Ez",
    "outputId": "79c4e83e-a1fc-4c4b-c786-fb697ff1108d"
   },
   "outputs": [
    {
     "name": "stdout",
     "output_type": "stream",
     "text": [
      "La derivada de la función es: 2*x + 2\n"
     ]
    },
    {
     "data": {
      "text/latex": [
       "$\\displaystyle 2 x + 2$"
      ],
      "text/plain": [
       "2⋅x + 2"
      ]
     },
     "execution_count": 26,
     "metadata": {},
     "output_type": "execute_result"
    }
   ],
   "source": [
    "from sympy import symbols, diff\n",
    "\n",
    "x = symbols('x')\n",
    "func = x**2 + 2*x + 1\n",
    "derivative = diff(func, x)\n",
    "print(\"La derivada de la función es:\", derivative)\n",
    "derivative\n"
   ]
  }
 ],
 "metadata": {
  "colab": {
   "provenance": [
    {
     "file_id": "1Bj98ThAf-tMXRrJWAgE-Wst1PEq3G8WQ",
     "timestamp": 1600611193868
    }
   ]
  },
  "kernelspec": {
   "display_name": "Python 3 (ipykernel)",
   "language": "python",
   "name": "python3"
  },
  "language_info": {
   "codemirror_mode": {
    "name": "ipython",
    "version": 3
   },
   "file_extension": ".py",
   "mimetype": "text/x-python",
   "name": "python",
   "nbconvert_exporter": "python",
   "pygments_lexer": "ipython3",
   "version": "3.8.10"
  }
 },
 "nbformat": 4,
 "nbformat_minor": 1
}
