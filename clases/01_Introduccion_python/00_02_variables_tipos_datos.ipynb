{
 "cells": [
  {
   "cell_type": "markdown",
   "metadata": {
    "id": "dGwiHUVDj-Ki"
   },
   "source": [
    "# Variables y tipos de datos en Python\n",
    "\n",
    "En Python, las variables se declaran en el momento de su creación, asignándoles un valor inicial. Su alcance depende de dónde se definan:\n",
    "\n",
    "1. **Variables locales:** Creadas dentro de una función, son visibles solo dentro de ella.\n",
    "2. **Variables globales:** Definidas fuera de cualquier función, son accesibles en todo el módulo.\n",
    "3. **Variables predefinidas:** Existen en módulos o paquetes específicos, como el número π (pi) en la librería NumPy.\n",
    "\n",
    "Para eliminar una variable y liberar la memoria que ocupa, se utiliza el comando `del`.\n",
    "\n",
    "Algunos módulos y paquetes en Python proporcionan variables predefinidas que representan constantes matemáticas, físicas u otros valores útiles. Estas variables están disponibles para su uso inmediato al importar el módulo correspondiente.\n",
    "\n",
    "## Tipos de datos \n",
    "\n",
    "- **Enteros (int):** Números enteros sin decimales.\n",
    "- **Flotantes (float):** Números con decimales.\n",
    "- **Cadenas (str):** Texto encerrado en comillas.\n",
    "- **Booleanos (bool):** Valores True o False.\n",
    "- **Listas (list):** Colecciones ordenadas y modificables.\n",
    "- **Tuplas (tuple):** Colecciones ordenadas e inmutables.\n",
    "- **Diccionarios (dict):** Colecciones de pares clave-valor.\n",
    "- **Conjuntos (set):** Colecciones no ordenadas de elementos únicos.\n",
    "- **None:** Representa la ausencia de valor.\n",
    "- **Complejos (complex):** Números complejos con parte real e imaginaria.\n",
    "\n",
    "\n",
    "### Entero (int)\n",
    "edad = 25\n",
    "\n",
    "### Flotante (float)\n",
    "altura = 1.75\n",
    "\n",
    "### Cadena (str)\n",
    "nombre = \"Ana García\"\n",
    "\n",
    "### Booleano (bool)\n",
    "es_estudiante = True\n",
    "\n",
    "### Lista (list)\n",
    "colores = [\"rojo\", \"verde\", \"azul\"]\n",
    "\n",
    "### Tupla (tuple)\n",
    "coordenadas = (40.7128, -74.0060)\n",
    "\n",
    "### Diccionario (dict)\n",
    "persona = {\n",
    "    \"nombre\": \"Juan\",\n",
    "    \"edad\": 30,\n",
    "    \"ciudad\": \"Madrid\"\n",
    "}\n",
    "\n",
    "### Conjunto (set)\n",
    "frutas = {\"manzana\", \"banana\", \"naranja\"}\n",
    "\n",
    "### None\n",
    "valor_nulo = None\n",
    "\n",
    "### Complejo (complex)\n",
    "numero_complejo = 3 + 4j\n"
   ]
  },
  {
   "cell_type": "markdown",
   "metadata": {
    "id": "sozcOmuokpiW"
   },
   "source": [
    "Los tipos de datos mas comunes son los flotantes y los enteros. La función nos permite consultar el tipo de variable que estamos utilisado. "
   ]
  },
  {
   "cell_type": "code",
   "execution_count": 1,
   "metadata": {
    "colab": {
     "base_uri": "https://localhost:8080/"
    },
    "executionInfo": {
     "elapsed": 281,
     "status": "ok",
     "timestamp": 1692667098155,
     "user": {
      "displayName": "Luis Gomez",
      "userId": "00656069038044722993"
     },
     "user_tz": 240
    },
    "id": "n2yZIKWokoHL",
    "outputId": "e7cfdd09-2a35-4150-f276-7d10a529ad37"
   },
   "outputs": [
    {
     "data": {
      "text/plain": [
       "int"
      ]
     },
     "execution_count": 1,
     "metadata": {},
     "output_type": "execute_result"
    }
   ],
   "source": [
    "var1= 4\n",
    "type(var1)"
   ]
  },
  {
   "cell_type": "code",
   "execution_count": 2,
   "metadata": {
    "colab": {
     "base_uri": "https://localhost:8080/",
     "height": 35
    },
    "executionInfo": {
     "elapsed": 1053,
     "status": "ok",
     "timestamp": 1600019207770,
     "user": {
      "displayName": "Luis Gomez",
      "photoUrl": "https://lh3.googleusercontent.com/a-/AOh14GhgMxcxoQRX6YmkMDaHTW4-qZ0OpyN3QQ75T4i4=s64",
      "userId": "00656069038044722993"
     },
     "user_tz": 180
    },
    "id": "UzaHYxdskeN1",
    "outputId": "9b48ed81-947f-4400-f364-34e8ec71e2e6"
   },
   "outputs": [
    {
     "data": {
      "text/plain": [
       "float"
      ]
     },
     "execution_count": 2,
     "metadata": {},
     "output_type": "execute_result"
    }
   ],
   "source": [
    "var2=4.6\n",
    "type(var2)"
   ]
  },
  {
   "cell_type": "markdown",
   "metadata": {
    "id": "1rgAGebRmb3e"
   },
   "source": [
    "Tambien podemos incorporar boolianos como True o False"
   ]
  },
  {
   "cell_type": "code",
   "execution_count": null,
   "metadata": {
    "colab": {
     "base_uri": "https://localhost:8080/",
     "height": 35
    },
    "executionInfo": {
     "elapsed": 994,
     "status": "ok",
     "timestamp": 1600343040753,
     "user": {
      "displayName": "Luis Gomez",
      "photoUrl": "https://lh3.googleusercontent.com/a-/AOh14GhgMxcxoQRX6YmkMDaHTW4-qZ0OpyN3QQ75T4i4=s64",
      "userId": "00656069038044722993"
     },
     "user_tz": 180
    },
    "id": "w2A_AX2tmPVv",
    "outputId": "7e99a3fb-9241-41bd-fcb0-25e370d54bd9"
   },
   "outputs": [
    {
     "name": "stdout",
     "output_type": "stream",
     "text": [
      "<class 'str'>\n"
     ]
    }
   ],
   "source": [
    "a= 'true'\n",
    "print(type(a))"
   ]
  },
  {
   "cell_type": "markdown",
   "metadata": {},
   "source": [
    "## Tipos de datos y estructuras principales de NumPy\n",
    "\n",
    "### ndarray\n",
    "Array multidimensional, estructura fundamental de NumPy\n",
    "\n",
    "Ejemplo: `np.array([1, 2, 3, 4])`\n",
    "\n",
    "### dtype\n",
    "Define el tipo de datos en un array\n",
    "\n",
    "Ejemplo: `np.array([1, 2, 3], dtype=np.float64)`\n",
    "\n",
    "### Vectores\n",
    "Arrays unidimensionales\n",
    "\n",
    "Ejemplo: \n",
    "\n",
    "`np.array([1, 2, 3, 4, 5])`\n",
    "\n",
    "### Matrices\n",
    "Arrays bidimensionales\n",
    "\n",
    "Ejemplo: \n",
    "\n",
    "`np.array([[1, 2], [3, 4]])`\n",
    "\n",
    "### Tensores\n",
    "Arrays de tres o más dimensiones\n",
    "\n",
    "Ejemplo: `pn.array([[[1, 2], [3, 4]], [[5, 6], [7, 8]]])`\n",
    "\n",
    "### Masked Arrays\n",
    "\n",
    "Arrays que pueden tener valores enmascarados\n",
    "\n",
    "Ejemplo: \n",
    "\n",
    "`np.ma.array([1, 2, 3, 4], mask=[0, 1, 0, 1])`\n",
    "\n",
    "### Structured Arrays\n",
    "Arrays con estructuras de datos complejas\n",
    "\n",
    "Ejemplo: \n",
    "\n",
    "`np.array([('Alice', 25), ('Bob', 30)], dtype=[('name', 'U10'), ('age', 'i4')])`\n",
    "\n",
    "\n",
    "### Memmap\n",
    "Arrays mapeados en memoria para trabajar con archivos grandes\n",
    "\n",
    "Ejemplo: `np.memmap('archivo.dat', dtype='float32', mode='w+', shape=(3,4))`\n",
    "\n",
    "### Broadcasting\n",
    "\n",
    "Capacidad de operar entre arrays de diferentes formas\n",
    "\n",
    "Ejemplo: \n",
    "\n",
    "`np.array([1, 2, 3]) + np.array([[1], [2], [3]])`\n",
    "\n",
    "### ufuncs\n",
    "Funciones universales para operaciones elemento a elemento\n",
    "\n",
    "Ejemplo: \n",
    "\n",
    "`np.sin(np.array([0, np.pi/2, np.pi]))`"
   ]
  },
  {
   "cell_type": "markdown",
   "metadata": {},
   "source": [
    "## Variables predefinidas en NumPy\n",
    "\n",
    "### Constantes matemáticas\n",
    "- `np.pi`: El número pi (3.141592...)\n",
    "- `np.e`: El número de Euler (2.718281...)\n",
    "- `np.inf`: Infinito positivo\n",
    "- `np.nan`: Not a Number (NaN)\n",
    "\n",
    "### Tipos de datos\n",
    "- `np.int8`, `np.int16`, `np.int32`, `np.int64`: Enteros con diferentes tamaños\n",
    "- `np.float16`, `np.float32`, `np.float64`: Números de punto flotante\n",
    "- `np.complex64`, `np.complex128`: Números complejos\n",
    "\n",
    "por ejemplo:\n",
    "\n",
    "`np.int8` representa un tipo de dato entero de 8 bits con signo. Esto significa que:\n",
    "\n",
    "- Rango: Puede almacenar valores enteros desde -128 hasta 127.\n",
    "- Tamaño: Ocupa 1 byte (8 bits) de memoria.\n",
    "- Signo: Incluye números positivos y negativos\n",
    "\n",
    "```text\n",
    "        np.int8 (8 bits)\n",
    "         _________________________\n",
    "        |   |   |   |   |   |   | |\n",
    "        |_S_|_6_|_5_|_4_|_3_|_2_|1|0|\n",
    "         MSB                    LSB\n",
    "\n",
    "        S: Bit de signo (0 = positivo, 1 = negativo)\n",
    "        6-0: Bits de valor (7 bits)\n",
    "\n",
    "        Rango: -2^7 a 2^7 - 1\n",
    "               -128 a 127\n",
    "\n",
    "        Ejemplos:\n",
    "          0 = 00000000\n",
    "        127 = 01111111\n",
    "         -1 = 11111111\n",
    "        -128 = 10000000\n",
    "\n",
    "```\n",
    "\n",
    "**Explicación:**\n",
    "\n",
    "- El bit más significativo (MSB) es el bit de signo.\n",
    "- Los 7 bits restantes representan el valor absoluto.\n",
    "- Usa complemento a dos para representación de números negativos.\n",
    "- El rango va desde -128 (10000000 en binario) hasta 127 (01111111 en binario).\n",
    "\n",
    "\n",
    "\n",
    "### Constantes booleanas\n",
    "- `np.True_`: Verdadero (1)\n",
    "- `np.False_`: Falso (0)\n",
    "\n",
    "### Otras constantes útiles\n",
    "- `np.euler_gamma`: Constante de Euler-Mascheroni\n",
    "- `np.newaxis`: Usado para aumentar la dimensionalidad de arrays\n",
    "\n",
    "### Funciones matemáticas como variables\n",
    "- `np.sin`, `np.cos`, `np.tan`: Funciones trigonométricas\n",
    "- `np.exp`, `np.log`, `np.sqrt`: Funciones exponencial, logarítmica y raíz cuadrada"
   ]
  },
  {
   "cell_type": "code",
   "execution_count": 8,
   "metadata": {
    "colab": {
     "base_uri": "https://localhost:8080/"
    },
    "executionInfo": {
     "elapsed": 262,
     "status": "ok",
     "timestamp": 1692667350733,
     "user": {
      "displayName": "Luis Gomez",
      "userId": "00656069038044722993"
     },
     "user_tz": 240
    },
    "id": "y6fYDBqLlMiU",
    "outputId": "0aad9640-7ddf-4d61-ffc0-60bbe6bd5d50"
   },
   "outputs": [
    {
     "name": "stdout",
     "output_type": "stream",
     "text": [
      "<class 'float'>\n",
      "3.141592653589793\n"
     ]
    }
   ],
   "source": [
    "import numpy as np\n",
    "print(type(np.pi))\n",
    "print(np.pi)"
   ]
  },
  {
   "cell_type": "code",
   "execution_count": 10,
   "metadata": {},
   "outputs": [
    {
     "data": {
      "text/plain": [
       "128"
      ]
     },
     "execution_count": 10,
     "metadata": {},
     "output_type": "execute_result"
    }
   ],
   "source": [
    "2**7\n"
   ]
  },
  {
   "cell_type": "markdown",
   "metadata": {},
   "source": [
    "## Mascaras"
   ]
  },
  {
   "cell_type": "code",
   "execution_count": 2,
   "metadata": {},
   "outputs": [
    {
     "name": "stdout",
     "output_type": "stream",
     "text": [
      "2.75\n"
     ]
    }
   ],
   "source": [
    "import numpy as np\n",
    "#import numpy.ma as ma\n",
    "\n",
    "# Crear un masked array\n",
    "data = np.ma.array([1, 2, 3, -999, 5], mask=[0, 0, 0, 1, 0])\n",
    "# El valor -999 está enmascarado y será ignorado en operaciones\n",
    "\n",
    "print(data.mean())  # Calcula la media ignorando el valor enmascarado"
   ]
  },
  {
   "cell_type": "markdown",
   "metadata": {
    "id": "PUrCzyp9nFrY"
   },
   "source": [
    "## Variables tipo complejo"
   ]
  },
  {
   "cell_type": "code",
   "execution_count": 3,
   "metadata": {
    "colab": {
     "base_uri": "https://localhost:8080/"
    },
    "executionInfo": {
     "elapsed": 292,
     "status": "ok",
     "timestamp": 1692667295711,
     "user": {
      "displayName": "Luis Gomez",
      "userId": "00656069038044722993"
     },
     "user_tz": 240
    },
    "id": "iF7zJTuqmz3G",
    "outputId": "0e47630f-5f5f-411e-a7d0-bd0be7fa2c68"
   },
   "outputs": [
    {
     "data": {
      "text/plain": [
       "complex"
      ]
     },
     "execution_count": 3,
     "metadata": {},
     "output_type": "execute_result"
    }
   ],
   "source": [
    "a= 1+5.0j\n",
    "type(a)"
   ]
  },
  {
   "cell_type": "markdown",
   "metadata": {
    "id": "IWwJYkl4pHmW"
   },
   "source": [
    "## Variables tipo array en Numpy"
   ]
  },
  {
   "cell_type": "code",
   "execution_count": 4,
   "metadata": {
    "colab": {
     "base_uri": "https://localhost:8080/"
    },
    "executionInfo": {
     "elapsed": 278,
     "status": "ok",
     "timestamp": 1692667491806,
     "user": {
      "displayName": "Luis Gomez",
      "userId": "00656069038044722993"
     },
     "user_tz": 240
    },
    "id": "WcAMMzezoz1a",
    "outputId": "5a8200af-5c09-4b70-e689-691df9451efb"
   },
   "outputs": [
    {
     "data": {
      "text/plain": [
       "array([[1, 1, 1],\n",
       "       [1, 1, 1]])"
      ]
     },
     "execution_count": 4,
     "metadata": {},
     "output_type": "execute_result"
    }
   ],
   "source": [
    "np.ones((2,3),int, order='C')"
   ]
  },
  {
   "cell_type": "code",
   "execution_count": 5,
   "metadata": {
    "colab": {
     "base_uri": "https://localhost:8080/"
    },
    "executionInfo": {
     "elapsed": 381,
     "status": "ok",
     "timestamp": 1692667494059,
     "user": {
      "displayName": "Luis Gomez",
      "userId": "00656069038044722993"
     },
     "user_tz": 240
    },
    "id": "UwkDjTyz2Bzr",
    "outputId": "5bef6b93-14fe-4bca-ae41-39abb989fd1e"
   },
   "outputs": [
    {
     "data": {
      "text/plain": [
       "array([[1, 1, 1],\n",
       "       [1, 1, 1]])"
      ]
     },
     "execution_count": 5,
     "metadata": {},
     "output_type": "execute_result"
    }
   ],
   "source": [
    "np.ones((2,3),int, order='F')"
   ]
  },
  {
   "cell_type": "markdown",
   "metadata": {},
   "source": [
    "### Explicación de order\n",
    "\n",
    "    order='C' (C-Contiguous):\n",
    "        Los datos se almacenan en la memoria de tal manera que las filas son contiguas. Esto significa que el array se almacena en el mismo orden que se almacenan las matrices en el lenguaje de programación C.\n",
    "        Este es el orden por defecto.\n",
    "        Ejemplo: Para un array 2D, los elementos de la misma fila se almacenan consecutivamente en memoria.\n",
    "\n",
    "    order='F' (Fortran-Contiguous):\n",
    "        Los datos se almacenan en memoria de tal manera que las columnas son contiguas. Esto es similar al orden de almacenamiento en el lenguaje Fortran.\n",
    "        Ejemplo: Para un array 2D, los elementos de la misma columna se almacenan consecutivamente en memoria."
   ]
  },
  {
   "cell_type": "code",
   "execution_count": 6,
   "metadata": {
    "colab": {
     "base_uri": "https://localhost:8080/"
    },
    "executionInfo": {
     "elapsed": 285,
     "status": "ok",
     "timestamp": 1692667384277,
     "user": {
      "displayName": "Luis Gomez",
      "userId": "00656069038044722993"
     },
     "user_tz": 240
    },
    "id": "Tfo_nutO6Wg3",
    "outputId": "cc3dc954-8f24-4544-a1c0-1cd777203eeb",
    "scrolled": true
   },
   "outputs": [
    {
     "name": "stdout",
     "output_type": "stream",
     "text": [
      "Help on built-in function zeros in module numpy:\n",
      "\n",
      "zeros(...)\n",
      "    zeros(shape, dtype=float, order='C', *, like=None)\n",
      "    \n",
      "    Return a new array of given shape and type, filled with zeros.\n",
      "    \n",
      "    Parameters\n",
      "    ----------\n",
      "    shape : int or tuple of ints\n",
      "        Shape of the new array, e.g., ``(2, 3)`` or ``2``.\n",
      "    dtype : data-type, optional\n",
      "        The desired data-type for the array, e.g., `numpy.int8`.  Default is\n",
      "        `numpy.float64`.\n",
      "    order : {'C', 'F'}, optional, default: 'C'\n",
      "        Whether to store multi-dimensional data in row-major\n",
      "        (C-style) or column-major (Fortran-style) order in\n",
      "        memory.\n",
      "    like : array_like\n",
      "        Reference object to allow the creation of arrays which are not\n",
      "        NumPy arrays. If an array-like passed in as ``like`` supports\n",
      "        the ``__array_function__`` protocol, the result will be defined\n",
      "        by it. In this case, it ensures the creation of an array object\n",
      "        compatible with that passed in via this argument.\n",
      "    \n",
      "        .. versionadded:: 1.20.0\n",
      "    \n",
      "    Returns\n",
      "    -------\n",
      "    out : ndarray\n",
      "        Array of zeros with the given shape, dtype, and order.\n",
      "    \n",
      "    See Also\n",
      "    --------\n",
      "    zeros_like : Return an array of zeros with shape and type of input.\n",
      "    empty : Return a new uninitialized array.\n",
      "    ones : Return a new array setting values to one.\n",
      "    full : Return a new array of given shape filled with value.\n",
      "    \n",
      "    Examples\n",
      "    --------\n",
      "    >>> np.zeros(5)\n",
      "    array([ 0.,  0.,  0.,  0.,  0.])\n",
      "    \n",
      "    >>> np.zeros((5,), dtype=int)\n",
      "    array([0, 0, 0, 0, 0])\n",
      "    \n",
      "    >>> np.zeros((2, 1))\n",
      "    array([[ 0.],\n",
      "           [ 0.]])\n",
      "    \n",
      "    >>> s = (2,2)\n",
      "    >>> np.zeros(s)\n",
      "    array([[ 0.,  0.],\n",
      "           [ 0.,  0.]])\n",
      "    \n",
      "    >>> np.zeros((2,), dtype=[('x', 'i4'), ('y', 'i4')]) # custom dtype\n",
      "    array([(0, 0), (0, 0)],\n",
      "          dtype=[('x', '<i4'), ('y', '<i4')])\n",
      "\n"
     ]
    }
   ],
   "source": [
    "help(np.zeros)"
   ]
  },
  {
   "cell_type": "code",
   "execution_count": 7,
   "metadata": {
    "colab": {
     "base_uri": "https://localhost:8080/"
    },
    "executionInfo": {
     "elapsed": 4,
     "status": "ok",
     "timestamp": 1692667514644,
     "user": {
      "displayName": "Luis Gomez",
      "userId": "00656069038044722993"
     },
     "user_tz": 240
    },
    "id": "RqLfI8MvpQ3-",
    "outputId": "d9fd27ad-8501-45d7-b4e2-cdce73864002"
   },
   "outputs": [
    {
     "name": "stdout",
     "output_type": "stream",
     "text": [
      "[[0 0 0]\n",
      " [0 0 0]]\n",
      "<class 'numpy.ndarray'>\n"
     ]
    }
   ],
   "source": [
    "arr1=np.zeros((2,3),int)\n",
    "print(arr1)\n",
    "print(type(arr1))"
   ]
  },
  {
   "cell_type": "markdown",
   "metadata": {
    "id": "nW0AKiRsycuq"
   },
   "source": [
    "Resumen de  Data Types\n",
    "\n",
    "\n",
    "Python maneja los siguinetes data types:\n",
    "\n",
    "    Text Type     : \tstr\n",
    "    Numeric Types : \tint, float, complex\n",
    "    Sequence Types: \tlist, tuple, range\n",
    "    Mapping Type  : \tdict\n",
    "    Set Types     : \tset, frozenset\n",
    "    Boolean Type  : \tbool\n",
    "    Binary Types  : \tbytes, bytearray, memoryview\n",
    "\n",
    "\n"
   ]
  }
 ],
 "metadata": {
  "colab": {
   "provenance": []
  },
  "kernelspec": {
   "display_name": "Python 3 (ipykernel)",
   "language": "python",
   "name": "python3"
  },
  "language_info": {
   "codemirror_mode": {
    "name": "ipython",
    "version": 3
   },
   "file_extension": ".py",
   "mimetype": "text/x-python",
   "name": "python",
   "nbconvert_exporter": "python",
   "pygments_lexer": "ipython3",
   "version": "3.8.10"
  }
 },
 "nbformat": 4,
 "nbformat_minor": 1
}
