{
 "cells": [
  {
   "cell_type": "markdown",
   "metadata": {},
   "source": [
    "# Módulos en Python para Cálculo Numérico\n",
    "\n",
    "## Introducción\n",
    "\n",
    "Los módulos en Python son fundamentales para el cálculo numérico, proporcionando herramientas poderosas y eficientes para realizar cálculos complejos. Esta lección se enfoca en los módulos más relevantes para el cálculo numérico: NumPy, SciPy y SymPy, así como en la visualización de datos con Matplotlib.\n",
    "\n",
    "## Importación de Módulos\n",
    "\n",
    "Python ofrece varias formas de importar módulos:\n",
    "\n",
    "```python\n",
    "# Importación completa\n",
    "import numpy\n",
    "\n",
    "# Importación con alias (muy común)\n",
    "import numpy as np\n",
    "\n",
    "# Importación selectiva\n",
    "from numpy import array, linspace\n",
    "\n",
    "# Importación de submódulos\n",
    "from scipy import integrate\n",
    "```\n",
    "\n",
    "## NumPy: Fundamentos del Cálculo Numérico\n",
    "\n",
    "NumPy es la base del cálculo numérico en Python, proporcionando arrays multidimensionales y funciones matemáticas de alto rendimiento.\n",
    "\n",
    "### Características Principales:\n",
    "- Arrays multidimensionales\n",
    "- Funciones matemáticas vectorizadas\n",
    "- Herramientas para álgebra lineal\n",
    "- Generación de números aleatorios\n",
    "\n",
    "### Ejemplo de Uso:\n"
   ]
  },
  {
   "cell_type": "code",
   "execution_count": 3,
   "metadata": {},
   "outputs": [
    {
     "name": "stdout",
     "output_type": "stream",
     "text": [
      "Producto punto: [[19 22]\n",
      " [43 50]]\n",
      "Media: -1.2441300819921116e-17\n",
      "Desviación estándar: 0.7035623639735143\n"
     ]
    }
   ],
   "source": [
    "import numpy as np\n",
    "\n",
    "# Crear un array\n",
    "a = np.array([1, 2, 3, 4, 5])\n",
    "\n",
    "# Operaciones vectorizadas\n",
    "b = a * 2\n",
    "c = np.sin(a)\n",
    "\n",
    "# Álgebra lineal\n",
    "A = np.array([[1, 2], [3, 4]])\n",
    "B = np.array([[5, 6], [7, 8]])\n",
    "C = np.dot(A, B)\n",
    "\n",
    "print(\"Producto punto:\", C)\n",
    "\n",
    "# Generación de secuencias\n",
    "x = np.linspace(0, 2*np.pi, 100)\n",
    "y = np.sin(x)\n",
    "\n",
    "# Estadísticas básicas\n",
    "print(\"Media:\", np.mean(y))\n",
    "print(\"Desviación estándar:\", np.std(y))"
   ]
  },
  {
   "cell_type": "markdown",
   "metadata": {},
   "source": [
    "## SciPy: Herramientas Avanzadas para Cálculo Numérico\n",
    "\n",
    "SciPy extiende las capacidades de NumPy con más funciones para optimización, integración, interpolación y más.\n",
    "\n",
    "### Módulos Principales:\n",
    "- `scipy.integrate`: Integración numérica\n",
    "- `scipy.optimize`: Optimización y búsqueda de raíces\n",
    "- `scipy.interpolate`: Interpolación\n",
    "- `scipy.linalg`: Álgebra lineal avanzada\n",
    "- `scipy.stats`: Estadísticas y distribuciones probabilísticas\n",
    "\n",
    "### Ejemplo de Uso:"
   ]
  },
  {
   "cell_type": "code",
   "execution_count": 1,
   "metadata": {},
   "outputs": [
    {
     "name": "stdout",
     "output_type": "stream",
     "text": [
      "Integral de sin(x) de 0 a pi: 2.0\n",
      "Raíz de x^2 - 4 = 2.0\n"
     ]
    }
   ],
   "source": [
    "import numpy as np\n",
    "from scipy import integrate, optimize\n",
    "\n",
    "# Integración numérica\n",
    "def f(x):\n",
    "    return np.sin(x)\n",
    "\n",
    "result, error = integrate.quad(f, 0, np.pi)\n",
    "print(\"Integral de sin(x) de 0 a pi:\", result)\n",
    "\n",
    "# Encontrar raíces de una función\n",
    "def g(x):\n",
    "    return x**2 - 4\n",
    "\n",
    "root = optimize.root_scalar(g, bracket=[0, 3], method='brentq')\n",
    "print(\"Raíz de x^2 - 4 =\", root.root)\n",
    "\n",
    "# Interpolación\n",
    "x = np.array([0, 1, 2, 3, 4, 5])\n",
    "y = np.array([0, 2, 4, 6, 4, 2])\n",
    "\n",
    "from scipy import interpolate\n",
    "f = interpolate.interp1d(x, y, kind='cubic')\n",
    "\n",
    "x_new = np.linspace(0, 5, 100)\n",
    "y_new = f(x_new)"
   ]
  },
  {
   "cell_type": "markdown",
   "metadata": {},
   "source": [
    "## SymPy: Cálculo Simbólico\n",
    "\n",
    "SymPy permite realizar cálculo simbólico, lo cual es útil para derivación e integración simbólica, resolución de ecuaciones y más.\n",
    "\n",
    "### Características Principales:\n",
    "- Manipulación de expresiones simbólicas\n",
    "- Cálculo diferencial e integral simbólico\n",
    "- Resolución de ecuaciones\n",
    "- Expansión y simplificación de expresiones\n",
    "\n",
    "### Ejemplo de Uso:"
   ]
  },
  {
   "cell_type": "code",
   "execution_count": 5,
   "metadata": {},
   "outputs": [
    {
     "name": "stdout",
     "output_type": "stream",
     "text": [
      "Derivada de sin(x) * exp(x): exp(x)*sin(x) + exp(x)*cos(x)\n",
      "Integral de sin(x) * exp(x): exp(x)*sin(x)/2 - exp(x)*cos(x)/2\n",
      "Soluciones de x^2 - 4 = 0: [-2, 2]\n"
     ]
    }
   ],
   "source": [
    "import sympy as sp\n",
    "\n",
    "# Definir símbolos\n",
    "x, y = sp.symbols('x y')\n",
    "\n",
    "# Expresión simbólica\n",
    "expr = sp.sin(x) * sp.exp(x)\n",
    "\n",
    "# Derivación simbólica\n",
    "deriv = sp.diff(expr, x)\n",
    "print(\"Derivada de sin(x) * exp(x):\", deriv)\n",
    "\n",
    "# Integración simbólica\n",
    "integral = sp.integrate(expr, x)\n",
    "print(\"Integral de sin(x) * exp(x):\", integral)\n",
    "\n",
    "# Resolver ecuaciones\n",
    "eq = sp.Eq(x**2 - 4, 0)\n",
    "solution = sp.solve(eq, x)\n",
    "print(\"Soluciones de x^2 - 4 = 0:\", solution)"
   ]
  },
  {
   "cell_type": "markdown",
   "metadata": {},
   "source": [
    "## Visualización con Matplotlib\n",
    "\n",
    "Matplotlib es crucial para visualizar resultados en cálculo numérico.\n",
    "\n",
    "### Características Principales:\n",
    "- Gráficos 2D y 3D\n",
    "- Personalización detallada de gráficos\n",
    "- Múltiples tipos de gráficos (líneas, dispersión, barras, etc.)\n",
    "- Integración con NumPy y SciPy\n",
    "\n",
    "### Ejemplo de Uso:"
   ]
  },
  {
   "cell_type": "code",
   "execution_count": 6,
   "metadata": {},
   "outputs": [
    {
     "data": {
      "image/png": "[encoded data removed]",
      "text/plain": [
       "<Figure size 1000x600 with 1 Axes>"
      ]
     },
     "metadata": {},
     "output_type": "display_data"
    }
   ],
   "source": [
    "import numpy as np\n",
    "import matplotlib.pyplot as plt\n",
    "\n",
    "x = np.linspace(0, 2*np.pi, 100)\n",
    "y = np.sin(x)\n",
    "\n",
    "plt.figure(figsize=(10, 6))\n",
    "plt.plot(x, y, label='sin(x)')\n",
    "plt.title('Función Seno')\n",
    "plt.xlabel('x')\n",
    "plt.ylabel('sin(x)')\n",
    "plt.legend()\n",
    "plt.grid(True)\n",
    "plt.show()"
   ]
  },
  {
   "cell_type": "markdown",
   "metadata": {},
   "source": [
    "## Ejercicio Práctico\n",
    "\n",
    "Crear un script que utilice NumPy, SciPy y Matplotlib para:\n",
    "\n",
    "1. Generar 1000 puntos equidistantes en el intervalo [0, 10].\n",
    "2. Calcular y = sin(x) * exp(-x/10) para estos puntos.\n",
    "3. Encontrar los ceros de esta función usando SciPy.\n",
    "4. Calcular el área bajo la curva entre el primer y último cero.\n",
    "5. Graficar la función y marcar los ceros encontrados.\n",
    "\n",
    "### Solución:"
   ]
  },
  {
   "cell_type": "code",
   "execution_count": 7,
   "metadata": {},
   "outputs": [
    {
     "data": {
      "image/png": "[encoded data removed]",
      "text/plain": [
       "<Figure size 1200x600 with 1 Axes>"
      ]
     },
     "metadata": {},
     "output_type": "display_data"
    },
    {
     "name": "stdout",
     "output_type": "stream",
     "text": [
      "Ceros encontrados: [0.         3.13313313 6.27627628 9.41941942]\n",
      "Área bajo la curva entre el primer y último cero: 1.3759\n"
     ]
    }
   ],
   "source": [
    "import numpy as np\n",
    "from scipy import optimize\n",
    "import matplotlib.pyplot as plt\n",
    "\n",
    "# 1. Generar puntos\n",
    "x = np.linspace(0, 10, 1000)\n",
    "\n",
    "# 2. Calcular la función\n",
    "def f(x):\n",
    "    return np.sin(x) * np.exp(-x/10)\n",
    "\n",
    "y = f(x)\n",
    "\n",
    "# 3. Encontrar ceros\n",
    "def find_zeros(x, y):\n",
    "    return x[np.where(np.diff(np.sign(y)))[0]]\n",
    "\n",
    "zeros = find_zeros(x, y)\n",
    "\n",
    "# 4. Calcular área bajo la curva\n",
    "from scipy import integrate\n",
    "area, _ = integrate.quad(f, zeros[0], zeros[-1])\n",
    "\n",
    "# 5. Graficar\n",
    "plt.figure(figsize=(12, 6))\n",
    "plt.plot(x, y, label='sin(x) * exp(-x/10)')\n",
    "plt.scatter(zeros, f(zeros), color='red', label='Ceros')\n",
    "plt.title(f'Función y sus ceros (Área = {area:.4f})')\n",
    "plt.xlabel('x')\n",
    "plt.ylabel('y')\n",
    "plt.legend()\n",
    "plt.grid(True)\n",
    "plt.show()\n",
    "\n",
    "print(f\"Ceros encontrados: {zeros}\")\n",
    "print(f\"Área bajo la curva entre el primer y último cero: {area:.4f}\")"
   ]
  },
  {
   "cell_type": "markdown",
   "metadata": {
    "id": "iua6vc58lYco"
   },
   "source": [
    "Este ejercicio permite a los estudiantes practicar con varios aspectos del cálculo numérico, incluyendo generación de datos, búsqueda de raíces, integración numérica y visualización."
   ]
  },
  {
   "cell_type": "markdown",
   "metadata": {},
   "source": [
    "----"
   ]
  },
  {
   "cell_type": "code",
   "execution_count": null,
   "metadata": {
    "id": "G6PLYKgIlshh"
   },
   "outputs": [],
   "source": [
    "from datetime import datetime"
   ]
  },
  {
   "cell_type": "code",
   "execution_count": null,
   "metadata": {
    "colab": {
     "base_uri": "https://localhost:8080/",
     "height": 35
    },
    "executionInfo": {
     "elapsed": 977,
     "status": "ok",
     "timestamp": 1600052998430,
     "user": {
      "displayName": "Luis Gomez",
      "photoUrl": "https://lh3.googleusercontent.com/a-/AOh14GhgMxcxoQRX6YmkMDaHTW4-qZ0OpyN3QQ75T4i4=s64",
      "userId": "00656069038044722993"
     },
     "user_tz": 180
    },
    "id": "AlKT4mOIlYdA",
    "outputId": "aacc9157-b182-44f4-8768-67188f9363b6"
   },
   "outputs": [
    {
     "name": "stdout",
     "output_type": "stream",
     "text": [
      "2017-08-25 11:38:00\n"
     ]
    }
   ],
   "source": [
    "fecha = datetime(2017, 8, 25, 11, 38)\n",
    "print(fecha)"
   ]
  },
  {
   "cell_type": "code",
   "execution_count": null,
   "metadata": {
    "colab": {
     "base_uri": "https://localhost:8080/",
     "height": 35
    },
    "executionInfo": {
     "elapsed": 1122,
     "status": "ok",
     "timestamp": 1600053022663,
     "user": {
      "displayName": "Luis Gomez",
      "photoUrl": "https://lh3.googleusercontent.com/a-/AOh14GhgMxcxoQRX6YmkMDaHTW4-qZ0OpyN3QQ75T4i4=s64",
      "userId": "00656069038044722993"
     },
     "user_tz": 180
    },
    "id": "Kg3ZZPfOlYdL",
    "outputId": "cf147ca8-11a4-4d40-f11b-0c8c1a0f03c2"
   },
   "outputs": [
    {
     "name": "stdout",
     "output_type": "stream",
     "text": [
      "2017-08-25 11:38:00\n"
     ]
    }
   ],
   "source": [
    "## formato es (YYYY, mm, dd, HH, MM, SS)\n",
    "fecha = datetime(2017, 8, 25, 11, 38)\n",
    "print (fecha)"
   ]
  },
  {
   "cell_type": "code",
   "execution_count": null,
   "metadata": {
    "colab": {
     "base_uri": "https://localhost:8080/",
     "height": 35
    },
    "executionInfo": {
     "elapsed": 931,
     "status": "ok",
     "timestamp": 1600053028237,
     "user": {
      "displayName": "Luis Gomez",
      "photoUrl": "https://lh3.googleusercontent.com/a-/AOh14GhgMxcxoQRX6YmkMDaHTW4-qZ0OpyN3QQ75T4i4=s64",
      "userId": "00656069038044722993"
     },
     "user_tz": 180
    },
    "id": "kvxgnnDmlYdW",
    "outputId": "112473d0-684f-44cd-cc2e-0b480d431945"
   },
   "outputs": [
    {
     "data": {
      "text/plain": [
       "datetime.datetime(2017, 8, 25, 11, 38)"
      ]
     },
     "execution_count": 12,
     "metadata": {
      "tags": []
     },
     "output_type": "execute_result"
    }
   ],
   "source": [
    "fecha"
   ]
  },
  {
   "cell_type": "code",
   "execution_count": null,
   "metadata": {
    "colab": {
     "base_uri": "https://localhost:8080/",
     "height": 35
    },
    "executionInfo": {
     "elapsed": 1068,
     "status": "ok",
     "timestamp": 1600053041265,
     "user": {
      "displayName": "Luis Gomez",
      "photoUrl": "https://lh3.googleusercontent.com/a-/AOh14GhgMxcxoQRX6YmkMDaHTW4-qZ0OpyN3QQ75T4i4=s64",
      "userId": "00656069038044722993"
     },
     "user_tz": 180
    },
    "id": "Ca4T61lclYdf",
    "outputId": "8c78186e-5c38-43aa-ea54-bca3f47dbd55"
   },
   "outputs": [
    {
     "data": {
      "text/plain": [
       "datetime.datetime"
      ]
     },
     "execution_count": 13,
     "metadata": {
      "tags": []
     },
     "output_type": "execute_result"
    }
   ],
   "source": [
    "type(fecha)"
   ]
  },
  {
   "cell_type": "code",
   "execution_count": null,
   "metadata": {
    "id": "4MJGQurhlYdr"
   },
   "outputs": [],
   "source": [
    "fecha?"
   ]
  },
  {
   "cell_type": "markdown",
   "metadata": {
    "id": "1wrvUCF7lYd0"
   },
   "source": [
    "**si queremos usar solo un objeto del modulo**"
   ]
  },
  {
   "cell_type": "code",
   "execution_count": null,
   "metadata": {
    "id": "qKpiLZzolYd2"
   },
   "outputs": [],
   "source": [
    "from datetime import datetime"
   ]
  },
  {
   "cell_type": "code",
   "execution_count": null,
   "metadata": {
    "colab": {
     "base_uri": "https://localhost:8080/",
     "height": 35
    },
    "executionInfo": {
     "elapsed": 982,
     "status": "ok",
     "timestamp": 1600052951301,
     "user": {
      "displayName": "Luis Gomez",
      "photoUrl": "https://lh3.googleusercontent.com/a-/AOh14GhgMxcxoQRX6YmkMDaHTW4-qZ0OpyN3QQ75T4i4=s64",
      "userId": "00656069038044722993"
     },
     "user_tz": 180
    },
    "id": "Ji-G3gWulYd9",
    "outputId": "9fc70f65-9a57-4eea-9a77-423137d74768"
   },
   "outputs": [
    {
     "name": "stdout",
     "output_type": "stream",
     "text": [
      "2017-08-25 11:38:00\n"
     ]
    }
   ],
   "source": [
    "fecha = datetime(2017, 8, 25, 11, 38)\n",
    "print fecha"
   ]
  },
  {
   "cell_type": "code",
   "execution_count": null,
   "metadata": {
    "colab": {
     "base_uri": "https://localhost:8080/",
     "height": 35
    },
    "executionInfo": {
     "elapsed": 1008,
     "status": "ok",
     "timestamp": 1600053074366,
     "user": {
      "displayName": "Luis Gomez",
      "photoUrl": "https://lh3.googleusercontent.com/a-/AOh14GhgMxcxoQRX6YmkMDaHTW4-qZ0OpyN3QQ75T4i4=s64",
      "userId": "00656069038044722993"
     },
     "user_tz": 180
    },
    "id": "5_6-xrhGlYeE",
    "outputId": "e1a33a65-1c1f-4aa1-a01d-b5ec921be028"
   },
   "outputs": [
    {
     "name": "stdout",
     "output_type": "stream",
     "text": [
      "2017-08-25 00:00:00\n"
     ]
    }
   ],
   "source": [
    "fecha = datetime(2017, 8, 25)\n",
    "print fecha"
   ]
  },
  {
   "cell_type": "markdown",
   "metadata": {
    "id": "qC9EiYS2lYeN"
   },
   "source": [
    "**si queremos usar algunos objetos del modulo**"
   ]
  },
  {
   "cell_type": "code",
   "execution_count": null,
   "metadata": {
    "id": "1kFc7DXglYeO"
   },
   "outputs": [],
   "source": [
    "from datetime import datetime, timedelta"
   ]
  },
  {
   "cell_type": "code",
   "execution_count": null,
   "metadata": {
    "colab": {
     "base_uri": "https://localhost:8080/",
     "height": 35
    },
    "executionInfo": {
     "elapsed": 1144,
     "status": "ok",
     "timestamp": 1600053096554,
     "user": {
      "displayName": "Luis Gomez",
      "photoUrl": "https://lh3.googleusercontent.com/a-/AOh14GhgMxcxoQRX6YmkMDaHTW4-qZ0OpyN3QQ75T4i4=s64",
      "userId": "00656069038044722993"
     },
     "user_tz": 180
    },
    "id": "Kj-rEOz9lYeX",
    "outputId": "bcf29699-a3d1-4139-a9bb-ba0b2b2ff94e"
   },
   "outputs": [
    {
     "name": "stdout",
     "output_type": "stream",
     "text": [
      "2017-08-25 11:38:00\n"
     ]
    }
   ],
   "source": [
    "fecha = datetime(2017, 8, 25, 11, 38)\n",
    "print (fecha)"
   ]
  },
  {
   "cell_type": "code",
   "execution_count": null,
   "metadata": {
    "colab": {
     "base_uri": "https://localhost:8080/",
     "height": 35
    },
    "executionInfo": {
     "elapsed": 1150,
     "status": "ok",
     "timestamp": 1600053109911,
     "user": {
      "displayName": "Luis Gomez",
      "photoUrl": "https://lh3.googleusercontent.com/a-/AOh14GhgMxcxoQRX6YmkMDaHTW4-qZ0OpyN3QQ75T4i4=s64",
      "userId": "00656069038044722993"
     },
     "user_tz": 180
    },
    "id": "EsnrhGGmlYeg",
    "outputId": "1bbbffad-9c6e-426e-93ff-3a25cc843779"
   },
   "outputs": [
    {
     "name": "stdout",
     "output_type": "stream",
     "text": [
      "1:00:00\n"
     ]
    }
   ],
   "source": [
    "unahora = timedelta(hours=1)\n",
    "print (unahora)"
   ]
  },
  {
   "cell_type": "code",
   "execution_count": null,
   "metadata": {
    "colab": {
     "base_uri": "https://localhost:8080/",
     "height": 35
    },
    "executionInfo": {
     "elapsed": 946,
     "status": "ok",
     "timestamp": 1600053115052,
     "user": {
      "displayName": "Luis Gomez",
      "photoUrl": "https://lh3.googleusercontent.com/a-/AOh14GhgMxcxoQRX6YmkMDaHTW4-qZ0OpyN3QQ75T4i4=s64",
      "userId": "00656069038044722993"
     },
     "user_tz": 180
    },
    "id": "yRuexIEtlYen",
    "outputId": "bdf7a14b-5ae5-4bd7-80e2-8ca7aec86d5d"
   },
   "outputs": [
    {
     "name": "stdout",
     "output_type": "stream",
     "text": [
      "2017-08-25 12:38:00\n"
     ]
    }
   ],
   "source": [
    "print (fecha + unahora)"
   ]
  },
  {
   "cell_type": "code",
   "execution_count": null,
   "metadata": {
    "colab": {
     "base_uri": "https://localhost:8080/",
     "height": 35
    },
    "executionInfo": {
     "elapsed": 994,
     "status": "ok",
     "timestamp": 1600053137649,
     "user": {
      "displayName": "Luis Gomez",
      "photoUrl": "https://lh3.googleusercontent.com/a-/AOh14GhgMxcxoQRX6YmkMDaHTW4-qZ0OpyN3QQ75T4i4=s64",
      "userId": "00656069038044722993"
     },
     "user_tz": 180
    },
    "id": "KNY_70inlYet",
    "outputId": "4bd68207-c383-488b-826e-1ca0275b267f"
   },
   "outputs": [
    {
     "name": "stdout",
     "output_type": "stream",
     "text": [
      "2017-08-25 14:38:00\n"
     ]
    }
   ],
   "source": [
    "print (fecha + unahora * 3)"
   ]
  },
  {
   "cell_type": "markdown",
   "metadata": {
    "id": "k2EytQiglYez"
   },
   "source": [
    "**también podemos usar alias**"
   ]
  },
  {
   "cell_type": "code",
   "execution_count": null,
   "metadata": {
    "id": "4wy2nzcclYe1"
   },
   "outputs": [],
   "source": [
    "from datetime import datetime as dt"
   ]
  },
  {
   "cell_type": "code",
   "execution_count": null,
   "metadata": {
    "id": "9GLCri-elYe8"
   },
   "outputs": [],
   "source": [
    "fecha = dt(2008,4,5,1,34)\n",
    "print fecha"
   ]
  }
 ],
 "metadata": {
  "colab": {
   "provenance": []
  },
  "kernelspec": {
   "display_name": "Python 3 (ipykernel)",
   "language": "python",
   "name": "python3"
  },
  "language_info": {
   "codemirror_mode": {
    "name": "ipython",
    "version": 3
   },
   "file_extension": ".py",
   "mimetype": "text/x-python",
   "name": "python",
   "nbconvert_exporter": "python",
   "pygments_lexer": "ipython3",
   "version": "3.8.10"
  }
 },
 "nbformat": 4,
 "nbformat_minor": 1
}
