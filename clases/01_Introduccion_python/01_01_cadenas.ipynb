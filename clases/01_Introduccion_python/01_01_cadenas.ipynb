{
 "cells": [
  {
   "cell_type": "markdown",
   "metadata": {
    "id": "aEralxVvg-VE"
   },
   "source": [
    "# 1 Cadenas de caracteres en Python\n",
    "\n",
    "Las cadenas de caracteres (strings) son uno de los tipos de datos más importantes y versátiles en Python. Esta lección cubre los conceptos fundamentales y las operaciones comunes con strings.\n",
    "\n",
    "## 1. Creación de Strings\n",
    "\n",
    "En Python, las cadenas pueden crearse usando comillas simples ('...') o dobles (\"...\")."
   ]
  },
  {
   "cell_type": "code",
   "execution_count": 5,
   "metadata": {
    "colab": {
     "base_uri": "https://localhost:8080/"
    },
    "executionInfo": {
     "elapsed": 536,
     "status": "ok",
     "timestamp": 1692669125651,
     "user": {
      "displayName": "Luis Gomez",
      "userId": "00656069038044722993"
     },
     "user_tz": 240
    },
    "id": "4u1SlspqDVsU",
    "outputId": "a03976b6-161c-4bf2-a3de-53bac0dd13b6"
   },
   "outputs": [
    {
     "name": "stdout",
     "output_type": "stream",
     "text": [
      "Hola, mundo!\n",
      "Python es genial\n",
      "<class 'str'>\n"
     ]
    }
   ],
   "source": [
    "cadena1 = 'Hola, mundo!'\n",
    "cadena2 = \"Python es genial\"\n",
    "\n",
    "print(cadena1)\n",
    "print(cadena2)\n",
    "print(type(cadena1))  # Salida: <class 'str'>"
   ]
  },
  {
   "cell_type": "markdown",
   "metadata": {
    "id": "P5_zd4HQj17Q"
   },
   "source": [
    "## 2. Acceso a Caracteres\n",
    "\n",
    "Los caracteres en una cadena pueden accederse mediante indexación.\n"
   ]
  },
  {
   "cell_type": "code",
   "execution_count": 2,
   "metadata": {
    "colab": {
     "base_uri": "https://localhost:8080/"
    },
    "executionInfo": {
     "elapsed": 409,
     "status": "ok",
     "timestamp": 1692669147331,
     "user": {
      "displayName": "Luis Gomez",
      "userId": "00656069038044722993"
     },
     "user_tz": 240
    },
    "id": "n2cE1MHOg-VH",
    "outputId": "793fc10d-4bf2-4308-aee9-ff5af1ecf912"
   },
   "outputs": [
    {
     "name": "stdout",
     "output_type": "stream",
     "text": [
      "P\n",
      "n\n"
     ]
    }
   ],
   "source": [
    "cadena = \"Python\"\n",
    "print(cadena[0])  # Salida: P\n",
    "print(cadena[-1])  # Salida: n (último carácter)\n"
   ]
  },
  {
   "cell_type": "markdown",
   "metadata": {},
   "source": [
    "## 3. Slicing (Rebanado)\n",
    "\n",
    "Podemos extraer subcadenas usando slicing.\n"
   ]
  },
  {
   "cell_type": "code",
   "execution_count": 3,
   "metadata": {
    "colab": {
     "base_uri": "https://localhost:8080/"
    },
    "executionInfo": {
     "elapsed": 567,
     "status": "ok",
     "timestamp": 1692669392365,
     "user": {
      "displayName": "Luis Gomez",
      "userId": "00656069038044722993"
     },
     "user_tz": 240
    },
    "id": "Uv_g1yaC8jSA",
    "outputId": "83231f2b-06f4-4f91-fd09-57d984974783"
   },
   "outputs": [
    {
     "name": "stdout",
     "output_type": "stream",
     "text": [
      "Python\n",
      "es poderoso\n",
      "osoredop se nohtyP\n"
     ]
    }
   ],
   "source": [
    "cadena = \"Python es poderoso\"\n",
    "print(cadena[0:6])   # Salida: Python\n",
    "print(cadena[7:])    # Salida: es poderoso\n",
    "print(cadena[::-1])  # Salida: osoredop se nohtyP (invierte la cadena)\n"
   ]
  },
  {
   "cell_type": "markdown",
   "metadata": {
    "id": "pEkExSw9oiYG"
   },
   "source": [
    "## 4. Longitud de una Cadena\n",
    "\n",
    "La función `len()` devuelve la longitud de una cadena.\n"
   ]
  },
  {
   "cell_type": "code",
   "execution_count": 4,
   "metadata": {
    "colab": {
     "base_uri": "https://localhost:8080/",
     "height": 318
    },
    "executionInfo": {
     "elapsed": 686,
     "status": "ok",
     "timestamp": 1601554181572,
     "user": {
      "displayName": "Luis Gomez",
      "photoUrl": "https://lh3.googleusercontent.com/a-/AOh14GhgMxcxoQRX6YmkMDaHTW4-qZ0OpyN3QQ75T4i4=s64",
      "userId": "00656069038044722993"
     },
     "user_tz": 180
    },
    "id": "AX6W_UZOEPIn",
    "outputId": "a3924db6-de47-44bf-9999-2aed94284c09"
   },
   "outputs": [
    {
     "name": "stdout",
     "output_type": "stream",
     "text": [
      "12\n"
     ]
    }
   ],
   "source": [
    "cadena = \"Hola, mundo!\"\n",
    "print(len(cadena))  # Salida: 12\n"
   ]
  },
  {
   "cell_type": "markdown",
   "metadata": {
    "id": "HtfZiiy01H-L"
   },
   "source": [
    "## 5. Métodos de Cadenas\n",
    "\n",
    "Python proporciona varios métodos útiles para manipular cadenas:\n",
    "\n",
    "### 5.1. Búsqueda\n",
    "\n",
    "```python\n",
    "cadena = \"Python es genial\"\n",
    "print(cadena.find(\"es\"))  # Salida: 7\n",
    "print(cadena.count(\"n\"))  # Salida: 2\n",
    "```\n",
    "\n",
    "### 5.2. Modificación\n",
    "\n",
    "```python\n",
    "cadena = \"   Python   \"\n",
    "print(cadena.strip())      # Salida: \"Python\"\n",
    "print(cadena.lower())      # Salida: \"   python   \"\n",
    "print(cadena.upper())      # Salida: \"   PYTHON   \"\n",
    "print(cadena.replace(\"Python\", \"Java\"))  # Salida: \"   Java   \"\n",
    "```\n",
    "\n",
    "### 5.3. Dividir y Unir\n",
    "\n",
    "```python\n",
    "cadena = \"Python,Java,C++,JavaScript\"\n",
    "lenguajes = cadena.split(\",\")\n",
    "print(lenguajes)  # Salida: ['Python', 'Java', 'C++', 'JavaScript']\n",
    "\n",
    "nueva_cadena = \" - \".join(lenguajes)\n",
    "print(nueva_cadena)  # Salida: Python - Java - C++ - JavaScript\n",
    "```\n",
    "\n",
    "## 6. Formateo de Cadenas\n",
    "\n",
    "Python ofrece varias formas de formatear cadenas:\n",
    "\n",
    "### 6.1. Método format()\n",
    "\n",
    "```python\n",
    "nombre = \"Alice\"\n",
    "edad = 30\n",
    "print(\"Me llamo {} y tengo {} años\".format(nombre, edad))\n",
    "# Salida: Me llamo Alice y tengo 30 años\n",
    "```\n",
    "\n",
    "### 6.2. f-strings (Python 3.6+)\n",
    "\n",
    "```python\n",
    "nombre = \"Bob\"\n",
    "edad = 25\n",
    "print(f\"Me llamo {nombre} y tengo {edad} años\")\n",
    "# Salida: Me llamo Bob y tengo 25 años\n",
    "```\n",
    "\n",
    "## 7. Inmutabilidad\n",
    "\n",
    "Es importante recordar que las cadenas en Python son inmutables. Esto significa que no puedes cambiar una cadena una vez creada. Cualquier operación que parezca modificar una cadena en realidad crea una nueva.\n",
    "\n",
    "```python\n",
    "cadena = \"Hello\"\n",
    "nueva_cadena = cadena + \" World\"\n",
    "print(nueva_cadena)  # Salida: Hello World\n",
    "print(cadena)        # Salida: Hello (la cadena original no cambia)\n",
    "```\n",
    "\n",
    "## Ejercicio Práctico\n",
    "\n",
    "Crea una función que tome una cadena como entrada y devuelva un diccionario con el recuento de cada carácter en la cadena.\n",
    "\n",
    "```python\n",
    "def contar_caracteres(cadena):\n",
    "    return {char: cadena.count(char) for char in set(cadena)}\n",
    "\n",
    "texto = \"programacion\"\n",
    "print(contar_caracteres(texto))\n",
    "# Salida: {'p': 1, 'r': 2, 'o': 2, 'g': 1, 'a': 2, 'm': 1, 'c': 1, 'i': 1, 'n': 1}\n",
    "```\n",
    "\n",
    "Este ejercicio utiliza comprensión de diccionarios y el método `count()` para crear un recuento eficiente de caracteres.\n",
    "\n",
    "## Conclusión\n",
    "\n",
    "Las cadenas en Python son versátiles y poderosas. Dominar su manipulación es esencial para cualquier programador de Python. Practica estos conceptos y explora la documentación oficial de Python para descubrir más métodos y funcionalidades relacionadas con las cadenas.\n"
   ]
  }
 ],
 "metadata": {
  "colab": {
   "provenance": [
    {
     "file_id": "1Bj98ThAf-tMXRrJWAgE-Wst1PEq3G8WQ",
     "timestamp": 1600572263638
    }
   ],
   "toc_visible": true
  },
  "kernelspec": {
   "display_name": "Python 3 (ipykernel)",
   "language": "python",
   "name": "python3"
  },
  "language_info": {
   "codemirror_mode": {
    "name": "ipython",
    "version": 3
   },
   "file_extension": ".py",
   "mimetype": "text/x-python",
   "name": "python",
   "nbconvert_exporter": "python",
   "pygments_lexer": "ipython3",
   "version": "3.8.10"
  }
 },
 "nbformat": 4,
 "nbformat_minor": 1
}
