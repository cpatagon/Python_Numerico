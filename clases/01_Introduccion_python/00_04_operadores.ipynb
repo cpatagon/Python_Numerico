{
 "cells": [
  {
   "cell_type": "markdown",
   "metadata": {
    "id": "t6MDRH5qtC5G"
   },
   "source": [
    "# Operadores en Python para Cálculo Numérico\n",
    "\n",
    "---"
   ]
  },
  {
   "cell_type": "markdown",
   "metadata": {
    "id": "cif1i1HbpZQO"
   },
   "source": [
    "\n",
    "\n",
    "##  Operadores Aritméticos\n",
    "Python proporciona varios operadores aritméticos para realizar operaciones matemáticas básicas:\n",
    "\n",
    "```\n",
    "        +: Suma\n",
    "\n",
    "        -: Resta\n",
    "\n",
    "        *: Multiplicación\n",
    "\n",
    "        /: División (siempre devuelve un float)\n",
    "\n",
    "        //: División entera (redondea hacia abajo al entero más cercano)\n",
    "\n",
    "        %: Módulo (resto de la división)\n",
    "\n",
    "        **: Potenciación\n",
    "```"
   ]
  },
  {
   "cell_type": "markdown",
   "metadata": {},
   "source": [
    "### Ejemplos:"
   ]
  },
  {
   "cell_type": "code",
   "execution_count": 11,
   "metadata": {
    "id": "VCSBSuVZ4s4M"
   },
   "outputs": [
    {
     "name": "stdout",
     "output_type": "stream",
     "text": [
      "Suma: 13\n",
      "Resta: 7\n",
      "Multiplicación: 30\n",
      "División: 3.3333333333333335\n",
      "División entera: 3\n",
      "Módulo: 1\n",
      "Potenciación: 1000\n"
     ]
    }
   ],
   "source": [
    "a = 10\n",
    "b = 3\n",
    "\n",
    "print(f\"Suma: {a + b}\")                # Salida: 13\n",
    "print(f\"Resta: {a - b}\")               # Salida: 7\n",
    "print(f\"Multiplicación: {a * b}\")      # Salida: 30\n",
    "print(f\"División: {a / b}\")            # Salida: 3.3333333333333335\n",
    "print(f\"División entera: {a // b}\")    # Salida: 3\n",
    "print(f\"Módulo: {a % b}\")              # Salida: 1\n",
    "print(f\"Potenciación: {a ** b}\")       # Salida: 1000"
   ]
  },
  {
   "cell_type": "markdown",
   "metadata": {
    "id": "O3X7hFZ7sUrO"
   },
   "source": [
    "## Operadores Relacionales\n",
    "\n",
    "Los operadores relacionales se utilizan para comparar valores:\n",
    "    \n",
    "    <  : menor que\n",
    "    >  : mayor que\n",
    "    <= : menor o igual\n",
    "    >= : mayor o igual\n",
    "    == : igual a\n",
    "    != : distinto a\n",
    "    <> : distinto a\n",
    "    \n",
    "    \n",
    "### Ejemplos:"
   ]
  },
  {
   "cell_type": "code",
   "execution_count": 12,
   "metadata": {
    "colab": {
     "base_uri": "https://localhost:8080/"
    },
    "executionInfo": {
     "elapsed": 357,
     "status": "ok",
     "timestamp": 1692668385101,
     "user": {
      "displayName": "Luis Gomez",
      "userId": "00656069038044722993"
     },
     "user_tz": 240
    },
    "id": "fUJFL52DtfWk",
    "outputId": "43795743-55fc-45e6-98f0-4a592e6d9d4e"
   },
   "outputs": [
    {
     "name": "stdout",
     "output_type": "stream",
     "text": [
      "x < y: True\n",
      "x > y: False\n",
      "x == y: False\n",
      "x != y: True\n"
     ]
    }
   ],
   "source": [
    "x = 5\n",
    "y = 10\n",
    "\n",
    "print(f\"x < y: {x < y}\")   # Salida: True\n",
    "print(f\"x > y: {x > y}\")   # Salida: False\n",
    "print(f\"x == y: {x == y}\") # Salida: False\n",
    "print(f\"x != y: {x != y}\") # Salida: True"
   ]
  },
  {
   "cell_type": "code",
   "execution_count": 13,
   "metadata": {
    "colab": {
     "base_uri": "https://localhost:8080/"
    },
    "executionInfo": {
     "elapsed": 400,
     "status": "ok",
     "timestamp": 1692668392427,
     "user": {
      "displayName": "Luis Gomez",
      "userId": "00656069038044722993"
     },
     "user_tz": 240
    },
    "id": "OCgE1OqTtp7L",
    "outputId": "584623c9-440c-4891-e12a-c9486d2db4b9"
   },
   "outputs": [
    {
     "data": {
      "text/plain": [
       "False"
      ]
     },
     "execution_count": 13,
     "metadata": {},
     "output_type": "execute_result"
    }
   ],
   "source": [
    "3 == 2"
   ]
  },
  {
   "cell_type": "markdown",
   "metadata": {
    "id": "oV4CnZ-et45U"
   },
   "source": [
    "## 3. Operadores Lógicos\n",
    "\n",
    "\n",
    "Nos permiten combinar iperaciones relacionales\n",
    "\n",
    " - `and`: Retorna True si ambas expresiones son verdaderas\n",
    " - `or`: Retorna True si al menos una de las expresiones es verdadera\n",
    " - `not`: Invierte el valor de verdad de una expresión\n",
    " \n",
    " Ejemplos:\n"
   ]
  },
  {
   "cell_type": "code",
   "execution_count": 6,
   "metadata": {
    "colab": {
     "base_uri": "https://localhost:8080/",
     "height": 35
    },
    "executionInfo": {
     "elapsed": 1082,
     "status": "ok",
     "timestamp": 1600344457012,
     "user": {
      "displayName": "Luis Gomez",
      "photoUrl": "https://lh3.googleusercontent.com/a-/AOh14GhgMxcxoQRX6YmkMDaHTW4-qZ0OpyN3QQ75T4i4=s64",
      "userId": "00656069038044722993"
     },
     "user_tz": 180
    },
    "id": "FDbltjchu_MG",
    "outputId": "1e5a69b7-4667-4a1c-f233-349e33fa9133"
   },
   "outputs": [
    {
     "name": "stdout",
     "output_type": "stream",
     "text": [
      "a and b: False\n",
      "a or b: True\n",
      "not a: False\n"
     ]
    }
   ],
   "source": [
    "a = True\n",
    "b = False\n",
    "\n",
    "print(f\"a and b: {a and b}\")  # Salida: False\n",
    "print(f\"a or b: {a or b}\")    # Salida: True\n",
    "print(f\"not a: {not a}\")      # Salida: False"
   ]
  },
  {
   "cell_type": "markdown",
   "metadata": {
    "id": "r5rbTolXvwMg"
   },
   "source": [
    "## Operadores lógicos a nivel de bit\n",
    "\n",
    "Los operadores a nivel de bit trabajan con los bits individuales de los números:\n",
    "\n",
    "- `&`: AND a nivel de bit\n",
    "- `|`: OR a nivel de bit\n",
    "- `^`: XOR a nivel de bit\n",
    "- `~`: NOT a nivel de bit (complemento a uno)\n",
    "- `<<`: Desplazamiento a la izquierda\n",
    "- `>>`: Desplazamiento a la derecha\n",
    "\n"
   ]
  },
  {
   "cell_type": "code",
   "execution_count": 7,
   "metadata": {},
   "outputs": [
    {
     "name": "stdout",
     "output_type": "stream",
     "text": [
      "a & b: 1\n",
      "a | b: 7\n",
      "a ^ b: 6\n",
      "~a: -6\n",
      "a << 1: 10\n",
      "a >> 1: 2\n"
     ]
    }
   ],
   "source": [
    "a = 5  # 101 en binario\n",
    "b = 3  # 011 en binario\n",
    "  &    #  \n",
    "  |    # 111 \n",
    "  ^    # 110\n",
    "\n",
    "print(f\"a & b: {a & b}\")   # Salida: 1 (001 en binario)\n",
    "print(f\"a | b: {a | b}\")   # Salida: 7 (111 en binario)\n",
    "print(f\"a ^ b: {a ^ b}\")   # Salida: 6 (110 en binario)\n",
    "print(f\"~a: {~a}\")         # Salida: -6 (complemento a dos)\n",
    "print(f\"a << 1: {a << 1}\") # Salida: 10 (1010 en binario)\n",
    "print(f\"a >> 1: {a >> 1}\") # Salida: 2 (010 en binario)\n"
   ]
  },
  {
   "cell_type": "markdown",
   "metadata": {},
   "source": [
    "## Operadores de Asignación Compuesta\n",
    "\n",
    "Python ofrece operadores de asignación compuesta que combinan una operación aritmética con una asignación:\n",
    "\n",
    "\n",
    "- `+=`: Suma y asigna\n",
    "- `-=`: Resta y asigna\n",
    "- `*=`: Multiplica y asigna\n",
    "- `/=`: Divide y asigna\n",
    "- `//=`: Divide (división entera) y asigna\n",
    "- `%=`: Calcula el módulo y asigna\n",
    "- `**=`: Eleva a potencia y asigna\n",
    "\n",
    "Ejemplos:"
   ]
  },
  {
   "cell_type": "code",
   "execution_count": 8,
   "metadata": {},
   "outputs": [
    {
     "name": "stdout",
     "output_type": "stream",
     "text": [
      "x después de +=: 15\n",
      "x después de *=: 30\n"
     ]
    }
   ],
   "source": [
    "x = 10\n",
    "\n",
    "x += 5  # Equivalente a x = x + 5\n",
    "print(f\"x después de +=: {x}\")  # Salida: 15\n",
    "\n",
    "x *= 2  # Equivalente a x = x * 2\n",
    "print(f\"x después de *=: {x}\")  # Salida: 30"
   ]
  },
  {
   "cell_type": "markdown",
   "metadata": {},
   "source": [
    "## Aplicación en Cálculo Numérico\n",
    "\n",
    "Veamos un ejemplo más complejo que combina varios operadores para resolver un problema de cálculo numérico:"
   ]
  },
  {
   "cell_type": "code",
   "execution_count": 15,
   "metadata": {},
   "outputs": [
    {
     "name": "stdout",
     "output_type": "stream",
     "text": [
      "Las raíces de la ecuación 1x^2 + 5x + 6 = 0 son:\n",
      "-2.0\n",
      "-3.0\n"
     ]
    }
   ],
   "source": [
    "import math\n",
    "\n",
    "def calcular_raices_cuadraticas(a, b, c):\n",
    "    \"\"\"Calcula las raíces de una ecuación cuadrática ax^2 + bx + c = 0\"\"\"\n",
    "    discriminante = b**2 - 4*a*c\n",
    "    \n",
    "    if discriminante > 0:\n",
    "        raiz1 = (-b + math.sqrt(discriminante)) / (2*a)\n",
    "        raiz2 = (-b - math.sqrt(discriminante)) / (2*a)\n",
    "        return raiz1, raiz2\n",
    "    elif discriminante == 0:\n",
    "        raiz = -b / (2*a)\n",
    "        return raiz,\n",
    "    else:\n",
    "        parte_real = -b / (2*a)\n",
    "        parte_imaginaria = math.sqrt(abs(discriminante)) / (2*a)\n",
    "        return complex(parte_real, parte_imaginaria), complex(parte_real, -parte_imaginaria)\n",
    "\n",
    "# Ejemplo de uso\n",
    "a, b, c = 1, 5, 6\n",
    "raices = calcular_raices_cuadraticas(a, b, c)\n",
    "print(f\"Las raíces de la ecuación {a}x^2 + {b}x + {c} = 0 son:\")\n",
    "for raiz in raices:\n",
    "    print(raiz)"
   ]
  },
  {
   "cell_type": "code",
   "execution_count": null,
   "metadata": {},
   "outputs": [],
   "source": []
  }
 ],
 "metadata": {
  "colab": {
   "provenance": [],
   "toc_visible": true
  },
  "kernelspec": {
   "display_name": "Python 3 (ipykernel)",
   "language": "python",
   "name": "python3"
  },
  "language_info": {
   "codemirror_mode": {
    "name": "ipython",
    "version": 3
   },
   "file_extension": ".py",
   "mimetype": "text/x-python",
   "name": "python",
   "nbconvert_exporter": "python",
   "pygments_lexer": "ipython3",
   "version": "3.8.10"
  }
 },
 "nbformat": 4,
 "nbformat_minor": 1
}
