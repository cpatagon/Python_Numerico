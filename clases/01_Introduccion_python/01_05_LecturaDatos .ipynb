{
 "cells": [
  {
   "cell_type": "markdown",
   "metadata": {},
   "source": [
    "# Lectura y Análisis de Datos para Cálculo Numérico\n",
    "\n",
    "## Introducción\n",
    "\n",
    "En cálculo numérico, la capacidad de leer, procesar y analizar datos es fundamental. \n",
    "\n",
    "Esta clase se enfocará en cómo utilizar Python para leer diferentes formatos de datos y realizar análisis numéricos básicos.\n",
    "\n",
    "## Importación de librerías"
   ]
  },
  {
   "cell_type": "code",
   "execution_count": 9,
   "metadata": {},
   "outputs": [],
   "source": [
    "import numpy as np\n",
    "import pandas as pd\n",
    "import matplotlib.pyplot as plt\n",
    "from scipy import stats\n",
    "import os"
   ]
  },
  {
   "cell_type": "markdown",
   "metadata": {},
   "source": [
    "## Lectura de Datos\n",
    "\n",
    "### 1. Lectura de CSV con Pandas"
   ]
  },
  {
   "cell_type": "code",
   "execution_count": 25,
   "metadata": {},
   "outputs": [
    {
     "name": "stdout",
     "output_type": "stream",
     "text": [
      "     x    y    z\n",
      "0  1.2  3.4  5.6\n",
      "1  2.3  4.5  6.7\n",
      "2  3.4  5.6  7.8\n",
      "3  4.5  6.7  8.9\n",
      "4  5.6  7.8  9.0\n"
     ]
    }
   ],
   "source": [
    "# Suponiendo que tenemos un archivo 'datos_numericos.csv'\n",
    "df = pd.read_csv('datos_numericos.csv')\n",
    "print(df.head())\n",
    "\n",
    "# Convertir a array de NumPy para cálculos más eficientes\n",
    "data_array = df.values"
   ]
  },
  {
   "cell_type": "markdown",
   "metadata": {},
   "source": [
    "### 2. Lectura de datos desde Excel"
   ]
  },
  {
   "cell_type": "code",
   "execution_count": 26,
   "metadata": {},
   "outputs": [
    {
     "name": "stdout",
     "output_type": "stream",
     "text": [
      "   variable_independiente  variable_dependiente  columna_numerica  \\\n",
      "0                 0.00000              0.496714                 9   \n",
      "1                 0.10101             -0.037254                62   \n",
      "2                 0.20202              0.849709                37   \n",
      "3                 0.30303              1.826060                97   \n",
      "4                 0.40404              0.169887                51   \n",
      "\n",
      "   columna_positiva  \n",
      "0          9.375525  \n",
      "1          9.700983  \n",
      "2          2.591838  \n",
      "3         10.936029  \n",
      "4          9.516644  \n"
     ]
    }
   ],
   "source": [
    "# Suponiendo que tenemos un archivo 'datos_numericos.xlsx'\n",
    "df_excel = pd.read_excel('datos_numericos.xlsx', sheet_name='Sheet1')\n",
    "print(df_excel.head())"
   ]
  },
  {
   "cell_type": "markdown",
   "metadata": {},
   "source": [
    "## Análisis Numérico Básico\n",
    "\n",
    "### 1. Estadísticas Descriptivas"
   ]
  },
  {
   "cell_type": "code",
   "execution_count": 38,
   "metadata": {},
   "outputs": [
    {
     "name": "stdout",
     "output_type": "stream",
     "text": [
      "       variable_independiente  variable_dependiente  columna_numerica  \\\n",
      "count              100.000000            100.000000        100.000000   \n",
      "mean                 5.000000              4.896153         49.660000   \n",
      "std                  2.930454              3.106321         31.001212   \n",
      "min                  0.000000             -0.600149          1.000000   \n",
      "25%                  2.500000              2.217051         20.000000   \n",
      "50%                  5.000000              4.836175         52.000000   \n",
      "75%                  7.500000              7.765663         73.500000   \n",
      "max                 10.000000             10.160564         99.000000   \n",
      "\n",
      "       columna_positiva  \n",
      "count        100.000000  \n",
      "mean           5.298661  \n",
      "std            5.518182  \n",
      "min            0.025992  \n",
      "25%            1.729842  \n",
      "50%            3.329394  \n",
      "75%            6.993802  \n",
      "max           26.061167  \n",
      "Media: 49.66, Desviación Estándar: 30.845816572105857\n"
     ]
    }
   ],
   "source": [
    "df = df_excel\n",
    "print(df.describe())\n",
    "\n",
    "# Calcular media y desviación estándar de una columna específica\n",
    "mean = np.mean(df['columna_numerica'])\n",
    "std_dev = np.std(df['columna_numerica'])\n",
    "print(f\"Media: {mean}, Desviación Estándar: {std_dev}\")"
   ]
  },
  {
   "cell_type": "markdown",
   "metadata": {},
   "source": [
    "### 2. Correlación entre variables"
   ]
  },
  {
   "cell_type": "code",
   "execution_count": 39,
   "metadata": {},
   "outputs": [
    {
     "name": "stdout",
     "output_type": "stream",
     "text": [
      "                        variable_independiente  variable_dependiente  \\\n",
      "variable_independiente                1.000000              0.956396   \n",
      "variable_dependiente                  0.956396              1.000000   \n",
      "columna_numerica                     -0.069104             -0.044130   \n",
      "columna_positiva                     -0.208264             -0.215130   \n",
      "\n",
      "                        columna_numerica  columna_positiva  \n",
      "variable_independiente         -0.069104         -0.208264  \n",
      "variable_dependiente           -0.044130         -0.215130  \n",
      "columna_numerica                1.000000          0.045930  \n",
      "columna_positiva                0.045930          1.000000  \n"
     ]
    }
   ],
   "source": [
    "correlation_matrix = df.corr()\n",
    "print(correlation_matrix)"
   ]
  },
  {
   "cell_type": "markdown",
   "metadata": {},
   "source": [
    "### 3. Regresión Lineal"
   ]
  },
  {
   "cell_type": "code",
   "execution_count": 40,
   "metadata": {},
   "outputs": [
    {
     "name": "stdout",
     "output_type": "stream",
     "text": [
      "Pendiente: 1.0137932673366565\n",
      "Intercepto: -0.17281285407737723\n",
      "Coeficiente de correlación: 0.9563964230419769\n"
     ]
    }
   ],
   "source": [
    "x = df['variable_independiente']\n",
    "y = df['variable_dependiente']\n",
    "\n",
    "slope, intercept, r_value, p_value, std_err = stats.linregress(x, y)\n",
    "\n",
    "print(f\"Pendiente: {slope}\")\n",
    "print(f\"Intercepto: {intercept}\")\n",
    "print(f\"Coeficiente de correlación: {r_value}\")"
   ]
  },
  {
   "cell_type": "markdown",
   "metadata": {},
   "source": [
    "### 4. Transformación de Datos"
   ]
  },
  {
   "cell_type": "code",
   "execution_count": 43,
   "metadata": {},
   "outputs": [
    {
     "name": "stderr",
     "output_type": "stream",
     "text": [
      "/home/lgomez/miniconda3/lib/python3.8/site-packages/pandas/core/arraylike.py:402: RuntimeWarning: invalid value encountered in log\n",
      "  result = getattr(ufunc, method)(*inputs, **kwargs)\n"
     ]
    },
    {
     "data": {
      "text/html": [
       "<div>\n",
       "<style scoped>\n",
       "    .dataframe tbody tr th:only-of-type {\n",
       "        vertical-align: middle;\n",
       "    }\n",
       "\n",
       "    .dataframe tbody tr th {\n",
       "        vertical-align: top;\n",
       "    }\n",
       "\n",
       "    .dataframe thead th {\n",
       "        text-align: right;\n",
       "    }\n",
       "</style>\n",
       "<table border=\"1\" class=\"dataframe\">\n",
       "  <thead>\n",
       "    <tr style=\"text-align: right;\">\n",
       "      <th></th>\n",
       "      <th>variable_independiente</th>\n",
       "      <th>variable_dependiente</th>\n",
       "      <th>columna_numerica</th>\n",
       "      <th>columna_positiva</th>\n",
       "      <th>log_columna</th>\n",
       "    </tr>\n",
       "  </thead>\n",
       "  <tbody>\n",
       "    <tr>\n",
       "      <th>0</th>\n",
       "      <td>-1.706220</td>\n",
       "      <td>-1.416286</td>\n",
       "      <td>-1.311562</td>\n",
       "      <td>0.738806</td>\n",
       "      <td>-0.302720</td>\n",
       "    </tr>\n",
       "    <tr>\n",
       "      <th>1</th>\n",
       "      <td>-1.671751</td>\n",
       "      <td>-1.588183</td>\n",
       "      <td>0.398049</td>\n",
       "      <td>0.797785</td>\n",
       "      <td>-0.225916</td>\n",
       "    </tr>\n",
       "    <tr>\n",
       "      <th>2</th>\n",
       "      <td>-1.637282</td>\n",
       "      <td>-1.302649</td>\n",
       "      <td>-0.408371</td>\n",
       "      <td>-0.490528</td>\n",
       "      <td>NaN</td>\n",
       "    </tr>\n",
       "    <tr>\n",
       "      <th>3</th>\n",
       "      <td>-1.602813</td>\n",
       "      <td>-0.988337</td>\n",
       "      <td>1.527037</td>\n",
       "      <td>1.021599</td>\n",
       "      <td>0.021369</td>\n",
       "    </tr>\n",
       "    <tr>\n",
       "      <th>4</th>\n",
       "      <td>-1.568344</td>\n",
       "      <td>-1.521500</td>\n",
       "      <td>0.043224</td>\n",
       "      <td>0.764379</td>\n",
       "      <td>-0.268691</td>\n",
       "    </tr>\n",
       "    <tr>\n",
       "      <th>...</th>\n",
       "      <td>...</td>\n",
       "      <td>...</td>\n",
       "      <td>...</td>\n",
       "      <td>...</td>\n",
       "      <td>...</td>\n",
       "    </tr>\n",
       "    <tr>\n",
       "      <th>95</th>\n",
       "      <td>1.568344</td>\n",
       "      <td>1.041841</td>\n",
       "      <td>-0.569655</td>\n",
       "      <td>-0.924329</td>\n",
       "      <td>NaN</td>\n",
       "    </tr>\n",
       "    <tr>\n",
       "      <th>96</th>\n",
       "      <td>1.602813</td>\n",
       "      <td>1.640827</td>\n",
       "      <td>-1.311562</td>\n",
       "      <td>-0.632800</td>\n",
       "      <td>NaN</td>\n",
       "    </tr>\n",
       "    <tr>\n",
       "      <th>97</th>\n",
       "      <td>1.637282</td>\n",
       "      <td>1.662057</td>\n",
       "      <td>1.591551</td>\n",
       "      <td>-0.262338</td>\n",
       "      <td>NaN</td>\n",
       "    </tr>\n",
       "    <tr>\n",
       "      <th>98</th>\n",
       "      <td>1.671751</td>\n",
       "      <td>1.612180</td>\n",
       "      <td>-0.988994</td>\n",
       "      <td>-0.601865</td>\n",
       "      <td>NaN</td>\n",
       "    </tr>\n",
       "    <tr>\n",
       "      <th>99</th>\n",
       "      <td>1.706220</td>\n",
       "      <td>1.567533</td>\n",
       "      <td>-0.053546</td>\n",
       "      <td>0.634056</td>\n",
       "      <td>-0.455618</td>\n",
       "    </tr>\n",
       "  </tbody>\n",
       "</table>\n",
       "<p>100 rows × 5 columns</p>\n",
       "</div>"
      ],
      "text/plain": [
       "    variable_independiente  variable_dependiente  columna_numerica  \\\n",
       "0                -1.706220             -1.416286         -1.311562   \n",
       "1                -1.671751             -1.588183          0.398049   \n",
       "2                -1.637282             -1.302649         -0.408371   \n",
       "3                -1.602813             -0.988337          1.527037   \n",
       "4                -1.568344             -1.521500          0.043224   \n",
       "..                     ...                   ...               ...   \n",
       "95                1.568344              1.041841         -0.569655   \n",
       "96                1.602813              1.640827         -1.311562   \n",
       "97                1.637282              1.662057          1.591551   \n",
       "98                1.671751              1.612180         -0.988994   \n",
       "99                1.706220              1.567533         -0.053546   \n",
       "\n",
       "    columna_positiva  log_columna  \n",
       "0           0.738806    -0.302720  \n",
       "1           0.797785    -0.225916  \n",
       "2          -0.490528          NaN  \n",
       "3           1.021599     0.021369  \n",
       "4           0.764379    -0.268691  \n",
       "..               ...          ...  \n",
       "95         -0.924329          NaN  \n",
       "96         -0.632800          NaN  \n",
       "97         -0.262338          NaN  \n",
       "98         -0.601865          NaN  \n",
       "99          0.634056    -0.455618  \n",
       "\n",
       "[100 rows x 5 columns]"
      ]
     },
     "execution_count": 43,
     "metadata": {},
     "output_type": "execute_result"
    }
   ],
   "source": [
    "# Normalización de datos\n",
    "df= (df - df.mean()) / df.std()\n",
    "\n",
    "# Aplicar una función a una columna\n",
    "df['log_columna'] = np.log(df['columna_positiva'])\n",
    "df"
   ]
  },
  {
   "cell_type": "markdown",
   "metadata": {},
   "source": [
    "## Visualización de Datos"
   ]
  },
  {
   "cell_type": "code",
   "execution_count": 44,
   "metadata": {},
   "outputs": [
    {
     "data": {
      "image/png": "[encoded data removed]",
      "text/plain": [
       "<Figure size 1000x600 with 1 Axes>"
      ]
     },
     "metadata": {},
     "output_type": "display_data"
    }
   ],
   "source": [
    "df['x']=df['variable_independiente']\n",
    "df['y']=df['variable_dependiente']\n",
    "\n",
    "plt.figure(figsize=(10, 6))\n",
    "plt.scatter(df['x'], df['y'])\n",
    "plt.title('Gráfico de Dispersión')\n",
    "plt.xlabel('Variable X')\n",
    "plt.ylabel('Variable Y')\n",
    "plt.show()"
   ]
  },
  {
   "cell_type": "markdown",
   "metadata": {},
   "source": [
    "## Guardado de Resultados"
   ]
  },
  {
   "cell_type": "code",
   "execution_count": 30,
   "metadata": {},
   "outputs": [],
   "source": [
    "# Guardar resultados en CSV\n",
    "df_resultados = pd.DataFrame({\n",
    "    'x': x,\n",
    "    'y': y,\n",
    "    'y_pred': slope * x + intercept\n",
    "})\n",
    "df_resultados.to_csv('resultados_regresion.csv', index=False)"
   ]
  },
  {
   "cell_type": "markdown",
   "metadata": {
    "id": "c_ybSkyiZ6XZ"
   },
   "source": [
    "## Ejercicio Práctico\n",
    "\n",
    "1. Carga el conjunto de datos 'iris' de scikit-learn.\n",
    "2. Realiza un análisis estadístico básico de las características.\n",
    "3. Encuentra la correlación entre la longitud del sépalo y la longitud del pétalo.\n",
    "4. Realiza una regresión lineal entre estas dos características.\n",
    "5. Visualiza los resultados y guárdalos en un archivo CSV.\n",
    "\n",
    "Este ejercicio permitirá a los estudiantes practicar la lectura de datos, el análisis estadístico básico, la regresión lineal y la visualización de resultados, todos elementos importantes en el cálculo numérico.\n",
    "\n",
    "\n",
    "## Lectura y escritura de datos \n",
    "\n",
    "lo primero que hacemos es importar las librerías con las que trabajaresmos y que tienen las funciones que necesitamos "
   ]
  },
  {
   "cell_type": "code",
   "execution_count": 2,
   "metadata": {
    "executionInfo": {
     "elapsed": 7,
     "status": "ok",
     "timestamp": 1630032314747,
     "user": {
      "displayName": "Luis Gomez",
      "photoUrl": "https://lh3.googleusercontent.com/a-/AOh14GjzVIbqHyWHGIQwg4unyTzJRW-jQYwwjIegbPWsi3I=s64",
      "userId": "00656069038044722993"
     },
     "user_tz": 240
    },
    "id": "1oKF0RHyZ6Xc"
   },
   "outputs": [],
   "source": [
    "import pandas as pd\n",
    "import numpy as np\n",
    "import os\n",
    "import csv\n",
    "import urllib3\n",
    "\n",
    "%config IPCompleter.greedy=True\n",
    "\n",
    "#conda install xlwt para escribir archivos excel "
   ]
  },
  {
   "cell_type": "code",
   "execution_count": 3,
   "metadata": {
    "executionInfo": {
     "elapsed": 244,
     "status": "ok",
     "timestamp": 1630032317683,
     "user": {
      "displayName": "Luis Gomez",
      "photoUrl": "https://lh3.googleusercontent.com/a-/AOh14GjzVIbqHyWHGIQwg4unyTzJRW-jQYwwjIegbPWsi3I=s64",
      "userId": "00656069038044722993"
     },
     "user_tz": 240
    },
    "id": "YjBr9QaQZ6Xt"
   },
   "outputs": [],
   "source": [
    "url='../../datasets/'\n",
    "dataset='titanic/titanic3.csv'\n",
    "\n",
    "## os.path.join es una función que uno y soluciona problemas de path como fañta de / o espacios\n",
    "dataset=os.path.join(url,dataset)"
   ]
  },
  {
   "cell_type": "markdown",
   "metadata": {
    "id": "efEmgbKxZ6X-"
   },
   "source": [
    "## lectura CSV utilizando Pandas\n",
    "\n",
    "### pd.read_csv()  \n",
    "\n",
    "- **sep    :** separador de valores por ejemplo ',' o ';' \n",
    "- **dtype  :** tipo de datos en cada columna {nombre:tipo dato} # util para columnas con fechas  \n",
    "- **header :** posición de la cabecera donde el número indica la linea por defecto es 0\n",
    "- **names   :** nombre de las columnas creando una lista o array con los valores ={'nombre1', 'nombre2', ...}  \n",
    "- **skiprows        :** número de filas que se salta por ejemplo 12 implica que parte de la fila 13  \n",
    "- **index_col       :** argumento númerico indica que columna es el index  \n",
    "- **skip_blank_lines:** booleano como True o False. Se salta las filas con un valor Nan  \n",
    "- **na_filter**       : elimina todas as filas con algun valor Nan (por edefecto es False)  "
   ]
  },
  {
   "cell_type": "code",
   "execution_count": 4,
   "metadata": {
    "colab": {
     "base_uri": "https://localhost:8080/",
     "height": 434
    },
    "executionInfo": {
     "elapsed": 249,
     "status": "error",
     "timestamp": 1630032327541,
     "user": {
      "displayName": "Luis Gomez",
      "photoUrl": "https://lh3.googleusercontent.com/a-/AOh14GjzVIbqHyWHGIQwg4unyTzJRW-jQYwwjIegbPWsi3I=s64",
      "userId": "00656069038044722993"
     },
     "user_tz": 240
    },
    "id": "kxGl0qZ8Z6YB",
    "outputId": "fbfa284d-52e2-47e3-d588-22dd4261ffaf"
   },
   "outputs": [
    {
     "data": {
      "text/html": [
       "<div>\n",
       "<style scoped>\n",
       "    .dataframe tbody tr th:only-of-type {\n",
       "        vertical-align: middle;\n",
       "    }\n",
       "\n",
       "    .dataframe tbody tr th {\n",
       "        vertical-align: top;\n",
       "    }\n",
       "\n",
       "    .dataframe thead th {\n",
       "        text-align: right;\n",
       "    }\n",
       "</style>\n",
       "<table border=\"1\" class=\"dataframe\">\n",
       "  <thead>\n",
       "    <tr style=\"text-align: right;\">\n",
       "      <th></th>\n",
       "      <th>pclass</th>\n",
       "      <th>survived</th>\n",
       "      <th>name</th>\n",
       "      <th>sex</th>\n",
       "      <th>age</th>\n",
       "      <th>sibsp</th>\n",
       "      <th>parch</th>\n",
       "      <th>ticket</th>\n",
       "      <th>fare</th>\n",
       "      <th>cabin</th>\n",
       "      <th>embarked</th>\n",
       "      <th>boat</th>\n",
       "      <th>body</th>\n",
       "      <th>home.dest</th>\n",
       "    </tr>\n",
       "  </thead>\n",
       "  <tbody>\n",
       "    <tr>\n",
       "      <th>0</th>\n",
       "      <td>1</td>\n",
       "      <td>1</td>\n",
       "      <td>Allen, Miss. Elisabeth Walton</td>\n",
       "      <td>female</td>\n",
       "      <td>29.0000</td>\n",
       "      <td>0</td>\n",
       "      <td>0</td>\n",
       "      <td>24160</td>\n",
       "      <td>211.3375</td>\n",
       "      <td>B5</td>\n",
       "      <td>S</td>\n",
       "      <td>2</td>\n",
       "      <td>NaN</td>\n",
       "      <td>St Louis, MO</td>\n",
       "    </tr>\n",
       "    <tr>\n",
       "      <th>1</th>\n",
       "      <td>1</td>\n",
       "      <td>1</td>\n",
       "      <td>Allison, Master. Hudson Trevor</td>\n",
       "      <td>male</td>\n",
       "      <td>0.9167</td>\n",
       "      <td>1</td>\n",
       "      <td>2</td>\n",
       "      <td>113781</td>\n",
       "      <td>151.5500</td>\n",
       "      <td>C22 C26</td>\n",
       "      <td>S</td>\n",
       "      <td>11</td>\n",
       "      <td>NaN</td>\n",
       "      <td>Montreal, PQ / Chesterville, ON</td>\n",
       "    </tr>\n",
       "    <tr>\n",
       "      <th>2</th>\n",
       "      <td>1</td>\n",
       "      <td>0</td>\n",
       "      <td>Allison, Miss. Helen Loraine</td>\n",
       "      <td>female</td>\n",
       "      <td>2.0000</td>\n",
       "      <td>1</td>\n",
       "      <td>2</td>\n",
       "      <td>113781</td>\n",
       "      <td>151.5500</td>\n",
       "      <td>C22 C26</td>\n",
       "      <td>S</td>\n",
       "      <td>NaN</td>\n",
       "      <td>NaN</td>\n",
       "      <td>Montreal, PQ / Chesterville, ON</td>\n",
       "    </tr>\n",
       "    <tr>\n",
       "      <th>3</th>\n",
       "      <td>1</td>\n",
       "      <td>0</td>\n",
       "      <td>Allison, Mr. Hudson Joshua Creighton</td>\n",
       "      <td>male</td>\n",
       "      <td>30.0000</td>\n",
       "      <td>1</td>\n",
       "      <td>2</td>\n",
       "      <td>113781</td>\n",
       "      <td>151.5500</td>\n",
       "      <td>C22 C26</td>\n",
       "      <td>S</td>\n",
       "      <td>NaN</td>\n",
       "      <td>135.0</td>\n",
       "      <td>Montreal, PQ / Chesterville, ON</td>\n",
       "    </tr>\n",
       "    <tr>\n",
       "      <th>4</th>\n",
       "      <td>1</td>\n",
       "      <td>0</td>\n",
       "      <td>Allison, Mrs. Hudson J C (Bessie Waldo Daniels)</td>\n",
       "      <td>female</td>\n",
       "      <td>25.0000</td>\n",
       "      <td>1</td>\n",
       "      <td>2</td>\n",
       "      <td>113781</td>\n",
       "      <td>151.5500</td>\n",
       "      <td>C22 C26</td>\n",
       "      <td>S</td>\n",
       "      <td>NaN</td>\n",
       "      <td>NaN</td>\n",
       "      <td>Montreal, PQ / Chesterville, ON</td>\n",
       "    </tr>\n",
       "  </tbody>\n",
       "</table>\n",
       "</div>"
      ],
      "text/plain": [
       "   pclass  survived                                             name     sex  \\\n",
       "0       1         1                    Allen, Miss. Elisabeth Walton  female   \n",
       "1       1         1                   Allison, Master. Hudson Trevor    male   \n",
       "2       1         0                     Allison, Miss. Helen Loraine  female   \n",
       "3       1         0             Allison, Mr. Hudson Joshua Creighton    male   \n",
       "4       1         0  Allison, Mrs. Hudson J C (Bessie Waldo Daniels)  female   \n",
       "\n",
       "       age  sibsp  parch  ticket      fare    cabin embarked boat   body  \\\n",
       "0  29.0000      0      0   24160  211.3375       B5        S    2    NaN   \n",
       "1   0.9167      1      2  113781  151.5500  C22 C26        S   11    NaN   \n",
       "2   2.0000      1      2  113781  151.5500  C22 C26        S  NaN    NaN   \n",
       "3  30.0000      1      2  113781  151.5500  C22 C26        S  NaN  135.0   \n",
       "4  25.0000      1      2  113781  151.5500  C22 C26        S  NaN    NaN   \n",
       "\n",
       "                         home.dest  \n",
       "0                     St Louis, MO  \n",
       "1  Montreal, PQ / Chesterville, ON  \n",
       "2  Montreal, PQ / Chesterville, ON  \n",
       "3  Montreal, PQ / Chesterville, ON  \n",
       "4  Montreal, PQ / Chesterville, ON  "
      ]
     },
     "execution_count": 4,
     "metadata": {},
     "output_type": "execute_result"
    }
   ],
   "source": [
    "df=pd.read_csv(dataset, sep=',',dtype={'plcass':np.int32, 'fare':np.float64}, header=0)\n",
    "\n",
    "## la duncion .head() lee las primeras lineas de las columnas\n",
    "df.head()"
   ]
  },
  {
   "cell_type": "markdown",
   "metadata": {
    "id": "ChjdFRkFZ6YM"
   },
   "source": [
    "## Carga de Datos a través de open() \n",
    "\n",
    "open es una función que lee linea a linea. Esto es mejor cuando tenemos datos muy grandes ya que no ocupa tanta memoria RAM.   \n",
    "* **open()         :** habre un determinado fichero  \n",
    "* **readline()     :** lee una línea  \n",
    "* **strip()        :** elimina espacios en blanco al inicio como al final de la linea  \n",
    "* **split(',')     :** separa la linea por ','  \n",
    "* **len()          :** da el tamaño de las columnas  "
   ]
  },
  {
   "cell_type": "code",
   "execution_count": 5,
   "metadata": {
    "id": "NuiL-4fCZ6YO"
   },
   "outputs": [],
   "source": [
    "dataset2='customer-churn-model/Customer Churn Model.txt'\n",
    "dataset3=os.path.join(url,dataset2)"
   ]
  },
  {
   "cell_type": "code",
   "execution_count": 31,
   "metadata": {
    "id": "Wl2CUtFuZ6Ya"
   },
   "outputs": [],
   "source": [
    "data3 = open(dataset3,'r') # r es lectura "
   ]
  },
  {
   "cell_type": "code",
   "execution_count": 32,
   "metadata": {
    "id": "HILDeuQTZ6Ym"
   },
   "outputs": [],
   "source": [
    "cols=data3.readline().strip().split(',') #\n",
    "n_cols=len(cols)"
   ]
  },
  {
   "cell_type": "code",
   "execution_count": 34,
   "metadata": {
    "id": "peZQwS5ZZ6Yt",
    "outputId": "4515e7a2-a7fc-46ed-c4df-aceefa3ba278"
   },
   "outputs": [
    {
     "data": {
      "text/plain": [
       "{'State': [],\n",
       " 'Account Length': [],\n",
       " 'Area Code': [],\n",
       " 'Phone': [],\n",
       " \"Int'l Plan\": [],\n",
       " 'VMail Plan': [],\n",
       " 'VMail Message': [],\n",
       " 'Day Mins': [],\n",
       " 'Day Calls': [],\n",
       " 'Day Charge': [],\n",
       " 'Eve Mins': [],\n",
       " 'Eve Calls': [],\n",
       " 'Eve Charge': [],\n",
       " 'Night Mins': [],\n",
       " 'Night Calls': [],\n",
       " 'Night Charge': [],\n",
       " 'Intl Mins': [],\n",
       " 'Intl Calls': [],\n",
       " 'Intl Charge': [],\n",
       " 'CustServ Calls': [],\n",
       " 'Churn?': []}"
      ]
     },
     "execution_count": 34,
     "metadata": {},
     "output_type": "execute_result"
    }
   ],
   "source": [
    "n_cols\n",
    "counter = 0\n",
    "main_dict = {}\n",
    "for col in cols:\n",
    "    main_dict[col]=[]\n",
    "\n",
    "main_dict"
   ]
  },
  {
   "cell_type": "code",
   "execution_count": 36,
   "metadata": {
    "id": "eiInnkUQZ6Y3",
    "outputId": "bc9e432d-50f9-4daa-ff35-e797ff134d21"
   },
   "outputs": [
    {
     "name": "stdout",
     "output_type": "stream",
     "text": [
      "filas: 3333 col: 21\n"
     ]
    }
   ],
   "source": [
    "for line in data3:\n",
    "    values =line.strip().split(',') # en este caso el delimitador es una , \n",
    "    for i in range (len(cols)):\n",
    "        main_dict[cols[i]].append(values[i])\n",
    "    counter +=1\n",
    "\n",
    "print (\"filas: {} col: {}\".format(counter, n_cols))"
   ]
  },
  {
   "cell_type": "code",
   "execution_count": 10,
   "metadata": {
    "id": "ofsfB6hgZ6Y_",
    "outputId": "b4b1821b-9fc2-4929-dd59-68f6ea217b02"
   },
   "outputs": [
    {
     "data": {
      "text/html": [
       "<div>\n",
       "<style scoped>\n",
       "    .dataframe tbody tr th:only-of-type {\n",
       "        vertical-align: middle;\n",
       "    }\n",
       "\n",
       "    .dataframe tbody tr th {\n",
       "        vertical-align: top;\n",
       "    }\n",
       "\n",
       "    .dataframe thead th {\n",
       "        text-align: right;\n",
       "    }\n",
       "</style>\n",
       "<table border=\"1\" class=\"dataframe\">\n",
       "  <thead>\n",
       "    <tr style=\"text-align: right;\">\n",
       "      <th></th>\n",
       "      <th>State</th>\n",
       "      <th>Account Length</th>\n",
       "      <th>Area Code</th>\n",
       "      <th>Phone</th>\n",
       "      <th>Int'l Plan</th>\n",
       "      <th>VMail Plan</th>\n",
       "      <th>VMail Message</th>\n",
       "      <th>Day Mins</th>\n",
       "      <th>Day Calls</th>\n",
       "      <th>Day Charge</th>\n",
       "      <th>...</th>\n",
       "      <th>Eve Calls</th>\n",
       "      <th>Eve Charge</th>\n",
       "      <th>Night Mins</th>\n",
       "      <th>Night Calls</th>\n",
       "      <th>Night Charge</th>\n",
       "      <th>Intl Mins</th>\n",
       "      <th>Intl Calls</th>\n",
       "      <th>Intl Charge</th>\n",
       "      <th>CustServ Calls</th>\n",
       "      <th>Churn?</th>\n",
       "    </tr>\n",
       "  </thead>\n",
       "  <tbody>\n",
       "    <tr>\n",
       "      <th>0</th>\n",
       "      <td>KS</td>\n",
       "      <td>128</td>\n",
       "      <td>415</td>\n",
       "      <td>382-4657</td>\n",
       "      <td>no</td>\n",
       "      <td>yes</td>\n",
       "      <td>25</td>\n",
       "      <td>265.100000</td>\n",
       "      <td>110</td>\n",
       "      <td>45.070000</td>\n",
       "      <td>...</td>\n",
       "      <td>99</td>\n",
       "      <td>16.780000</td>\n",
       "      <td>244.700000</td>\n",
       "      <td>91</td>\n",
       "      <td>11.010000</td>\n",
       "      <td>10.000000</td>\n",
       "      <td>3</td>\n",
       "      <td>2.700000</td>\n",
       "      <td>1</td>\n",
       "      <td>False.</td>\n",
       "    </tr>\n",
       "    <tr>\n",
       "      <th>1</th>\n",
       "      <td>OH</td>\n",
       "      <td>107</td>\n",
       "      <td>415</td>\n",
       "      <td>371-7191</td>\n",
       "      <td>no</td>\n",
       "      <td>yes</td>\n",
       "      <td>26</td>\n",
       "      <td>161.600000</td>\n",
       "      <td>123</td>\n",
       "      <td>27.470000</td>\n",
       "      <td>...</td>\n",
       "      <td>103</td>\n",
       "      <td>16.620000</td>\n",
       "      <td>254.400000</td>\n",
       "      <td>103</td>\n",
       "      <td>11.450000</td>\n",
       "      <td>13.700000</td>\n",
       "      <td>3</td>\n",
       "      <td>3.700000</td>\n",
       "      <td>1</td>\n",
       "      <td>False.</td>\n",
       "    </tr>\n",
       "    <tr>\n",
       "      <th>2</th>\n",
       "      <td>NJ</td>\n",
       "      <td>137</td>\n",
       "      <td>415</td>\n",
       "      <td>358-1921</td>\n",
       "      <td>no</td>\n",
       "      <td>no</td>\n",
       "      <td>0</td>\n",
       "      <td>243.400000</td>\n",
       "      <td>114</td>\n",
       "      <td>41.380000</td>\n",
       "      <td>...</td>\n",
       "      <td>110</td>\n",
       "      <td>10.300000</td>\n",
       "      <td>162.600000</td>\n",
       "      <td>104</td>\n",
       "      <td>7.320000</td>\n",
       "      <td>12.200000</td>\n",
       "      <td>5</td>\n",
       "      <td>3.290000</td>\n",
       "      <td>0</td>\n",
       "      <td>False.</td>\n",
       "    </tr>\n",
       "    <tr>\n",
       "      <th>3</th>\n",
       "      <td>OH</td>\n",
       "      <td>84</td>\n",
       "      <td>408</td>\n",
       "      <td>375-9999</td>\n",
       "      <td>yes</td>\n",
       "      <td>no</td>\n",
       "      <td>0</td>\n",
       "      <td>299.400000</td>\n",
       "      <td>71</td>\n",
       "      <td>50.900000</td>\n",
       "      <td>...</td>\n",
       "      <td>88</td>\n",
       "      <td>5.260000</td>\n",
       "      <td>196.900000</td>\n",
       "      <td>89</td>\n",
       "      <td>8.860000</td>\n",
       "      <td>6.600000</td>\n",
       "      <td>7</td>\n",
       "      <td>1.780000</td>\n",
       "      <td>2</td>\n",
       "      <td>False.</td>\n",
       "    </tr>\n",
       "    <tr>\n",
       "      <th>4</th>\n",
       "      <td>OK</td>\n",
       "      <td>75</td>\n",
       "      <td>415</td>\n",
       "      <td>330-6626</td>\n",
       "      <td>yes</td>\n",
       "      <td>no</td>\n",
       "      <td>0</td>\n",
       "      <td>166.700000</td>\n",
       "      <td>113</td>\n",
       "      <td>28.340000</td>\n",
       "      <td>...</td>\n",
       "      <td>122</td>\n",
       "      <td>12.610000</td>\n",
       "      <td>186.900000</td>\n",
       "      <td>121</td>\n",
       "      <td>8.410000</td>\n",
       "      <td>10.100000</td>\n",
       "      <td>3</td>\n",
       "      <td>2.730000</td>\n",
       "      <td>3</td>\n",
       "      <td>False.</td>\n",
       "    </tr>\n",
       "  </tbody>\n",
       "</table>\n",
       "<p>5 rows × 21 columns</p>\n",
       "</div>"
      ],
      "text/plain": [
       "  State Account Length Area Code     Phone Int'l Plan VMail Plan  \\\n",
       "0    KS            128       415  382-4657         no        yes   \n",
       "1    OH            107       415  371-7191         no        yes   \n",
       "2    NJ            137       415  358-1921         no         no   \n",
       "3    OH             84       408  375-9999        yes         no   \n",
       "4    OK             75       415  330-6626        yes         no   \n",
       "\n",
       "  VMail Message    Day Mins Day Calls Day Charge  ... Eve Calls Eve Charge  \\\n",
       "0            25  265.100000       110  45.070000  ...        99  16.780000   \n",
       "1            26  161.600000       123  27.470000  ...       103  16.620000   \n",
       "2             0  243.400000       114  41.380000  ...       110  10.300000   \n",
       "3             0  299.400000        71  50.900000  ...        88   5.260000   \n",
       "4             0  166.700000       113  28.340000  ...       122  12.610000   \n",
       "\n",
       "   Night Mins Night Calls Night Charge  Intl Mins Intl Calls Intl Charge  \\\n",
       "0  244.700000          91    11.010000  10.000000          3    2.700000   \n",
       "1  254.400000         103    11.450000  13.700000          3    3.700000   \n",
       "2  162.600000         104     7.320000  12.200000          5    3.290000   \n",
       "3  196.900000          89     8.860000   6.600000          7    1.780000   \n",
       "4  186.900000         121     8.410000  10.100000          3    2.730000   \n",
       "\n",
       "  CustServ Calls  Churn?  \n",
       "0              1  False.  \n",
       "1              1  False.  \n",
       "2              0  False.  \n",
       "3              2  False.  \n",
       "4              3  False.  \n",
       "\n",
       "[5 rows x 21 columns]"
      ]
     },
     "execution_count": 10,
     "metadata": {},
     "output_type": "execute_result"
    }
   ],
   "source": [
    "df = pd.DataFrame(main_dict) # Creamos un pandas a partir del diccionario \n",
    "df.head()"
   ]
  },
  {
   "cell_type": "markdown",
   "metadata": {
    "id": "9Ob16Yc3Z6ZI"
   },
   "source": [
    "## Leemos el nombre de las columnas en otro fichero y lo cambiamos"
   ]
  },
  {
   "cell_type": "code",
   "execution_count": 11,
   "metadata": {
    "id": "UNhUXgPRZ6ZL",
    "outputId": "5f590626-1648-4f8e-9c92-df92e74607af"
   },
   "outputs": [
    {
     "data": {
      "text/plain": [
       "array(['State', 'Account Length', 'Area Code', 'Phone', \"Int'l Plan\",\n",
       "       'VMail Plan', 'VMail Message', 'Day Mins', 'Day Calls',\n",
       "       'Day Charge', 'Eve Mins', 'Eve Calls', 'Eve Charge', 'Night Mins',\n",
       "       'Night Calls', 'Night Charge', 'Intl Mins', 'Intl Calls',\n",
       "       'Intl Charge', 'CustServ Calls', 'Churn?'], dtype=object)"
      ]
     },
     "execution_count": 11,
     "metadata": {},
     "output_type": "execute_result"
    }
   ],
   "source": [
    "df.columns.values # debielve el nombre de las columnas como un array"
   ]
  },
  {
   "cell_type": "code",
   "execution_count": 12,
   "metadata": {
    "id": "gOH_wM1MZ6ZQ",
    "outputId": "1f9dfd41-a61e-41a7-e07c-e8a2ee591ca1"
   },
   "outputs": [
    {
     "data": {
      "text/html": [
       "<div>\n",
       "<style scoped>\n",
       "    .dataframe tbody tr th:only-of-type {\n",
       "        vertical-align: middle;\n",
       "    }\n",
       "\n",
       "    .dataframe tbody tr th {\n",
       "        vertical-align: top;\n",
       "    }\n",
       "\n",
       "    .dataframe thead th {\n",
       "        text-align: right;\n",
       "    }\n",
       "</style>\n",
       "<table border=\"1\" class=\"dataframe\">\n",
       "  <thead>\n",
       "    <tr style=\"text-align: right;\">\n",
       "      <th></th>\n",
       "      <th>A</th>\n",
       "      <th>B</th>\n",
       "      <th>C</th>\n",
       "      <th>D</th>\n",
       "      <th>E</th>\n",
       "      <th>F</th>\n",
       "      <th>G</th>\n",
       "      <th>H</th>\n",
       "      <th>I</th>\n",
       "      <th>J</th>\n",
       "      <th>...</th>\n",
       "      <th>L</th>\n",
       "      <th>M</th>\n",
       "      <th>N</th>\n",
       "      <th>O</th>\n",
       "      <th>P</th>\n",
       "      <th>Q</th>\n",
       "      <th>R</th>\n",
       "      <th>S</th>\n",
       "      <th>T</th>\n",
       "      <th>U</th>\n",
       "    </tr>\n",
       "  </thead>\n",
       "  <tbody>\n",
       "    <tr>\n",
       "      <th>0</th>\n",
       "      <td>State</td>\n",
       "      <td>Account Length</td>\n",
       "      <td>Area Code</td>\n",
       "      <td>Phone</td>\n",
       "      <td>Int'l Plan</td>\n",
       "      <td>VMail Plan</td>\n",
       "      <td>VMail Message</td>\n",
       "      <td>Day Mins</td>\n",
       "      <td>Day Calls</td>\n",
       "      <td>Day Charge</td>\n",
       "      <td>...</td>\n",
       "      <td>Eve Calls</td>\n",
       "      <td>Eve Charge</td>\n",
       "      <td>Night Mins</td>\n",
       "      <td>Night Calls</td>\n",
       "      <td>Night Charge</td>\n",
       "      <td>Intl Mins</td>\n",
       "      <td>Intl Calls</td>\n",
       "      <td>Intl Charge</td>\n",
       "      <td>CustServ Calls</td>\n",
       "      <td>Churn?</td>\n",
       "    </tr>\n",
       "    <tr>\n",
       "      <th>1</th>\n",
       "      <td>KS</td>\n",
       "      <td>128</td>\n",
       "      <td>415</td>\n",
       "      <td>382-4657</td>\n",
       "      <td>no</td>\n",
       "      <td>yes</td>\n",
       "      <td>25</td>\n",
       "      <td>265.100000</td>\n",
       "      <td>110</td>\n",
       "      <td>45.070000</td>\n",
       "      <td>...</td>\n",
       "      <td>99</td>\n",
       "      <td>16.780000</td>\n",
       "      <td>244.700000</td>\n",
       "      <td>91</td>\n",
       "      <td>11.010000</td>\n",
       "      <td>10.000000</td>\n",
       "      <td>3</td>\n",
       "      <td>2.700000</td>\n",
       "      <td>1</td>\n",
       "      <td>False.</td>\n",
       "    </tr>\n",
       "    <tr>\n",
       "      <th>2</th>\n",
       "      <td>OH</td>\n",
       "      <td>107</td>\n",
       "      <td>415</td>\n",
       "      <td>371-7191</td>\n",
       "      <td>no</td>\n",
       "      <td>yes</td>\n",
       "      <td>26</td>\n",
       "      <td>161.600000</td>\n",
       "      <td>123</td>\n",
       "      <td>27.470000</td>\n",
       "      <td>...</td>\n",
       "      <td>103</td>\n",
       "      <td>16.620000</td>\n",
       "      <td>254.400000</td>\n",
       "      <td>103</td>\n",
       "      <td>11.450000</td>\n",
       "      <td>13.700000</td>\n",
       "      <td>3</td>\n",
       "      <td>3.700000</td>\n",
       "      <td>1</td>\n",
       "      <td>False.</td>\n",
       "    </tr>\n",
       "    <tr>\n",
       "      <th>3</th>\n",
       "      <td>NJ</td>\n",
       "      <td>137</td>\n",
       "      <td>415</td>\n",
       "      <td>358-1921</td>\n",
       "      <td>no</td>\n",
       "      <td>no</td>\n",
       "      <td>0</td>\n",
       "      <td>243.400000</td>\n",
       "      <td>114</td>\n",
       "      <td>41.380000</td>\n",
       "      <td>...</td>\n",
       "      <td>110</td>\n",
       "      <td>10.300000</td>\n",
       "      <td>162.600000</td>\n",
       "      <td>104</td>\n",
       "      <td>7.320000</td>\n",
       "      <td>12.200000</td>\n",
       "      <td>5</td>\n",
       "      <td>3.290000</td>\n",
       "      <td>0</td>\n",
       "      <td>False.</td>\n",
       "    </tr>\n",
       "    <tr>\n",
       "      <th>4</th>\n",
       "      <td>OH</td>\n",
       "      <td>84</td>\n",
       "      <td>408</td>\n",
       "      <td>375-9999</td>\n",
       "      <td>yes</td>\n",
       "      <td>no</td>\n",
       "      <td>0</td>\n",
       "      <td>299.400000</td>\n",
       "      <td>71</td>\n",
       "      <td>50.900000</td>\n",
       "      <td>...</td>\n",
       "      <td>88</td>\n",
       "      <td>5.260000</td>\n",
       "      <td>196.900000</td>\n",
       "      <td>89</td>\n",
       "      <td>8.860000</td>\n",
       "      <td>6.600000</td>\n",
       "      <td>7</td>\n",
       "      <td>1.780000</td>\n",
       "      <td>2</td>\n",
       "      <td>False.</td>\n",
       "    </tr>\n",
       "  </tbody>\n",
       "</table>\n",
       "<p>5 rows × 21 columns</p>\n",
       "</div>"
      ],
      "text/plain": [
       "       A               B          C         D           E           F  \\\n",
       "0  State  Account Length  Area Code     Phone  Int'l Plan  VMail Plan   \n",
       "1     KS             128        415  382-4657          no         yes   \n",
       "2     OH             107        415  371-7191          no         yes   \n",
       "3     NJ             137        415  358-1921          no          no   \n",
       "4     OH              84        408  375-9999         yes          no   \n",
       "\n",
       "               G           H          I           J  ...          L  \\\n",
       "0  VMail Message    Day Mins  Day Calls  Day Charge  ...  Eve Calls   \n",
       "1             25  265.100000        110   45.070000  ...         99   \n",
       "2             26  161.600000        123   27.470000  ...        103   \n",
       "3              0  243.400000        114   41.380000  ...        110   \n",
       "4              0  299.400000         71   50.900000  ...         88   \n",
       "\n",
       "            M           N            O             P          Q           R  \\\n",
       "0  Eve Charge  Night Mins  Night Calls  Night Charge  Intl Mins  Intl Calls   \n",
       "1   16.780000  244.700000           91     11.010000  10.000000           3   \n",
       "2   16.620000  254.400000          103     11.450000  13.700000           3   \n",
       "3   10.300000  162.600000          104      7.320000  12.200000           5   \n",
       "4    5.260000  196.900000           89      8.860000   6.600000           7   \n",
       "\n",
       "             S               T       U  \n",
       "0  Intl Charge  CustServ Calls  Churn?  \n",
       "1     2.700000               1  False.  \n",
       "2     3.700000               1  False.  \n",
       "3     3.290000               0  False.  \n",
       "4     1.780000               2  False.  \n",
       "\n",
       "[5 rows x 21 columns]"
      ]
     },
     "execution_count": 12,
     "metadata": {},
     "output_type": "execute_result"
    }
   ],
   "source": [
    "dataf='customer-churn-model'+'/'+'Customer Churn Columns.csv'\n",
    "archivo=os.path.join(url,dataf)\n",
    "data_cols= pd.read_csv(archivo)\n",
    "# pasamos a lista la columna con los nombres\n",
    "data_cols=data_cols['Column_Names'].tolist() \n",
    "# leemos el archivo y cambiamos en nombre de las columnas \n",
    "salida = pd.read_csv(dataset3, sep=',', header= None, names=data_cols)\n",
    "salida.head()"
   ]
  },
  {
   "cell_type": "markdown",
   "metadata": {
    "id": "FOLM5T6zZ6Zb"
   },
   "source": [
    "## Leer y Escribir un archivo cambiando los separadores"
   ]
  },
  {
   "cell_type": "code",
   "execution_count": 15,
   "metadata": {
    "id": "TpmCFWvbZ6Zc",
    "outputId": "8cc9f8ea-586e-47ce-b40b-04fbc130def4"
   },
   "outputs": [
    {
     "name": "stdout",
     "output_type": "stream",
     "text": [
      "../../datasets/customer-churn-model/Tab Customer Churn Model.txt\n"
     ]
    }
   ],
   "source": [
    "infile='customer-churn-model/Customer Churn Model.txt'\n",
    "infile=os.path.join(url,infile)\n",
    "outfile='customer-churn-model/Tab Customer Churn Model.txt'\n",
    "outfile=os.path.join(url,outfile)\n",
    "print(outfile)\n",
    "with open(infile,'r') as infile1: # r es lectura\n",
    "    with open(outfile, 'w') as outfile1:\n",
    "        for line in infile1:\n",
    "            fields =line.strip().split(',') # en este caso el delimitador es una ,\n",
    "            outfile1.write('\\t'.join(fields))\n",
    "            outfile1.write('\\n')\n",
    "    \n"
   ]
  },
  {
   "cell_type": "code",
   "execution_count": 16,
   "metadata": {
    "id": "ILMksJQWZ6Zn"
   },
   "outputs": [],
   "source": [
    "#conda install xlrd"
   ]
  },
  {
   "cell_type": "markdown",
   "metadata": {
    "id": "INlB8C4SZ6Zs"
   },
   "source": [
    "## Leyendo Ficheros Excel XLS y XLSX"
   ]
  },
  {
   "cell_type": "code",
   "execution_count": 17,
   "metadata": {
    "id": "AlBmwPnlZ6Zt",
    "outputId": "1646132f-9287-4baf-9ed1-00477dd2e0ab"
   },
   "outputs": [
    {
     "name": "stdout",
     "output_type": "stream",
     "text": [
      "../../datasets/titanic/titanic3.xls\n"
     ]
    }
   ],
   "source": [
    "url='../../datasets/'\n",
    "titanic_data='titanic/titanic3.xls'\n",
    "\n",
    "## os.path.join es una función que uno y soluciona problemas de path como fañta de / o espacios\n",
    "titanic_data=os.path.join(url,titanic_data)\n",
    "print(titanic_data)\n",
    "\n",
    "#Ejercicio: construya una función f(x) y grafique sus resultados Ejercicio: construya una función f(x) y grafique sus resultados Ejercicio: construya una función f(x) y grafique sus resultados Ejercicio: construya una función f(x) y grafique sus resultados Ejercicio: construya una función f(x) y grafique sus resultados "
   ]
  },
  {
   "cell_type": "markdown",
   "metadata": {
    "id": "2Zfu5LaPZ6Z3"
   },
   "source": [
    "### pd.read_excel()\n",
    "\n",
    "Esta función necesita al menos dos argumento y el segundo corresponde a la pagina excel del archivo "
   ]
  },
  {
   "cell_type": "code",
   "execution_count": 18,
   "metadata": {
    "id": "ndqGWsWBZ6Z8",
    "outputId": "cdc65ace-93e6-4c18-d4e7-1251de9fd842"
   },
   "outputs": [
    {
     "data": {
      "text/html": [
       "<div>\n",
       "<style scoped>\n",
       "    .dataframe tbody tr th:only-of-type {\n",
       "        vertical-align: middle;\n",
       "    }\n",
       "\n",
       "    .dataframe tbody tr th {\n",
       "        vertical-align: top;\n",
       "    }\n",
       "\n",
       "    .dataframe thead th {\n",
       "        text-align: right;\n",
       "    }\n",
       "</style>\n",
       "<table border=\"1\" class=\"dataframe\">\n",
       "  <thead>\n",
       "    <tr style=\"text-align: right;\">\n",
       "      <th></th>\n",
       "      <th>pclass</th>\n",
       "      <th>survived</th>\n",
       "      <th>name</th>\n",
       "      <th>sex</th>\n",
       "      <th>age</th>\n",
       "      <th>sibsp</th>\n",
       "      <th>parch</th>\n",
       "      <th>ticket</th>\n",
       "      <th>fare</th>\n",
       "      <th>cabin</th>\n",
       "      <th>embarked</th>\n",
       "      <th>boat</th>\n",
       "      <th>body</th>\n",
       "      <th>home.dest</th>\n",
       "    </tr>\n",
       "  </thead>\n",
       "  <tbody>\n",
       "    <tr>\n",
       "      <th>0</th>\n",
       "      <td>1</td>\n",
       "      <td>1</td>\n",
       "      <td>Allen, Miss. Elisabeth Walton</td>\n",
       "      <td>female</td>\n",
       "      <td>29.0000</td>\n",
       "      <td>0</td>\n",
       "      <td>0</td>\n",
       "      <td>24160</td>\n",
       "      <td>211.3375</td>\n",
       "      <td>B5</td>\n",
       "      <td>S</td>\n",
       "      <td>2</td>\n",
       "      <td>NaN</td>\n",
       "      <td>St Louis, MO</td>\n",
       "    </tr>\n",
       "    <tr>\n",
       "      <th>1</th>\n",
       "      <td>1</td>\n",
       "      <td>1</td>\n",
       "      <td>Allison, Master. Hudson Trevor</td>\n",
       "      <td>male</td>\n",
       "      <td>0.9167</td>\n",
       "      <td>1</td>\n",
       "      <td>2</td>\n",
       "      <td>113781</td>\n",
       "      <td>151.5500</td>\n",
       "      <td>C22 C26</td>\n",
       "      <td>S</td>\n",
       "      <td>11</td>\n",
       "      <td>NaN</td>\n",
       "      <td>Montreal, PQ / Chesterville, ON</td>\n",
       "    </tr>\n",
       "    <tr>\n",
       "      <th>2</th>\n",
       "      <td>1</td>\n",
       "      <td>0</td>\n",
       "      <td>Allison, Miss. Helen Loraine</td>\n",
       "      <td>female</td>\n",
       "      <td>2.0000</td>\n",
       "      <td>1</td>\n",
       "      <td>2</td>\n",
       "      <td>113781</td>\n",
       "      <td>151.5500</td>\n",
       "      <td>C22 C26</td>\n",
       "      <td>S</td>\n",
       "      <td>NaN</td>\n",
       "      <td>NaN</td>\n",
       "      <td>Montreal, PQ / Chesterville, ON</td>\n",
       "    </tr>\n",
       "    <tr>\n",
       "      <th>3</th>\n",
       "      <td>1</td>\n",
       "      <td>0</td>\n",
       "      <td>Allison, Mr. Hudson Joshua Creighton</td>\n",
       "      <td>male</td>\n",
       "      <td>30.0000</td>\n",
       "      <td>1</td>\n",
       "      <td>2</td>\n",
       "      <td>113781</td>\n",
       "      <td>151.5500</td>\n",
       "      <td>C22 C26</td>\n",
       "      <td>S</td>\n",
       "      <td>NaN</td>\n",
       "      <td>135.0</td>\n",
       "      <td>Montreal, PQ / Chesterville, ON</td>\n",
       "    </tr>\n",
       "    <tr>\n",
       "      <th>4</th>\n",
       "      <td>1</td>\n",
       "      <td>0</td>\n",
       "      <td>Allison, Mrs. Hudson J C (Bessie Waldo Daniels)</td>\n",
       "      <td>female</td>\n",
       "      <td>25.0000</td>\n",
       "      <td>1</td>\n",
       "      <td>2</td>\n",
       "      <td>113781</td>\n",
       "      <td>151.5500</td>\n",
       "      <td>C22 C26</td>\n",
       "      <td>S</td>\n",
       "      <td>NaN</td>\n",
       "      <td>NaN</td>\n",
       "      <td>Montreal, PQ / Chesterville, ON</td>\n",
       "    </tr>\n",
       "  </tbody>\n",
       "</table>\n",
       "</div>"
      ],
      "text/plain": [
       "   pclass  survived                                             name     sex  \\\n",
       "0       1         1                    Allen, Miss. Elisabeth Walton  female   \n",
       "1       1         1                   Allison, Master. Hudson Trevor    male   \n",
       "2       1         0                     Allison, Miss. Helen Loraine  female   \n",
       "3       1         0             Allison, Mr. Hudson Joshua Creighton    male   \n",
       "4       1         0  Allison, Mrs. Hudson J C (Bessie Waldo Daniels)  female   \n",
       "\n",
       "       age  sibsp  parch  ticket      fare    cabin embarked boat   body  \\\n",
       "0  29.0000      0      0   24160  211.3375       B5        S    2    NaN   \n",
       "1   0.9167      1      2  113781  151.5500  C22 C26        S   11    NaN   \n",
       "2   2.0000      1      2  113781  151.5500  C22 C26        S  NaN    NaN   \n",
       "3  30.0000      1      2  113781  151.5500  C22 C26        S  NaN  135.0   \n",
       "4  25.0000      1      2  113781  151.5500  C22 C26        S  NaN    NaN   \n",
       "\n",
       "                         home.dest  \n",
       "0                     St Louis, MO  \n",
       "1  Montreal, PQ / Chesterville, ON  \n",
       "2  Montreal, PQ / Chesterville, ON  \n",
       "3  Montreal, PQ / Chesterville, ON  \n",
       "4  Montreal, PQ / Chesterville, ON  "
      ]
     },
     "execution_count": 18,
     "metadata": {},
     "output_type": "execute_result"
    }
   ],
   "source": [
    "titanic2 =pd.read_excel(titanic_data,'titanic3')\n",
    "titanic2.head()\n"
   ]
  },
  {
   "cell_type": "markdown",
   "metadata": {
    "id": "-TTYkzO4Z6aA"
   },
   "source": [
    "## Escritura de archivos CSV,  Excel y JSON"
   ]
  },
  {
   "cell_type": "code",
   "execution_count": 19,
   "metadata": {
    "id": "p8qO1wFSZ6aC"
   },
   "outputs": [],
   "source": [
    "url='../../datasets/'\n",
    "titanic_cvs_w='titanic/titanic4.cvs'\n",
    "titanic_json_w='titanic/titanic4.json'\n",
    "titanic_xls_w='titanic/titanic4.xls'\n",
    "\n",
    "## os.path.join es una función que uno y soluciona problemas de path como fañta de / o espacios\n",
    "titanic_cvs=os.path.join(url,titanic_cvs_w)\n",
    "titanic_json=os.path.join(url,titanic_json_w)\n",
    "titanic_xls=os.path.join(url,titanic_xls_w)\n"
   ]
  },
  {
   "cell_type": "markdown",
   "metadata": {
    "id": "VwS9HU-uZ6aL"
   },
   "source": [
    "## Leer Datos desde una URL"
   ]
  },
  {
   "cell_type": "markdown",
   "metadata": {
    "id": "rW4Czp2mZ6aM"
   },
   "source": [
    "### utilizando pandas "
   ]
  },
  {
   "cell_type": "code",
   "execution_count": 32,
   "metadata": {
    "id": "60vqjFtTZ6aM"
   },
   "outputs": [],
   "source": [
    "medals_url = 'https://github.com/cpatagon/Python_Numerico/blob/main/datasets/athletes/Medals.csv'  #sitio en internet con datos "
   ]
  },
  {
   "cell_type": "code",
   "execution_count": 43,
   "metadata": {
    "id": "uOG46RS3Z6aQ",
    "outputId": "aeed8e00-ee66-4fa4-e34c-dbda19ade99e"
   },
   "outputs": [
    {
     "name": "stderr",
     "output_type": "stream",
     "text": [
      "/tmp/ipykernel_284167/3027980205.py:1: FutureWarning: The error_bad_lines argument has been deprecated and will be removed in a future version. Use on_bad_lines in the future.\n",
      "\n",
      "\n",
      "  medals_data = pd.read_csv(medals_url, error_bad_lines=False)\n",
      "Skipping line 40: expected 1 fields, saw 19\n",
      "Skipping line 146: expected 1 fields, saw 4\n",
      "Skipping line 177: expected 1 fields, saw 2\n",
      "Skipping line 284: expected 1 fields, saw 3\n",
      "Skipping line 294: expected 1 fields, saw 6\n",
      "Skipping line 295: expected 1 fields, saw 3\n",
      "Skipping line 318: expected 1 fields, saw 5\n",
      "Skipping line 331: expected 1 fields, saw 5\n",
      "Skipping line 344: expected 1 fields, saw 5\n",
      "Skipping line 357: expected 1 fields, saw 5\n",
      "Skipping line 370: expected 1 fields, saw 5\n",
      "Skipping line 383: expected 1 fields, saw 5\n",
      "Skipping line 396: expected 1 fields, saw 5\n",
      "Skipping line 409: expected 1 fields, saw 5\n",
      "Skipping line 427: expected 1 fields, saw 5\n",
      "Skipping line 434: expected 1 fields, saw 5\n",
      "Skipping line 443: expected 1 fields, saw 5\n",
      "Skipping line 452: expected 1 fields, saw 5\n",
      "Skipping line 477: expected 1 fields, saw 5\n",
      "Skipping line 484: expected 1 fields, saw 5\n",
      "Skipping line 491: expected 1 fields, saw 5\n",
      "Skipping line 503: expected 1 fields, saw 5\n",
      "Skipping line 510: expected 1 fields, saw 5\n",
      "Skipping line 517: expected 1 fields, saw 5\n",
      "Skipping line 529: expected 1 fields, saw 5\n",
      "Skipping line 536: expected 1 fields, saw 5\n",
      "Skipping line 543: expected 1 fields, saw 5\n",
      "Skipping line 566: expected 1 fields, saw 5\n",
      "Skipping line 573: expected 1 fields, saw 5\n",
      "Skipping line 580: expected 1 fields, saw 5\n",
      "Skipping line 587: expected 1 fields, saw 5\n",
      "Skipping line 599: expected 1 fields, saw 5\n",
      "Skipping line 608: expected 1 fields, saw 5\n",
      "Skipping line 609: expected 1 fields, saw 3\n",
      "Skipping line 617: expected 1 fields, saw 5\n",
      "Skipping line 624: expected 1 fields, saw 5\n",
      "Skipping line 649: expected 1 fields, saw 5\n",
      "Skipping line 664: expected 1 fields, saw 5\n",
      "Skipping line 680: expected 1 fields, saw 5\n",
      "Skipping line 687: expected 1 fields, saw 5\n",
      "Skipping line 694: expected 1 fields, saw 5\n",
      "Skipping line 717: expected 1 fields, saw 5\n",
      "Skipping line 735: expected 1 fields, saw 5\n",
      "Skipping line 748: expected 1 fields, saw 5\n",
      "Skipping line 761: expected 1 fields, saw 5\n",
      "Skipping line 780: expected 1 fields, saw 5\n",
      "Skipping line 802: expected 1 fields, saw 2\n",
      "Skipping line 804: expected 1 fields, saw 5\n",
      "Skipping line 824: expected 1 fields, saw 5\n",
      "Skipping line 1136: expected 1 fields, saw 2\n",
      "Skipping line 1210: expected 1 fields, saw 2\n",
      "Skipping line 1235: expected 1 fields, saw 6\n",
      "Skipping line 1236: expected 1 fields, saw 3\n",
      "Skipping line 1244: expected 1 fields, saw 6\n",
      "Skipping line 1245: expected 1 fields, saw 3\n",
      "Skipping line 1333: expected 1 fields, saw 2\n",
      "Skipping line 1365: expected 1 fields, saw 6\n",
      "Skipping line 1373: expected 1 fields, saw 6\n",
      "Skipping line 1382: expected 1 fields, saw 6\n",
      "Skipping line 1406: expected 1 fields, saw 4\n",
      "Skipping line 1418: expected 1 fields, saw 4\n",
      "Skipping line 1430: expected 1 fields, saw 4\n",
      "Skipping line 1442: expected 1 fields, saw 4\n",
      "Skipping line 1454: expected 1 fields, saw 4\n",
      "Skipping line 1466: expected 1 fields, saw 4\n",
      "Skipping line 1477: expected 1 fields, saw 4\n",
      "Skipping line 1657: expected 1 fields, saw 69171\n",
      "Skipping line 1662: expected 1 fields, saw 63\n",
      "Skipping line 1675: expected 1 fields, saw 2\n",
      "Skipping line 1676: expected 1 fields, saw 2\n",
      "Skipping line 1678: expected 1 fields, saw 2\n",
      "Skipping line 1679: expected 1 fields, saw 2\n",
      "Skipping line 1680: expected 1 fields, saw 3\n",
      "Skipping line 1681: expected 1 fields, saw 2\n",
      "Skipping line 1682: expected 1 fields, saw 10\n",
      "Skipping line 1684: expected 1 fields, saw 3\n",
      "Skipping line 1687: expected 1 fields, saw 3\n",
      "Skipping line 1688: expected 1 fields, saw 2\n",
      "Skipping line 1692: expected 1 fields, saw 6\n",
      "Skipping line 1693: expected 1 fields, saw 6\n",
      "Skipping line 1694: expected 1 fields, saw 6\n",
      "Skipping line 1695: expected 1 fields, saw 3\n",
      "Skipping line 1696: expected 1 fields, saw 3\n",
      "Skipping line 1697: expected 1 fields, saw 3\n",
      "Skipping line 1698: expected 1 fields, saw 3\n",
      "Skipping line 1700: expected 1 fields, saw 3\n",
      "Skipping line 1702: expected 1 fields, saw 15\n",
      "Skipping line 1703: expected 1 fields, saw 3\n",
      "Skipping line 1705: expected 1 fields, saw 3\n",
      "Skipping line 1711: expected 1 fields, saw 3\n",
      "Skipping line 1712: expected 1 fields, saw 3\n",
      "Skipping line 1725: expected 1 fields, saw 2\n",
      "Skipping line 1726: expected 1 fields, saw 2\n",
      "Skipping line 1728: expected 1 fields, saw 2\n",
      "Skipping line 1729: expected 1 fields, saw 2\n",
      "Skipping line 1730: expected 1 fields, saw 3\n",
      "Skipping line 1731: expected 1 fields, saw 2\n",
      "Skipping line 1732: expected 1 fields, saw 10\n",
      "Skipping line 1734: expected 1 fields, saw 3\n",
      "Skipping line 1737: expected 1 fields, saw 3\n",
      "Skipping line 1738: expected 1 fields, saw 2\n",
      "Skipping line 1742: expected 1 fields, saw 6\n",
      "Skipping line 1743: expected 1 fields, saw 6\n",
      "Skipping line 1744: expected 1 fields, saw 6\n",
      "Skipping line 1745: expected 1 fields, saw 3\n",
      "Skipping line 1746: expected 1 fields, saw 3\n",
      "Skipping line 1748: expected 1 fields, saw 3\n",
      "Skipping line 1749: expected 1 fields, saw 3\n",
      "Skipping line 1751: expected 1 fields, saw 34\n",
      "Skipping line 1752: expected 1 fields, saw 3\n",
      "Skipping line 1754: expected 1 fields, saw 3\n",
      "Skipping line 1760: expected 1 fields, saw 15\n",
      "Skipping line 1763: expected 1 fields, saw 6\n",
      "Skipping line 1774: expected 1 fields, saw 2\n",
      "Skipping line 1775: expected 1 fields, saw 2\n",
      "Skipping line 1777: expected 1 fields, saw 2\n",
      "Skipping line 1778: expected 1 fields, saw 2\n",
      "Skipping line 1779: expected 1 fields, saw 3\n",
      "Skipping line 1780: expected 1 fields, saw 2\n",
      "Skipping line 1781: expected 1 fields, saw 10\n",
      "Skipping line 1787: expected 1 fields, saw 2\n",
      "Skipping line 1791: expected 1 fields, saw 9\n",
      "Skipping line 1792: expected 1 fields, saw 12\n",
      "Skipping line 1793: expected 1 fields, saw 12\n",
      "Skipping line 1794: expected 1 fields, saw 6\n",
      "Skipping line 1795: expected 1 fields, saw 3\n",
      "Skipping line 1797: expected 1 fields, saw 3\n",
      "Skipping line 1799: expected 1 fields, saw 15\n",
      "Skipping line 1800: expected 1 fields, saw 3\n",
      "Skipping line 1802: expected 1 fields, saw 3\n",
      "Skipping line 1808: expected 1 fields, saw 3\n",
      "Skipping line 1809: expected 1 fields, saw 3\n",
      "Skipping line 1822: expected 1 fields, saw 2\n",
      "Skipping line 1823: expected 1 fields, saw 2\n",
      "Skipping line 1825: expected 1 fields, saw 2\n",
      "Skipping line 1826: expected 1 fields, saw 2\n",
      "Skipping line 1827: expected 1 fields, saw 3\n",
      "Skipping line 1828: expected 1 fields, saw 2\n",
      "Skipping line 1829: expected 1 fields, saw 10\n",
      "Skipping line 1831: expected 1 fields, saw 3\n",
      "Skipping line 1834: expected 1 fields, saw 3\n",
      "Skipping line 1835: expected 1 fields, saw 2\n",
      "Skipping line 1839: expected 1 fields, saw 6\n",
      "Skipping line 1840: expected 1 fields, saw 6\n",
      "Skipping line 1841: expected 1 fields, saw 6\n",
      "Skipping line 1842: expected 1 fields, saw 3\n",
      "Skipping line 1843: expected 1 fields, saw 3\n",
      "Skipping line 1844: expected 1 fields, saw 3\n",
      "Skipping line 1845: expected 1 fields, saw 3\n",
      "Skipping line 1847: expected 1 fields, saw 34\n",
      "Skipping line 1848: expected 1 fields, saw 3\n",
      "Skipping line 1850: expected 1 fields, saw 3\n",
      "Skipping line 1856: expected 1 fields, saw 15\n",
      "Skipping line 1859: expected 1 fields, saw 6\n",
      "Skipping line 1870: expected 1 fields, saw 2\n",
      "Skipping line 1871: expected 1 fields, saw 2\n",
      "Skipping line 1873: expected 1 fields, saw 2\n",
      "Skipping line 1874: expected 1 fields, saw 2\n",
      "Skipping line 1875: expected 1 fields, saw 3\n",
      "Skipping line 1876: expected 1 fields, saw 2\n",
      "Skipping line 1877: expected 1 fields, saw 10\n",
      "Skipping line 1883: expected 1 fields, saw 2\n",
      "Skipping line 1887: expected 1 fields, saw 9\n",
      "Skipping line 1888: expected 1 fields, saw 12\n",
      "Skipping line 1889: expected 1 fields, saw 12\n",
      "Skipping line 1890: expected 1 fields, saw 6\n",
      "Skipping line 1891: expected 1 fields, saw 3\n",
      "Skipping line 1893: expected 1 fields, saw 34\n",
      "Skipping line 1894: expected 1 fields, saw 3\n",
      "Skipping line 1896: expected 1 fields, saw 3\n",
      "Skipping line 1902: expected 1 fields, saw 15\n",
      "Skipping line 1905: expected 1 fields, saw 6\n",
      "Skipping line 1916: expected 1 fields, saw 2\n",
      "Skipping line 1917: expected 1 fields, saw 2\n",
      "Skipping line 1919: expected 1 fields, saw 2\n",
      "Skipping line 1920: expected 1 fields, saw 2\n",
      "Skipping line 1921: expected 1 fields, saw 3\n",
      "Skipping line 1922: expected 1 fields, saw 2\n",
      "Skipping line 1923: expected 1 fields, saw 10\n",
      "Skipping line 1929: expected 1 fields, saw 2\n",
      "Skipping line 1933: expected 1 fields, saw 9\n",
      "Skipping line 1934: expected 1 fields, saw 12\n",
      "Skipping line 1935: expected 1 fields, saw 12\n",
      "Skipping line 1936: expected 1 fields, saw 6\n",
      "Skipping line 1937: expected 1 fields, saw 3\n",
      "Skipping line 1938: expected 1 fields, saw 3\n",
      "Skipping line 1939: expected 1 fields, saw 15\n",
      "Skipping line 1940: expected 1 fields, saw 3\n",
      "Skipping line 1942: expected 1 fields, saw 3\n",
      "Skipping line 1948: expected 1 fields, saw 3\n",
      "Skipping line 1949: expected 1 fields, saw 3\n",
      "Skipping line 1953: expected 1 fields, saw 3\n",
      "Skipping line 1962: expected 1 fields, saw 2\n",
      "Skipping line 1963: expected 1 fields, saw 2\n",
      "Skipping line 1965: expected 1 fields, saw 2\n",
      "Skipping line 1966: expected 1 fields, saw 2\n",
      "Skipping line 1967: expected 1 fields, saw 3\n",
      "Skipping line 1968: expected 1 fields, saw 2\n",
      "Skipping line 1969: expected 1 fields, saw 10\n",
      "Skipping line 1971: expected 1 fields, saw 3\n",
      "Skipping line 1974: expected 1 fields, saw 3\n",
      "Skipping line 1975: expected 1 fields, saw 2\n",
      "Skipping line 1979: expected 1 fields, saw 6\n",
      "Skipping line 1980: expected 1 fields, saw 6\n",
      "Skipping line 1981: expected 1 fields, saw 6\n",
      "Skipping line 1982: expected 1 fields, saw 3\n",
      "Skipping line 1983: expected 1 fields, saw 3\n",
      "Skipping line 1984: expected 1 fields, saw 3\n",
      "Skipping line 1985: expected 1 fields, saw 3\n",
      "Skipping line 1987: expected 1 fields, saw 34\n",
      "Skipping line 1988: expected 1 fields, saw 3\n",
      "Skipping line 1990: expected 1 fields, saw 3\n",
      "Skipping line 1996: expected 1 fields, saw 15\n",
      "Skipping line 1999: expected 1 fields, saw 6\n",
      "Skipping line 2010: expected 1 fields, saw 2\n",
      "Skipping line 2011: expected 1 fields, saw 2\n",
      "Skipping line 2013: expected 1 fields, saw 2\n",
      "Skipping line 2014: expected 1 fields, saw 2\n",
      "Skipping line 2015: expected 1 fields, saw 3\n",
      "Skipping line 2016: expected 1 fields, saw 2\n",
      "Skipping line 2017: expected 1 fields, saw 10\n",
      "Skipping line 2023: expected 1 fields, saw 2\n",
      "Skipping line 2027: expected 1 fields, saw 9\n",
      "Skipping line 2028: expected 1 fields, saw 12\n",
      "Skipping line 2029: expected 1 fields, saw 12\n",
      "Skipping line 2030: expected 1 fields, saw 6\n",
      "Skipping line 2031: expected 1 fields, saw 3\n",
      "Skipping line 2035: expected 1 fields, saw 34\n",
      "Skipping line 2036: expected 1 fields, saw 3\n",
      "Skipping line 2038: expected 1 fields, saw 3\n",
      "Skipping line 2044: expected 1 fields, saw 15\n",
      "Skipping line 2047: expected 1 fields, saw 6\n",
      "Skipping line 2058: expected 1 fields, saw 2\n",
      "Skipping line 2059: expected 1 fields, saw 2\n",
      "Skipping line 2061: expected 1 fields, saw 2\n",
      "Skipping line 2062: expected 1 fields, saw 2\n",
      "Skipping line 2063: expected 1 fields, saw 3\n",
      "Skipping line 2064: expected 1 fields, saw 2\n",
      "Skipping line 2065: expected 1 fields, saw 10\n",
      "Skipping line 2071: expected 1 fields, saw 2\n",
      "Skipping line 2075: expected 1 fields, saw 9\n",
      "Skipping line 2076: expected 1 fields, saw 12\n",
      "Skipping line 2077: expected 1 fields, saw 12\n",
      "Skipping line 2078: expected 1 fields, saw 6\n",
      "Skipping line 2079: expected 1 fields, saw 3\n",
      "Skipping line 2080: expected 1 fields, saw 34\n",
      "Skipping line 2081: expected 1 fields, saw 3\n",
      "Skipping line 2083: expected 1 fields, saw 3\n",
      "Skipping line 2089: expected 1 fields, saw 15\n",
      "Skipping line 2092: expected 1 fields, saw 6\n",
      "Skipping line 2103: expected 1 fields, saw 2\n",
      "Skipping line 2104: expected 1 fields, saw 2\n",
      "Skipping line 2106: expected 1 fields, saw 2\n",
      "Skipping line 2107: expected 1 fields, saw 2\n",
      "Skipping line 2108: expected 1 fields, saw 3\n",
      "Skipping line 2109: expected 1 fields, saw 2\n",
      "Skipping line 2110: expected 1 fields, saw 10\n",
      "Skipping line 2116: expected 1 fields, saw 2\n",
      "Skipping line 2120: expected 1 fields, saw 9\n",
      "Skipping line 2121: expected 1 fields, saw 12\n",
      "Skipping line 2122: expected 1 fields, saw 12\n",
      "Skipping line 2123: expected 1 fields, saw 6\n",
      "Skipping line 2124: expected 1 fields, saw 3\n",
      "Skipping line 2126: expected 1 fields, saw 15\n",
      "Skipping line 2127: expected 1 fields, saw 3\n",
      "Skipping line 2129: expected 1 fields, saw 3\n",
      "Skipping line 2135: expected 1 fields, saw 3\n",
      "Skipping line 2136: expected 1 fields, saw 3\n",
      "Skipping line 2149: expected 1 fields, saw 2\n",
      "Skipping line 2150: expected 1 fields, saw 2\n",
      "Skipping line 2152: expected 1 fields, saw 2\n",
      "Skipping line 2153: expected 1 fields, saw 2\n",
      "Skipping line 2154: expected 1 fields, saw 3\n",
      "Skipping line 2155: expected 1 fields, saw 2\n",
      "Skipping line 2156: expected 1 fields, saw 10\n",
      "Skipping line 2158: expected 1 fields, saw 3\n",
      "Skipping line 2161: expected 1 fields, saw 3\n",
      "Skipping line 2162: expected 1 fields, saw 2\n",
      "Skipping line 2166: expected 1 fields, saw 6\n",
      "Skipping line 2167: expected 1 fields, saw 6\n",
      "Skipping line 2168: expected 1 fields, saw 6\n",
      "Skipping line 2169: expected 1 fields, saw 3\n",
      "Skipping line 2170: expected 1 fields, saw 3\n",
      "Skipping line 2171: expected 1 fields, saw 3\n",
      "Skipping line 2172: expected 1 fields, saw 3\n",
      "Skipping line 2174: expected 1 fields, saw 3\n",
      "Skipping line 2175: expected 1 fields, saw 32\n",
      "Skipping line 2178: expected 1 fields, saw 4\n",
      "Skipping line 2179: expected 1 fields, saw 4\n",
      "Skipping line 2180: expected 1 fields, saw 4\n",
      "Skipping line 2181: expected 1 fields, saw 3\n",
      "Skipping line 2184: expected 1 fields, saw 3\n",
      "Skipping line 2187: expected 1 fields, saw 2\n",
      "Skipping line 2191: expected 1 fields, saw 2\n",
      "Skipping line 2192: expected 1 fields, saw 2\n",
      "Skipping line 2195: expected 1 fields, saw 7\n",
      "Skipping line 2197: expected 1 fields, saw 3\n",
      "Skipping line 2201: expected 1 fields, saw 3\n",
      "Skipping line 2202: expected 1 fields, saw 6\n",
      "Skipping line 2203: expected 1 fields, saw 6\n",
      "Skipping line 2209: expected 1 fields, saw 3\n",
      "Skipping line 2210: expected 1 fields, saw 6\n",
      "Skipping line 2211: expected 1 fields, saw 6\n",
      "Skipping line 2215: expected 1 fields, saw 5\n",
      "Skipping line 2244: expected 1 fields, saw 2\n",
      "Skipping line 2254: expected 1 fields, saw 3\n",
      "Skipping line 2258: expected 1 fields, saw 3\n",
      "Skipping line 2262: expected 1 fields, saw 3\n",
      "Skipping line 2266: expected 1 fields, saw 3\n",
      "Skipping line 2270: expected 1 fields, saw 3\n",
      "Skipping line 2274: expected 1 fields, saw 3\n",
      "Skipping line 2283: expected 1 fields, saw 5\n",
      "Skipping line 2296: expected 1 fields, saw 5\n",
      "\n"
     ]
    }
   ],
   "source": [
    "medals_data = pd.read_csv(medals_url, error_bad_lines=False)\n",
    "\n"
   ]
  },
  {
   "cell_type": "code",
   "execution_count": null,
   "metadata": {
    "id": "_nJoE5oHZ6aX"
   },
   "outputs": [],
   "source": [
    "titanic2.to_csv(titanic_cvs)\n",
    "titanic2.to_json(titanic_json)\n",
    "titanic2.to_excel(titanic_xls,'primero')"
   ]
  },
  {
   "cell_type": "markdown",
   "metadata": {
    "id": "PcQb-xJuZ6af"
   },
   "source": [
    "### utilizando urllib3\n",
    "\n",
    "Leemos los datos de la web "
   ]
  },
  {
   "cell_type": "code",
   "execution_count": 22,
   "metadata": {
    "id": "YsImNQdmZ6ag"
   },
   "outputs": [
    {
     "name": "stdout",
     "output_type": "stream",
     "text": [
      "200\n"
     ]
    }
   ],
   "source": [
    "medals_url = 'http://winterolympicsmedals.com/medals.csv'  #sitio en internet con datos \n",
    "http = urllib3.PoolManager()\n",
    "r = http.request('GET', medals_url)\n",
    "print(r.status) # debuelve 200 porque es correcta la conección\n",
    "responde = r.data.decode('utf-8') # los datos vienen en formato binario por lo que hay que decodificarlo\n"
   ]
  },
  {
   "cell_type": "markdown",
   "metadata": {
    "id": "2jz0n77nZ6ao"
   },
   "source": [
    "Recorremos los datos y los separamos por salto de linea y columna. Luego convertimos los datos a un pandas dataframe "
   ]
  },
  {
   "cell_type": "code",
   "execution_count": 24,
   "metadata": {
    "id": "wL_Ej851Z6aq",
    "outputId": "e8557f70-e876-45df-dbc7-a1faddfb0259"
   },
   "outputs": [
    {
     "name": "stderr",
     "output_type": "stream",
     "text": [
      "/tmp/ipykernel_284167/2625698038.py:5: VisibleDeprecationWarning: Creating an ndarray from ragged nested sequences (which is a list-or-tuple of lists-or-tuples-or ndarrays with different lengths or shapes) is deprecated. If you meant to do this, you must specify 'dtype=object' when creating the ndarray.\n",
      "  data_array = np.array(archivo)       # conviero de list a NumpyArray\n"
     ]
    },
    {
     "ename": "IndexError",
     "evalue": "too many indices for array: array is 1-dimensional, but 2 were indexed",
     "output_type": "error",
     "traceback": [
      "\u001b[0;31m---------------------------------------------------------------------------\u001b[0m",
      "\u001b[0;31mIndexError\u001b[0m                                Traceback (most recent call last)",
      "\u001b[0;32m/tmp/ipykernel_284167/2625698038.py\u001b[0m in \u001b[0;36m<module>\u001b[0;34m\u001b[0m\n\u001b[1;32m      4\u001b[0m \u001b[0;34m\u001b[0m\u001b[0m\n\u001b[1;32m      5\u001b[0m \u001b[0mdata_array\u001b[0m \u001b[0;34m=\u001b[0m \u001b[0mnp\u001b[0m\u001b[0;34m.\u001b[0m\u001b[0marray\u001b[0m\u001b[0;34m(\u001b[0m\u001b[0marchivo\u001b[0m\u001b[0;34m)\u001b[0m       \u001b[0;31m# conviero de list a NumpyArray\u001b[0m\u001b[0;34m\u001b[0m\u001b[0;34m\u001b[0m\u001b[0m\n\u001b[0;32m----> 6\u001b[0;31m \u001b[0mdata_url\u001b[0m   \u001b[0;34m=\u001b[0m \u001b[0mpd\u001b[0m\u001b[0;34m.\u001b[0m\u001b[0mDataFrame\u001b[0m\u001b[0;34m(\u001b[0m\u001b[0mdata_array\u001b[0m\u001b[0;34m[\u001b[0m\u001b[0;36m1\u001b[0m\u001b[0;34m:\u001b[0m\u001b[0;34m,\u001b[0m\u001b[0;34m:\u001b[0m\u001b[0;34m]\u001b[0m\u001b[0;34m,\u001b[0m \u001b[0mcolumns\u001b[0m\u001b[0;34m=\u001b[0m\u001b[0mdata_array\u001b[0m\u001b[0;34m[\u001b[0m\u001b[0;36m0\u001b[0m\u001b[0;34m]\u001b[0m\u001b[0;34m)\u001b[0m \u001b[0;31m# creo un pandas data frame donde la primera fila son los nombres de las columnas\u001b[0m\u001b[0;34m\u001b[0m\u001b[0;34m\u001b[0m\u001b[0m\n\u001b[0m\u001b[1;32m      7\u001b[0m \u001b[0mdata_url\u001b[0m\u001b[0;34m.\u001b[0m\u001b[0mhead\u001b[0m\u001b[0;34m(\u001b[0m\u001b[0;34m)\u001b[0m\u001b[0;34m\u001b[0m\u001b[0;34m\u001b[0m\u001b[0m\n",
      "\u001b[0;31mIndexError\u001b[0m: too many indices for array: array is 1-dimensional, but 2 were indexed"
     ]
    }
   ],
   "source": [
    "archivo = []#responde.split('\\n')[0].split(',')\n",
    "for rows in responde.split('\\n'): # genero las filas  \n",
    "    archivo.append(rows.split(',')) # separo las filas y las aggrego a la lista\n",
    "\n",
    "data_array = np.array(archivo)       # conviero de list a NumpyArray\n",
    "data_url   = pd.DataFrame(data_array[1:,:], columns=data_array[0]) # creo un pandas data frame donde la primera fila son los nombres de las columnas \n",
    "data_url.head()"
   ]
  },
  {
   "cell_type": "code",
   "execution_count": 25,
   "metadata": {
    "id": "MQf-8c1EZ6ax"
   },
   "outputs": [
    {
     "ename": "NameError",
     "evalue": "name 'data_url' is not defined",
     "output_type": "error",
     "traceback": [
      "\u001b[0;31m---------------------------------------------------------------------------\u001b[0m",
      "\u001b[0;31mNameError\u001b[0m                                 Traceback (most recent call last)",
      "\u001b[0;32m/tmp/ipykernel_284167/3831042311.py\u001b[0m in \u001b[0;36m<module>\u001b[0;34m\u001b[0m\n\u001b[1;32m      6\u001b[0m \u001b[0;31m## os.path.join es una función que uno y soluciona problemas de path como fañta de / o espacios\u001b[0m\u001b[0;34m\u001b[0m\u001b[0;34m\u001b[0m\u001b[0;34m\u001b[0m\u001b[0m\n\u001b[1;32m      7\u001b[0m \u001b[0mname_data\u001b[0m\u001b[0;34m=\u001b[0m\u001b[0mos\u001b[0m\u001b[0;34m.\u001b[0m\u001b[0mpath\u001b[0m\u001b[0;34m.\u001b[0m\u001b[0mjoin\u001b[0m\u001b[0;34m(\u001b[0m\u001b[0mdire\u001b[0m\u001b[0;34m,\u001b[0m\u001b[0mname_data\u001b[0m\u001b[0;34m)\u001b[0m\u001b[0;34m\u001b[0m\u001b[0;34m\u001b[0m\u001b[0m\n\u001b[0;32m----> 8\u001b[0;31m \u001b[0mdata_url\u001b[0m\u001b[0;34m.\u001b[0m\u001b[0mto_excel\u001b[0m\u001b[0;34m(\u001b[0m\u001b[0mname_data\u001b[0m\u001b[0;34m,\u001b[0m \u001b[0;34m'libro 1'\u001b[0m\u001b[0;34m)\u001b[0m\u001b[0;34m\u001b[0m\u001b[0;34m\u001b[0m\u001b[0m\n\u001b[0m",
      "\u001b[0;31mNameError\u001b[0m: name 'data_url' is not defined"
     ]
    }
   ],
   "source": [
    "# ahora grabamos en un excel\n",
    "\n",
    "dire='/home/lgomez/Documentos/cursos/python-ml-course-master/datasets/'\n",
    "name_data='web_medallas.xls'\n",
    "\n",
    "## os.path.join es una función que uno y soluciona problemas de path como fañta de / o espacios\n",
    "name_data=os.path.join(dire,name_data)\n",
    "data_url.to_excel(name_data, 'libro 1')"
   ]
  },
  {
   "cell_type": "code",
   "execution_count": 26,
   "metadata": {
    "id": "x-WizlTyZ6a4"
   },
   "outputs": [
    {
     "name": "stdout",
     "output_type": "stream",
     "text": [
      "Archivo Excel 'datos_numericos.xlsx' creado con éxito.\n"
     ]
    }
   ],
   "source": [
    "import pandas as pd\n",
    "import numpy as np\n",
    "\n",
    "# Generar datos ficticios\n",
    "np.random.seed(42)  # Para reproducibilidad\n",
    "n = 100\n",
    "\n",
    "data = {\n",
    "    'variable_independiente': np.linspace(0, 10, n),\n",
    "    'variable_dependiente': np.linspace(0, 10, n) + np.random.normal(0, 1, n),\n",
    "    'columna_numerica': np.random.randint(1, 100, n),\n",
    "    'columna_positiva': np.random.exponential(5, n)\n",
    "}\n",
    "\n",
    "# Crear DataFrame\n",
    "df = pd.DataFrame(data)\n",
    "\n",
    "# Guardar como Excel\n",
    "df.to_excel('datos_numericos.xlsx', index=False)\n",
    "\n",
    "print(\"Archivo Excel 'datos_numericos.xlsx' creado con éxito.\")"
   ]
  },
  {
   "cell_type": "code",
   "execution_count": null,
   "metadata": {},
   "outputs": [],
   "source": []
  },
  {
   "cell_type": "code",
   "execution_count": null,
   "metadata": {},
   "outputs": [],
   "source": []
  }
 ],
 "metadata": {
  "colab": {
   "name": "01_LecturaDatos .ipynb",
   "provenance": []
  },
  "kernelspec": {
   "display_name": "Python 3 (ipykernel)",
   "language": "python",
   "name": "python3"
  },
  "language_info": {
   "codemirror_mode": {
    "name": "ipython",
    "version": 3
   },
   "file_extension": ".py",
   "mimetype": "text/x-python",
   "name": "python",
   "nbconvert_exporter": "python",
   "pygments_lexer": "ipython3",
   "version": "3.8.10"
  }
 },
 "nbformat": 4,
 "nbformat_minor": 1
}
