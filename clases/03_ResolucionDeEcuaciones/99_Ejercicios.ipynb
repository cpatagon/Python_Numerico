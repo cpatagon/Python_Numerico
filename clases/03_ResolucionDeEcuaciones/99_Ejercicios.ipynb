{
 "cells": [
  {
   "cell_type": "markdown",
   "id": "b641620e",
   "metadata": {},
   "source": [
    "## Ejercicios propuestos\n",
    "\n",
    "1. Modifica el código del método de bisección para implementar el método de la falsa posición. Compara su rendimiento con el método de bisección para la función $f(x) = x^3 - x - 2$.\n",
    "\n",
    "2. Utiliza el método de Newton-Raphson para encontrar la raíz positiva de la ecuación $x = \\cos(x)$. Investiga qué sucede si usas diferentes puntos de partida.\n",
    "\n",
    "3. En un circuito RLC en serie, la frecuencia de resonancia está dada por la ecuación $f = \\frac{1}{2\\pi\\sqrt{LC}}$. Si $L = 50$ mH y $f = 1000$ Hz, encuentra el valor de $C$ que satisface esta ecuación."
   ]
  }
 ],
 "metadata": {
  "kernelspec": {
   "display_name": "Python 3 (ipykernel)",
   "language": "python",
   "name": "python3"
  },
  "language_info": {
   "codemirror_mode": {
    "name": "ipython",
    "version": 3
   },
   "file_extension": ".py",
   "mimetype": "text/x-python",
   "name": "python",
   "nbconvert_exporter": "python",
   "pygments_lexer": "ipython3",
   "version": "3.8.10"
  }
 },
 "nbformat": 4,
 "nbformat_minor": 5
}
