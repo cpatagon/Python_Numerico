{
 "cells": [
  {
   "cell_type": "markdown",
   "id": "5925349a",
   "metadata": {},
   "source": [
    "# El Método de Bisección para Encontrar Raíces de Ecuaciones\n",
    "\n",
    "## Introducción\n",
    "\n",
    "El método de bisección, también conocido como método de corte binario, de partición de intervalos o de Bolzano, es una técnica fundamental en el cálculo numérico para encontrar raíces de ecuaciones. Este método es un ejemplo de método cerrado o de intervalo, que se basa en el teorema del valor intermedio.\n",
    "\n",
    "### Contexto histórico\n",
    "\n",
    "El método de bisección tiene sus raíces en el trabajo de matemáticos como Bolzano en el siglo XIX, aunque la idea básica de dividir intervalos para encontrar soluciones es mucho más antigua. Su simplicidad y robustez lo han mantenido como una herramienta importante en la era de la computación.\n",
    "\n",
    "### Aplicaciones prácticas\n",
    "\n",
    "El método de bisección se utiliza en diversas áreas de la ingeniería y las ciencias aplicadas, incluyendo:\n",
    "\n",
    "1. Diseño de sistemas de control\n",
    "2. Optimización de procesos industriales\n",
    "3. Análisis de circuitos no lineales\n",
    "4. Modelado de sistemas físicos\n",
    "5. Resolución de ecuaciones en química y física\n",
    "\n",
    "## Fundamentos teóricos\n",
    "\n",
    "### Teorema del valor intermedio\n",
    "\n",
    "El método de bisección se basa en el teorema del valor intermedio, que establece:\n",
    "\n",
    "Si $f(x)$ es una función continua en el intervalo cerrado $[a,b]$, y $f(a)$ y $f(b)$ tienen signos opuestos, entonces existe al menos un valor $c$ en $(a,b)$ tal que $f(c) = 0$.\n",
    "\n",
    "Matemáticamente:\n",
    "\n",
    "$$ \\text{Si } f(a) \\cdot f(b) < 0, \\text{ entonces } \\exists c \\in (a,b) : f(c) = 0 $$\n",
    "\n",
    "### Algoritmo del método de bisección\n",
    "\n",
    "1. Elegir un intervalo inicial $[a,b]$ donde $f(a) \\cdot f(b) < 0$.\n",
    "2. Calcular el punto medio $c = \\frac{a + b}{2}$.\n",
    "3. Evaluar $f(c)$.\n",
    "4. Si $f(c) = 0$ o es suficientemente pequeño, $c$ es la raíz aproximada.\n",
    "5. Si $f(a) \\cdot f(c) < 0$, la raíz está en $[a,c]$. Hacer $b = c$.\n",
    "6. Si $f(c) \\cdot f(b) < 0$, la raíz está en $[c,b]$. Hacer $a = c$.\n",
    "7. Repetir los pasos 2-6 hasta alcanzar la precisión deseada.\n",
    "\n",
    "\n",
    "![](./img/diagrama_Biseccion.svg)\n",
    "\n",
    "\n",
    "### Punto medio \n",
    "\n",
    "El punto medio se refiere al valor que divide el intervalo de búsqueda en dos partes iguales. \n",
    "\n",
    "En cada iteración del método, se calcula como el promedio aritmético de los extremos del intervalo actual, es decir, $c = \\frac{a + b}{2}$, donde $a$ y $b$ son los límites inferior y superior del intervalo respectivamente. \n",
    "\n",
    "Este punto medio se utiliza para determinar en qué mitad del intervalo se encuentra la raíz, permitiendo así reducir sistemáticamente el rango de búsqueda en cada paso del algoritmo.\n",
    "\n",
    "![](./img/biseccion07.webp)\n",
    "\n",
    "\n",
    "### Estimación del error\n",
    "\n",
    "El error absoluto en cada iteración está acotado por:\n",
    "\n",
    "$$ E_a^n = \\frac{\\Delta x_0}{2^n} $$\n",
    "\n",
    "donde $\\Delta x_0$ es la longitud del intervalo inicial y $n$ es el número de iteraciones.\n",
    "\n",
    "El número de iteraciones necesarias para alcanzar un error deseado $E_{a,d}$ se puede calcular como:\n",
    "\n",
    "$$ n = \\left\\lceil \\frac{\\log(\\Delta x_0 / E_{a,d})}{\\log(2)} \\right\\rceil $$\n",
    "\n",
    "## Implementación en Python\n",
    "\n",
    "Aquí se presenta una implementación básica del método de bisección en Python:"
   ]
  },
  {
   "cell_type": "code",
   "execution_count": 3,
   "id": "14ff75f1",
   "metadata": {},
   "outputs": [
    {
     "name": "stdout",
     "output_type": "stream",
     "text": [
      "Iteración 2: c = 1.750000, Error aprox = 14.285714%\n",
      "Iteración 3: c = 1.625000, Error aprox = 7.692308%\n",
      "Iteración 4: c = 1.562500, Error aprox = 4.000000%\n",
      "Iteración 5: c = 1.531250, Error aprox = 2.040816%\n",
      "Iteración 6: c = 1.515625, Error aprox = 1.030928%\n",
      "Iteración 7: c = 1.523438, Error aprox = 0.512821%\n",
      "Iteración 8: c = 1.519531, Error aprox = 0.257069%\n",
      "Iteración 9: c = 1.521484, Error aprox = 0.128370%\n",
      "Iteración 10: c = 1.520508, Error aprox = 0.064226%\n",
      "Iteración 11: c = 1.520996, Error aprox = 0.032103%\n",
      "Iteración 12: c = 1.521240, Error aprox = 0.016049%\n",
      "Iteración 13: c = 1.521362, Error aprox = 0.008024%\n",
      "Iteración 14: c = 1.521423, Error aprox = 0.004012%\n",
      "Iteración 15: c = 1.521393, Error aprox = 0.002006%\n",
      "Iteración 16: c = 1.521378, Error aprox = 0.001003%\n",
      "Iteración 17: c = 1.521385, Error aprox = 0.000501%\n",
      "Iteración 18: c = 1.521381, Error aprox = 0.000251%\n",
      "Iteración 19: c = 1.521379, Error aprox = 0.000125%\n",
      "La raíz aproximada es: 1.5213804244995117\n"
     ]
    }
   ],
   "source": [
    "import numpy as np\n",
    "\n",
    "def biseccion(f, a, b, tol=1e-6, max_iter=100):\n",
    "    \"\"\"\n",
    "    Implementa el método de bisección para encontrar una raíz de f en [a,b].\n",
    "    \n",
    "    Parámetros:\n",
    "    f : función de la cual se busca la raíz\n",
    "    a, b : límites del intervalo inicial\n",
    "    tol : tolerancia para el criterio de parada\n",
    "    max_iter : número máximo de iteraciones\n",
    "    \n",
    "    Retorna:\n",
    "    La aproximación de la raíz o None si no se encuentra\n",
    "    \"\"\"\n",
    "    if f(a) * f(b) >= 0:\n",
    "        print(\"El método de bisección no es aplicable en este intervalo.\")\n",
    "        return None\n",
    "    \n",
    "    c = a\n",
    "    for i in range(max_iter):\n",
    "        c_anterior = c\n",
    "        c = (a + b) / 2\n",
    "        if f(c) == 0 or (b - a) / 2 < tol: # Se evalua si f(x)=0 o si estamos muy cercano a esta\n",
    "            return c\n",
    "        if f(c) * f(a) < 0:  # evaluamos si una parte de la función es (+) y la otra (-)\n",
    "            b = c\n",
    "        else:\n",
    "            a = c\n",
    "        \n",
    "        # Calcula y muestra el error relativo aproximado\n",
    "        if i > 0:\n",
    "            ea = abs((c - c_anterior) / c) * 100\n",
    "            print(f\"Iteración {i+1}: c = {c:.6f}, Error aprox = {ea:.6f}%\")\n",
    "    \n",
    "    print(\"El método alcanzó el número máximo de iteraciones sin converger.\")\n",
    "    return c\n",
    "\n",
    "# Ejemplo de uso\n",
    "def f(x):\n",
    "    return x**3 - x - 2\n",
    "\n",
    "raiz = biseccion(f, 1, 2)\n",
    "print(f\"La raíz aproximada es: {raiz}\")"
   ]
  },
  {
   "cell_type": "markdown",
   "id": "d184d6c6",
   "metadata": {},
   "source": [
    "Este código implementa el método de bisección y muestra el error relativo aproximado en cada iteración.\n",
    "\n",
    "## Ejemplo práctico\n",
    "\n",
    "Problema: Un ingeniero está diseñando un sistema de amortiguación y necesita encontrar el punto de equilibrio de un resorte no lineal. La fuerza del resorte está dada por la ecuación:\n",
    "\n",
    "$$ f(x) = 2x^3 - 12x + 10 $$\n",
    "\n",
    "donde $x$ es el desplazamiento en metros y $f(x)$ es la fuerza en Newtons. Encuentra el punto de equilibrio (raíz) en el intervalo $[0, 2]$ con una tolerancia de $10^{-4}$.\n",
    "\n",
    "Solución:"
   ]
  },
  {
   "cell_type": "markdown",
   "id": "3d24b6e7",
   "metadata": {},
   "source": [
    "### Método gráfico \n",
    "\n",
    "Primero aplicaremos el método grafico para tener una idea del número de raices que existen "
   ]
  },
  {
   "cell_type": "code",
   "execution_count": 22,
   "id": "370d0e65",
   "metadata": {},
   "outputs": [
    {
     "data": {
      "image/png": "[encoded data removed]",
      "text/plain": [
       "<Figure size 1000x600 with 1 Axes>"
      ]
     },
     "metadata": {},
     "output_type": "display_data"
    }
   ],
   "source": [
    "import matplotlib.pyplot as plt \n",
    "\n",
    "def fuerza_resorte(x):\n",
    "    return 2*x**3 - 12*x + 10\n",
    "\n",
    "x=np.linspace(0,2,100)\n",
    "y=fuerza_resorte(x)\n",
    "\n",
    "plt.figure(figsize=(10, 6))\n",
    "plt.plot(x, y, label='f(x)')\n",
    "plt.axhline(y=0, color='r', linestyle='--', label='y=0')\n",
    "plt.xlabel('x')\n",
    "plt.ylabel('f(x)')\n",
    "plt.title('Gráfica de $f(x)=2x^3 - 12x + 10$')\n",
    "plt.legend()\n",
    "plt.grid(True)\n",
    "plt.show()\n"
   ]
  },
  {
   "cell_type": "markdown",
   "id": "6b628d62",
   "metadata": {},
   "source": [
    "Vemos que la gráfica nos indica que existeno dos raices entre 0 y 2 por lo que particionaremos la solución en dos intervaloes $[0,1.5]$ y  $[1.5,2]$  \n",
    "\n",
    "### primera raíz "
   ]
  },
  {
   "cell_type": "code",
   "execution_count": 20,
   "id": "f9b2b7de",
   "metadata": {},
   "outputs": [
    {
     "name": "stdout",
     "output_type": "stream",
     "text": [
      "Iteración 2: c = 1.125000, Error aprox = 33.333333%\n",
      "Iteración 3: c = 0.937500, Error aprox = 20.000000%\n",
      "Iteración 4: c = 1.031250, Error aprox = 9.090909%\n",
      "Iteración 5: c = 0.984375, Error aprox = 4.761905%\n",
      "Iteración 6: c = 1.007812, Error aprox = 2.325581%\n",
      "Iteración 7: c = 0.996094, Error aprox = 1.176471%\n",
      "Iteración 8: c = 1.001953, Error aprox = 0.584795%\n",
      "Iteración 9: c = 0.999023, Error aprox = 0.293255%\n",
      "Iteración 10: c = 1.000488, Error aprox = 0.146413%\n",
      "Iteración 11: c = 0.999756, Error aprox = 0.073260%\n",
      "Iteración 12: c = 1.000122, Error aprox = 0.036617%\n",
      "Iteración 13: c = 0.999939, Error aprox = 0.018312%\n",
      "El punto de equilibrio del resorte está en x = 1.0000 metros\n"
     ]
    }
   ],
   "source": [
    "\n",
    "raiz = biseccion(fuerza_resorte, 0, 1.5, tol=1e-4)\n",
    "print(f\"El punto de equilibrio del resorte está en x = {raiz:.4f} metros\")"
   ]
  },
  {
   "cell_type": "markdown",
   "id": "d5372088",
   "metadata": {},
   "source": [
    "### segunda raíz "
   ]
  },
  {
   "cell_type": "code",
   "execution_count": 21,
   "id": "96f9d805",
   "metadata": {},
   "outputs": [
    {
     "name": "stdout",
     "output_type": "stream",
     "text": [
      "Iteración 2: c = 1.875000, Error aprox = 6.666667%\n",
      "Iteración 3: c = 1.812500, Error aprox = 3.448276%\n",
      "Iteración 4: c = 1.781250, Error aprox = 1.754386%\n",
      "Iteración 5: c = 1.796875, Error aprox = 0.869565%\n",
      "Iteración 6: c = 1.789062, Error aprox = 0.436681%\n",
      "Iteración 7: c = 1.792969, Error aprox = 0.217865%\n",
      "Iteración 8: c = 1.791016, Error aprox = 0.109051%\n",
      "Iteración 9: c = 1.791992, Error aprox = 0.054496%\n",
      "Iteración 10: c = 1.791504, Error aprox = 0.027255%\n",
      "Iteración 11: c = 1.791260, Error aprox = 0.013630%\n",
      "Iteración 12: c = 1.791382, Error aprox = 0.006814%\n",
      "El punto de equilibrio del resorte está en x = 1.7913 metros\n"
     ]
    }
   ],
   "source": [
    "raiz = biseccion(fuerza_resorte, 1.5,2, tol=1e-4)\n",
    "print(f\"El punto de equilibrio del resorte está en x = {raiz:.4f} metros\")"
   ]
  },
  {
   "cell_type": "markdown",
   "id": "18450425",
   "metadata": {},
   "source": [
    "\n",
    "Este código encontrará el punto de equilibrio del resorte, que es el punto donde la fuerza neta es cero.\n",
    "\n",
    "## Ejercicios propuestos\n",
    "\n",
    "1. Implementa una función que calcule el número de iteraciones necesarias para alcanzar una tolerancia dada usando la fórmula del número de iteraciones.\n",
    "\n",
    "2. Modifica el código del método de bisección para que termine cuando se alcance un error relativo porcentual menor a un valor especificado.\n",
    "\n",
    "3. Utiliza el método de bisección para encontrar la raíz de la ecuación $e^x = x^2$ en el intervalo $[0, 2]$. Compara el número de iteraciones necesarias con diferentes tolerancias.\n",
    "\n",
    "## Conclusión\n",
    "\n",
    "El método de bisección es una técnica robusta y confiable para encontrar raíces de ecuaciones. Sus principales ventajas son:\n",
    "\n",
    "- Garantía de convergencia si existe una raíz en el intervalo inicial.\n",
    "- Fácil implementación y comprensión.\n",
    "- Estimación precisa del error en cada iteración.\n",
    "\n",
    "Sin embargo, también tiene limitaciones:\n",
    "\n",
    "- Puede ser más lento que otros métodos más avanzados.\n",
    "- Requiere que la función cambie de signo en el intervalo inicial.\n",
    "- No es eficiente para encontrar raíces múltiples o muy cercanas entre sí.\n",
    "\n",
    "En la práctica de la ingeniería, el método de bisección a menudo se usa como un punto de partida confiable o como respaldo para métodos más rápidos pero menos robustos.\n",
    "\n",
    "## Referencias\n",
    "\n",
    "1. Burden, R. L., & Faires, J. D. (2011). Numerical Analysis. Cengage Learning.\n",
    "2. Chapra, S. C., & Canale, R. P. (2015). Numerical Methods for Engineers. McGraw-Hill Education.\n",
    "3. Heath, M. T. (2018). Scientific Computing: An Introductory Survey. SIAM.\n",
    "4. https://estadistica-dma.ulpgc.es/FCC/05-2-Raices-de-Ecuaciones.html\n",
    "5. https://arturoguillen90.wordpress.com/ecuaciones-no-lineales/biseccion/"
   ]
  },
  {
   "cell_type": "code",
   "execution_count": null,
   "id": "06dd8ee9",
   "metadata": {},
   "outputs": [],
   "source": []
  }
 ],
 "metadata": {
  "kernelspec": {
   "display_name": "Python 3 (ipykernel)",
   "language": "python",
   "name": "python3"
  },
  "language_info": {
   "codemirror_mode": {
    "name": "ipython",
    "version": 3
   },
   "file_extension": ".py",
   "mimetype": "text/x-python",
   "name": "python",
   "nbconvert_exporter": "python",
   "pygments_lexer": "ipython3",
   "version": "3.8.10"
  }
 },
 "nbformat": 4,
 "nbformat_minor": 5
}
