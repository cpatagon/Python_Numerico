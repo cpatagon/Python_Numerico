{
 "cells": [
  {
   "cell_type": "markdown",
   "id": "c9a9ce4d",
   "metadata": {},
   "source": [
    "# Introducción a las Raíces de Ecuaciones en Ingeniería\n",
    "\n",
    "## Introducción\n",
    "\n",
    "Las raíces de ecuaciones son un concepto fundamental en matemáticas y tienen una gran relevancia en la ingeniería.\n",
    "\n",
    "En términos simples, encontrar la raíz de una ecuación significa hallar el valor (o valores) de la variable que hace que la ecuación sea igual a cero. \n",
    "\n",
    "\n",
    "$$ f(x) = 0 $$\n",
    "\n",
    "Este proceso es crucial en muchos problemas de ingeniería, desde el diseño de estructuras hasta el análisis de circuitos eléctricos.\n",
    "\n",
    "### Contexto histórico\n",
    "\n",
    "Históricamente, la búsqueda de raíces de ecuaciones ha sido un desafío matemático importante. \n",
    "\n",
    "Desde los antiguos babilonios, que desarrollaron métodos para resolver ecuaciones cuadráticas, hasta los matemáticos del Renacimiento como Cardano y Ferrari, que trabajaron en ecuaciones de grado superior, este problema ha impulsado el desarrollo de las matemáticas.\n",
    "\n",
    "Con la llegada de las computadoras, se desarrollaron métodos numéricos más eficientes para encontrar raíces, lo que ha permitido resolver ecuaciones cada vez más complejas y aplicar estos métodos a una amplia gama de problemas en ingeniería y ciencias.\n",
    "\n",
    "### Aplicaciones prácticas\n",
    "\n",
    "En ingeniería, las raíces de ecuaciones tienen numerosas aplicaciones:\n",
    "\n",
    "1. **Diseño estructural:** Para calcular las cargas críticas en columnas o vigas.\n",
    "2. **Circuitos eléctricos:** Para determinar puntos de operación en circuitos no lineales.\n",
    "3. **Dinámica de fluidos:** Para calcular velocidades de flujo en tuberías o canales.\n",
    "4. **Control de sistemas:** Para encontrar puntos de equilibrio en sistemas dinámicos.\n",
    "5. **Optimización:** Para hallar máximos o mínimos de funciones en problemas de diseño.\n",
    "\n",
    "## Fundamentos teóricos\n",
    "\n",
    "### Definición de raíz\n",
    "\n",
    "Una raíz de una ecuación $f(x) = 0$ es un valor de $x$ que satisface la ecuación. En términos matemáticos:\n",
    "\n",
    "$$ f(x) = 0 $$\n",
    "\n",
    "donde $x$ es la raíz buscada.\n",
    "\n",
    "### Tipos de ecuaciones\n",
    "\n",
    "1. Ecuaciones algebraicas: Incluyen polinomios y ecuaciones racionales.\n",
    "   Ejemplo: $f(x) = x^2 - 2x + 1 = 0$\n",
    "\n",
    "2. Ecuaciones trascendentes: Involucran funciones trigonométricas, exponenciales o logarítmicas.\n",
    "   Ejemplo: $f(x) = e^x - \\sin(x) = 0$\n",
    "\n",
    "### Métodos de solución\n",
    "\n",
    "Existen varios métodos para encontrar raíces de ecuaciones:\n",
    "\n",
    "1. **Métodos analíticos:** Como la fórmula cuadrática para ecuaciones de segundo grado.\n",
    "\n",
    "   $$ x = \\frac{-b \\pm \\sqrt{b^2 - 4ac}}{2a} $$\n",
    "\n",
    "2. **Métodos gráficos:** Visualizar dónde la función cruza el eje x.\n",
    "\n",
    "3. **Métodos numéricos:** Técnicas iterativas para aproximar la raíz, como:\n",
    "   - Método de bisección\n",
    "   - Método de Newton-Raphson\n",
    "   - Método de la secante"
   ]
  },
  {
   "cell_type": "markdown",
   "id": "ba295847",
   "metadata": {},
   "source": [
    "## Implementación en Python\n",
    "\n",
    "Cabe mencionar que en la próxima clase analizaremos en más detalle el método de la bisección.\n",
    "Veamos una implementación básica del método de bisección en Python:\n"
   ]
  },
  {
   "cell_type": "code",
   "execution_count": 8,
   "id": "003c24bb",
   "metadata": {},
   "outputs": [
    {
     "name": "stdout",
     "output_type": "stream",
     "text": [
      "La raíz aproximada es: 1.4142141342163086 en 19 iteraciones\n"
     ]
    }
   ],
   "source": [
    "import numpy as np\n",
    "\n",
    "def biseccion(f, a, b, tol=1e-6, max_iter=100):\n",
    "    \"\"\"\n",
    "    Implementa el método de bisección para encontrar una raíz de f en [a,b].\n",
    "    \n",
    "    Parámetros:\n",
    "    f : función de la cual se busca la raíz\n",
    "    a, b : límites del intervalo inicial\n",
    "    tol : tolerancia para el criterio de parada\n",
    "    max_iter : número máximo de iteraciones\n",
    "    \n",
    "    Retorna:\n",
    "    La aproximación de la raíz o None si no se encuentra\n",
    "    \"\"\"\n",
    "    if f(a) * f(b) >= 0:\n",
    "        print(\"El método de bisección no es aplicable en este intervalo.\")\n",
    "        return None\n",
    "    \n",
    "    for i in range(max_iter):\n",
    "        c = (a + b) / 2  # Punto medio\n",
    "        if f(c) == 0 or (b - a) / 2 < tol:\n",
    "            return c , i\n",
    "        if f(c) * f(a) < 0:\n",
    "            b = c\n",
    "        else:\n",
    "            a = c\n",
    "    \n",
    "    print(\"El método alcanzó el número máximo de iteraciones sin converger.\")\n",
    "    return None\n",
    "\n",
    "# Ejemplo de uso\n",
    "def f(x):\n",
    "    return x**2 - 2  # Buscamos la raíz de x^2 - 2 = 0 (√2)\n",
    "\n",
    "raiz, iteraciones = biseccion(f, 1, 2)\n",
    "print(f\"La raíz aproximada es: {raiz} en {iteraciones} iteraciones\")"
   ]
  },
  {
   "cell_type": "markdown",
   "id": "e4c84134",
   "metadata": {},
   "source": [
    "\n",
    "Este código implementa el método de bisección, que es uno de los métodos más simples para encontrar raíces de ecuaciones. Es robusto pero puede ser lento en comparación con métodos más avanzados.\n",
    "\n",
    "## Ejemplo práctico\n",
    "\n",
    "**Problema:** Un ingeniero civil está diseñando una viga simplemente apoyada con una carga uniformemente distribuida. La deflexión máxima y de la viga está dada por la ecuación:\n",
    "\n",
    "$$ y = \\frac{5wL^4}{384EI} $$\n",
    "\n",
    "donde $w$ es la carga por unidad de longitud, $L$ es la longitud de la viga, $E$ es el módulo de elasticidad, e $I$ es el momento de inercia de la sección transversal.\n",
    "\n",
    "El ingeniero necesita determinar la longitud máxima $L$ de la viga para que la deflexión no exceda 1 cm, dado que $w = 5000$ N/m, $E = 200$ GPa, e $I = 1.5 \\times 10^{-5}$ m^4.\n",
    "\n",
    "Solución:\n",
    "\n",
    "1. Reformulamos la ecuación para encontrar la raíz:\n",
    "\n",
    "$$ f(L) = \\frac{5wL^4}{384EI} - 0.01 = 0 $$\n",
    "\n",
    "2. Implementamos la solución en Python:"
   ]
  },
  {
   "cell_type": "code",
   "execution_count": 9,
   "id": "ceb1f5f1",
   "metadata": {},
   "outputs": [
    {
     "name": "stdout",
     "output_type": "stream",
     "text": [
      "La longitud máxima de la viga es: 4.63 m\n"
     ]
    }
   ],
   "source": [
    "import numpy as np\n",
    "from scipy import optimize\n",
    "\n",
    "def f(L, w, E, I):\n",
    "    return (5 * w * L**4) / (384 * E * I) - 0.01\n",
    "\n",
    "# Parámetros\n",
    "w = 5000  # N/m\n",
    "E = 200e9  # Pa\n",
    "I = 1.5e-5  # m^4\n",
    "\n",
    "# Usamos el método de Brent de SciPy (una combinación eficiente de varios métodos)\n",
    "L_max = optimize.brentq(f, 1, 10, args=(w, E, I))\n",
    "\n",
    "print(f\"La longitud máxima de la viga es: {L_max:.2f} m\")"
   ]
  },
  {
   "cell_type": "markdown",
   "id": "733d34d8",
   "metadata": {},
   "source": [
    "\n",
    "\n",
    "Este código utiliza el método de Brent implementado en SciPy[^1], que es más eficiente que el método de bisección para muchos problemas prácticos.\n",
    "\n",
    "\n",
    "## Conclusión\n",
    "\n",
    "Las raíces de ecuaciones son un concepto fundamental en ingeniería con aplicaciones en diversos campos. Los métodos numéricos nos permiten encontrar soluciones a ecuaciones que no tienen soluciones analíticas simples. Cada método tiene sus ventajas y desventajas:\n",
    "\n",
    "- El método de bisección es robusto pero puede ser lento.\n",
    "- El método de Newton-Raphson converge rápidamente pero puede fallar si la estimación inicial no es adecuada.\n",
    "- Métodos como el de Brent combinan la robustez de los métodos de intervalo con la rapidez de los métodos de punto fijo.\n",
    "\n",
    "La elección del método adecuado depende del problema específico y de las características de la función que se está analizando.\n",
    "\n",
    "## Referencias\n",
    "\n",
    "1. Chapra, S. C., & Canale, R. P. (2015). Numerical methods for engineers. McGraw-Hill Education.\n",
    "2. Press, W. H., Teukolsky, S. A., Vetterling, W. T., & Flannery, B. P. (2007). Numerical recipes 3rd edition: The art of scientific computing. Cambridge university press.\n",
    "3. Burden, R. L., & Faires, J. D. (2011). Numerical analysis. Cengage learning.\n",
    "[^1]: https://docs.scipy.org/doc/scipy/reference/generated/scipy.optimize.brentq.html#rcf302ff4bf60-brent1973 \n",
    "\n"
   ]
  },
  {
   "cell_type": "code",
   "execution_count": null,
   "id": "cd4580b3",
   "metadata": {},
   "outputs": [],
   "source": []
  },
  {
   "cell_type": "code",
   "execution_count": null,
   "id": "ec0f9ec6",
   "metadata": {},
   "outputs": [],
   "source": []
  }
 ],
 "metadata": {
  "kernelspec": {
   "display_name": "Python 3 (ipykernel)",
   "language": "python",
   "name": "python3"
  },
  "language_info": {
   "codemirror_mode": {
    "name": "ipython",
    "version": 3
   },
   "file_extension": ".py",
   "mimetype": "text/x-python",
   "name": "python",
   "nbconvert_exporter": "python",
   "pygments_lexer": "ipython3",
   "version": "3.8.10"
  }
 },
 "nbformat": 4,
 "nbformat_minor": 5
}
