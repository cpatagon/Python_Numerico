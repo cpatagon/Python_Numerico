{
 "cells": [
  {
   "cell_type": "markdown",
   "metadata": {
    "id": "oJYcziVNsqyC"
   },
   "source": [
    "# Ecuaciones Diferenciales Ordinarias\n",
    "## Motivación \n",
    "\n",
    "Una ecuación diferencial es una ecuación matemática que relaciona una función con sus derivadas. En las matemáticas aplicadas, las funciones usualmente representan cantidades físicas, las derivadas representan sus razones de cambio, y la ecuación define la relación entre ellas. Como estas relaciones son muy comunes, las ecuaciones diferenciales juegan un rol primordial en diversas disciplinas, incluyendo la ingeniería, la física, la química, la economía, y la biología..\n",
    "\n",
    "$\n",
    "\\frac{\\Delta x}{\\Delta y} =  f(x,y)\n",
    "$\n",
    "\n",
    "Si la solución exacta no puede hallarse, esta puede obtenerse numéricamente, mediante una aproximación usando computadoras. La teoría de sistemas dinámicos hace énfasis en el análisis cualitativo de los sistemas descritos por ecuaciones diferenciales, mientras que muchos métodos numéricos han sido desarrollados para determinar soluciones con cierto grado de exactitud. "
   ]
  },
  {
   "cell_type": "markdown",
   "metadata": {
    "id": "ROu2JmtHtD5p"
   },
   "source": [
    "##  Métodos de Runge-Kutta\n",
    " el método fue de la forma general\n",
    "\n",
    "  **Nuevo valor = valor anterior + pendiente × tamaño de paso**\n",
    "\n",
    "o, en términos matemáticos,\n",
    "\n",
    "$y_{i + 1} = y_i + \\phi h $\n",
    "\n",
    "De acuerdo con esta ecuación, la pendiente estimada $\\phi$ se usa\n",
    "para extrapolar desde un valor anterior $y_i$ a un nuevo valor $y_{i + 1}$\n",
    "en una distancia $h$. Esta fórmula se aplica paso a paso\n",
    "para calcular un valor posterior y, por lo tanto, para trazar la tra-\n",
    "yectoria de la solución.\n",
    "Todos los métodos de un paso que se expresen de esta forma\n",
    "general, tan sólo van a diferir en la manera en la que se estima la\n",
    "pendiente."
   ]
  },
  {
   "cell_type": "markdown",
   "metadata": {
    "id": "crIH6LL1tk3q"
   },
   "source": [
    "## Métodos de Euler\n",
    "\n",
    "Si\n",
    "\n",
    "$\\phi = f(x_i,y_i)$\n",
    "\n",
    "entonces\n",
    "\n",
    "$y_{i+1}=y_i+f(x_i,y_i)h$\n",
    "\n",
    "Esta fórmula se conoce como método de Euler (o de Euler-Cauchy o de punto pendiente). Se\n",
    "predice un nuevo valor de y usando la pendiente (igual a la primera derivada en el valor original de\n",
    "x) para extrapolar linealmente sobre el tamaño de paso h"
   ]
  },
  {
   "cell_type": "markdown",
   "metadata": {
    "id": "Gh3EScTJuI0A"
   },
   "source": [
    "## Ejercicio\n",
    "\n",
    "Resuelva el siguiente problema de valor inicial en el intervalo\n",
    "de $t = 0$ a $2$, donde $y(0) = 1$. Muestre todos sus resultados en la misma gráfica.\n",
    "\n",
    "$ \\frac{dy}{dt} = y  t^3 − 1.1y$\n",
    "\n",
    "* Analíticamente.\n",
    "* Método de Euler con $h = 0.5$, $0.05$ y $0.005 $.\n"
   ]
  },
  {
   "cell_type": "markdown",
   "metadata": {
    "id": "D0vU_QaOubWh"
   },
   "source": [
    "## Método de Heun\n",
    "\t\n",
    "  Emplea la\n",
    "determinación de dos derivadas en el intervalo (una en el punto\n",
    "inicial y otra en el final). Las dos derivadas se promedian después\n",
    "con la finalidad de obtener una mejor estimación de la pendiente\n",
    "en todo el intervalo. Este procedimiento, conocido como método\n",
    "de Heu\n",
    "\n",
    "1) Predictor\n",
    "\n",
    "  $ y^0_{i+1} = y_i + f(x_i,y_i) h$\n",
    "\n",
    "\n",
    "2) Corrector:\n",
    "\n",
    "  $ y_{i+1} = y_i + \\frac{f(x_i,y_i)+ f(x_{i+1},y_{i+1})}{2} h$\n",
    "\n"
   ]
  },
  {
   "cell_type": "markdown",
   "metadata": {
    "id": "oPneNkNnvPwa"
   },
   "source": [
    "## Ejercicio \n",
    " Con el método de Heun integre \n",
    " \n",
    " $y′ = 4e^{0.8x} – 0.5 y $\n",
    "\n",
    " desde $x = 0$ hasta $x = 4$, con un tamaño de paso igual a 1. La condición inicial es en $x = 0$, $y = 2$."
   ]
  },
  {
   "cell_type": "markdown",
   "metadata": {
    "id": "x8uLKmsUwPW3"
   },
   "source": [
    "## Método del punto medio\n",
    "(o del polígono mejorado)\n",
    "\t\n",
    "sta técnica usa el método\n",
    "de Euler para predecir un valor de y en el punto medio del intervalo \n",
    "\n",
    "\n",
    "$$ y_{i + 1/2} = y_i + f (x_i , y_i )\\frac{h}{2}$$\n",
    "\n",
    "Después, este valor predicho se utiliza para calcular una pendiente en el punto medio:\n",
    "\n",
    "\n",
    "$$y'_{i+ 1/2} = f (x_{i + 1/2} , y_{i + 1/2} )$$\n",
    "\n",
    "que se supone representa una aproximación válida de la pendien-\n",
    "te promedio en todo el intervalo. Dicha pendiente se usa después\n",
    "para extrapolar linealmente desde $x_i$ hasta $x_{i + 1}$\n",
    "\n",
    "$$y'_{i+ 1} = y_i + f (x_{i + 1/2} , y_{i + 1/2} ) h $$\n",
    "\n",
    "\n",
    "\n"
   ]
  },
  {
   "cell_type": "markdown",
   "metadata": {
    "id": "yvC55g6ECJxf"
   },
   "source": [
    " ## Utilizando Scipy \n",
    " scipy.integrate.solve_ivp(fun, t_span, y0, method='RK45', t_eval=None, dense_output=False, events=None, vectorized=False, args=None, **options)\n",
    "\n",
    "\n",
    "**fun:** función de la pendiente o de la derivada\n",
    "\n",
    "**t_span2:** Intervalo de integración del tipo tupla de floats (t0, tf). The solver starts with t0= tiempo inicio  tf= tiempo final.\n",
    "\n",
    "**y0:** valor o valores iniciales \n",
    "\n",
    "**method:** string or OdeSolver, optional\n",
    "\n",
    "\n",
    "###Usando métodos de integración\n",
    "\n",
    "  **‘RK45’ (default):** Explicit Runge-Kutta method of order 5(4) [1]. The error is controlled assuming accuracy of the fourth-order method, but steps are taken using the fifth-order accurate formula (local extrapolation is done). A quartic interpolation polynomial is used for the dense output [2]. Can be applied in the complex domain.\n",
    "\n",
    "  **‘RK23’:** Explicit Runge-Kutta method of order 3(2) [3]. The error is controlled assuming accuracy of the second-order method, but steps are taken using the third-order accurate formula (local extrapolation is done). A cubic Hermite polynomial is used for the dense output. Can be applied in the complex domain.\n",
    "\n",
    "  **‘DOP853’:** Explicit Runge-Kutta method of order 8 [13]. Python implementation of the “DOP853” algorithm originally written in Fortran [14]. A 7-th order interpolation polynomial accurate to 7-th order is used for the dense output. Can be applied in the complex domain.\n",
    "\n",
    "  **‘Radau’:** Implicit Runge-Kutta method of the Radau IIA family of order 5 [4]. The error is controlled with a third-order accurate embedded formula. A cubic polynomial which satisfies the collocation conditions is used for the dense output.\n",
    "\n",
    "  **‘BDF’:** Implicit multi-step variable-order (1 to 5) method based on a backward differentiation formula for the derivative approximation [5]. The implementation follows the one described in [6]. A quasi-constant step scheme is used and accuracy is enhanced using the NDF modification. Can be applied in the complex domain.\n",
    "\n",
    "  **‘LSODA’:** Adams/BDF method with automatic stiffness detection and switching [7], [8]. This is a wrapper of the Fortran solver from ODEPACK.\n",
    "\n",
    "\n"
   ]
  },
  {
   "cell_type": "code",
   "execution_count": null,
   "metadata": {
    "colab": {
     "base_uri": "https://localhost:8080/",
     "height": 352
    },
    "executionInfo": {
     "elapsed": 930,
     "status": "ok",
     "timestamp": 1607576543328,
     "user": {
      "displayName": "Luis Gomez",
      "photoUrl": "https://lh3.googleusercontent.com/a-/AOh14GhgMxcxoQRX6YmkMDaHTW4-qZ0OpyN3QQ75T4i4=s64",
      "userId": "00656069038044722993"
     },
     "user_tz": 180
    },
    "id": "Zmyj5UR-x_yS",
    "outputId": "086d97d1-610d-4547-dcd1-3423fbfd8890"
   },
   "outputs": [
    {
     "name": "stdout",
     "output_type": "stream",
     "text": [
      "[ 0.          0.11487787  1.26365662  3.06065386  4.81618428  6.57462358\n",
      "  8.33367682 10.        ]\n",
      "[2.         1.88835909 1.06326394 0.43318533 0.18016596 0.07482428\n",
      " 0.03106559 0.01350781]\n"
     ]
    },
    {
     "data": {
      "text/plain": [
       "[<matplotlib.lines.Line2D at 0x7f9a5f115550>]"
      ]
     },
     "execution_count": 16,
     "metadata": {
      "tags": []
     },
     "output_type": "execute_result"
    },
    {
     "data": {
      "image/png": "[encoded data removed]",
      "text/plain": [
       "<Figure size 432x288 with 1 Axes>"
      ]
     },
     "metadata": {
      "needs_background": "light",
      "tags": []
     },
     "output_type": "display_data"
    }
   ],
   "source": [
    "from scipy.integrate import solve_ivp\n",
    "import matplotlib.pyplot as plt \n",
    "def exponential_decay(t, y): return -0.5 * y\n",
    "sol = solve_ivp(exponential_decay, [0, 10], [2,5])\n",
    "print(sol.t )\n",
    "print(sol.y[0] )\n",
    "plt.plot(sol.t, sol.y[1])"
   ]
  },
  {
   "cell_type": "markdown",
   "metadata": {
    "id": "WhqagG1ufTK4"
   },
   "source": [
    "Referencia\n",
    "\n",
    "\n",
    "0\n",
    "\n",
    "[wikipedia](https://es.wikipedia.org/wiki/Ecuaci%C3%B3n_diferencial)\n",
    "\n",
    "1\n",
    "\n",
    "    J. R. Dormand, P. J. Prince, “A family of embedded Runge-Kutta formulae”, Journal of Computational and Applied Mathematics, Vol. 6, No. 1, pp. 19-26, 1980.\n",
    "2\n",
    "\n",
    "    L. W. Shampine, “Some Practical Runge-Kutta Formulas”, Mathematics of Computation,, Vol. 46, No. 173, pp. 135-150, 1986.\n",
    "3\n",
    "\n",
    "    P. Bogacki, L.F. Shampine, “A 3(2) Pair of Runge-Kutta Formulas”, Appl. Math. Lett. Vol. 2, No. 4. pp. 321-325, 1989.\n",
    "4\n",
    "\n",
    "    E. Hairer, G. Wanner, “Solving Ordinary Differential Equations II: Stiff and Differential-Algebraic Problems”, Sec. IV.8.\n",
    "5\n",
    "\n",
    "    Backward Differentiation Formula on Wikipedia.\n",
    "6\n",
    "\n",
    "    L. F. Shampine, M. W. Reichelt, “THE MATLAB ODE SUITE”, SIAM J. SCI. COMPUTE., Vol. 18, No. 1, pp. 1-22, January 1997.\n",
    "7\n",
    "\n",
    "    A. C. Hindmarsh, “ODEPACK, A Systematized Collection of ODE Solvers,” IMACS Transactions on Scientific Computation, Vol 1., pp. 55-64, 1983.\n",
    "8\n",
    "\n",
    "    L. Petzold, “Automatic selection of methods for solving stiff and nonstiff systems of ordinary differential equations”, SIAM Journal on Scientific and Statistical Computing, Vol. 4, No. 1, pp. 136-148, 1983.\n",
    "9\n",
    "\n",
    "    Stiff equation on Wikipedia.\n",
    "10\n",
    "\n",
    "    A. Curtis, M. J. D. Powell, and J. Reid, “On the estimation of sparse Jacobian matrices”, Journal of the Institute of Mathematics and its Applications, 13, pp. 117-120, 1974.\n",
    "11\n",
    "\n",
    "    Cauchy-Riemann equations on Wikipedia.\n",
    "12\n",
    "\n",
    "    Lotka-Volterra equations on Wikipedia.\n",
    "13\n",
    "\n",
    "    E. Hairer, S. P. Norsett G. Wanner, “Solving Ordinary Differential Equations I: Nonstiff Problems”, Sec. II.\n",
    "\n",
    "14\n",
    "\n",
    "    Page with original Fortran code of DOP853.\n",
    "\n",
    "\n",
    "15\n",
    "\n",
    "    'https://docs.scipy.org/doc/scipy/reference/generated/scipy.integrate.solve_ivp.html#scipy.integrate.solve_ivp'"
   ]
  }
 ],
 "metadata": {
  "colab": {
   "name": "Ecuaciones diferenciales.ipynb",
   "provenance": [
    {
     "file_id": "1s7uOK44FcQIyCIX8X5EN9wk2uKAdDwrn",
     "timestamp": 1607567680149
    }
   ]
  },
  "kernelspec": {
   "display_name": "Python 3 (ipykernel)",
   "language": "python",
   "name": "python3"
  },
  "language_info": {
   "codemirror_mode": {
    "name": "ipython",
    "version": 3
   },
   "file_extension": ".py",
   "mimetype": "text/x-python",
   "name": "python",
   "nbconvert_exporter": "python",
   "pygments_lexer": "ipython3",
   "version": "3.8.10"
  }
 },
 "nbformat": 4,
 "nbformat_minor": 1
}
