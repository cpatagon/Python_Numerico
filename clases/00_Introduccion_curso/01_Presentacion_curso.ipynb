{
 "cells": [
  {
   "cell_type": "markdown",
   "metadata": {
    "id": "t9EMOKuVbSdQ"
   },
   "source": [
    "# Métodos Numéricos para Ingeniería (BAIN 053)\n",
    "\n",
    "**Docente Luis Alberto Gomez**\n",
    "luis.gomez@uach.cl\n",
    "\n",
    "## Requisitos\n",
    "*  Cálculo II para Ingeniería BAIN042\n",
    "*  Ecuaciones Diferenciales para Ingeniería BAIN041\n",
    "*  Progración con Python (no formal)\n",
    "\n",
    "\n",
    "## Competencias del perfil de egreso\n",
    "\n",
    "1.1.- Resolver problemas de ingeniería con calidad y excelencia, aplicando conocimientos de Mate­máticas, Ciencias Básicas, Ciencias de la In­geniería y Tecnología, considerando criterios de sustentabilidad y responsabilidad social, preser­vando, generando y transmitiendo conoci­miento, en situaciones simuladas o reales.\n",
    "\n",
    "1.2.- Trabajar en forma responsable, demostrando tolerancia ante la diversidad para resolver problemas de complejidad creciente, optimizando procesos y productos de manera creativa en beneficio de la sociedad, tanto de manera autónoma como en equipo.\n",
    "\n",
    "1.3.- Emplear el idioma español e inglés para extraer información pertinente y comunicarse en forma efectiva en español a través de la elaboración de informes, presentaciones orales y discusio­nes.\n",
    "\n",
    "\n",
    "## Aprendizajes Esperados/ Desempeños\n",
    "\n",
    "1.1. Identifica las fuentes de error en el procesamiento de información numérica y estima el error en algunos procesos de cálculo simple.\n",
    "\n",
    "2.1. Aplica los métodos numéricos para ecuaciones diferenciales, tanto de paso simple como de paso múltiple, a la resolución de ecuaciones diferenciales ordinarias: métodos de Euler, Milne, Adams-Moulton, métodos de Runge-Kutta.\n",
    "\n",
    "2.2. Aplica el método de diferencias finitas a la resolución de problemas con condiciones de borde, y resuelve ecuaciones diferenciales parciales lineales.\n",
    "\n",
    "2.3. Escribe códigos para algoritmos numéricos simples, utiliza el software Matlab y los aplica a la resolución de problemas de ingeniería.  \n",
    "\n",
    "3.1. Analiza el Comportamiento de Sistemas de Ecuaciones Lineales utilizando los conceptos de Norma y Número de Condicionamiento.   \n",
    "3.2. Aplica los métodos directos de Gauss, de descomposición LU y los métodos indirectos de Jacobi, de Gauss-Seidel, de relajación, a la resolución de sistemas de ecuaciones lineales, tanto en contexto matemático como de problemas de ingeniería.\n",
    "\n",
    "4.1. Aplica los métodos de interpola­ción polinomial a la aproximación y modelamiento de información dis­creta: polinomios de Lagrange, polinomios de Newton, spline cúbica de interpolación.\n",
    "\n",
    "4.2 Aplica el método de mínimos cuadrados en el caso discreto a la aproximación y modelamiento de información obtenida a través de mediciones.\n",
    "4.3 Aplica el método de mínimos cuadrados en el caso continuo a la aproximación de funciones simples.\n",
    "\n",
    "5.1. Aplica los métodos de Newton-Cotes (trapecio, Simpson, etc.), de Gauss y otros al cómputo de integrales varias.\n",
    "  5.2. Aplica los métodos de integración numérica a la resolución de problemas matemáticos y/o de inge­niería.\n",
    "\n",
    "6.1. Estima numéricamente soluciones de ecuaciones no lineales aplicando métodos numéricos tales como: de punto fijo, de la tangente, de la secante.\n",
    "6.2.- Aplica los métodos de punto fijo y de Newton-Raphson a la resolución numérica de sistemas de ecuaciones no lineales.\n",
    "\n",
    "##Evaluación:\n",
    "\n",
    "    • El promedio semestral se calcula como promedio de trabajos entregados por clase.\n",
    "    • Estudiantes con promedio semestral igual o superior a 4,0 serán aprobados.\n",
    "    • Estudiantes con promedio semestral entre 3.0 y 3.9, tendrán derecho a rendir, al término del semestre, una segunda evaluación. La calificación final corresponderá a la mayor de las dos calificaciones anteriores, con calificación máxima 4,0.\n",
    "    • Estudiantes con promedio semestral menor que 3,0 serán reprobados.\n",
    "\n",
    "## Asistencia:\n",
    "Se exigirá un 70% de asistencia a clases.  El no cumplimiento de esta exigencia significará que el (la) alumno(a) reprueba la asignatura, siendo calificado(a) con el concepto R (Artículos 16 y 17 del R.A.E.).\n",
    "\n",
    "## Test de Entrada\n",
    "\n",
    "https://forms.gle/qfKgCGyAjgmNG4xo8"
   ]
  },
  {
   "cell_type": "code",
   "execution_count": 1,
   "metadata": {
    "id": "lDVsTsNfbEB_"
   },
   "outputs": [
    {
     "data": {
      "text/plain": [
       "9"
      ]
     },
     "execution_count": 1,
     "metadata": {},
     "output_type": "execute_result"
    }
   ],
   "source": [
    "5+4\n"
   ]
  },
  {
   "cell_type": "code",
   "execution_count": null,
   "metadata": {},
   "outputs": [],
   "source": []
  },
  {
   "cell_type": "code",
   "execution_count": null,
   "metadata": {},
   "outputs": [],
   "source": []
  }
 ],
 "metadata": {
  "colab": {
   "authorship_tag": "ABX9TyO2BFcfWlmErYDYdRmGByOz",
   "provenance": []
  },
  "kernelspec": {
   "display_name": "Python 3 (ipykernel)",
   "language": "python",
   "name": "python3"
  },
  "language_info": {
   "codemirror_mode": {
    "name": "ipython",
    "version": 3
   },
   "file_extension": ".py",
   "mimetype": "text/x-python",
   "name": "python",
   "nbconvert_exporter": "python",
   "pygments_lexer": "ipython3",
   "version": "3.8.10"
  }
 },
 "nbformat": 4,
 "nbformat_minor": 1
}
