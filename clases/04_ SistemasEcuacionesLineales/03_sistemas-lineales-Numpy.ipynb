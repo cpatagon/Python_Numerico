{
 "cells": [
  {
   "cell_type": "markdown",
   "metadata": {},
   "source": [
    "# Guía de Álgebra Lineal con NumPy\n",
    "\n",
    "## 1. Introducción\n",
    "\n",
    "- NumPy es una librería fundamental en Python para cálculos numéricos y científicos. \n",
    "\n",
    "- Su submódulo `numpy.linalg` ofrece potentes herramientas para operaciones de álgebra lineal.\n",
    "\n",
    "[enlace a linalg de Numpy](https://numpy.org/doc/stable/reference/routines.linalg.html)\n",
    "\n",
    "## 2. Instalación\n",
    "\n",
    "```bash\n",
    "# sin conda \n",
    "pip install numpy\n",
    "#con conda instalado\n",
    "conda install numpy\n",
    "```\n",
    "\n",
    "## 3. Importación\n"
   ]
  },
  {
   "cell_type": "code",
   "execution_count": 62,
   "metadata": {},
   "outputs": [],
   "source": [
    "import numpy as np"
   ]
  },
  {
   "cell_type": "markdown",
   "metadata": {},
   "source": [
    "## 4. Operaciones Básicas\n",
    "\n",
    "### 4.1. Producto Punto \n",
    "\n",
    "$$\\mathbf{a} \\cdot \\mathbf{b} = \\sum_{i=1}^n a_i b_i$$\n"
   ]
  },
  {
   "cell_type": "code",
   "execution_count": 64,
   "metadata": {},
   "outputs": [
    {
     "name": "stdout",
     "output_type": "stream",
     "text": [
      "32\n"
     ]
    }
   ],
   "source": [
    "a = np.array([1, 2, 3])\n",
    "b = np.array([4, 5, 6])\n",
    "producto_punto = np.dot(a, b) # aqui implementamos el producto punto\n",
    "print (producto_punto)\n",
    "# (1*4 +2*5 + 3*6) = 32"
   ]
  },
  {
   "cell_type": "markdown",
   "metadata": {},
   "source": [
    "### 4.2. Producto de Matrices (producto punto)\n",
    "\n",
    "$$(\\mathbf{AB})_{ij} = \\sum_{k=1}^n A_{ik}B_{kj}$$"
   ]
  },
  {
   "cell_type": "code",
   "execution_count": 34,
   "metadata": {},
   "outputs": [
    {
     "name": "stdout",
     "output_type": "stream",
     "text": [
      "[[1 2]\n",
      " [3 4]]\n",
      "[[5 6]\n",
      " [7 8]]\n",
      "[[19 22]\n",
      " [43 50]]\n"
     ]
    }
   ],
   "source": [
    "A = np.array([[1, 2], [3, 4]])\n",
    "B = np.array([[5, 6], [7, 8]])\n",
    "producto_matrices = np.matmul(A, B)\n",
    "\n",
    "print(A)\n",
    "print(B)\n",
    "\n",
    "print(producto_matrices)"
   ]
  },
  {
   "cell_type": "code",
   "execution_count": 65,
   "metadata": {},
   "outputs": [
    {
     "name": "stdout",
     "output_type": "stream",
     "text": [
      "[[19 22]\n",
      " [43 50]]\n"
     ]
    }
   ],
   "source": [
    "A = np.array([[1, 2], [3, 4]])\n",
    "B = np.array([[5, 6], [7, 8]])\n",
    "producto_punto = np.dot(A, B)\n",
    "print (producto_punto)"
   ]
  },
  {
   "cell_type": "code",
   "execution_count": 12,
   "metadata": {},
   "outputs": [
    {
     "data": {
      "text/plain": [
       "array([[19, 22],\n",
       "       [43, 50]])"
      ]
     },
     "execution_count": 12,
     "metadata": {},
     "output_type": "execute_result"
    }
   ],
   "source": [
    "A@B"
   ]
  },
  {
   "cell_type": "markdown",
   "metadata": {},
   "source": [
    "**Ejercicio**\n",
    "\n",
    "1. Construya un función (def) para calcular el producto punto de dos matrices"
   ]
  },
  {
   "cell_type": "markdown",
   "metadata": {},
   "source": [
    "### 4.3 Producto Matrices por elemento\n",
    "\n",
    "El resultado es una nueva matriz C donde el elemento C[i,j] se calcula como la suma de los productos de los elementos de la fila i de A con los elementos correspondientes de la columna j de B.\n",
    "\n",
    "$$\n",
    "(A \\circ B)_{ij} = A_{ij}B_{ij}\n",
    "$$"
   ]
  },
  {
   "cell_type": "code",
   "execution_count": 38,
   "metadata": {},
   "outputs": [
    {
     "name": "stdout",
     "output_type": "stream",
     "text": [
      "[[1 2]\n",
      " [3 4]]\n",
      "[[5 6]\n",
      " [7 8]]\n"
     ]
    }
   ],
   "source": [
    "print(A)\n",
    "print(B)"
   ]
  },
  {
   "cell_type": "code",
   "execution_count": 13,
   "metadata": {},
   "outputs": [
    {
     "data": {
      "text/plain": [
       "array([[ 5, 12],\n",
       "       [21, 32]])"
      ]
     },
     "execution_count": 13,
     "metadata": {},
     "output_type": "execute_result"
    }
   ],
   "source": [
    "A*B"
   ]
  },
  {
   "cell_type": "code",
   "execution_count": 14,
   "metadata": {},
   "outputs": [
    {
     "data": {
      "text/plain": [
       "array([[ 5, 12],\n",
       "       [21, 32]])"
      ]
     },
     "execution_count": 14,
     "metadata": {},
     "output_type": "execute_result"
    }
   ],
   "source": [
    "np.multiply(A,B)"
   ]
  },
  {
   "cell_type": "markdown",
   "metadata": {},
   "source": [
    "### 4.3. Determinante\n",
    "\n",
    "**Para una matriz 2x2:**\n",
    "\n",
    "$$\\det \\begin{pmatrix} a & b \\\\ c & d \\end{pmatrix} = ad - bc$$"
   ]
  },
  {
   "cell_type": "code",
   "execution_count": 68,
   "metadata": {},
   "outputs": [
    {
     "name": "stdout",
     "output_type": "stream",
     "text": [
      "-2.0000000000000004\n"
     ]
    },
    {
     "data": {
      "text/plain": [
       "-2.0"
      ]
     },
     "execution_count": 68,
     "metadata": {},
     "output_type": "execute_result"
    }
   ],
   "source": [
    "matriz = np.array([[1, 2], [3, 4]])\n",
    "determinante = np.linalg.det(matriz)\n",
    "print(determinante)\n",
    "determinante.round(5)"
   ]
  },
  {
   "cell_type": "markdown",
   "metadata": {},
   "source": [
    "**Para una matriz 3x3:** \n",
    "$$\n",
    "A = \\begin{vmatrix}\n",
    "a_{11} & a_{12} & a_{13} \\\\\n",
    "a_{21} & a_{22} & a_{23} \\\\\n",
    "a_{31} & a_{32} & a_{33}\n",
    "\\end{vmatrix}\n",
    "$$\n",
    "\n",
    "$$\n",
    "\\det(A) = a_{11}a_{22}a_{33} + a_{12}a_{23}a_{31} + a_{13}a_{21}a_{32} - a_{13}a_{22}a_{31} - a_{12}a_{21}a_{33} - a_{11}a_{23}a_{32}\n",
    "$$\n"
   ]
  },
  {
   "cell_type": "markdown",
   "metadata": {},
   "source": [
    "Ejemplo Numérico\n",
    "Consideremos la matriz:\n",
    "$$\n",
    "A = \\begin{vmatrix}\n",
    "1 & 2 & 3 \\\\\n",
    "4 & 5 & 6 \\\\\n",
    "7 & 8 & 9\n",
    "\\end{vmatrix}\n",
    "$$\n",
    "Calculamos su determinante:\n",
    "$$\n",
    "\\begin{align*}\n",
    "\\det(A) &= (1 \\cdot 5 \\cdot 9) + (2 \\cdot 6 \\cdot 7) + (3 \\cdot 4 \\cdot 8) \\\\\n",
    "&- (3 \\cdot 5 \\cdot 7) - (2 \\cdot 4 \\cdot 9) - (1 \\cdot 6 \\cdot 8) \\\\\n",
    "&= 45 + 84 + 96 - 105 - 72 - 48 \\\n",
    "&= 0\n",
    "\\end{align*}\n",
    "$$"
   ]
  },
  {
   "cell_type": "code",
   "execution_count": 41,
   "metadata": {},
   "outputs": [
    {
     "name": "stdout",
     "output_type": "stream",
     "text": [
      "-9.51619735392994e-16\n",
      "-0.0\n"
     ]
    }
   ],
   "source": [
    "matriz = np.array([[1, 2, 3], [4,5,6],[7,8,9]])\n",
    "determinante = np.linalg.det(matriz)\n",
    "print(determinante)\n",
    "print(determinante.round(5))"
   ]
  },
  {
   "cell_type": "markdown",
   "metadata": {},
   "source": [
    "**Ejercicio 2**\n",
    "\n",
    "Construir una función en Python que les permita calcular una determinante "
   ]
  },
  {
   "cell_type": "markdown",
   "metadata": {},
   "source": [
    "### 4.4. Inversa de una Matriz\n",
    "\n",
    "$$\\mathbf{A} \\cdot \\mathbf{A}^{-1} = \\mathbf{I}$$"
   ]
  },
  {
   "cell_type": "code",
   "execution_count": 61,
   "metadata": {},
   "outputs": [
    {
     "name": "stdout",
     "output_type": "stream",
     "text": [
      "[[1 2]\n",
      " [3 4]]\n",
      "[[-2.   1. ]\n",
      " [ 1.5 -0.5]]\n"
     ]
    }
   ],
   "source": [
    "matriz = np.array([[1, 2], [3, 4]])\n",
    "inversa = np.linalg.inv(matriz)\n",
    "print(matriz)\n",
    "\n",
    "print(inversa)"
   ]
  },
  {
   "cell_type": "markdown",
   "metadata": {},
   "source": [
    "### 4.5. Valores y Vectores Propios\n",
    "\n",
    "Para una matriz cuadrada $A$, un valor propio (o eigenvalor) $\\lambda$ (lambda) y su correspondiente vector propio (o eigenvector) $\\mathbf{v}$ no nulo satisfacen la ecuación:\n",
    "\n",
    "$$A\\mathbf{v} = \\lambda\\mathbf{v}$$\n",
    "\n",
    "En otras palabras, cuando la matriz $A$ se aplica al vector $\\mathbf{v}$, el resultado es el mismo vector multiplicado por un escalar $\\lambda$."
   ]
  },
  {
   "cell_type": "code",
   "execution_count": 75,
   "metadata": {},
   "outputs": [
    {
     "name": "stdout",
     "output_type": "stream",
     "text": [
      "valores propios : [-0.37228132  5.37228132]\n",
      " vectores propios: [[-0.82456484 -0.41597356]\n",
      " [ 0.56576746 -0.90937671]] \n"
     ]
    }
   ],
   "source": [
    "matriz = np.array([[1, 2], [3, 4]])\n",
    "valores_propios, vectores_propios = np.linalg.eig(matriz)\n",
    "print(\"valores propios : {0}\\n vectores propios: {1} \".format(valores_propios, vectores_propios ))"
   ]
  },
  {
   "cell_type": "markdown",
   "metadata": {},
   "source": [
    "**Interpretación Geométrica**\n",
    "Los vectores propios representan direcciones en las que la transformación lineal asociada a la matriz $A$ actúa como una simple dilatación o contracción. El valor propio correspondiente indica la magnitud de esta dilatación o contracción.\n",
    "\n",
    "\n",
    "### 4.6 Matriz identidad 3x3\n",
    "\n",
    "**Definición**\n",
    "La matriz identidad, denotada comúnmente como $I$ o $I_n$ (donde $n$ es el tamaño de la matriz), es una matriz cuadrada especial con unos (1) en la diagonal principal y ceros (0) en todas las demás posiciones."
   ]
  },
  {
   "cell_type": "code",
   "execution_count": 20,
   "metadata": {},
   "outputs": [
    {
     "name": "stdout",
     "output_type": "stream",
     "text": [
      "Matriz Identidad 3x3:\n",
      "[[1. 0. 0.]\n",
      " [0. 1. 0.]\n",
      " [0. 0. 1.]]\n"
     ]
    }
   ],
   "source": [
    "I3 = np.eye(3)\n",
    "print(\"Matriz Identidad 3x3:\")\n",
    "print(I3)"
   ]
  },
  {
   "cell_type": "markdown",
   "metadata": {},
   "source": [
    "\n",
    "## 5. Sistemas de Ecuaciones Lineales\n",
    "\n",
    "Para resolver $\\mathbf{A}\\mathbf{x} = \\mathbf{b}$:"
   ]
  },
  {
   "cell_type": "code",
   "execution_count": 76,
   "metadata": {},
   "outputs": [
    {
     "name": "stdout",
     "output_type": "stream",
     "text": [
      "[2. 3.]\n"
     ]
    }
   ],
   "source": [
    "A = np.array([[3, 1], [1, 2]])\n",
    "b = np.array([9, 8])\n",
    "solucion = np.linalg.solve(A, b)\n",
    "print(solucion)"
   ]
  },
  {
   "cell_type": "markdown",
   "metadata": {},
   "source": [
    "## 6. Descomposición en Valores Singulares (SVD)\n",
    "\n",
    "**Definición:**\n",
    "La Descomposición en Valores Singulares (SVD) es una factorización de una matriz real o compleja. Para una matriz $A$ de dimensiones $m \\times n$, la SVD es una factorización de la forma:\n",
    "\n",
    "\n",
    "$$\\mathbf{A} = \\mathbf{U}\\mathbf{\\Sigma}\\mathbf{V}^T$$\n",
    "\n",
    "donde:\n",
    "\n",
    "- $U$ es una matriz ortogonal $m \\times m$\n",
    "- $\\Sigma$ es una matriz diagonal rectangular $m \\times n$ con números reales no negativos en la diagonal\n",
    "- $V^T$ es la transpuesta de una matriz ortogonal $n \\times n$\n",
    "\n",
    "Los elementos diagonales de $\\Sigma$ son conocidos como los valores singulares de $A$."
   ]
  },
  {
   "cell_type": "code",
   "execution_count": 30,
   "metadata": {},
   "outputs": [
    {
     "name": "stdout",
     "output_type": "stream",
     "text": [
      "U: [[-0.2298477   0.88346102  0.40824829]\n",
      " [-0.52474482  0.24078249 -0.81649658]\n",
      " [-0.81964194 -0.40189603  0.40824829]]\n",
      "\n",
      " S: [9.52551809 0.51430058]\n",
      "\n",
      " Vt: [[-0.61962948 -0.78489445]\n",
      " [-0.78489445  0.61962948]] \n",
      "\n",
      "\n"
     ]
    }
   ],
   "source": [
    "matriz = np.array([[1, 2], [3, 4], [5, 6]])\n",
    "U, S, Vt = np.linalg.svd(matriz)\n",
    "print(\"U: {}\\n\\n S: {}\\n\\n Vt: {} \\n\\n\".format(U,S,Vt))"
   ]
  },
  {
   "cell_type": "markdown",
   "metadata": {},
   "source": [
    "**Aplicaciones:**\n",
    "\n",
    "- **Compresión de Datos:** Reduciendo el número de valores singulares, se puede aproximar una matriz con menos información.\n",
    "- **Reducción de Dimensionalidad:** Similar al Análisis de Componentes Principales (PCA), la SVD puede usarse para reducir la dimensionalidad de conjuntos de datos.\n",
    "- **Sistemas de Recomendación:** En el filtrado colaborativo, la SVD se utiliza para descubrir características latentes en los datos de usuario-ítem.\n",
    "- **Procesamiento de Señales:** Para eliminar ruido y compresión de señales.\n",
    "- **Reconocimiento Facial:** En el análisis de imágenes faciales para extracción de características.\n",
    "- **Recuperación de Información:** En la búsqueda semántica latente para mejorar la recuperación de documentos relevantes.\n",
    "- **Genómica:** En el análisis de datos de expresión génica.\n",
    "\n",
    "## 7. Normas\n",
    "\n",
    "Para un vector $\\mathbf{x}$:\n",
    "\n",
    "$$\\|\\mathbf{x}\\| = \\sqrt{\\sum_{i=1}^n |x_i|^2}$$"
   ]
  },
  {
   "cell_type": "code",
   "execution_count": 31,
   "metadata": {},
   "outputs": [
    {
     "name": "stdout",
     "output_type": "stream",
     "text": [
      "5.0\n"
     ]
    }
   ],
   "source": [
    "vector = np.array([3, 4])\n",
    "norma_vector = np.linalg.norm(vector)\n",
    "print(norma_vector)"
   ]
  },
  {
   "cell_type": "markdown",
   "metadata": {},
   "source": [
    "## 8. Ejemplo Práctico"
   ]
  },
  {
   "cell_type": "code",
   "execution_count": 81,
   "metadata": {},
   "outputs": [
    {
     "name": "stdout",
     "output_type": "stream",
     "text": [
      "Solución: x = 0.7857, y = 2.1429\n"
     ]
    }
   ],
   "source": [
    "import numpy as np\n",
    "\n",
    "# Sistema: \n",
    "#    2x + 3y = 8\n",
    "#    4x -  y = 1\n",
    "\n",
    "A = np.array([[2, 3], [4, -1]])\n",
    "b = np.array([8, 1])\n",
    "\n",
    "# Resolución\n",
    "x = np.linalg.solve(A, b)\n",
    "print(f\"Solución: x = {x[0]:.4f}, y = {x[1]:.4f}\")"
   ]
  },
  {
   "cell_type": "code",
   "execution_count": 83,
   "metadata": {},
   "outputs": [
    {
     "name": "stdout",
     "output_type": "stream",
     "text": [
      "Solución correcta: True\n"
     ]
    }
   ],
   "source": [
    "# Verificación\n",
    "verificacion = np.allclose(np.dot(A, x), b) # A x ~ b\n",
    "print(f\"Solución correcta: {verificacion}\") "
   ]
  },
  {
   "cell_type": "code",
   "execution_count": 84,
   "metadata": {},
   "outputs": [
    {
     "name": "stdout",
     "output_type": "stream",
     "text": [
      "Determinante de A: -14.00\n",
      "Inversa de A:\n",
      "[[ 0.07142857  0.21428571]\n",
      " [ 0.28571429 -0.14285714]]\n"
     ]
    }
   ],
   "source": [
    "# Determinante y inversa\n",
    "det_A = np.linalg.det(A)\n",
    "A_inv = np.linalg.inv(A)\n",
    "print(f\"Determinante de A: {det_A:.2f}\")\n",
    "print(\"Inversa de A:\")\n",
    "print(A_inv)"
   ]
  },
  {
   "cell_type": "code",
   "execution_count": 85,
   "metadata": {},
   "outputs": [
    {
     "name": "stdout",
     "output_type": "stream",
     "text": [
      "A * A^(-1) = I: True\n"
     ]
    }
   ],
   "source": [
    "# Verificar A * A^(-1) = I\n",
    "I = np.eye(2)\n",
    "verificacion_inv = np.allclose(np.dot(A, A_inv), I)\n",
    "print(f\"A * A^(-1) = I: {verificacion_inv}\")"
   ]
  },
  {
   "cell_type": "markdown",
   "metadata": {},
   "source": [
    "## 9. Conclusión\n",
    "\n",
    "NumPy y su módulo `linalg` ofrecen herramientas poderosas para álgebra lineal, facilitando cálculos complejos en física, ingeniería y ciencia de datos."
   ]
  }
 ],
 "metadata": {
  "kernelspec": {
   "display_name": "Python 3 (ipykernel)",
   "language": "python",
   "name": "python3"
  },
  "language_info": {
   "codemirror_mode": {
    "name": "ipython",
    "version": 3
   },
   "file_extension": ".py",
   "mimetype": "text/x-python",
   "name": "python",
   "nbconvert_exporter": "python",
   "pygments_lexer": "ipython3",
   "version": "3.8.10"
  }
 },
 "nbformat": 4,
 "nbformat_minor": 4
}
