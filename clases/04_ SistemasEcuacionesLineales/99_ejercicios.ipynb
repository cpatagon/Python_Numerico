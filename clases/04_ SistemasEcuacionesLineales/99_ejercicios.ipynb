{
 "cells": [
  {
   "cell_type": "markdown",
   "id": "3777d931",
   "metadata": {},
   "source": [
    "# Ejercicios Propuestos\n",
    "\n",
    "1. Resuelve el siguiente sistema usando eliminación Gaussiana:\n",
    "   \n",
    "   $$\n",
    "   \\begin{aligned}\n",
    "   3x + 2y - z &= 1 \\\\\n",
    "   2x - 2y + 4z &= -2 \\\\\n",
    "   -x + \\frac{1}{2}y - z &= 0\n",
    "   \\end{aligned}\n",
    "   $$\n",
    "\n",
    "   Pista: Comienza normalizando la primera ecuación dividiendo por 3.\n",
    "\n",
    "2. Implementa el método de Jacobi para resolver sistemas lineales. Pruébalo con el sistema del ejemplo práctico y compara los resultados con la eliminación Gaussiana.\n",
    "\n",
    "3. Investiga el concepto de \"pivoteo parcial\" en eliminación Gaussiana. ¿Cómo afecta a la estabilidad numérica? Modifica el código de eliminación Gaussiana para incluir pivoteo parcial.\n",
    "\n",
    "4. En un problema de análisis estructural, tienes un sistema de 1000 ecuaciones lineales que representa las fuerzas en una estructura compleja. ¿Qué método recomendarías para resolver este sistema y por qué? Considera aspectos como la eficiencia computacional y la precisión numérica.\n"
   ]
  }
 ],
 "metadata": {
  "kernelspec": {
   "display_name": "Python 3 (ipykernel)",
   "language": "python",
   "name": "python3"
  },
  "language_info": {
   "codemirror_mode": {
    "name": "ipython",
    "version": 3
   },
   "file_extension": ".py",
   "mimetype": "text/x-python",
   "name": "python",
   "nbconvert_exporter": "python",
   "pygments_lexer": "ipython3",
   "version": "3.8.10"
  }
 },
 "nbformat": 4,
 "nbformat_minor": 5
}
