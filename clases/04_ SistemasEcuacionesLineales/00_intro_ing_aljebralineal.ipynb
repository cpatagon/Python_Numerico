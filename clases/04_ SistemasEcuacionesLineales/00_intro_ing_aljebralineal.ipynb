{
 "cells": [
  {
   "cell_type": "markdown",
   "id": "34495b90",
   "metadata": {},
   "source": [
    "# Ecuaciones Algebraicas Lineales en Ingeniería\n",
    "\n",
    "## 1. Fundamentos\n",
    "\n",
    "Las ecuaciones algebraicas lineales son una herramienta fundamental en ingeniería debido a su capacidad para modelar y resolver una amplia gama de problemas prácticos. Su importancia radica en varios aspectos clave:\n",
    "\n",
    "### 1.1 Modelado de Sistemas Físicos\n",
    "\n",
    "En ingeniería, muchos sistemas físicos pueden ser descritos mediante ecuaciones lineales o linealizadas. Esto se debe a que:\n",
    "\n",
    "- Las leyes fundamentales de la física (como las leyes de Newton, las leyes de Kirchhoff, o las leyes de conservación) a menudo se expresan como relaciones lineales entre variables.\n",
    "- Incluso sistemas no lineales pueden ser aproximados por modelos lineales en ciertos rangos de operación, lo que simplifica enormemente su análisis.\n",
    "\n",
    "Por ejemplo, en un circuito eléctrico simple, la Ley de Ohm (V = IR) es una relación lineal entre voltaje, corriente y resistencia.\n",
    "\n",
    "### 1.2 Análisis de Sistemas Complejos\n",
    "\n",
    "Los sistemas de ecuaciones lineales permiten:\n",
    "\n",
    "- Descomponer problemas complejos en componentes más simples y manejables.\n",
    "- Analizar la interacción entre múltiples variables simultáneamente.\n",
    "\n",
    "Por ejemplo, en el análisis estructural, las fuerzas y desplazamientos en una estructura se pueden representar como un sistema de ecuaciones lineales.\n",
    "\n",
    "### 1.3 Conservación y Balance\n",
    "\n",
    "Las ecuaciones algebraicas lineales son particularmente útiles para expresar principios de conservación y balance, que son fundamentales en ingeniería:\n",
    "\n",
    "- Conservación de masa\n",
    "- Conservación de energía\n",
    "- Conservación de momentum\n",
    "- Balance de fuerzas\n",
    "\n",
    "Estas leyes generan ecuaciones que relacionan:\n",
    "\n",
    " - a) El comportamiento del sistema (variables de estado)\n",
    " - b) Las propiedades o características del sistema (parámetros)\n",
    " - c) Los estímulos externos o funciones forzadas (entradas)\n",
    "\n",
    "Por ejemplo, en un problema de flujo de fluidos, la ecuación de continuidad (conservación de masa) se puede expresar como un sistema de ecuaciones lineales que relaciona los flujos en diferentes puntos de un sistema.\n",
    "\n",
    "### 1.4 Optimización y Control\n",
    "\n",
    "Las ecuaciones lineales son la base de muchas técnicas de optimización y control en ingeniería:\n",
    "\n",
    "- Programación lineal para la optimización de recursos\n",
    "- Control de sistemas lineales en teoría de control\n",
    "- Estimación de estados en sistemas dinámicos\n",
    "\n",
    "Por ejemplo, en la optimización de la producción en una fábrica, las restricciones de recursos y objetivos se pueden expresar como un sistema de ecuaciones y desigualdades lineales.\n",
    "\n",
    "### 1.5 Aproximación y Discretización\n",
    "\n",
    "Muchos métodos numéricos en ingeniería se basan en la discretización de problemas continuos, lo que a menudo resulta en sistemas de ecuaciones lineales:\n",
    "\n",
    "- El método de elementos finitos para análisis estructural\n",
    "- Diferencias finitas para problemas de transferencia de calor\n",
    "- Métodos de volúmenes finitos en dinámica de fluidos computacional\n",
    "\n",
    "Estos métodos transforman ecuaciones diferenciales parciales en grandes sistemas de ecuaciones algebraicas lineales.\n",
    "\n",
    "### 1.6 Análisis de Datos y Regresión\n",
    "\n",
    "En ingeniería, frecuentemente se necesita analizar datos experimentales y ajustar modelos a estos datos:\n",
    "\n",
    "- La regresión lineal, una técnica fundamental en el análisis de datos, se basa en resolver un sistema de ecuaciones lineales.\n",
    "- Técnicas más avanzadas como el análisis de componentes principales (PCA) también se fundamentan en álgebra lineal.\n",
    "\n",
    "Por ejemplo, en el control de calidad, la regresión lineal puede usarse para modelar la relación entre variables de proceso y la calidad del producto.\n",
    "\n",
    "En resumen, las ecuaciones algebraicas lineales proporcionan un marco matemático poderoso y versátil para modelar, analizar y resolver una amplia gama de problemas en ingeniería. Su simplicidad relativa, combinada con su capacidad para representar sistemas complejos, las hace indispensables en prácticamente todas las ramas de la ingeniería.\n",
    "\n",
    "## 2. Ejemplos de Aplicación\n",
    "\n",
    "### 2.1 Serie de Reactores Químicos\n",
    "- Se modela la masa de sustancias químicas en cada reactor.\n",
    "- Propiedades del sistema: \n",
    "  - Reacción característica\n",
    "  - Tamaños de reactores\n",
    "  - Velocidades de flujo\n",
    "- Funciones forzadas: \n",
    "  - Velocidades de suministro de sustancias químicas\n",
    "\n",
    "### 2.2 Sistemas Estructurales\n",
    "- Se modelan las fuerzas y desplazamientos en estructuras.\n",
    "- Propiedades del sistema:\n",
    "  - Rigidez de los elementos\n",
    "  - Geometría de la estructura\n",
    "- Funciones forzadas:\n",
    "  - Cargas aplicadas\n",
    "\n",
    "## 3. Sistemas Multicomponentes\n",
    "- Resultan en sistemas de ecuaciones que deben resolverse simultáneamente.\n",
    "- Las ecuaciones están interrelacionadas debido a la influencia mutua entre las partes del sistema.\n",
    "\n",
    "## 4. Forma Matemática\n",
    "\n",
    "### 4.1 Representación Estándar\n",
    "Las ecuaciones suelen tener forma algebraica y lineal:\n",
    "\n",
    "$$\n",
    "\\begin{cases}\n",
    "a_{11} x_1 + a_{12} x_2 + \\cdots + a_{1n} x_n = b_1 \\\\\n",
    "a_{21} x_1 + a_{22} x_2 + \\cdots + a_{2n} x_n = b_2 \\\\\n",
    "\\vdots \\\\\n",
    "a_{n1} x_1 + a_{n2} x_2 + \\cdots + a_{nn} x_n = b_n\n",
    "\\end{cases}\n",
    "$$\n",
    "\n",
    "Donde:\n",
    "- $x_i$: magnitudes de las respuestas de los componentes individuales\n",
    "- $a_{ij}$: propiedades y características de las interacciones entre componentes\n",
    "- $b_i$: funciones forzadas que actúan sobre el sistema\n",
    "\n",
    "### 4.2 Representación Matricial\n",
    "Alternativamente, se puede representar en forma matricial:\n",
    "\n",
    "$$\n",
    "\\begin{bmatrix}\n",
    "a_{11} & a_{12} & \\cdots & a_{1n} \\\\\n",
    "a_{21} & a_{22} & \\cdots & a_{2n} \\\\\n",
    "\\vdots & \\vdots & \\ddots & \\vdots \\\\\n",
    "a_{n1} & a_{n2} & \\cdots & a_{nn}\n",
    "\\end{bmatrix}\n",
    "\\begin{bmatrix}\n",
    "x_1 \\\\\n",
    "x_2 \\\\\n",
    "\\vdots \\\\\n",
    "x_n\n",
    "\\end{bmatrix} =\n",
    "\\begin{bmatrix}\n",
    "b_1 \\\\\n",
    "b_2 \\\\\n",
    "\\vdots \\\\\n",
    "b_n\n",
    "\\end{bmatrix}\n",
    "$$\n",
    "\n",
    "### 4.3 Forma Compacta\n",
    "De forma más concisa:\n",
    "\n",
    "$$\n",
    "A\\mathbf{x} = \\mathbf{b}\n",
    "$$\n",
    "\n",
    "Donde:\n",
    "- $A$: matriz de coeficientes\n",
    "- $\\mathbf{x}$: vector de incógnitas\n",
    "- $\\mathbf{b}$: vector de términos independientes\n",
    "\n",
    "## 5. Tipos de Modelos\n",
    "\n",
    "### 5.1 Variables Agrupadas (Macro)\n",
    "- Involucran componentes finitos relacionados.\n",
    "- Ejemplos: \n",
    "  - Estructuras\n",
    "  - Reactores\n",
    "  - Circuitos eléctricos\n",
    "- Características:\n",
    "  - Ofrecen poco o ningún detalle espacial.\n",
    "  - Adecuados para análisis de sistemas a gran escala.\n",
    "\n",
    "### 5.2 Variables Distribuidas (Micro)\n",
    "- Describen detalles espaciales de los sistemas de forma continua o semicontinua.\n",
    "- Ejemplo: distribución de sustancias químicas a lo largo de un reactor.\n",
    "- Características:\n",
    "  - Se basan en ecuaciones diferenciales.\n",
    "  - Se discretizan en sistemas de ecuaciones algebraicas.\n",
    "  - Proporcionan un análisis más detallado del comportamiento del sistema.\n",
    "\n",
    "## 6. Aplicaciones Adicionales\n",
    "- Análisis de regresión\n",
    "  - Ajuste de datos experimentales a modelos teóricos\n",
    "- Interpolación por trazadores (splines)\n",
    "  - Generación de curvas suaves a partir de puntos discretos\n",
    "- Análisis de circuitos eléctricos\n",
    "- Balances de masa y energía en procesos químicos\n",
    "- Análisis de esfuerzos en estructuras\n",
    "\n",
    "## 7. Métodos de Resolución\n",
    "- Métodos directos:\n",
    "  - Eliminación Gaussiana\n",
    "  - Descomposición LU\n",
    "- Métodos iterativos:\n",
    "  - Jacobi\n",
    "  - Gauss-Seidel\n",
    "- Métodos para sistemas de gran escala:\n",
    "  - Métodos de gradiente conjugado\n",
    "  - Métodos multimalla\n",
    "\n",
    "## Conclusión\n",
    "Las ecuaciones algebraicas lineales son fundamentales en ingeniería para:\n",
    "\n",
    "- modelar y analizar sistemas complejos, tanto a escala macro como micro. \n",
    "- Su resolución es crucial para entender y predecir el comportamiento de diversos sistemas en ingeniería química, eléctrica, estructural y otras áreas. \n",
    "- La capacidad de formular y resolver estos sistemas de ecuaciones es una habilidad esencial para los ingenieros.\n"
   ]
  },
  {
   "cell_type": "markdown",
   "id": "df96a096",
   "metadata": {},
   "source": [
    "## Escritura en Numpy"
   ]
  },
  {
   "cell_type": "code",
   "execution_count": 1,
   "id": "bf5562ed",
   "metadata": {},
   "outputs": [
    {
     "name": "stdout",
     "output_type": "stream",
     "text": [
      "Matriz creada a partir de lista de listas:\n",
      "[[1 2 3]\n",
      " [4 5 6]\n",
      " [7 8 9]]\n"
     ]
    }
   ],
   "source": [
    "import numpy as np\n",
    "\n",
    "# Ejemplo 1: Crear una matriz a partir de una lista de listas\n",
    "matriz_1 = np.array([[1, 2, 3],\n",
    "                     [4, 5, 6],\n",
    "                     [7, 8, 9]])\n",
    "print(\"Matriz creada a partir de lista de listas:\")\n",
    "print(matriz_1)\n",
    "\n"
   ]
  },
  {
   "cell_type": "code",
   "execution_count": 14,
   "id": "2ad8e32a",
   "metadata": {},
   "outputs": [
    {
     "name": "stdout",
     "output_type": "stream",
     "text": [
      "\n",
      "Matriz creada con arange y reshape:\n",
      "[[0 1 2]\n",
      " [3 4 5]\n",
      " [6 7 8]]\n"
     ]
    }
   ],
   "source": [
    "# Ejemplo 2: Crear una matriz con un rango de números\n",
    "matriz_2 = np.arange(9).reshape(3, 3)\n",
    "print(\"\\nMatriz creada con arange y reshape:\")\n",
    "print(matriz_2)\n",
    "\n"
   ]
  },
  {
   "cell_type": "code",
   "execution_count": 16,
   "id": "7262eec3",
   "metadata": {},
   "outputs": [
    {
     "name": "stdout",
     "output_type": "stream",
     "text": [
      "\n",
      "Matriz con valores aleatorios:\n",
      "[[0.23256108 0.04871027 0.12974457 0.72542239]\n",
      " [0.70269082 0.51714925 0.36001498 0.78796114]\n",
      " [0.92336001 0.62106929 0.44900996 0.71700446]]\n"
     ]
    }
   ],
   "source": [
    "# Ejemplo 3: Crear una matriz con valores aleatorios\n",
    "matriz_3 = np.random.rand(3, 4)\n",
    "print(\"\\nMatriz con valores aleatorios:\")\n",
    "print(matriz_3)"
   ]
  },
  {
   "cell_type": "code",
   "execution_count": 24,
   "id": "0f9d4281",
   "metadata": {},
   "outputs": [
    {
     "name": "stdout",
     "output_type": "stream",
     "text": [
      "\n",
      "Matriz después de modificaciones específicas:\n",
      "[[1. 0. 7.]\n",
      " [4. 5. 8.]\n",
      " [9. 8. 9.]]\n"
     ]
    }
   ],
   "source": [
    "# Ejemplo 4: Modificar elementos específicos\n",
    "matriz_4 = np.zeros((3, 3)) # matriz de 0 de 3x3\n",
    "matriz_4[0, 0] = 1  # Modificar un elemento específico\n",
    "matriz_4[1] = [4, 5, 6]  # Modificar una fila completa\n",
    "matriz_4[:, 2] = [7, 8, 9]  # Modificar una columna completa\n",
    "matriz_4[2, 0] = 9  # Modificar una columna completa\n",
    "matriz_4[2, 1] = 8  # Modificar una columna completa\n",
    "print(\"\\nMatriz después de modificaciones específicas:\")\n",
    "print(matriz_4)\n",
    "\n"
   ]
  },
  {
   "cell_type": "code",
   "execution_count": 19,
   "id": "62da2ba8",
   "metadata": {},
   "outputs": [
    {
     "data": {
      "text/plain": [
       "array([[0., 0., 0.],\n",
       "       [0., 0., 0.],\n",
       "       [0., 0., 0.]])"
      ]
     },
     "execution_count": 19,
     "metadata": {},
     "output_type": "execute_result"
    }
   ],
   "source": [
    "np.zeros((3, 3))"
   ]
  },
  {
   "cell_type": "code",
   "execution_count": 5,
   "id": "d185969e",
   "metadata": {},
   "outputs": [
    {
     "name": "stdout",
     "output_type": "stream",
     "text": [
      "\n",
      "Matriz después de multiplicación elemento a elemento:\n",
      "[[2 4]\n",
      " [6 8]]\n"
     ]
    }
   ],
   "source": [
    "# Ejemplo 5: Operaciones elemento a elemento\n",
    "matriz_5 = np.array([[1, 2], [3, 4]])\n",
    "matriz_5 *= 2  # Multiplicar cada elemento por 2\n",
    "print(\"\\nMatriz después de multiplicación elemento a elemento:\")\n",
    "print(matriz_5)\n",
    "\n"
   ]
  },
  {
   "cell_type": "code",
   "execution_count": 26,
   "id": "6c9464a4",
   "metadata": {},
   "outputs": [
    {
     "name": "stdout",
     "output_type": "stream",
     "text": [
      "\n",
      "Matrices concatenadas verticalmente:\n",
      "[[1 2]\n",
      " [3 4]\n",
      " [5 6]\n",
      " [7 8]]\n"
     ]
    }
   ],
   "source": [
    "# Ejemplo 6: Concatenar matrices\n",
    "matriz_6a = np.array([[1, 2], [3, 4]])\n",
    "matriz_6b = np.array([[5, 6], [7, 8]])\n",
    "matriz_6c = np.concatenate((matriz_6a, matriz_6b), axis=0)  # Concatenar verticalmente\n",
    "print(\"\\nMatrices concatenadas verticalmente:\")\n",
    "print(matriz_6c)\n",
    "\n"
   ]
  },
  {
   "cell_type": "code",
   "execution_count": 27,
   "id": "444a047f",
   "metadata": {},
   "outputs": [
    {
     "name": "stdout",
     "output_type": "stream",
     "text": [
      "\n",
      "Matrices concatenadas verticalmente:\n",
      "[[1 2 5 6]\n",
      " [3 4 7 8]]\n"
     ]
    }
   ],
   "source": [
    "# Ejemplo 6: Concatenar matrices\n",
    "matriz_6a = np.array([[1, 2], [3, 4]])\n",
    "matriz_6b = np.array([[5, 6], [7, 8]])\n",
    "matriz_6c = np.concatenate((matriz_6a, matriz_6b), axis=1)  # Concatenar horizontalmente \n",
    "print(\"\\nMatrices concatenadas verticalmente:\")\n",
    "print(matriz_6c)"
   ]
  },
  {
   "cell_type": "code",
   "execution_count": 7,
   "id": "6d458a37",
   "metadata": {},
   "outputs": [
    {
     "name": "stdout",
     "output_type": "stream",
     "text": [
      "\n",
      "Matriz original:\n",
      "[[1 2 3]\n",
      " [4 5 6]]\n",
      "Matriz transpuesta:\n",
      "[[1 4]\n",
      " [2 5]\n",
      " [3 6]]\n"
     ]
    }
   ],
   "source": [
    "# Ejemplo 7: Transponer una matriz\n",
    "matriz_7 = np.array([[1, 2, 3], [4, 5, 6]])\n",
    "matriz_7_transpuesta = matriz_7.T\n",
    "print(\"\\nMatriz original:\")\n",
    "print(matriz_7)\n",
    "print(\"Matriz transpuesta:\")\n",
    "print(matriz_7_transpuesta)\n",
    "\n"
   ]
  },
  {
   "cell_type": "code",
   "execution_count": 10,
   "id": "a87600cc",
   "metadata": {},
   "outputs": [
    {
     "name": "stdout",
     "output_type": "stream",
     "text": [
      "\n",
      "Matriz creada con una función personalizada:\n",
      "[[0 1 2 3 4 5]\n",
      " [1 2 3 4 5 6]\n",
      " [2 3 4 5 6 7]]\n"
     ]
    }
   ],
   "source": [
    "# Ejemplo 8: Crear una matriz con una función personalizada\n",
    "def func(i, j):\n",
    "    return i + j\n",
    "\n",
    "matriz_8 = np.fromfunction(func, (3, 6), dtype=int)\n",
    "print(\"\\nMatriz creada con una función personalizada:\")\n",
    "print(matriz_8)"
   ]
  },
  {
   "cell_type": "code",
   "execution_count": 11,
   "id": "8ceff7ef",
   "metadata": {},
   "outputs": [
    {
     "name": "stdout",
     "output_type": "stream",
     "text": [
      "Matriz 2D de unos:\n",
      "[[1. 1. 1. 1.]\n",
      " [1. 1. 1. 1.]\n",
      " [1. 1. 1. 1.]]\n",
      "\n",
      "Tipo de datos: float64\n"
     ]
    }
   ],
   "source": [
    "# Ejemplo 1: Crear una matriz 2D de unos\n",
    "filas = 3\n",
    "columnas = 4\n",
    "matriz_2d = np.ones((filas, columnas))\n",
    "print(\"Matriz 2D de unos:\")\n",
    "print(matriz_2d)\n",
    "print(\"\\nTipo de datos:\", matriz_2d.dtype)"
   ]
  },
  {
   "cell_type": "code",
   "execution_count": 12,
   "id": "80653411",
   "metadata": {},
   "outputs": [
    {
     "name": "stdout",
     "output_type": "stream",
     "text": [
      "\n",
      "Matriz de unos con la misma forma que otra matriz:\n",
      "[[1 1 1]\n",
      " [1 1 1]]\n"
     ]
    }
   ],
   "source": [
    "# Ejemplo 5: Crear una matriz de unos con la misma forma que otra matriz\n",
    "otra_matriz = np.array([[1, 2, 3], [4, 5, 6]])\n",
    "matriz_unos_misma_forma = np.ones_like(otra_matriz)\n",
    "print(\"\\nMatriz de unos con la misma forma que otra matriz:\")\n",
    "print(matriz_unos_misma_forma)\n"
   ]
  },
  {
   "cell_type": "code",
   "execution_count": 28,
   "id": "71f26e06",
   "metadata": {},
   "outputs": [
    {
     "name": "stdout",
     "output_type": "stream",
     "text": [
      "Solución:\n",
      "Q1 = 40.00\n",
      "Q2 = 60.00\n",
      "Q3 = 0.00\n"
     ]
    }
   ],
   "source": [
    "import numpy as np\n",
    "import matplotlib.pyplot as plt\n",
    "\n",
    "# Definir el sistema de ecuaciones\n",
    "# Q1 + Q2 = 100\n",
    "# 2Q1 + Q3 = 80\n",
    "# Q2 + 2Q3 = 60\n",
    "\n",
    "# Matriz de coeficientes\n",
    "A = np.array([[1, 1, 0],\n",
    "              [2, 0, 1],\n",
    "              [0, 1, 2]])\n",
    "\n",
    "# Vector de términos independientes\n",
    "b = np.array([100, 80, 60])\n",
    "\n",
    "# Resolver el sistema de ecuaciones\n",
    "Q = np.linalg.solve(A, b)\n",
    "\n",
    "print(\"Solución:\")\n",
    "print(f\"Q1 = {Q[0]:.2f}\")\n",
    "print(f\"Q2 = {Q[1]:.2f}\")\n",
    "print(f\"Q3 = {Q[2]:.2f}\")"
   ]
  },
  {
   "cell_type": "code",
   "execution_count": 29,
   "id": "b0cc337c",
   "metadata": {},
   "outputs": [
    {
     "data": {
      "image/png": "[encoded data removed]",
      "text/plain": [
       "<Figure size 1000x600 with 1 Axes>"
      ]
     },
     "metadata": {},
     "output_type": "display_data"
    }
   ],
   "source": [
    "# Visualización\n",
    "plt.figure(figsize=(10, 6))\n",
    "\n",
    "# Dibujar las tuberías\n",
    "plt.plot([0, 1], [1, 1], 'b-', linewidth=3, label='Q1')\n",
    "plt.plot([0, 1], [0, 0], 'g-', linewidth=3, label='Q2')\n",
    "plt.plot([1, 2], [0.5, 0.5], 'r-', linewidth=3, label='Q3')\n",
    "\n",
    "# Añadir nodos\n",
    "plt.plot(0, 0.5, 'ko', markersize=15)\n",
    "plt.plot(1, 0.5, 'ko', markersize=15)\n",
    "plt.plot(2, 0.5, 'ko', markersize=15)\n",
    "\n",
    "# Añadir etiquetas de flujo\n",
    "plt.text(0.5, 1.1, f'Q1 = {Q[0]:.2f}', ha='center')\n",
    "plt.text(0.5, -0.1, f'Q2 = {Q[1]:.2f}', ha='center')\n",
    "plt.text(1.5, 0.6, f'Q3 = {Q[2]:.2f}', ha='center')\n",
    "\n",
    "# Configurar el gráfico\n",
    "plt.title('Sistema de Tuberías')\n",
    "plt.xlabel('Distancia')\n",
    "plt.ylabel('Altura')\n",
    "plt.legend()\n",
    "plt.axis('equal')\n",
    "plt.axis('off')\n",
    "\n",
    "plt.tight_layout()\n",
    "plt.show()\n"
   ]
  },
  {
   "cell_type": "code",
   "execution_count": null,
   "id": "e997c5e8",
   "metadata": {},
   "outputs": [],
   "source": []
  }
 ],
 "metadata": {
  "kernelspec": {
   "display_name": "Python 3 (ipykernel)",
   "language": "python",
   "name": "python3"
  },
  "language_info": {
   "codemirror_mode": {
    "name": "ipython",
    "version": 3
   },
   "file_extension": ".py",
   "mimetype": "text/x-python",
   "name": "python",
   "nbconvert_exporter": "python",
   "pygments_lexer": "ipython3",
   "version": "3.8.10"
  }
 },
 "nbformat": 4,
 "nbformat_minor": 5
}
