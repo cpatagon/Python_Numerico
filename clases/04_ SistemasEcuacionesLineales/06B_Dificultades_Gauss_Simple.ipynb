{
 "cells": [
  {
   "cell_type": "markdown",
   "id": "c51df6d9",
   "metadata": {},
   "source": [
    "# Dificultades en el Método de Eliminación de Gauss Simple\n",
    "\n",
    "El método de eliminación de Gauss simple, aunque útil para resolver muchos sistemas de ecuaciones lineales, presenta algunas dificultades que deben ser consideradas al implementarlo, especialmente en programas de cómputo generales. A continuación, se detallan las principales dificultades:\n",
    "\n",
    "## 1. División entre cero\n",
    "\n",
    "### Problema:\n",
    "Durante las fases de eliminación y sustitución hacia atrás, puede ocurrir una división entre cero o un número muy cercano a cero.\n",
    "\n",
    "### Ejemplo:\n",
    "En el sistema:\n",
    "```\n",
    "0x₁ + 2x₂ + 3x₃ = 8\n",
    "4x₁ + 6x₂ + 7x₃ = -3\n",
    "2x₁ + x₂ + 6x₃ = 5\n",
    "```\n",
    "La normalización del primer renglón implicaría una división por cero (a₁₁ = 0).\n",
    "\n",
    "### Solución:\n",
    "La técnica de pivoteo se ha desarrollado para evitar parcialmente estos problemas.\n",
    "\n",
    "#### Ejemplo:\n",
    "\n",
    "Consideremos el sistema del ejemplo dado:\n",
    "\n",
    "```\n",
    "0x₁ + 2x₂ + 3x₃ = 8\n",
    "4x₁ + 6x₂ + 7x₃ = -3\n",
    "2x₁ + x₂ + 6x₃ = 5\n",
    "```\n",
    "\n",
    "Con pivoteo:\n",
    "\n",
    "1. Se examina la primera columna: el mayor valor absoluto es 4.\n",
    "2. Se intercambia la primera fila con la segunda:\n",
    "\n",
    "```\n",
    "4x₁ + 6x₂ + 7x₃ = -3\n",
    "0x₁ + 2x₂ + 3x₃ = 8\n",
    "2x₁ + x₂ + 6x₃ = 5\n",
    "```\n",
    "\n",
    "3. Ahora se puede proceder con la eliminación sin riesgo de división por cero.\n",
    "\n",
    "\n",
    "## 2. Errores de redondeo\n",
    "\n",
    "### Problema:\n",
    "Debido a que las computadoras manejan un número limitado de cifras significativas, pueden ocurrir errores de redondeo que se propagan y amplifican en sistemas grandes.\n",
    "\n",
    "### Ejemplo:\n",
    "En el ejemplo 9.5 del texto (no mostrado aquí), usando 6 cifras significativas, se obtuvo un error relativo de -0.00043% en x₃.\n",
    "\n",
    "### Consideraciones:\n",
    "- Los errores de redondeo son especialmente problemáticos en sistemas grandes (≥100 ecuaciones).\n",
    "- Siempre se deben sustituir los resultados en las ecuaciones originales para verificar errores sustanciales.\n",
    "\n",
    "## 3. Sistemas mal condicionados\n",
    "\n",
    "### Problema:\n",
    "En sistemas mal condicionados, pequeños cambios en los coeficientes pueden generar grandes cambios en la solución.\n",
    "\n",
    "### Ejemplo:\n",
    "Sistema original:\n",
    "```\n",
    "x₁ + 2x₂ = 10\n",
    "1.1x₁ + 2x₂ = 10.4\n",
    "```\n",
    "Solución: x₁ = 4, x₂ = 3\n",
    "\n",
    "Sistema modificado (cambio ligero en a₂₁):\n",
    "```\n",
    "x₁ + 2x₂ = 10\n",
    "1.05x₁ + 2x₂ = 10.4\n",
    "```\n",
    "Solución: x₁ = 8, x₂ = 1\n",
    "\n",
    "### Características:\n",
    "- El determinante del sistema es cercano a cero.\n",
    "- Gráficamente, las líneas que representan las ecuaciones tienen pendientes muy similares.\n",
    "- La sustitución de los resultados en las ecuaciones originales puede no revelar el problema.\n",
    "\n",
    "### Evaluación:\n",
    "- Escalar las ecuaciones para que el elemento máximo en cada renglón sea 1 puede ayudar a evaluar la condición del sistema.\n",
    "- Modificar ligeramente los coeficientes y resolver de nuevo puede revelar si el sistema está mal condicionado.\n",
    "\n",
    "## 4. Sistemas singulares\n",
    "\n",
    "### Problema:\n",
    "Ocurre cuando dos o más ecuaciones son idénticas o linealmente dependientes.\n",
    "\n",
    "### Características:\n",
    "- El determinante del sistema es exactamente cero.\n",
    "- Se pierde un grado de libertad, resultando en n-1 ecuaciones con n incógnitas.\n",
    "\n",
    "### Detección:\n",
    "- Durante la eliminación gaussiana, si se crea un cero en la diagonal, el sistema es singular.\n",
    "- El cálculo puede terminarse inmediatamente si se detecta esta condición.\n",
    "\n",
    "## Conclusión\n",
    "\n",
    "Aunque estas dificultades existen, la mayoría de las ecuaciones algebraicas lineales obtenidas de problemas de ingeniería son naturalmente bien condicionadas. Además, técnicas como el pivoteo y el escalamiento pueden ayudar a mitigar algunos de estos problemas. Es crucial estar consciente de estas dificultades al implementar y utilizar el método de eliminación de Gauss simple, especialmente en sistemas grandes o en aplicaciones críticas."
   ]
  },
  {
   "cell_type": "code",
   "execution_count": 6,
   "id": "0830d4eb",
   "metadata": {},
   "outputs": [],
   "source": [
    "import numpy as np\n",
    "from tabulate import tabulate\n",
    "\n",
    "def print_matrix(matrix, precision=4):\n",
    "    \"\"\"\n",
    "    Imprime una matriz en formato algebraico usando tabulate.\n",
    "    \n",
    "    :param matrix: Una matriz NumPy o una lista de listas.\n",
    "    :param precision: Número de decimales a mostrar (por defecto 4).\n",
    "    \"\"\"\n",
    "    if isinstance(matrix, list):\n",
    "        matrix = np.array(matrix)\n",
    "    \n",
    "    # Formatear cada elemento de la matriz\n",
    "    formatted_matrix = [[f\"{x:.{precision}f}\" for x in row] for row in matrix]\n",
    "    \n",
    "    # Imprimir la matriz usando tabulate\n",
    "    print(tabulate(formatted_matrix, tablefmt=\"fancy_grid\", stralign=\"center\"))"
   ]
  },
  {
   "cell_type": "code",
   "execution_count": 7,
   "id": "a46cf767",
   "metadata": {},
   "outputs": [],
   "source": [
    "import numpy as np\n",
    "\n",
    "def gauss_elimination(A, b):\n",
    "    n = len(b)\n",
    "    # Crear una matriz aumentada\n",
    "    Ab = np.column_stack((A, b))\n",
    "\n",
    "    for i in range(n):\n",
    "        # Pivoteo parcial\n",
    "        max_element = abs(Ab[i:, i]).argmax() + i\n",
    "        if i != max_element:\n",
    "            Ab[i], Ab[max_element] = Ab[max_element], Ab[i].copy()\n",
    "\n",
    "        # Hacer el elemento diagonal igual a 1\n",
    "        Ab[i] = Ab[i] / Ab[i, i]\n",
    "\n",
    "        # Hacer ceros debajo del elemento diagonal\n",
    "        for j in range(i + 1, n):\n",
    "            Ab[j] -= Ab[j, i] * Ab[i]\n",
    "\n",
    "    # Sustitución hacia atrás\n",
    "    x = np.zeros(n)\n",
    "    for i in range(n - 1, -1, -1):\n",
    "        x[i] = Ab[i, -1] - np.dot(Ab[i, i+1:n], x[i+1:])\n",
    "\n",
    "    return x"
   ]
  },
  {
   "cell_type": "code",
   "execution_count": 17,
   "id": "bd90de71",
   "metadata": {},
   "outputs": [
    {
     "name": "stdout",
     "output_type": "stream",
     "text": [
      "Ejemplo 1: División por cero\n",
      "Solución: [-5.43181818  0.04545455  2.63636364]\n",
      "Ejemplo 1: División por cero\n",
      "Solución: [ 4.06818182 -0.95454545 -0.36363636]\n",
      "Ejemplo 1: División por cero\n",
      "Solución: [-1.93181818  3.04545455 -0.36363636]\n"
     ]
    },
    {
     "data": {
      "text/plain": [
       "array([[4., 6., 7.],\n",
       "       [2., 1., 6.],\n",
       "       [0., 2., 3.]])"
      ]
     },
     "execution_count": 17,
     "metadata": {},
     "output_type": "execute_result"
    }
   ],
   "source": [
    "# Ejemplo 1: División por cero\n",
    "print(\"Ejemplo 1: División por cero\")\n",
    "A1 = np.array([[0, 2, 3], [4, 6, 7], [2, 1, 6]], dtype=float)\n",
    "b1 = np.array([8, -3, 5], dtype=float)\n",
    "\n",
    "try:\n",
    "    x1 = gauss_elimination(A1, b1)\n",
    "    print(\"Solución:\", x1)\n",
    "except Exception as e:\n",
    "    print(\"Error:\", str(e))\n",
    "    \n",
    "# Ejemplo 1: División por cero\n",
    "print(\"Ejemplo 1: División por cero\")\n",
    "A1 = np.array([[4, 6, 7], [0, 2, 3],  [2, 1, 6]], dtype=float)\n",
    "b1 = np.array([8, -3, 5], dtype=float)\n",
    "\n",
    "try:\n",
    "    x1 = gauss_elimination(A1, b1)\n",
    "    print(\"Solución:\", x1)\n",
    "except Exception as e:\n",
    "    print(\"Error:\", str(e))\n",
    "\n",
    "    # Ejemplo 1: División por cero\n",
    "print(\"Ejemplo 1: División por cero\")\n",
    "A1 = np.array([[4, 6, 7],   [2, 1, 6], [0, 2, 3]], dtype=float)\n",
    "b1 = np.array([8, -3, 5], dtype=float)\n",
    "\n",
    "try:\n",
    "    x1 = gauss_elimination(A1, b1)\n",
    "    print(\"Solución:\", x1)\n",
    "except Exception as e:\n",
    "    print(\"Error:\", str(e))\n",
    "    \n",
    "A1"
   ]
  },
  {
   "cell_type": "code",
   "execution_count": 11,
   "id": "1fac8e06",
   "metadata": {},
   "outputs": [
    {
     "name": "stdout",
     "output_type": "stream",
     "text": [
      "\n",
      "Ejemplo 2: Errores de redondeo\n",
      "Solución: [1. 1. 1.]\n",
      "Error relativo: 0.0\n"
     ]
    }
   ],
   "source": [
    "# Ejemplo 2: Errores de redondeo\n",
    "print(\"\\nEjemplo 2: Errores de redondeo\")\n",
    "A2 = np.array([[1, 1, 1], [1, 1, 1.0001], [1, 1.0001, 1]], dtype=float)\n",
    "b2 = np.array([3, 3.0001, 3.0001], dtype=float)\n",
    "x2 = gauss_elimination(A2, b2)\n",
    "print(\"Solución:\", x2)\n",
    "print(\"Error relativo:\", np.linalg.norm(np.dot(A2, x2) - b2) / np.linalg.norm(b2))\n"
   ]
  },
  {
   "cell_type": "code",
   "execution_count": 18,
   "id": "ba246068",
   "metadata": {},
   "outputs": [
    {
     "name": "stdout",
     "output_type": "stream",
     "text": [
      "\n",
      "Ejemplo 3: Sistema mal condicionado\n",
      "Solución: [4. 3.]\n"
     ]
    }
   ],
   "source": [
    "# Ejemplo 3: Sistema mal condicionado\n",
    "print(\"\\nEjemplo 3: Sistema mal condicionado\")\n",
    "A3 = np.array([[1, 2], [1.1, 2]], dtype=float)\n",
    "b3 = np.array([10, 10.4], dtype=float)\n",
    "\n",
    "x3 = gauss_elimination(A3, b3)\n",
    "print(\"Solución:\", x3)"
   ]
  },
  {
   "cell_type": "code",
   "execution_count": 19,
   "id": "75c6e69d",
   "metadata": {},
   "outputs": [
    {
     "name": "stdout",
     "output_type": "stream",
     "text": [
      "Solución con pequeña modificación: [8. 1.]\n"
     ]
    }
   ],
   "source": [
    "# Pequeña modificación\n",
    "A3_mod = np.array([[1, 2], [1.05, 2]], dtype=float)\n",
    "x3_mod = gauss_elimination(A3_mod, b3)\n",
    "print(\"Solución con pequeña modificación:\", x3_mod)"
   ]
  },
  {
   "cell_type": "code",
   "execution_count": 20,
   "id": "81e88b86",
   "metadata": {},
   "outputs": [
    {
     "name": "stdout",
     "output_type": "stream",
     "text": [
      "\n",
      "Ejemplo 4: Detección de sistema singular\n",
      "El sistema es singular\n",
      "\n",
      "Ejemplo de escalamiento:\n",
      "Matriz original:\n",
      "[[1.  2. ]\n",
      " [1.1 2. ]]\n",
      "Matriz escalada:\n",
      "[[0.5  1.  ]\n",
      " [0.55 1.  ]]\n"
     ]
    }
   ],
   "source": [
    "# Ejemplo 4: Detección de sistema singular\n",
    "print(\"\\nEjemplo 4: Detección de sistema singular\")\n",
    "A4 = np.array([[1, 2, 3], [2, 4, 6], [1, 2, 3]], dtype=float)\n",
    "b4 = np.array([6, 12, 6], dtype=float)\n",
    "\n",
    "def is_singular(A):\n",
    "    return np.linalg.det(A) == 0\n",
    "\n",
    "if is_singular(A4):\n",
    "    print(\"El sistema es singular\")\n",
    "else:\n",
    "    try:\n",
    "        x4 = gauss_elimination(A4, b4)\n",
    "        print(\"Solución:\", x4)\n",
    "    except Exception as e:\n",
    "        print(\"Error:\", str(e))\n",
    "\n",
    "# Función para escalar una matriz\n",
    "def scale_matrix(A):\n",
    "    return A / np.max(np.abs(A), axis=1, keepdims=True)\n",
    "\n",
    "# Ejemplo de escalamiento\n",
    "print(\"\\nEjemplo de escalamiento:\")\n",
    "A_scaled = scale_matrix(A3)\n",
    "print(\"Matriz original:\")\n",
    "print(A3)\n",
    "print(\"Matriz escalada:\")\n",
    "print(A_scaled)\n"
   ]
  },
  {
   "cell_type": "code",
   "execution_count": 21,
   "id": "235d5f83",
   "metadata": {},
   "outputs": [
    {
     "name": "stdout",
     "output_type": "stream",
     "text": [
      "\n",
      "Ejemplo de escalamiento:\n",
      "Matriz original:\n",
      "[[1.  2. ]\n",
      " [1.1 2. ]]\n",
      "Matriz escalada:\n",
      "[[0.5  1.  ]\n",
      " [0.55 1.  ]]\n"
     ]
    }
   ],
   "source": [
    "# Ejemplo de escalamiento\n",
    "print(\"\\nEjemplo de escalamiento:\")\n",
    "A_scaled = scale_matrix(A3)\n",
    "print(\"Matriz original:\")\n",
    "print(A3)\n",
    "print(\"Matriz escalada:\")\n",
    "print(A_scaled)"
   ]
  },
  {
   "cell_type": "code",
   "execution_count": null,
   "id": "306ee606",
   "metadata": {},
   "outputs": [],
   "source": []
  }
 ],
 "metadata": {
  "kernelspec": {
   "display_name": "Python 3 (ipykernel)",
   "language": "python",
   "name": "python3"
  },
  "language_info": {
   "codemirror_mode": {
    "name": "ipython",
    "version": 3
   },
   "file_extension": ".py",
   "mimetype": "text/x-python",
   "name": "python",
   "nbconvert_exporter": "python",
   "pygments_lexer": "ipython3",
   "version": "3.8.10"
  }
 },
 "nbformat": 4,
 "nbformat_minor": 5
}
