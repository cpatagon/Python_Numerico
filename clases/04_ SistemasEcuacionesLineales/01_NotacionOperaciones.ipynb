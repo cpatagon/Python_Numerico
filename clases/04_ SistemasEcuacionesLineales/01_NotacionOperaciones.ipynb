{
 "cells": [
  {
   "cell_type": "markdown",
   "id": "9547d2f1",
   "metadata": {},
   "source": [
    "# Notación y Operaciones Matriciales en Ingeniería\n",
    "\n",
    "## 1. Introducción a las Matrices\n",
    "- Una matriz es un arreglo rectangular de elementos representado por un solo símbolo.\n",
    "- Notación: $[A]$ representa la matriz, $a_{i,j}$ designa un elemento individual.\n",
    "- Dimensiones: n × m (n filas, m columnas).\n",
    "\n",
    "## 2. Tipos Especiales de Matrices\n",
    "- **Vector renglón:** matriz 1 × m\n",
    "- **Vector columna:** matriz n × 1\n",
    "- **Matriz cuadrada:** n = m\n",
    "- **Tipos especiales de matrices cuadradas:**\n",
    "  ### **Simétrica:**\n",
    "\n",
    "  a_ij = a_ji para todo i y j\n",
    "    Ejemplo: \n",
    "    $$\n",
    "    [A] = \\begin{bmatrix}\n",
    "    5 & 1 & 2 \\\\\n",
    "    1 & 3 & 7 \\\\\n",
    "    2 & 7 & 8\n",
    "    \\end{bmatrix}\n",
    "    $$\n",
    "  ### **Diagonal:** \n",
    "  todos los elementos fuera de la diagonal principal son cero\n",
    "    Ejemplo:\n",
    "    $$\n",
    "    [A] = \\begin{bmatrix}\n",
    "    4 & 0 & 0 \\\\\n",
    "    0 & 7 & 0 \\\\\n",
    "    0 & 0 & 2\n",
    "    \\end{bmatrix}\n",
    "    $$\n",
    "  ### **Identidad:** \n",
    "  \n",
    "  matriz diagonal con unos en la diagonal principal\n",
    "    Ejemplo:\n",
    "    $$\n",
    "    [I] = \\begin{bmatrix}\n",
    "    1 & 0 & 0 \\\\\n",
    "    0 & 1 & 0 \\\\\n",
    "    0 & 0 & 1\n",
    "    \\end{bmatrix}\n",
    "    $$\n",
    "  ### **Triangular superior:** \n",
    "  \n",
    "  todos los elementos por debajo de la diagonal principal son cero\n",
    "    Ejemplo:\n",
    "    $$\n",
    "    [A] = \\begin{bmatrix}\n",
    "    3 & 2 & 1 \\\\\n",
    "    0 & 5 & 4 \\\\\n",
    "    0 & 0 & 6\n",
    "    \\end{bmatrix}\n",
    "    $$\n",
    "  ### **Triangular inferior:** \n",
    "  \n",
    "  todos los elementos por arriba de la diagonal principal son cero\n",
    "    Ejemplo:\n",
    "    $$\n",
    "    [A] = \\begin{bmatrix}\n",
    "    2 & 0 & 0 \\\\\n",
    "    3 & 7 & 0 \\\\\n",
    "    1 & 4 & 9\n",
    "    \\end{bmatrix}\n",
    "    $$\n",
    "  ###  **Matriz a bandas (ej. tridiagonal):** \n",
    "  \n",
    "  elementos no nulos solo en una banda centrada en la diagonal principal\n",
    "    Ejemplo:\n",
    "    $$\n",
    "    [A] = \\begin{bmatrix}\n",
    "    1 & 2 & 0 \\\\\n",
    "    4 & 5 & 6 \\\\\n",
    "    0 & 7 & 8\n",
    "    \\end{bmatrix}\n",
    "    $$\n",
    "\n",
    "## 3. Operaciones Básicas con Matrices\n",
    "\n",
    "### 3.1 Igualdad de Matrices\n",
    "Dos matrices [A] y [B] son iguales si tienen las mismas dimensiones y todos sus elementos correspondientes son iguales.\n",
    "\n",
    "Ejemplo:\n",
    "$$\n",
    "[A] = \\begin{bmatrix}\n",
    "1 & 2 \\\\\n",
    "3 & 4\n",
    "\\end{bmatrix} = [B] = \\begin{bmatrix}\n",
    "1 & 2 \\\\\n",
    "3 & 4\n",
    "\\end{bmatrix}\n",
    "$$\n",
    "\n",
    "### 3.2 Suma y Resta de Matrices\n",
    "La suma y resta de matrices se realiza elemento por elemento. Las matrices deben tener las mismas dimensiones.\n",
    "\n",
    "Ejemplo de suma:\n",
    "$$\n",
    "\\begin{bmatrix}\n",
    "1 & 2 \\\\\n",
    "3 & 4\n",
    "\\end{bmatrix} + \n",
    "\\begin{bmatrix}\n",
    "5 & 6 \\\\\n",
    "7 & 8\n",
    "\\end{bmatrix} = \n",
    "\\begin{bmatrix}\n",
    "1+5 & 2+6 \\\\\n",
    "3+7 & 4+8\n",
    "\\end{bmatrix} = \n",
    "\\begin{bmatrix}\n",
    "6 & 8 \\\\\n",
    "10 & 12\n",
    "\\end{bmatrix}\n",
    "$$\n",
    "\n",
    "Ejemplo de resta:\n",
    "$$\n",
    "\\begin{bmatrix}\n",
    "5 & 6 \\\\\n",
    "7 & 8\n",
    "\\end{bmatrix} - \n",
    "\\begin{bmatrix}\n",
    "1 & 2 \\\\\n",
    "3 & 4\n",
    "\\end{bmatrix} = \n",
    "\\begin{bmatrix}\n",
    "5-1 & 6-2 \\\\\n",
    "7-3 & 8-4\n",
    "\\end{bmatrix} = \n",
    "\\begin{bmatrix}\n",
    "4 & 4 \\\\\n",
    "4 & 4\n",
    "\\end{bmatrix}\n",
    "$$\n",
    "\n",
    "### 3.3 Multiplicación por Escalar\n",
    "La multiplicación de una matriz por un escalar se realiza multiplicando cada elemento de la matriz por el escalar.\n",
    "\n",
    "Ejemplo:\n",
    "$$\n",
    "3 \\cdot \\begin{bmatrix}\n",
    "1 & 2 \\\\\n",
    "3 & 4\n",
    "\\end{bmatrix} = \n",
    "\\begin{bmatrix}\n",
    "3 \\cdot 1 & 3 \\cdot 2 \\\\\n",
    "3 \\cdot 3 & 3 \\cdot 4\n",
    "\\end{bmatrix} = \n",
    "\\begin{bmatrix}\n",
    "3 & 6 \\\\\n",
    "9 & 12\n",
    "\\end{bmatrix}\n",
    "$$\n",
    "\n",
    "### 3.4 Multiplicación de Matrices\n",
    "La multiplicación de matrices [A] y [B] para obtener [C] se realiza de la siguiente manera:\n",
    "- El número de columnas de [A] debe ser igual al número de filas de [B].\n",
    "- El elemento c_ij de la matriz resultante [C] se obtiene multiplicando los elementos de la fila i de [A] por los elementos de la columna j de [B] y sumando los resultados.\n",
    "\n",
    "Ejemplo:\n",
    "$$\n",
    "\\begin{bmatrix}\n",
    "1 & 2 \\\\\n",
    "3 & 4\n",
    "\\end{bmatrix} \\cdot \n",
    "\\begin{bmatrix}\n",
    "5 & 6 \\\\\n",
    "7 & 8\n",
    "\\end{bmatrix} = \n",
    "\\begin{bmatrix}\n",
    "(1 \\cdot 5 + 2 \\cdot 7) & (1 \\cdot 6 + 2 \\cdot 8) \\\\\n",
    "(3 \\cdot 5 + 4 \\cdot 7) & (3 \\cdot 6 + 4 \\cdot 8)\n",
    "\\end{bmatrix} = \n",
    "\\begin{bmatrix}\n",
    "19 & 22 \\\\\n",
    "43 & 50\n",
    "\\end{bmatrix}\n",
    "$$\n",
    "\n",
    "Donde los elementos se puedes escribir como:\n",
    "\n",
    "$$\n",
    "c_{ij}= \\sum_{k=1}^n a_{ik}\\ b_{kj}\n",
    "$$\n",
    "\n",
    "Nota importante: La multiplicación de matrices no es conmutativa en general, es decir, [A][B] ≠ [B][A].\n",
    "\n",
    "\n",
    "\n",
    "## 4. Propiedades de las Operaciones\n",
    "- Conmutatividad de la suma: [A] + [B] = [B] + [A]\n",
    "- Asociatividad de la suma: ([A] + [B]) + [C] = [A] + ([B] + [C])\n"
   ]
  },
  {
   "cell_type": "code",
   "execution_count": 10,
   "id": "535147a4",
   "metadata": {},
   "outputs": [],
   "source": [
    "import numpy as np"
   ]
  },
  {
   "cell_type": "markdown",
   "id": "1b0f209f",
   "metadata": {},
   "source": [
    "## Matrices cero"
   ]
  },
  {
   "cell_type": "code",
   "execution_count": 11,
   "id": "53907621",
   "metadata": {},
   "outputs": [
    {
     "name": "stdout",
     "output_type": "stream",
     "text": [
      "Matriz 2D de ceros:\n",
      "[[0. 0. 0. 0.]\n",
      " [0. 0. 0. 0.]\n",
      " [0. 0. 0. 0.]]\n",
      "\n",
      "Tipo de datos: float64\n"
     ]
    }
   ],
   "source": [
    "# Ejemplo 1: Crear una matriz 2D de ceros\n",
    "filas = 3\n",
    "columnas = 4\n",
    "matriz_2d = np.zeros((filas, columnas))\n",
    "print(\"Matriz 2D de ceros:\")\n",
    "print(matriz_2d)\n",
    "print(\"\\nTipo de datos:\", matriz_2d.dtype)"
   ]
  },
  {
   "cell_type": "code",
   "execution_count": 12,
   "id": "090eea53",
   "metadata": {},
   "outputs": [
    {
     "name": "stdout",
     "output_type": "stream",
     "text": [
      "\n",
      "Vector de ceros:\n",
      "[0. 0. 0. 0. 0.]\n"
     ]
    }
   ],
   "source": [
    "# Ejemplo 2: Crear una matriz 1D (vector) de ceros\n",
    "longitud = 5\n",
    "vector = np.zeros(longitud)\n",
    "print(\"\\nVector de ceros:\")\n",
    "print(vector)"
   ]
  },
  {
   "cell_type": "code",
   "execution_count": 13,
   "id": "1fea4aea",
   "metadata": {},
   "outputs": [
    {
     "name": "stdout",
     "output_type": "stream",
     "text": [
      "\n",
      "Matriz de ceros (enteros):\n",
      "[[0 0]\n",
      " [0 0]]\n"
     ]
    }
   ],
   "source": [
    "# Ejemplo 3: Especificar el tipo de datos\n",
    "matriz_enteros = np.zeros((2, 2), dtype=int)\n",
    "print(\"\\nMatriz de ceros (enteros):\")\n",
    "print(matriz_enteros)"
   ]
  },
  {
   "cell_type": "code",
   "execution_count": 14,
   "id": "73e39585",
   "metadata": {},
   "outputs": [
    {
     "name": "stdout",
     "output_type": "stream",
     "text": [
      "\n",
      "Matriz 3D de ceros:\n",
      "[[[0. 0. 0. 0.]\n",
      "  [0. 0. 0. 0.]\n",
      "  [0. 0. 0. 0.]]\n",
      "\n",
      " [[0. 0. 0. 0.]\n",
      "  [0. 0. 0. 0.]\n",
      "  [0. 0. 0. 0.]]]\n"
     ]
    }
   ],
   "source": [
    "# Ejemplo 4: Crear una matriz 3D de ceros\n",
    "profundidad = 2\n",
    "altura = 3\n",
    "anchura = 4\n",
    "matriz_3d = np.zeros((profundidad, altura, anchura))\n",
    "print(\"\\nMatriz 3D de ceros:\")\n",
    "print(matriz_3d)"
   ]
  },
  {
   "cell_type": "code",
   "execution_count": 15,
   "id": "a2887d4b",
   "metadata": {},
   "outputs": [
    {
     "name": "stdout",
     "output_type": "stream",
     "text": [
      "\n",
      "Matriz de ceros con la misma forma que otra matriz:\n",
      "[[0 0 0]\n",
      " [0 0 0]]\n"
     ]
    }
   ],
   "source": [
    "# Ejemplo 5: Crear una matriz de ceros con la misma forma que otra matriz\n",
    "otra_matriz = np.array([[1, 2, 3], [4, 5, 6]])\n",
    "matriz_ceros_misma_forma = np.zeros_like(otra_matriz)\n",
    "print(\"\\nMatriz de ceros con la misma forma que otra matriz:\")\n",
    "print(matriz_ceros_misma_forma)"
   ]
  },
  {
   "cell_type": "markdown",
   "id": "d7cc927e",
   "metadata": {},
   "source": [
    "### Matrices diagionales"
   ]
  },
  {
   "cell_type": "code",
   "execution_count": 23,
   "id": "f7e76a11",
   "metadata": {},
   "outputs": [
    {
     "name": "stdout",
     "output_type": "stream",
     "text": [
      "Matriz diagonal a partir de un vector:\n",
      "[[1 0 0 0]\n",
      " [0 2 0 0]\n",
      " [0 0 3 0]\n",
      " [0 0 0 4]]\n"
     ]
    }
   ],
   "source": [
    "# Ejemplo 1: Crear una matriz diagonal a partir de un vector\n",
    "vector = [1, 2, 3, 4]\n",
    "matriz_diagonal = np.diag(vector)\n",
    "print(\"Matriz diagonal a partir de un vector:\")\n",
    "print(matriz_diagonal)"
   ]
  },
  {
   "cell_type": "code",
   "execution_count": 18,
   "id": "1c9128f4",
   "metadata": {},
   "outputs": [
    {
     "name": "stdout",
     "output_type": "stream",
     "text": [
      "\n",
      "Diagonal extraída de una matriz:\n",
      "[1 5 9]\n"
     ]
    }
   ],
   "source": [
    "# Ejemplo 2: Extraer la diagonal de una matriz existente\n",
    "matriz = np.array([[1, 2, 3],\n",
    "                   [4, 5, 6],\n",
    "                   [7, 8, 9]])\n",
    "diagonal = np.diag(matriz)\n",
    "print(\"\\nDiagonal extraída de una matriz:\")\n",
    "print(diagonal)"
   ]
  },
  {
   "cell_type": "code",
   "execution_count": 24,
   "id": "dbca7094",
   "metadata": {},
   "outputs": [
    {
     "name": "stdout",
     "output_type": "stream",
     "text": [
      "\n",
      "Matriz identidad:\n",
      "[[1. 0. 0. 0.]\n",
      " [0. 1. 0. 0.]\n",
      " [0. 0. 1. 0.]\n",
      " [0. 0. 0. 1.]]\n"
     ]
    }
   ],
   "source": [
    "# Ejemplo 3: Crear una matriz identidad\n",
    "n = 4\n",
    "matriz_identidad = np.eye(n)\n",
    "print(\"\\nMatriz identidad:\")\n",
    "print(matriz_identidad)"
   ]
  },
  {
   "cell_type": "code",
   "execution_count": 19,
   "id": "fdce572d",
   "metadata": {},
   "outputs": [
    {
     "name": "stdout",
     "output_type": "stream",
     "text": [
      "\n",
      "Matriz diagonal con valor específico:\n",
      "[[5. 0. 0. 0.]\n",
      " [0. 5. 0. 0.]\n",
      " [0. 0. 5. 0.]\n",
      " [0. 0. 0. 5.]]\n"
     ]
    }
   ],
   "source": [
    "# Ejemplo 4: Crear una matriz con valores específicos en la diagonal\n",
    "n = 4  # tamaño de la matriz\n",
    "valor_diagonal = 5\n",
    "matriz_diagonal_valor = np.eye(n) * valor_diagonal\n",
    "print(\"\\nMatriz diagonal con valor específico:\")\n",
    "print(matriz_diagonal_valor)"
   ]
  },
  {
   "cell_type": "code",
   "execution_count": 21,
   "id": "4d29a75b",
   "metadata": {},
   "outputs": [
    {
     "name": "stdout",
     "output_type": "stream",
     "text": [
      "\n",
      "Matriz diagonal con offset positivo:\n",
      "[[0 1 0 0 0]\n",
      " [0 0 2 0 0]\n",
      " [0 0 0 3 0]\n",
      " [0 0 0 0 4]\n",
      " [0 0 0 0 0]]\n",
      "\n",
      "Matriz diagonal con offset negativo:\n",
      "[[0 0 0 0 0]\n",
      " [1 0 0 0 0]\n",
      " [0 2 0 0 0]\n",
      " [0 0 3 0 0]\n",
      " [0 0 0 4 0]]\n"
     ]
    }
   ],
   "source": [
    "# Ejemplo 5: Crear una matriz diagonal con offset\n",
    "vector = [1, 2, 3, 4]\n",
    "k = 1  # offset positivo (por encima de la diagonal principal)\n",
    "matriz_diagonal_offset = np.diag(vector, k)\n",
    "print(\"\\nMatriz diagonal con offset positivo:\")\n",
    "print(matriz_diagonal_offset)\n",
    "\n",
    "k = -1  # offset negativo (por debajo de la diagonal principal)\n",
    "matriz_diagonal_offset_neg = np.diag(vector, k)\n",
    "print(\"\\nMatriz diagonal con offset negativo:\")\n",
    "print(matriz_diagonal_offset_neg)"
   ]
  },
  {
   "cell_type": "code",
   "execution_count": 20,
   "id": "225dac9f",
   "metadata": {},
   "outputs": [
    {
     "name": "stdout",
     "output_type": "stream",
     "text": [
      "\n",
      "Matriz diagonal a partir de una función:\n",
      "[[ 2  0  0  0  0]\n",
      " [ 0  4  0  0  0]\n",
      " [ 0  0  6  0  0]\n",
      " [ 0  0  0  8  0]\n",
      " [ 0  0  0  0 10]]\n"
     ]
    }
   ],
   "source": [
    "# Ejemplo 6: Crear una matriz diagonal a partir de una función\n",
    "n = 5\n",
    "matriz_diagonal_func = np.diag([i*2 for i in range(1, n+1)])\n",
    "print(\"\\nMatriz diagonal a partir de una función:\")\n",
    "print(matriz_diagonal_func)"
   ]
  },
  {
   "cell_type": "markdown",
   "id": "4343ae6e",
   "metadata": {},
   "source": [
    "## Multiplicar Matrices \n",
    "### Ejemplo con np.dot()"
   ]
  },
  {
   "cell_type": "code",
   "execution_count": 1,
   "id": "e838fe27",
   "metadata": {},
   "outputs": [
    {
     "name": "stdout",
     "output_type": "stream",
     "text": [
      "Matriz A:\n",
      "[1, 2]\n",
      "[3, 4]\n",
      "\n",
      "Matriz B:\n",
      "[5, 6]\n",
      "[7, 8]\n",
      "\n",
      "Resultado de A * B:\n",
      "[19, 22]\n",
      "[43, 50]\n"
     ]
    }
   ],
   "source": [
    "import numpy as np\n",
    "\n",
    "def multiplicar_matrices(A, B):\n",
    "    \"\"\"\n",
    "    Multiplica dos matrices A y B.\n",
    "    \n",
    "    Args:\n",
    "    A (list of lists): Primera matriz\n",
    "    B (list of lists): Segunda matriz\n",
    "    \n",
    "    Returns:\n",
    "    list of lists: Resultado de la multiplicación de A y B\n",
    "    \"\"\"\n",
    "    # Convertir las listas de Python a arrays de NumPy\n",
    "    A = np.array(A)\n",
    "    B = np.array(B)\n",
    "    \n",
    "    # Verificar si las matrices pueden ser multiplicadas\n",
    "    if A.shape[1] != B.shape[0]:\n",
    "        raise ValueError(\"El número de columnas de A debe ser igual al número de filas de B\")\n",
    "    \n",
    "    # Realizar la multiplicación\n",
    "    C = np.dot(A, B)\n",
    "    \n",
    "    # Convertir el resultado de vuelta a una lista de listas\n",
    "    return C.tolist()\n",
    "\n",
    "# Ejemplo de uso\n",
    "A = [[1, 2],\n",
    "     [3, 4]]\n",
    "\n",
    "B = [[5, 6],\n",
    "     [7, 8]]\n",
    "\n",
    "resultado = multiplicar_matrices(A, B)\n",
    "\n",
    "print(\"Matriz A:\")\n",
    "for fila in A:\n",
    "    print(fila)\n",
    "\n",
    "print(\"\\nMatriz B:\")\n",
    "for fila in B:\n",
    "    print(fila)\n",
    "\n",
    "print(\"\\nResultado de A * B:\")\n",
    "for fila in resultado:\n",
    "    print(fila)"
   ]
  },
  {
   "cell_type": "markdown",
   "id": "c234c142",
   "metadata": {},
   "source": [
    "### Ejemplo de manera explícita"
   ]
  },
  {
   "cell_type": "code",
   "execution_count": 25,
   "id": "cdffad0c",
   "metadata": {},
   "outputs": [
    {
     "name": "stdout",
     "output_type": "stream",
     "text": [
      "Matriz A:\n",
      "[1, 2]\n",
      "[3, 4]\n",
      "\n",
      "Matriz B:\n",
      "[5, 6]\n",
      "[7, 8]\n",
      "\n",
      "Resultado de A * B:\n",
      "[19, 22]\n",
      "[43, 50]\n",
      "\n",
      "Verificación paso a paso:\n",
      "C[0][0] = (A[0][0] * B[0][0]) + (A[0][1] * B[1][0]) = (1 * 5) + (2 * 7) = 19\n",
      "C[0][1] = (A[0][0] * B[0][1]) + (A[0][1] * B[1][1]) = (1 * 6) + (2 * 8) = 22\n",
      "C[1][0] = (A[1][0] * B[0][0]) + (A[1][1] * B[1][0]) = (3 * 5) + (4 * 7) = 43\n",
      "C[1][1] = (A[1][0] * B[0][1]) + (A[1][1] * B[1][1]) = (3 * 6) + (4 * 8) = 50\n"
     ]
    }
   ],
   "source": [
    "def multiplicar_matrices(A, B):\n",
    "    \"\"\"\n",
    "    Multiplica dos matrices A y B de manera explícita.\n",
    "    \n",
    "    Args:\n",
    "    A (list of lists): Primera matriz\n",
    "    B (list of lists): Segunda matriz\n",
    "    \n",
    "    Returns:\n",
    "    list of lists: Resultado de la multiplicación de A y B\n",
    "    \"\"\"\n",
    "    # Verificar si las matrices pueden ser multiplicadas\n",
    "    if len(A[0]) != len(B):\n",
    "        raise ValueError(\"El número de columnas de A debe ser igual al número de filas de B\")\n",
    "    \n",
    "    # Obtener dimensiones\n",
    "    filas_A = len(A)\n",
    "    columnas_A = len(A[0])\n",
    "    columnas_B = len(B[0])\n",
    "    \n",
    "    # Crear matriz resultado inicializada con ceros\n",
    "    C = [[0 for _ in range(columnas_B)] for _ in range(filas_A)]\n",
    "    \n",
    "    # Realizar la multiplicación\n",
    "    for i in range(filas_A):\n",
    "        for j in range(columnas_B):\n",
    "            for k in range(columnas_A):\n",
    "                C[i][j] += A[i][k] * B[k][j]\n",
    "    \n",
    "    return C\n",
    "\n",
    "# Ejemplo de uso\n",
    "A = [[1, 2],\n",
    "     [3, 4]]\n",
    "\n",
    "B = [[5, 6],\n",
    "     [7, 8]]\n",
    "\n",
    "resultado = multiplicar_matrices(A, B)\n",
    "\n",
    "print(\"Matriz A:\")\n",
    "for fila in A:\n",
    "    print(fila)\n",
    "\n",
    "print(\"\\nMatriz B:\")\n",
    "for fila in B:\n",
    "    print(fila)\n",
    "\n",
    "print(\"\\nResultado de A * B:\")\n",
    "for fila in resultado:\n",
    "    print(fila)\n",
    "\n",
    "# Verificación paso a paso\n",
    "print(\"\\nVerificación paso a paso:\")\n",
    "print(f\"C[0][0] = (A[0][0] * B[0][0]) + (A[0][1] * B[1][0]) = ({A[0][0]} * {B[0][0]}) + ({A[0][1]} * {B[1][0]}) = {resultado[0][0]}\")\n",
    "print(f\"C[0][1] = (A[0][0] * B[0][1]) + (A[0][1] * B[1][1]) = ({A[0][0]} * {B[0][1]}) + ({A[0][1]} * {B[1][1]}) = {resultado[0][1]}\")\n",
    "print(f\"C[1][0] = (A[1][0] * B[0][0]) + (A[1][1] * B[1][0]) = ({A[1][0]} * {B[0][0]}) + ({A[1][1]} * {B[1][0]}) = {resultado[1][0]}\")\n",
    "print(f\"C[1][1] = (A[1][0] * B[0][1]) + (A[1][1] * B[1][1]) = ({A[1][0]} * {B[0][1]}) + ({A[1][1]} * {B[1][1]}) = {resultado[1][1]}\")"
   ]
  },
  {
   "cell_type": "code",
   "execution_count": null,
   "id": "a6fcab22",
   "metadata": {},
   "outputs": [],
   "source": []
  }
 ],
 "metadata": {
  "kernelspec": {
   "display_name": "Python 3 (ipykernel)",
   "language": "python",
   "name": "python3"
  },
  "language_info": {
   "codemirror_mode": {
    "name": "ipython",
    "version": 3
   },
   "file_extension": ".py",
   "mimetype": "text/x-python",
   "name": "python",
   "nbconvert_exporter": "python",
   "pygments_lexer": "ipython3",
   "version": "3.8.10"
  }
 },
 "nbformat": 4,
 "nbformat_minor": 5
}
